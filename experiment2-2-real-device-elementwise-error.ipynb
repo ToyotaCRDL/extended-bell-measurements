{
 "cells": [
  {
   "cell_type": "code",
   "execution_count": 1,
   "id": "designed-heater",
   "metadata": {},
   "outputs": [
    {
     "data": {
      "text/html": [
       "<h3>Version Information</h3><table><tr><th>Qiskit Software</th><th>Version</th></tr><tr><td>Qiskit</td><td>0.25.0</td></tr><tr><td>Terra</td><td>0.17.0</td></tr><tr><td>Aer</td><td>0.8.0</td></tr><tr><td>Ignis</td><td>0.6.0</td></tr><tr><td>Aqua</td><td>0.9.0</td></tr><tr><td>IBM Q Provider</td><td>0.12.2</td></tr><tr><th>System information</th></tr><tr><td>Python</td><td>3.6.9 (default, Oct  8 2020, 12:12:24) \n",
       "[GCC 8.4.0]</td></tr><tr><td>OS</td><td>Linux</td></tr><tr><td>CPUs</td><td>10</td></tr><tr><td>Memory (Gb)</td><td>31.088565826416016</td></tr><tr><td colspan='2'>Sun Sep 19 00:01:01 2021 UTC</td></tr></table>"
      ],
      "text/plain": [
       "<IPython.core.display.HTML object>"
      ]
     },
     "metadata": {},
     "output_type": "display_data"
    }
   ],
   "source": [
    "import warnings\n",
    "def warn(*args, **kwargs):\n",
    "    pass\n",
    "warnings.warn = warn\n",
    "\n",
    "import qiskit.tools.jupyter\n",
    "%qiskit_version_table\n",
    "#%qiskit_copyright"
   ]
  },
  {
   "cell_type": "code",
   "execution_count": 2,
   "id": "square-aruba",
   "metadata": {},
   "outputs": [],
   "source": [
    "import numpy as np\n",
    "from qiskit import QuantumCircuit, Aer, IBMQ\n",
    "from qiskit.aqua import QuantumInstance\n",
    "from qiskit.providers.aer import QasmSimulator\n",
    "from qiskit.providers.aer.noise import NoiseModel\n",
    "from qiskit.test import mock\n",
    "from xbm import get_all_meas_circs_bits_coefs\n",
    "from pauli import get_all_meas_circs_bits_coefs_pauli\n",
    "from utils import eval_expectation_listed\n",
    "import time\n",
    "import copy\n",
    "import random\n",
    "import yaml\n",
    "import pickle\n",
    "import matplotlib.pyplot as plt\n",
    "import seaborn as sns"
   ]
  },
  {
   "cell_type": "code",
   "execution_count": 3,
   "id": "skilled-destination",
   "metadata": {},
   "outputs": [],
   "source": [
    "seed = 42\n",
    "shots = 8192\n",
    "\n",
    "nb_qubits = 4\n",
    "nb_trial = 10\n",
    "is_psi_1 = False\n",
    "fname = 'results_real_device_exp2_4qubits'\n",
    "\n",
    "device = 'IBMQ'\n",
    "#device = 'QASM'\n",
    "\n",
    "if True:\n",
    "    fake_device = QasmSimulator.from_backend(mock.FakeSydney())\n",
    "    coupling_map = fake_device.configuration().coupling_map\n",
    "    noise_model = NoiseModel.from_backend(fake_device)\n",
    "else:\n",
    "    noise_model, coupling_map = None, None"
   ]
  },
  {
   "cell_type": "code",
   "execution_count": 4,
   "id": "scientific-ratio",
   "metadata": {},
   "outputs": [],
   "source": [
    "# Rename to your config file\n",
    "with open('ibmq_config.yaml') as file:\n",
    "    config = yaml.safe_load(file)\n",
    "    \n",
    "IBMQ.save_account(config['token'], overwrite=True)\n",
    "IBMQ.load_account()\n",
    "provider = IBMQ.get_provider(hub=config['provider']['hub'], group=config['provider']['group'], project=config['provider']['project'])"
   ]
  },
  {
   "cell_type": "code",
   "execution_count": 5,
   "id": "working-henry",
   "metadata": {},
   "outputs": [],
   "source": [
    "quantum_instance_statevec = QuantumInstance(Aer.get_backend('statevector_simulator'), seed_simulator=seed, seed_transpiler=seed)\n",
    "quantum_instance_qasm     = QuantumInstance(Aer.get_backend('qasm_simulator'), shots=shots, seed_simulator=seed, seed_transpiler=seed, coupling_map=coupling_map, noise_model=noise_model)\n",
    "quantum_instance_ibmq     = QuantumInstance(provider.get_backend(config['backend']), seed_transpiler=seed, shots=shots)"
   ]
  },
  {
   "cell_type": "code",
   "execution_count": 6,
   "id": "strange-karaoke",
   "metadata": {},
   "outputs": [],
   "source": [
    "def experiments(psi_0_list, psi_1_list, mat_A_list, meas_list, qasm=True, ibmq=True):\n",
    "\n",
    "    expectation_gt_list = []\n",
    "    for psi_0, psi_1, mat_A in zip(psi_0_list, psi_1_list, mat_A_list):\n",
    "        p0 = quantum_instance_statevec.execute(psi_0).get_statevector()\n",
    "        if psi_1 is not None:\n",
    "            p1 = quantum_instance_statevec.execute(psi_1).get_statevector()\n",
    "            expectation_gt = (np.conjugate(p0)*(mat_A @ p1)).sum()\n",
    "        else:\n",
    "            expectation_gt = (np.conjugate(p0)*(mat_A @ p0)).sum()\n",
    "        expectation_gt_list += [expectation_gt]\n",
    "\n",
    "    expectation_statevec_list, results = eval_expectation_listed(copy.deepcopy(meas_list), quantum_instance_statevec, params_dict=None)\n",
    "    \n",
    "    res = {'GT':expectation_gt_list, 'statevec':expectation_statevec_list}\n",
    "    \n",
    "    if not all(np.isclose(np.ravel(expectation_gt_list), np.ravel(expectation_statevec_list))):\n",
    "        print(expectation_gt_list)\n",
    "        print(expectation_statevec_list)\n",
    "        plt.scatter(np.real(np.ravel(expectation_gt_list)), np.real(np.ravel(expectation_statevec_list)))\n",
    "        plt.scatter(np.imag(np.ravel(expectation_gt_list)), np.imag(np.ravel(expectation_statevec_list)))\n",
    "        plt.axes().set_aspect('equal')\n",
    "        raise ValueError()\n",
    "\n",
    "    if qasm:\n",
    "        expectation_qasm_list, results = eval_expectation_listed(copy.deepcopy(meas_list), quantum_instance_qasm, params_dict=None)\n",
    "        res.update({'QASM':expectation_qasm_list})\n",
    "\n",
    "    if ibmq:\n",
    "        expectation_ibmq_list, results = eval_expectation_listed(copy.deepcopy(meas_list), quantum_instance_ibmq, params_dict=None)\n",
    "        res.update({'IBMQ':expectation_ibmq_list})\n",
    "    \n",
    "    return res"
   ]
  },
  {
   "cell_type": "code",
   "execution_count": 7,
   "id": "finnish-wheel",
   "metadata": {},
   "outputs": [],
   "source": [
    "if device=='IBMQ':\n",
    "    qasm, ibmq = False, True\n",
    "elif device=='QASM':\n",
    "    qasm, ibmq = True, False\n",
    "else:\n",
    "    raise NotImplementedError()"
   ]
  },
  {
   "cell_type": "code",
   "execution_count": 8,
   "id": "sunset-collaboration",
   "metadata": {
    "scrolled": true
   },
   "outputs": [],
   "source": [
    "nb_elements = 4**nb_qubits\n",
    "psi_0_list = []\n",
    "psi_1_list = []\n",
    "mat_A_list = []\n",
    "meas_pauli_list = []\n",
    "meas_xbm_list = []\n",
    "\n",
    "for trial in range(nb_trial):\n",
    "    for j in range(nb_elements):\n",
    "        np.random.seed(trial)\n",
    "        random.seed(trial)\n",
    "        psi_0 = QuantumCircuit(nb_qubits)\n",
    "        for i in range(nb_qubits):\n",
    "            psi_0.h(i)\n",
    "\n",
    "        mat_A = np.zeros((4**nb_qubits,)).astype(np.complex128)\n",
    "        foo = np.random.random() * random.choice([1,-1])\n",
    "        foo += 1j * np.random.random() * random.choice([1,-1])\n",
    "        mat_A[j] = foo\n",
    "        mat_A = np.reshape(mat_A, (2**nb_qubits,2**nb_qubits))\n",
    "        psi_1 = None\n",
    "        psi_0_list += [psi_0]\n",
    "        psi_1_list += [None]\n",
    "        mat_A_list += [mat_A]\n",
    "        meas_pauli_list += [get_all_meas_circs_bits_coefs_pauli(psi_0, psi_1, mat_A, reduce=False)]\n",
    "        meas_xbm_list += [get_all_meas_circs_bits_coefs(psi_0, psi_1, mat_A)]"
   ]
  },
  {
   "cell_type": "code",
   "execution_count": 9,
   "id": "thorough-innocent",
   "metadata": {},
   "outputs": [],
   "source": [
    "if False:\n",
    "    with open(fname+'.pkl', 'rb') as f:\n",
    "        results = pickle.load(f)\n",
    "        res_xbm = results['XBM']\n",
    "        res_pauli = results['Pauli']\n",
    "else:\n",
    "    res_xbm = experiments(psi_0_list, psi_1_list, mat_A_list, meas_xbm_list, qasm=qasm, ibmq=ibmq)\n",
    "    res_pauli = experiments(psi_0_list, psi_1_list, mat_A_list, meas_pauli_list, qasm=qasm, ibmq=ibmq)\n",
    "    with open(fname+'.pkl', 'wb') as f:\n",
    "        pickle.dump({'XBM':res_xbm, 'Pauli':res_pauli}, f)"
   ]
  },
  {
   "cell_type": "code",
   "execution_count": 10,
   "id": "loved-thursday",
   "metadata": {},
   "outputs": [],
   "source": [
    "def get_abs_errors(res, nb_trial=10):\n",
    "    \n",
    "    abs_errors = []\n",
    "    for gt, evaluated in zip(res['GT'],res[device]):\n",
    "        abs_error = np.abs(gt-evaluated)\n",
    "        abs_errors += [abs_error]\n",
    "    abs_errors = np.array(abs_errors).reshape((nb_trial,2**nb_qubits,2**nb_qubits))\n",
    "    \n",
    "    return abs_errors\n",
    "\n",
    "\n",
    "def get_rel_errors(res, nb_trial=10):\n",
    "    \n",
    "    rel_errors = []\n",
    "    for gt, evaluated in zip(res['GT'],res[device]):\n",
    "        rel_error = np.abs(gt-evaluated)/np.abs(gt)\n",
    "        rel_errors += [rel_error]\n",
    "    rel_errors = np.array(rel_errors).reshape((nb_trial,2**nb_qubits,2**nb_qubits))\n",
    "    \n",
    "    return rel_errors"
   ]
  },
  {
   "cell_type": "code",
   "execution_count": 11,
   "id": "norwegian-landscape",
   "metadata": {},
   "outputs": [
    {
     "data": {
      "image/png": "[encoded data removed]",
      "text/plain": [
       "<Figure size 432x288 with 2 Axes>"
      ]
     },
     "metadata": {
      "needs_background": "light"
     },
     "output_type": "display_data"
    }
   ],
   "source": [
    "vmax = get_rel_errors(res_xbm).mean(0).max()\n",
    "sns.heatmap(get_rel_errors(res_xbm).mean(0), annot=False, vmin=0, vmax=vmax)\n",
    "plt.axes().set_aspect('equal')\n",
    "plt.savefig('elementwise-error-xbm.pdf')"
   ]
  },
  {
   "cell_type": "code",
   "execution_count": 12,
   "id": "stuffed-magazine",
   "metadata": {},
   "outputs": [
    {
     "data": {
      "image/png": "[encoded data removed]",
      "text/plain": [
       "<Figure size 432x288 with 2 Axes>"
      ]
     },
     "metadata": {
      "needs_background": "light"
     },
     "output_type": "display_data"
    }
   ],
   "source": [
    "sns.heatmap(get_rel_errors(res_xbm).std(0), annot=False)\n",
    "plt.axes().set_aspect('equal')"
   ]
  },
  {
   "cell_type": "code",
   "execution_count": 13,
   "id": "chronic-claim",
   "metadata": {},
   "outputs": [
    {
     "data": {
      "image/png": "[encoded data removed]",
      "text/plain": [
       "<Figure size 432x288 with 2 Axes>"
      ]
     },
     "metadata": {
      "needs_background": "light"
     },
     "output_type": "display_data"
    }
   ],
   "source": [
    "sns.heatmap(get_rel_errors(res_pauli).mean(0), annot=False, vmin=0, vmax=vmax)\n",
    "plt.axes().set_aspect('equal')\n",
    "plt.savefig('elementwise-error-naive.pdf')"
   ]
  },
  {
   "cell_type": "code",
   "execution_count": 14,
   "id": "explicit-bunch",
   "metadata": {},
   "outputs": [
    {
     "data": {
      "image/png": "[encoded data removed]",
      "text/plain": [
       "<Figure size 432x288 with 2 Axes>"
      ]
     },
     "metadata": {
      "needs_background": "light"
     },
     "output_type": "display_data"
    }
   ],
   "source": [
    "sns.heatmap(get_rel_errors(res_pauli).std(0), annot=False)\n",
    "plt.axes().set_aspect('equal')"
   ]
  }
 ],
 "metadata": {
  "kernelspec": {
   "display_name": "Python 3",
   "language": "python",
   "name": "python3"
  },
  "language_info": {
   "codemirror_mode": {
    "name": "ipython",
    "version": 3
   },
   "file_extension": ".py",
   "mimetype": "text/x-python",
   "name": "python",
   "nbconvert_exporter": "python",
   "pygments_lexer": "ipython3",
   "version": "3.6.9"
  }
 },
 "nbformat": 4,
 "nbformat_minor": 5
}
