{
 "cells": [
  {
   "cell_type": "code",
   "execution_count": 1,
   "id": "designed-heater",
   "metadata": {},
   "outputs": [
    {
     "data": {
      "text/html": [
       "<h3>Version Information</h3><table><tr><th>Qiskit Software</th><th>Version</th></tr><tr><td>Qiskit</td><td>0.25.0</td></tr><tr><td>Terra</td><td>0.17.0</td></tr><tr><td>Aer</td><td>0.8.0</td></tr><tr><td>Ignis</td><td>0.6.0</td></tr><tr><td>Aqua</td><td>0.9.0</td></tr><tr><td>IBM Q Provider</td><td>0.12.2</td></tr><tr><th>System information</th></tr><tr><td>Python</td><td>3.6.9 (default, Oct  8 2020, 12:12:24) \n",
       "[GCC 8.4.0]</td></tr><tr><td>OS</td><td>Linux</td></tr><tr><td>CPUs</td><td>10</td></tr><tr><td>Memory (Gb)</td><td>31.088565826416016</td></tr><tr><td colspan='2'>Mon Sep 20 00:23:21 2021 UTC</td></tr></table>"
      ],
      "text/plain": [
       "<IPython.core.display.HTML object>"
      ]
     },
     "metadata": {},
     "output_type": "display_data"
    }
   ],
   "source": [
    "import warnings\n",
    "def warn(*args, **kwargs):\n",
    "    pass\n",
    "warnings.warn = warn\n",
    "\n",
    "import qiskit.tools.jupyter\n",
    "%qiskit_version_table\n",
    "#%qiskit_copyright"
   ]
  },
  {
   "cell_type": "code",
   "execution_count": 2,
   "id": "square-aruba",
   "metadata": {},
   "outputs": [],
   "source": [
    "import numpy as np\n",
    "from qiskit import QuantumCircuit, Aer, IBMQ\n",
    "from qiskit.aqua import QuantumInstance\n",
    "from qiskit.providers.aer import QasmSimulator\n",
    "from qiskit.providers.aer.noise import NoiseModel\n",
    "from qiskit.test import mock\n",
    "from xbm import get_all_meas_circs_bits_coefs\n",
    "from pauli import get_all_meas_circs_bits_coefs_pauli\n",
    "from qwc import get_all_meas_circs_bits_coefs_qwc\n",
    "from genc import get_all_meas_circs_bits_coefs_gc\n",
    "from utils import eval_expectation\n",
    "from term_grouping import QWCCommutativity, FullCommutativity\n",
    "import time\n",
    "import datetime\n",
    "import copy\n",
    "import random\n",
    "import yaml\n",
    "import pickle\n",
    "import matplotlib.pyplot as plt"
   ]
  },
  {
   "cell_type": "code",
   "execution_count": 3,
   "id": "skilled-destination",
   "metadata": {},
   "outputs": [],
   "source": [
    "seed = 42\n",
    "shots = 8192\n",
    "\n",
    "nb_qubits = 3\n",
    "#band_width = 3\n",
    "band_width = None\n",
    "nb_trial = 10\n",
    "is_psi_1 = False\n",
    "#is_psi_1 = True\n",
    "\n",
    "device = 'IBMQ'\n",
    "#device = 'QASM'"
   ]
  },
  {
   "cell_type": "code",
   "execution_count": 4,
   "id": "geological-project",
   "metadata": {},
   "outputs": [],
   "source": [
    "fname = 'results_real_device_kawasaki_'+str(nb_qubits)+'qubits'\n",
    "\n",
    "if band_width is not None:\n",
    "    fname = fname + '_k3'\n",
    "if is_psi_1:\n",
    "    fname = fname + '_psi0psi1'\n",
    "\n",
    "if False:\n",
    "    fake_device = QasmSimulator.from_backend(mock.FakeSydney())\n",
    "    coupling_map = fake_device.configuration().coupling_map\n",
    "    noise_model = NoiseModel.from_backend(fake_device)\n",
    "else:\n",
    "    noise_model, coupling_map = None, None"
   ]
  },
  {
   "cell_type": "code",
   "execution_count": 5,
   "id": "decreased-salvation",
   "metadata": {},
   "outputs": [],
   "source": [
    "start_time = datetime.datetime.today()"
   ]
  },
  {
   "cell_type": "code",
   "execution_count": 6,
   "id": "scientific-ratio",
   "metadata": {},
   "outputs": [],
   "source": [
    "# Rename to your config file\n",
    "with open('ibmq_config.yaml') as file:\n",
    "    config = yaml.safe_load(file)\n",
    "    \n",
    "IBMQ.save_account(config['token'], overwrite=True)\n",
    "IBMQ.load_account()\n",
    "provider = IBMQ.get_provider(hub=config['provider']['hub'], group=config['provider']['group'], project=config['provider']['project'])"
   ]
  },
  {
   "cell_type": "code",
   "execution_count": 7,
   "id": "working-henry",
   "metadata": {},
   "outputs": [],
   "source": [
    "quantum_instance_statevec = QuantumInstance(Aer.get_backend('statevector_simulator'), seed_simulator=seed, seed_transpiler=seed)\n",
    "quantum_instance_qasm     = QuantumInstance(Aer.get_backend('qasm_simulator'), shots=shots, seed_simulator=seed, seed_transpiler=seed, coupling_map=coupling_map, noise_model=noise_model)\n",
    "quantum_instance_ibmq     = QuantumInstance(provider.get_backend(config['backend']), seed_transpiler=seed, shots=shots)"
   ]
  },
  {
   "cell_type": "code",
   "execution_count": 8,
   "id": "missing-awareness",
   "metadata": {},
   "outputs": [],
   "source": [
    "def get_psi_A(nb_qubits, bandwidth=None):\n",
    "    psi_0 = QuantumCircuit(nb_qubits)\n",
    "    psi_1 = QuantumCircuit(nb_qubits)\n",
    "\n",
    "    for i in range(nb_qubits):\n",
    "        psi_0.rx(np.random.random(),i)\n",
    "        psi_0.ry(np.random.random(),i)\n",
    "        psi_0.rz(np.random.random(),i)\n",
    "        psi_1.rx(np.random.random(),i)\n",
    "        psi_1.ry(np.random.random(),i)\n",
    "        psi_1.rz(np.random.random(),i)\n",
    "\n",
    "    rand_sign = np.array(random.choices([1,-1],k=(2**nb_qubits)**2)).reshape((2**nb_qubits,2**nb_qubits))\n",
    "    mat_A = np.random.random(size=(2**nb_qubits,2**nb_qubits)).astype(np.complex128) * rand_sign\n",
    "    rand_sign = np.array(random.choices([1,-1],k=(2**nb_qubits)**2)).reshape((2**nb_qubits,2**nb_qubits))\n",
    "    mat_A += 1.j * np.random.random(size=(2**nb_qubits,2**nb_qubits)) * rand_sign\n",
    "    mat_A *= 100.\n",
    "\n",
    "    if bandwidth is not None:\n",
    "        for i in range(2**nb_qubits):\n",
    "            for j in range(2**nb_qubits):\n",
    "                if np.abs(i-j)>band_width:\n",
    "                    mat_A[i,j] = 0.\n",
    "    \n",
    "    return psi_0, psi_1, mat_A"
   ]
  },
  {
   "cell_type": "code",
   "execution_count": 9,
   "id": "strange-karaoke",
   "metadata": {},
   "outputs": [],
   "source": [
    "def experiments(psi_0, psi_1, meas, qasm=True, ibmq=True):\n",
    "\n",
    "    p0 = quantum_instance_statevec.execute(psi_0).get_statevector()\n",
    "    if psi_1 is not None:\n",
    "        p1 = quantum_instance_statevec.execute(psi_1).get_statevector()\n",
    "        expectation_gt = (np.conjugate(p0)*(mat_A @ p1)).sum()\n",
    "    else:\n",
    "        expectation_gt = (np.conjugate(p0)*(mat_A @ p0)).sum()\n",
    "    print('GT      :', np.round(expectation_gt, 15),'\\n')\n",
    "\n",
    "    start = time.time()\n",
    "    expectation_statevec, results = eval_expectation(copy.deepcopy(meas), quantum_instance_statevec, params_dict=None)\n",
    "    end = time.time()\n",
    "    print('statevec:', np.round(expectation_statevec, 15))\n",
    "    print('elapsed time', np.round(time.time()-start,1), '[s]\\n')\n",
    "    \n",
    "    res = {'GT':expectation_gt, 'statevec':expectation_statevec, 'time(statevec)':end-start}\n",
    "    \n",
    "    if not np.isclose(expectation_gt, expectation_statevec):\n",
    "        print(expectation_gt)\n",
    "        print(expectation_statevec)\n",
    "        raise ValueError()\n",
    "\n",
    "    if qasm:\n",
    "        start = time.time()\n",
    "        expectation_qasm, results = eval_expectation(copy.deepcopy(meas), quantum_instance_qasm, params_dict=None)\n",
    "        print('QASM    :', np.round(expectation_qasm, 15))\n",
    "        end = time.time()\n",
    "        print('elapsed time', np.round(end-start,1), '[s]\\n')\n",
    "        res.update({'QASM':expectation_qasm})\n",
    "        res.update({'time(QASM)':end-start})\n",
    "        res.update({'results(QASM)':[result.to_dict() for result in results]})\n",
    "\n",
    "    if ibmq:\n",
    "        start = time.time()\n",
    "        expectation_ibmq, results = eval_expectation(copy.deepcopy(meas), quantum_instance_ibmq, params_dict=None)\n",
    "        end = time.time()\n",
    "        print('IBM-Q  :', np.round(expectation_ibmq, 15))\n",
    "        print('elapsed time', np.round(end-start,1), '[s]\\n')\n",
    "        res.update({'IBMQ':expectation_ibmq})\n",
    "        res.update({'time(IBMQ)':end-start})\n",
    "        res.update({'results(IBMQ)':[result.to_dict() for result in results]})\n",
    "    \n",
    "    return res"
   ]
  },
  {
   "cell_type": "code",
   "execution_count": 10,
   "id": "finnish-wheel",
   "metadata": {},
   "outputs": [],
   "source": [
    "if device=='IBMQ':\n",
    "    qasm, ibmq = False, True\n",
    "elif device=='QASM':\n",
    "    qasm, ibmq = True, False\n",
    "else:\n",
    "    raise NotImplementedError()"
   ]
  },
  {
   "cell_type": "code",
   "execution_count": 11,
   "id": "likely-retention",
   "metadata": {
    "scrolled": true
   },
   "outputs": [
    {
     "name": "stdout",
     "output_type": "stream",
     "text": [
      "==================================================================\n",
      "                             XBM, trial= 0\n",
      "==================================================================\n",
      "# measurements = 15\n",
      "elapsed time 0.008 [s]\n",
      "\n",
      "GT      : (-103.50037367066503-47.922914527053834j) \n",
      "\n",
      "statevec: (-103.50037367066508-47.92291452705387j)\n",
      "elapsed time 0.2 [s]\n",
      "\n"
     ]
    },
    {
     "data": {
      "application/vnd.jupyter.widget-view+json": {
       "model_id": "4a25fb2cee6c405f9a1fa688feda1efe",
       "version_major": 2,
       "version_minor": 0
      },
      "text/plain": [
       "  0%|          | 0/15 [00:00<?, ?it/s]"
      ]
     },
     "metadata": {},
     "output_type": "display_data"
    },
    {
     "name": "stdout",
     "output_type": "stream",
     "text": [
      "IBM-Q  : (-82.03165885650651-30.052955395013733j)\n",
      "elapsed time 63.8 [s]\n",
      "\n",
      "==================================================================\n",
      "                             Naive Pauli, trial= 0\n",
      "==================================================================\n",
      "# measurements = 64\n",
      "elapsed time 0.041 [s]\n",
      "\n",
      "GT      : (-103.50037367066503-47.922914527053834j) \n",
      "\n",
      "statevec: (-103.50037367066508-47.92291452705388j)\n",
      "elapsed time 0.5 [s]\n",
      "\n"
     ]
    },
    {
     "data": {
      "application/vnd.jupyter.widget-view+json": {
       "model_id": "f264de5c7ef34db19ec7768007849fdc",
       "version_major": 2,
       "version_minor": 0
      },
      "text/plain": [
       "  0%|          | 0/64 [00:00<?, ?it/s]"
      ]
     },
     "metadata": {},
     "output_type": "display_data"
    },
    {
     "name": "stdout",
     "output_type": "stream",
     "text": [
      "IBM-Q  : (-99.66693854411358-46.18873251040999j)\n",
      "elapsed time 170.2 [s]\n",
      "\n",
      "==================================================================\n",
      "                             QWC, trial= 0\n",
      "==================================================================\n",
      "all_symbols does not include set()\n",
      "# measurements = 28\n",
      "elapsed time 0.189 [s]\n",
      "\n",
      "GT      : (-103.50037367066503-47.922914527053834j) \n",
      "\n",
      "statevec: (-103.50037367066504-47.92291452705383j)\n",
      "elapsed time 0.2 [s]\n",
      "\n"
     ]
    },
    {
     "data": {
      "application/vnd.jupyter.widget-view+json": {
       "model_id": "d00c3a762ac04c4aa611e56364433989",
       "version_major": 2,
       "version_minor": 0
      },
      "text/plain": [
       "  0%|          | 0/28 [00:00<?, ?it/s]"
      ]
     },
     "metadata": {},
     "output_type": "display_data"
    },
    {
     "name": "stdout",
     "output_type": "stream",
     "text": [
      "IBM-Q  : (-98.64028026742719-47.02807050130876j)\n",
      "elapsed time 11674.9 [s]\n",
      "\n",
      "==================================================================\n",
      "                             GC, trial= 0\n",
      "==================================================================\n",
      "MEASURECIRCUIT: Generated graph for the Hamiltonian with 63 nodes.\n",
      "MEASURECIRCUIT: BronKerbosch found 9 unique circuits\n",
      "MEASURECIRCUIT: Elapsed time: 0.026739s\n",
      "all_symbols does not include set()\n",
      "MEASURECIRCUIT: Generated graph for the Hamiltonian with 63 nodes.\n",
      "# measurements = 10\n",
      "elapsed time 0.139 [s]\n",
      "\n",
      "GT      : (-103.50037367066503-47.922914527053834j) \n",
      "\n",
      "statevec: (-103.50037367066514-47.9229145270539j)\n",
      "elapsed time 0.2 [s]\n",
      "\n"
     ]
    },
    {
     "data": {
      "application/vnd.jupyter.widget-view+json": {
       "model_id": "7b5c8c954d5d4faabf09e597a5d75cb1",
       "version_major": 2,
       "version_minor": 0
      },
      "text/plain": [
       "  0%|          | 0/10 [00:00<?, ?it/s]"
      ]
     },
     "metadata": {},
     "output_type": "display_data"
    },
    {
     "name": "stdout",
     "output_type": "stream",
     "text": [
      "IBM-Q  : (-93.37767087512535-58.3330158068024j)\n",
      "elapsed time 2166.3 [s]\n",
      "\n",
      "==================================================================\n",
      "                             XBM, trial= 1\n",
      "==================================================================\n",
      "# measurements = 15\n",
      "elapsed time 0.008 [s]\n",
      "\n",
      "GT      : (14.855538332656756-32.965632162305745j) \n",
      "\n",
      "statevec: (14.855538332656728-32.96563216230574j)\n",
      "elapsed time 0.3 [s]\n",
      "\n"
     ]
    },
    {
     "data": {
      "application/vnd.jupyter.widget-view+json": {
       "model_id": "c1c5be4e153e48c5ad24680e04e12c0e",
       "version_major": 2,
       "version_minor": 0
      },
      "text/plain": [
       "  0%|          | 0/15 [00:00<?, ?it/s]"
      ]
     },
     "metadata": {},
     "output_type": "display_data"
    },
    {
     "name": "stdout",
     "output_type": "stream",
     "text": [
      "IBM-Q  : (13.501554431861942-28.796456030395326j)\n",
      "elapsed time 83.1 [s]\n",
      "\n",
      "==================================================================\n",
      "                             Naive Pauli, trial= 1\n",
      "==================================================================\n",
      "# measurements = 64\n",
      "elapsed time 0.036 [s]\n",
      "\n",
      "GT      : (14.855538332656756-32.965632162305745j) \n",
      "\n",
      "statevec: (14.85553833265677-32.96563216230576j)\n",
      "elapsed time 0.6 [s]\n",
      "\n"
     ]
    },
    {
     "data": {
      "application/vnd.jupyter.widget-view+json": {
       "model_id": "6fa6dfbae99b43ffaabaf545e6d24d82",
       "version_major": 2,
       "version_minor": 0
      },
      "text/plain": [
       "  0%|          | 0/64 [00:00<?, ?it/s]"
      ]
     },
     "metadata": {},
     "output_type": "display_data"
    },
    {
     "name": "stdout",
     "output_type": "stream",
     "text": [
      "IBM-Q  : (17.903420841509288-34.27003379572595j)\n",
      "elapsed time 167.6 [s]\n",
      "\n",
      "==================================================================\n",
      "                             QWC, trial= 1\n",
      "==================================================================\n",
      "all_symbols does not include set()\n",
      "# measurements = 28\n",
      "elapsed time 0.207 [s]\n",
      "\n",
      "GT      : (14.855538332656756-32.965632162305745j) \n",
      "\n",
      "statevec: (14.85553833265674-32.96563216230574j)\n",
      "elapsed time 0.3 [s]\n",
      "\n"
     ]
    },
    {
     "data": {
      "application/vnd.jupyter.widget-view+json": {
       "model_id": "d4c5a5830ce04c23993071b86fd21b5d",
       "version_major": 2,
       "version_minor": 0
      },
      "text/plain": [
       "  0%|          | 0/28 [00:00<?, ?it/s]"
      ]
     },
     "metadata": {},
     "output_type": "display_data"
    },
    {
     "name": "stdout",
     "output_type": "stream",
     "text": [
      "IBM-Q  : (14.488454727077134-35.1439136049255j)\n",
      "elapsed time 195362.7 [s]\n",
      "\n",
      "==================================================================\n",
      "                             GC, trial= 1\n",
      "==================================================================\n",
      "MEASURECIRCUIT: Generated graph for the Hamiltonian with 63 nodes.\n",
      "MEASURECIRCUIT: BronKerbosch found 9 unique circuits\n",
      "MEASURECIRCUIT: Elapsed time: 0.036367s\n",
      "all_symbols does not include set()\n",
      "MEASURECIRCUIT: Generated graph for the Hamiltonian with 63 nodes.\n",
      "# measurements = 10\n",
      "elapsed time 0.565 [s]\n",
      "\n",
      "GT      : (14.855538332656756-32.965632162305745j) \n",
      "\n",
      "statevec: (14.855538332656723-32.965632162305766j)\n",
      "elapsed time 0.5 [s]\n",
      "\n"
     ]
    },
    {
     "data": {
      "application/vnd.jupyter.widget-view+json": {
       "model_id": "35c521d968054017956eea2da2906d05",
       "version_major": 2,
       "version_minor": 0
      },
      "text/plain": [
       "  0%|          | 0/10 [00:00<?, ?it/s]"
      ]
     },
     "metadata": {},
     "output_type": "display_data"
    },
    {
     "name": "stdout",
     "output_type": "stream",
     "text": [
      "IBM-Q  : (7.313551944424372-29.352769162472793j)\n",
      "elapsed time 35566.3 [s]\n",
      "\n",
      "==================================================================\n",
      "                             XBM, trial= 2\n",
      "==================================================================\n",
      "# measurements = 15\n",
      "elapsed time 0.018 [s]\n",
      "\n",
      "GT      : (-50.56057485793029+11.862868906839166j) \n",
      "\n",
      "statevec: (-50.560574857930305+11.862868906839145j)\n",
      "elapsed time 0.8 [s]\n",
      "\n"
     ]
    },
    {
     "data": {
      "application/vnd.jupyter.widget-view+json": {
       "model_id": "b9803a205f5a46cf863b6c7baacd6834",
       "version_major": 2,
       "version_minor": 0
      },
      "text/plain": [
       "  0%|          | 0/15 [00:00<?, ?it/s]"
      ]
     },
     "metadata": {},
     "output_type": "display_data"
    },
    {
     "name": "stdout",
     "output_type": "stream",
     "text": [
      "IBM-Q  : (-44.53596856085943+19.35481825213987j)\n",
      "elapsed time 399.2 [s]\n",
      "\n",
      "==================================================================\n",
      "                             Naive Pauli, trial= 2\n",
      "==================================================================\n",
      "# measurements = 64\n",
      "elapsed time 0.05 [s]\n",
      "\n",
      "GT      : (-50.56057485793029+11.862868906839166j) \n",
      "\n",
      "statevec: (-50.56057485793034+11.862868906839179j)\n",
      "elapsed time 0.6 [s]\n",
      "\n"
     ]
    },
    {
     "data": {
      "application/vnd.jupyter.widget-view+json": {
       "model_id": "bf1288c76aa4400ab1cff15a3c1a4e5c",
       "version_major": 2,
       "version_minor": 0
      },
      "text/plain": [
       "  0%|          | 0/64 [00:00<?, ?it/s]"
      ]
     },
     "metadata": {},
     "output_type": "display_data"
    },
    {
     "name": "stdout",
     "output_type": "stream",
     "text": [
      "IBM-Q  : (-44.77529528831943+18.83542268909458j)\n",
      "elapsed time 568.0 [s]\n",
      "\n",
      "==================================================================\n",
      "                             QWC, trial= 2\n",
      "==================================================================\n",
      "all_symbols does not include set()\n",
      "# measurements = 28\n",
      "elapsed time 4.021 [s]\n",
      "\n",
      "GT      : (-50.56057485793029+11.862868906839166j) \n",
      "\n",
      "statevec: (-50.56057485793029+11.86286890683907j)\n",
      "elapsed time 0.3 [s]\n",
      "\n"
     ]
    },
    {
     "data": {
      "application/vnd.jupyter.widget-view+json": {
       "model_id": "a062b8618de34a13b84cd70bb6ee7a08",
       "version_major": 2,
       "version_minor": 0
      },
      "text/plain": [
       "  0%|          | 0/28 [00:00<?, ?it/s]"
      ]
     },
     "metadata": {},
     "output_type": "display_data"
    },
    {
     "name": "stdout",
     "output_type": "stream",
     "text": [
      "IBM-Q  : (-43.53509532684146+16.228419871845976j)\n",
      "elapsed time 495.7 [s]\n",
      "\n",
      "==================================================================\n",
      "                             GC, trial= 2\n",
      "==================================================================\n",
      "MEASURECIRCUIT: Generated graph for the Hamiltonian with 63 nodes.\n",
      "MEASURECIRCUIT: BronKerbosch found 9 unique circuits\n",
      "MEASURECIRCUIT: Elapsed time: 0.028787s\n",
      "all_symbols does not include set()\n",
      "MEASURECIRCUIT: Generated graph for the Hamiltonian with 63 nodes.\n",
      "# measurements = 10\n",
      "elapsed time 0.156 [s]\n",
      "\n",
      "GT      : (-50.56057485793029+11.862868906839166j) \n",
      "\n",
      "statevec: (-50.56057485793027+11.86286890683917j)\n",
      "elapsed time 0.3 [s]\n",
      "\n"
     ]
    },
    {
     "data": {
      "application/vnd.jupyter.widget-view+json": {
       "model_id": "9e02f36784904190b876c0455d5aeb63",
       "version_major": 2,
       "version_minor": 0
      },
      "text/plain": [
       "  0%|          | 0/10 [00:00<?, ?it/s]"
      ]
     },
     "metadata": {},
     "output_type": "display_data"
    },
    {
     "name": "stdout",
     "output_type": "stream",
     "text": [
      "IBM-Q  : (-32.55824642523196+19.985161907860828j)\n",
      "elapsed time 213.7 [s]\n",
      "\n",
      "==================================================================\n",
      "                             XBM, trial= 3\n",
      "==================================================================\n",
      "# measurements = 15\n",
      "elapsed time 0.009 [s]\n",
      "\n",
      "GT      : (-52.38527476870447+40.75189305156936j) \n",
      "\n",
      "statevec: (-52.38527476870448+40.75189305156941j)\n",
      "elapsed time 0.3 [s]\n",
      "\n"
     ]
    },
    {
     "data": {
      "application/vnd.jupyter.widget-view+json": {
       "model_id": "487bb862fd6c4a2c98be97ca3d0e2b64",
       "version_major": 2,
       "version_minor": 0
      },
      "text/plain": [
       "  0%|          | 0/15 [00:00<?, ?it/s]"
      ]
     },
     "metadata": {},
     "output_type": "display_data"
    },
    {
     "name": "stdout",
     "output_type": "stream",
     "text": [
      "IBM-Q  : (-50.57021050621214+37.24696502872305j)\n",
      "elapsed time 393.1 [s]\n",
      "\n",
      "==================================================================\n",
      "                             Naive Pauli, trial= 3\n",
      "==================================================================\n",
      "# measurements = 64\n",
      "elapsed time 0.048 [s]\n",
      "\n",
      "GT      : (-52.38527476870447+40.75189305156936j) \n",
      "\n",
      "statevec: (-52.38527476870441+40.75189305156936j)\n",
      "elapsed time 0.6 [s]\n",
      "\n"
     ]
    },
    {
     "data": {
      "application/vnd.jupyter.widget-view+json": {
       "model_id": "8ac4eeae60c94c598f211ddb5d2a1917",
       "version_major": 2,
       "version_minor": 0
      },
      "text/plain": [
       "  0%|          | 0/64 [00:00<?, ?it/s]"
      ]
     },
     "metadata": {},
     "output_type": "display_data"
    },
    {
     "name": "stdout",
     "output_type": "stream",
     "text": [
      "IBM-Q  : (-52.995518585677075+37.486698333384666j)\n",
      "elapsed time 499.7 [s]\n",
      "\n",
      "==================================================================\n",
      "                             QWC, trial= 3\n",
      "==================================================================\n",
      "all_symbols does not include set()\n",
      "# measurements = 28\n",
      "elapsed time 0.264 [s]\n",
      "\n",
      "GT      : (-52.38527476870447+40.75189305156936j) \n",
      "\n",
      "statevec: (-52.38527476870451+40.751893051569375j)\n",
      "elapsed time 0.6 [s]\n",
      "\n"
     ]
    },
    {
     "data": {
      "application/vnd.jupyter.widget-view+json": {
       "model_id": "4f17011a08c1498f959c4d99d4c6570c",
       "version_major": 2,
       "version_minor": 0
      },
      "text/plain": [
       "  0%|          | 0/28 [00:00<?, ?it/s]"
      ]
     },
     "metadata": {},
     "output_type": "display_data"
    },
    {
     "name": "stdout",
     "output_type": "stream",
     "text": [
      "IBM-Q  : (-49.16597623583351+39.265636486835795j)\n",
      "elapsed time 421.7 [s]\n",
      "\n",
      "==================================================================\n",
      "                             GC, trial= 3\n",
      "==================================================================\n",
      "MEASURECIRCUIT: Generated graph for the Hamiltonian with 63 nodes.\n",
      "MEASURECIRCUIT: BronKerbosch found 9 unique circuits\n",
      "MEASURECIRCUIT: Elapsed time: 0.029361s\n",
      "all_symbols does not include set()\n",
      "MEASURECIRCUIT: Generated graph for the Hamiltonian with 63 nodes.\n",
      "# measurements = 10\n",
      "elapsed time 0.162 [s]\n",
      "\n",
      "GT      : (-52.38527476870447+40.75189305156936j) \n",
      "\n",
      "statevec: (-52.38527476870444+40.75189305156941j)\n",
      "elapsed time 0.6 [s]\n",
      "\n"
     ]
    },
    {
     "data": {
      "application/vnd.jupyter.widget-view+json": {
       "model_id": "251bf04f0ef74d49880749eca7a54f58",
       "version_major": 2,
       "version_minor": 0
      },
      "text/plain": [
       "  0%|          | 0/10 [00:00<?, ?it/s]"
      ]
     },
     "metadata": {},
     "output_type": "display_data"
    },
    {
     "name": "stdout",
     "output_type": "stream",
     "text": [
      "IBM-Q  : (-55.81460752149162+35.98152167423198j)\n",
      "elapsed time 382.1 [s]\n",
      "\n",
      "==================================================================\n",
      "                             XBM, trial= 4\n",
      "==================================================================\n",
      "# measurements = 15\n",
      "elapsed time 0.008 [s]\n",
      "\n",
      "GT      : (-62.56516322155038-2.013845271094094j) \n",
      "\n",
      "statevec: (-62.565163221550385-2.013845271094089j)\n",
      "elapsed time 0.8 [s]\n",
      "\n"
     ]
    },
    {
     "data": {
      "application/vnd.jupyter.widget-view+json": {
       "model_id": "9fe20d42c5294c0a9d03e1641bcf6c14",
       "version_major": 2,
       "version_minor": 0
      },
      "text/plain": [
       "  0%|          | 0/15 [00:00<?, ?it/s]"
      ]
     },
     "metadata": {},
     "output_type": "display_data"
    },
    {
     "name": "stdout",
     "output_type": "stream",
     "text": [
      "IBM-Q  : (-53.42294044125697-1.258523386477541j)\n",
      "elapsed time 422.3 [s]\n",
      "\n",
      "==================================================================\n",
      "                             Naive Pauli, trial= 4\n",
      "==================================================================\n",
      "# measurements = 64\n",
      "elapsed time 0.044 [s]\n",
      "\n",
      "GT      : (-62.56516322155038-2.013845271094094j) \n",
      "\n",
      "statevec: (-62.56516322155038-2.013845271094116j)\n",
      "elapsed time 0.8 [s]\n",
      "\n"
     ]
    },
    {
     "data": {
      "application/vnd.jupyter.widget-view+json": {
       "model_id": "e9ff2784d444455ea32755e6b60d223a",
       "version_major": 2,
       "version_minor": 0
      },
      "text/plain": [
       "  0%|          | 0/64 [00:00<?, ?it/s]"
      ]
     },
     "metadata": {},
     "output_type": "display_data"
    },
    {
     "name": "stdout",
     "output_type": "stream",
     "text": [
      "IBM-Q  : (-55.54529518197956+0.624939828896192j)\n",
      "elapsed time 628.0 [s]\n",
      "\n",
      "==================================================================\n",
      "                             QWC, trial= 4\n",
      "==================================================================\n",
      "all_symbols does not include set()\n",
      "# measurements = 28\n",
      "elapsed time 0.315 [s]\n",
      "\n",
      "GT      : (-62.56516322155038-2.013845271094094j) \n",
      "\n",
      "statevec: (-62.56516322155036-2.013845271094087j)\n",
      "elapsed time 0.3 [s]\n",
      "\n"
     ]
    },
    {
     "data": {
      "application/vnd.jupyter.widget-view+json": {
       "model_id": "8bec2ef4eef947d8a4ec4fd5ff9fc912",
       "version_major": 2,
       "version_minor": 0
      },
      "text/plain": [
       "  0%|          | 0/28 [00:00<?, ?it/s]"
      ]
     },
     "metadata": {},
     "output_type": "display_data"
    },
    {
     "name": "stdout",
     "output_type": "stream",
     "text": [
      "IBM-Q  : (-55.142650982688+2.024287404772744j)\n",
      "elapsed time 586.2 [s]\n",
      "\n",
      "==================================================================\n",
      "                             GC, trial= 4\n",
      "==================================================================\n",
      "MEASURECIRCUIT: Generated graph for the Hamiltonian with 63 nodes.\n",
      "MEASURECIRCUIT: BronKerbosch found 9 unique circuits\n",
      "MEASURECIRCUIT: Elapsed time: 0.026952s\n",
      "all_symbols does not include set()\n",
      "MEASURECIRCUIT: Generated graph for the Hamiltonian with 63 nodes.\n",
      "# measurements = 10\n",
      "elapsed time 0.154 [s]\n",
      "\n",
      "GT      : (-62.56516322155038-2.013845271094094j) \n",
      "\n",
      "statevec: (-62.56516322155032-2.013845271094103j)\n",
      "elapsed time 0.3 [s]\n",
      "\n"
     ]
    },
    {
     "data": {
      "application/vnd.jupyter.widget-view+json": {
       "model_id": "b12ac448af964410a5a84e7072b0e010",
       "version_major": 2,
       "version_minor": 0
      },
      "text/plain": [
       "  0%|          | 0/10 [00:00<?, ?it/s]"
      ]
     },
     "metadata": {},
     "output_type": "display_data"
    },
    {
     "name": "stdout",
     "output_type": "stream",
     "text": [
      "IBM-Q  : (-44.954234095851945-0.305549287578414j)\n",
      "elapsed time 1051.0 [s]\n",
      "\n",
      "==================================================================\n",
      "                             XBM, trial= 5\n",
      "==================================================================\n",
      "# measurements = 15\n",
      "elapsed time 0.008 [s]\n",
      "\n",
      "GT      : (-30.665891964986844-63.20108773143257j) \n",
      "\n",
      "statevec: (-30.665891964986876-63.20108773143257j)\n",
      "elapsed time 0.3 [s]\n",
      "\n"
     ]
    },
    {
     "data": {
      "application/vnd.jupyter.widget-view+json": {
       "model_id": "0a7fad93668b455cb588d244fda9a955",
       "version_major": 2,
       "version_minor": 0
      },
      "text/plain": [
       "  0%|          | 0/15 [00:00<?, ?it/s]"
      ]
     },
     "metadata": {},
     "output_type": "display_data"
    },
    {
     "name": "stdout",
     "output_type": "stream",
     "text": [
      "IBM-Q  : (-27.141045184009485-63.49936086197055j)\n",
      "elapsed time 392.2 [s]\n",
      "\n",
      "==================================================================\n",
      "                             Naive Pauli, trial= 5\n",
      "==================================================================\n",
      "# measurements = 64\n",
      "elapsed time 0.035 [s]\n",
      "\n",
      "GT      : (-30.665891964986844-63.20108773143257j) \n",
      "\n",
      "statevec: (-30.665891964986848-63.20108773143248j)\n",
      "elapsed time 0.4 [s]\n",
      "\n"
     ]
    },
    {
     "data": {
      "application/vnd.jupyter.widget-view+json": {
       "model_id": "578a746d883e4c02a782e85571048e41",
       "version_major": 2,
       "version_minor": 0
      },
      "text/plain": [
       "  0%|          | 0/64 [00:00<?, ?it/s]"
      ]
     },
     "metadata": {},
     "output_type": "display_data"
    },
    {
     "name": "stdout",
     "output_type": "stream",
     "text": [
      "IBM-Q  : (-24.95361335632997-61.96773223131366j)\n",
      "elapsed time 498.1 [s]\n",
      "\n",
      "==================================================================\n",
      "                             QWC, trial= 5\n",
      "==================================================================\n",
      "all_symbols does not include set()\n",
      "# measurements = 28\n",
      "elapsed time 0.255 [s]\n",
      "\n",
      "GT      : (-30.665891964986844-63.20108773143257j) \n",
      "\n",
      "statevec: (-30.665891964986837-63.20108773143252j)\n",
      "elapsed time 0.3 [s]\n",
      "\n"
     ]
    },
    {
     "data": {
      "application/vnd.jupyter.widget-view+json": {
       "model_id": "2986f4f5cf16458c992328baf45dbc02",
       "version_major": 2,
       "version_minor": 0
      },
      "text/plain": [
       "  0%|          | 0/28 [00:00<?, ?it/s]"
      ]
     },
     "metadata": {},
     "output_type": "display_data"
    },
    {
     "name": "stdout",
     "output_type": "stream",
     "text": [
      "IBM-Q  : (-25.776591975155426-62.00937744028803j)\n",
      "elapsed time 451.3 [s]\n",
      "\n",
      "==================================================================\n",
      "                             GC, trial= 5\n",
      "==================================================================\n",
      "MEASURECIRCUIT: Generated graph for the Hamiltonian with 63 nodes.\n",
      "MEASURECIRCUIT: BronKerbosch found 9 unique circuits\n",
      "MEASURECIRCUIT: Elapsed time: 0.026874s\n",
      "all_symbols does not include set()\n",
      "MEASURECIRCUIT: Generated graph for the Hamiltonian with 63 nodes.\n",
      "# measurements = 10\n",
      "elapsed time 0.157 [s]\n",
      "\n",
      "GT      : (-30.665891964986844-63.20108773143257j) \n",
      "\n",
      "statevec: (-30.66589196498681-63.20108773143257j)\n",
      "elapsed time 0.3 [s]\n",
      "\n"
     ]
    },
    {
     "data": {
      "application/vnd.jupyter.widget-view+json": {
       "model_id": "cc7d91681d064cd79a76523da1a377cd",
       "version_major": 2,
       "version_minor": 0
      },
      "text/plain": [
       "  0%|          | 0/10 [00:00<?, ?it/s]"
      ]
     },
     "metadata": {},
     "output_type": "display_data"
    },
    {
     "name": "stdout",
     "output_type": "stream",
     "text": [
      "IBM-Q  : (-29.666160365946297-63.19325685054994j)\n",
      "elapsed time 460.2 [s]\n",
      "\n",
      "==================================================================\n",
      "                             XBM, trial= 6\n",
      "==================================================================\n",
      "# measurements = 15\n",
      "elapsed time 0.218 [s]\n",
      "\n",
      "GT      : (-59.399970233366375-3.541297221615046j) \n",
      "\n",
      "statevec: (-59.39997023336638-3.54129722161509j)\n",
      "elapsed time 0.3 [s]\n",
      "\n"
     ]
    },
    {
     "data": {
      "application/vnd.jupyter.widget-view+json": {
       "model_id": "825e9ab3e3fb47bdb3de8adb2ac16264",
       "version_major": 2,
       "version_minor": 0
      },
      "text/plain": [
       "  0%|          | 0/15 [00:00<?, ?it/s]"
      ]
     },
     "metadata": {},
     "output_type": "display_data"
    },
    {
     "name": "stdout",
     "output_type": "stream",
     "text": [
      "IBM-Q  : (-55.2832503512412-7.373711846061402j)\n",
      "elapsed time 394.5 [s]\n",
      "\n",
      "==================================================================\n",
      "                             Naive Pauli, trial= 6\n",
      "==================================================================\n",
      "# measurements = 64\n",
      "elapsed time 0.035 [s]\n",
      "\n",
      "GT      : (-59.399970233366375-3.541297221615046j) \n",
      "\n",
      "statevec: (-59.399970233366304-3.541297221615045j)\n",
      "elapsed time 0.4 [s]\n",
      "\n"
     ]
    },
    {
     "data": {
      "application/vnd.jupyter.widget-view+json": {
       "model_id": "7ff9418234cd4a3fb328665450ebe147",
       "version_major": 2,
       "version_minor": 0
      },
      "text/plain": [
       "  0%|          | 0/64 [00:00<?, ?it/s]"
      ]
     },
     "metadata": {},
     "output_type": "display_data"
    },
    {
     "name": "stdout",
     "output_type": "stream",
     "text": [
      "IBM-Q  : (-57.63382258639262-7.897210666642818j)\n",
      "elapsed time 494.8 [s]\n",
      "\n",
      "==================================================================\n",
      "                             QWC, trial= 6\n",
      "==================================================================\n",
      "all_symbols does not include set()\n",
      "# measurements = 28\n",
      "elapsed time 0.264 [s]\n",
      "\n",
      "GT      : (-59.399970233366375-3.541297221615046j) \n",
      "\n",
      "statevec: (-59.39997023336634-3.541297221615058j)\n",
      "elapsed time 0.3 [s]\n",
      "\n"
     ]
    },
    {
     "data": {
      "application/vnd.jupyter.widget-view+json": {
       "model_id": "6418d1d63ac847788fd73a7784b38ccb",
       "version_major": 2,
       "version_minor": 0
      },
      "text/plain": [
       "  0%|          | 0/28 [00:00<?, ?it/s]"
      ]
     },
     "metadata": {},
     "output_type": "display_data"
    },
    {
     "name": "stdout",
     "output_type": "stream",
     "text": [
      "IBM-Q  : (-54.77107903254706-6.893097007439008j)\n",
      "elapsed time 417.7 [s]\n",
      "\n",
      "==================================================================\n",
      "                             GC, trial= 6\n",
      "==================================================================\n",
      "MEASURECIRCUIT: Generated graph for the Hamiltonian with 63 nodes.\n",
      "MEASURECIRCUIT: BronKerbosch found 9 unique circuits\n",
      "MEASURECIRCUIT: Elapsed time: 0.037360s\n",
      "all_symbols does not include set()\n",
      "MEASURECIRCUIT: Generated graph for the Hamiltonian with 63 nodes.\n",
      "# measurements = 10\n",
      "elapsed time 0.187 [s]\n",
      "\n",
      "GT      : (-59.399970233366375-3.541297221615046j) \n",
      "\n",
      "statevec: (-59.399970233366425-3.541297221615047j)\n",
      "elapsed time 0.3 [s]\n",
      "\n"
     ]
    },
    {
     "data": {
      "application/vnd.jupyter.widget-view+json": {
       "model_id": "2f73efff3bc349139c1b1718ddeac6b7",
       "version_major": 2,
       "version_minor": 0
      },
      "text/plain": [
       "  0%|          | 0/10 [00:00<?, ?it/s]"
      ]
     },
     "metadata": {},
     "output_type": "display_data"
    },
    {
     "name": "stdout",
     "output_type": "stream",
     "text": [
      "IBM-Q  : (-42.088356887220215-4.810214457520893j)\n",
      "elapsed time 381.2 [s]\n",
      "\n",
      "==================================================================\n",
      "                             XBM, trial= 7\n",
      "==================================================================\n",
      "# measurements = 15\n",
      "elapsed time 0.008 [s]\n",
      "\n",
      "GT      : (-66.31511326916325+36.06306338872994j) \n",
      "\n",
      "statevec: (-66.31511326916325+36.063063388729915j)\n",
      "elapsed time 0.3 [s]\n",
      "\n"
     ]
    },
    {
     "data": {
      "application/vnd.jupyter.widget-view+json": {
       "model_id": "a9a9c36a5cd7400386bbc5c277ff3be7",
       "version_major": 2,
       "version_minor": 0
      },
      "text/plain": [
       "  0%|          | 0/15 [00:00<?, ?it/s]"
      ]
     },
     "metadata": {},
     "output_type": "display_data"
    },
    {
     "name": "stdout",
     "output_type": "stream",
     "text": [
      "IBM-Q  : (-60.52511288972866+41.16878205224529j)\n",
      "elapsed time 393.0 [s]\n",
      "\n",
      "==================================================================\n",
      "                             Naive Pauli, trial= 7\n",
      "==================================================================\n",
      "# measurements = 64\n",
      "elapsed time 0.039 [s]\n",
      "\n",
      "GT      : (-66.31511326916325+36.06306338872994j) \n",
      "\n",
      "statevec: (-66.31511326916323+36.06306338872994j)\n",
      "elapsed time 0.7 [s]\n",
      "\n"
     ]
    },
    {
     "data": {
      "application/vnd.jupyter.widget-view+json": {
       "model_id": "ffbd1fea8e124a75a7e3da749ac587be",
       "version_major": 2,
       "version_minor": 0
      },
      "text/plain": [
       "  0%|          | 0/64 [00:00<?, ?it/s]"
      ]
     },
     "metadata": {},
     "output_type": "display_data"
    },
    {
     "name": "stdout",
     "output_type": "stream",
     "text": [
      "IBM-Q  : (-61.079026526085634+35.962889711631156j)\n",
      "elapsed time 501.2 [s]\n",
      "\n",
      "==================================================================\n",
      "                             QWC, trial= 7\n",
      "==================================================================\n",
      "all_symbols does not include set()\n",
      "# measurements = 28\n",
      "elapsed time 0.283 [s]\n",
      "\n",
      "GT      : (-66.31511326916325+36.06306338872994j) \n",
      "\n",
      "statevec: (-66.31511326916326+36.0630633887299j)\n",
      "elapsed time 0.3 [s]\n",
      "\n"
     ]
    },
    {
     "data": {
      "application/vnd.jupyter.widget-view+json": {
       "model_id": "8ed3d898e1f849fe91e01834eb717011",
       "version_major": 2,
       "version_minor": 0
      },
      "text/plain": [
       "  0%|          | 0/28 [00:00<?, ?it/s]"
      ]
     },
     "metadata": {},
     "output_type": "display_data"
    },
    {
     "name": "stdout",
     "output_type": "stream",
     "text": [
      "IBM-Q  : (-63.077544739594344+36.46679190660194j)\n",
      "elapsed time 13470.0 [s]\n",
      "\n",
      "==================================================================\n",
      "                             GC, trial= 7\n",
      "==================================================================\n",
      "MEASURECIRCUIT: Generated graph for the Hamiltonian with 63 nodes.\n",
      "MEASURECIRCUIT: BronKerbosch found 9 unique circuits\n",
      "MEASURECIRCUIT: Elapsed time: 0.039039s\n",
      "all_symbols does not include set()\n",
      "MEASURECIRCUIT: Generated graph for the Hamiltonian with 63 nodes.\n",
      "# measurements = 10\n",
      "elapsed time 0.249 [s]\n",
      "\n",
      "GT      : (-66.31511326916325+36.06306338872994j) \n",
      "\n",
      "statevec: (-66.31511326916326+36.063063388729965j)\n",
      "elapsed time 0.7 [s]\n",
      "\n"
     ]
    },
    {
     "data": {
      "application/vnd.jupyter.widget-view+json": {
       "model_id": "5abaf065de004e0a9fe34a02f36df5ec",
       "version_major": 2,
       "version_minor": 0
      },
      "text/plain": [
       "  0%|          | 0/10 [00:00<?, ?it/s]"
      ]
     },
     "metadata": {},
     "output_type": "display_data"
    },
    {
     "name": "stdout",
     "output_type": "stream",
     "text": [
      "IBM-Q  : (-55.093921202609515+29.986612115459906j)\n",
      "elapsed time 444.6 [s]\n",
      "\n",
      "==================================================================\n",
      "                             XBM, trial= 8\n",
      "==================================================================\n",
      "# measurements = 15\n",
      "elapsed time 0.011 [s]\n",
      "\n",
      "GT      : (24.38366764232634-2.621729024133945j) \n",
      "\n",
      "statevec: (24.383667642326305-2.62172902413392j)\n",
      "elapsed time 0.5 [s]\n",
      "\n"
     ]
    },
    {
     "data": {
      "application/vnd.jupyter.widget-view+json": {
       "model_id": "e3d1696bf84145b1a3a691df6c26d4fe",
       "version_major": 2,
       "version_minor": 0
      },
      "text/plain": [
       "  0%|          | 0/15 [00:00<?, ?it/s]"
      ]
     },
     "metadata": {},
     "output_type": "display_data"
    },
    {
     "name": "stdout",
     "output_type": "stream",
     "text": [
      "IBM-Q  : (27.395028195081046-4.34013461602458j)\n",
      "elapsed time 428.4 [s]\n",
      "\n",
      "==================================================================\n",
      "                             Naive Pauli, trial= 8\n",
      "==================================================================\n",
      "# measurements = 64\n",
      "elapsed time 0.039 [s]\n",
      "\n",
      "GT      : (24.38366764232634-2.621729024133945j) \n",
      "\n",
      "statevec: (24.383667642326294-2.621729024133934j)\n",
      "elapsed time 0.8 [s]\n",
      "\n"
     ]
    },
    {
     "data": {
      "application/vnd.jupyter.widget-view+json": {
       "model_id": "f702870ca4774a99a9496f42b1bd6bf6",
       "version_major": 2,
       "version_minor": 0
      },
      "text/plain": [
       "  0%|          | 0/64 [00:00<?, ?it/s]"
      ]
     },
     "metadata": {},
     "output_type": "display_data"
    },
    {
     "name": "stdout",
     "output_type": "stream",
     "text": [
      "IBM-Q  : (27.115055283491536-3.315803719216518j)\n",
      "elapsed time 567.2 [s]\n",
      "\n",
      "==================================================================\n",
      "                             QWC, trial= 8\n",
      "==================================================================\n",
      "all_symbols does not include set()\n",
      "# measurements = 28\n",
      "elapsed time 0.38 [s]\n",
      "\n",
      "GT      : (24.38366764232634-2.621729024133945j) \n",
      "\n",
      "statevec: (24.383667642326284-2.621729024133942j)\n",
      "elapsed time 0.4 [s]\n",
      "\n"
     ]
    },
    {
     "data": {
      "application/vnd.jupyter.widget-view+json": {
       "model_id": "178aaf47bff2453b9094c174dbce4db8",
       "version_major": 2,
       "version_minor": 0
      },
      "text/plain": [
       "  0%|          | 0/28 [00:00<?, ?it/s]"
      ]
     },
     "metadata": {},
     "output_type": "display_data"
    },
    {
     "name": "stdout",
     "output_type": "stream",
     "text": [
      "IBM-Q  : (21.871718616981354-4.398504309648556j)\n",
      "elapsed time 514.0 [s]\n",
      "\n",
      "==================================================================\n",
      "                             GC, trial= 8\n",
      "==================================================================\n",
      "MEASURECIRCUIT: Generated graph for the Hamiltonian with 63 nodes.\n",
      "MEASURECIRCUIT: BronKerbosch found 9 unique circuits\n",
      "MEASURECIRCUIT: Elapsed time: 0.026615s\n",
      "all_symbols does not include set()\n",
      "MEASURECIRCUIT: Generated graph for the Hamiltonian with 63 nodes.\n",
      "# measurements = 10\n",
      "elapsed time 0.178 [s]\n",
      "\n",
      "GT      : (24.38366764232634-2.621729024133945j) \n",
      "\n",
      "statevec: (24.383667642326376-2.621729024133952j)\n",
      "elapsed time 0.3 [s]\n",
      "\n"
     ]
    },
    {
     "data": {
      "application/vnd.jupyter.widget-view+json": {
       "model_id": "36d074345dc34ee8b9d0363ac6f9913b",
       "version_major": 2,
       "version_minor": 0
      },
      "text/plain": [
       "  0%|          | 0/10 [00:00<?, ?it/s]"
      ]
     },
     "metadata": {},
     "output_type": "display_data"
    },
    {
     "name": "stdout",
     "output_type": "stream",
     "text": [
      "IBM-Q  : (17.579167562913277-4.31751754208075j)\n",
      "elapsed time 172368.0 [s]\n",
      "\n",
      "==================================================================\n",
      "                             XBM, trial= 9\n",
      "==================================================================\n",
      "# measurements = 15\n",
      "elapsed time 0.019 [s]\n",
      "\n",
      "GT      : (-19.07179389506449-19.262918926499005j) \n",
      "\n",
      "statevec: (-19.0717938950645-19.262918926499008j)\n",
      "elapsed time 0.3 [s]\n",
      "\n"
     ]
    },
    {
     "data": {
      "application/vnd.jupyter.widget-view+json": {
       "model_id": "647d7477daac4f1ab13728b4c64f450f",
       "version_major": 2,
       "version_minor": 0
      },
      "text/plain": [
       "  0%|          | 0/15 [00:00<?, ?it/s]"
      ]
     },
     "metadata": {},
     "output_type": "display_data"
    },
    {
     "name": "stdout",
     "output_type": "stream",
     "text": [
      "IBM-Q  : (-28.17237473265364-30.949319939683875j)\n",
      "elapsed time 79.5 [s]\n",
      "\n",
      "==================================================================\n",
      "                             Naive Pauli, trial= 9\n",
      "==================================================================\n",
      "# measurements = 64\n",
      "elapsed time 0.042 [s]\n",
      "\n",
      "GT      : (-19.07179389506449-19.262918926499005j) \n",
      "\n",
      "statevec: (-19.07179389506449-19.262918926499072j)\n",
      "elapsed time 0.5 [s]\n",
      "\n"
     ]
    },
    {
     "data": {
      "application/vnd.jupyter.widget-view+json": {
       "model_id": "3f0f127e1e8943acb98ff865939c6cc8",
       "version_major": 2,
       "version_minor": 0
      },
      "text/plain": [
       "  0%|          | 0/64 [00:00<?, ?it/s]"
      ]
     },
     "metadata": {},
     "output_type": "display_data"
    },
    {
     "name": "stdout",
     "output_type": "stream",
     "text": [
      "IBM-Q  : (-26.277228945862802-23.591030706151887j)\n",
      "elapsed time 618.0 [s]\n",
      "\n",
      "==================================================================\n",
      "                             QWC, trial= 9\n",
      "==================================================================\n",
      "all_symbols does not include set()\n",
      "# measurements = 28\n",
      "elapsed time 0.298 [s]\n",
      "\n",
      "GT      : (-19.07179389506449-19.262918926499005j) \n",
      "\n",
      "statevec: (-19.071793895064456-19.262918926499037j)\n",
      "elapsed time 0.4 [s]\n",
      "\n"
     ]
    },
    {
     "data": {
      "application/vnd.jupyter.widget-view+json": {
       "model_id": "83e045a1c4aa49b5926b17b1d70da65b",
       "version_major": 2,
       "version_minor": 0
      },
      "text/plain": [
       "  0%|          | 0/28 [00:00<?, ?it/s]"
      ]
     },
     "metadata": {},
     "output_type": "display_data"
    },
    {
     "name": "stdout",
     "output_type": "stream",
     "text": [
      "IBM-Q  : (-23.904781279397906-24.56117609816995j)\n",
      "elapsed time 105.7 [s]\n",
      "\n",
      "==================================================================\n",
      "                             GC, trial= 9\n",
      "==================================================================\n",
      "MEASURECIRCUIT: Generated graph for the Hamiltonian with 63 nodes.\n",
      "MEASURECIRCUIT: BronKerbosch found 9 unique circuits\n",
      "MEASURECIRCUIT: Elapsed time: 0.026579s\n",
      "all_symbols does not include set()\n",
      "MEASURECIRCUIT: Generated graph for the Hamiltonian with 63 nodes.\n",
      "# measurements = 10\n",
      "elapsed time 0.18 [s]\n",
      "\n",
      "GT      : (-19.07179389506449-19.262918926499005j) \n",
      "\n",
      "statevec: (-19.071793895064467-19.26291892649903j)\n",
      "elapsed time 0.3 [s]\n",
      "\n"
     ]
    },
    {
     "data": {
      "application/vnd.jupyter.widget-view+json": {
       "model_id": "ccbff0998c2d44729bee9c0ac90d5a87",
       "version_major": 2,
       "version_minor": 0
      },
      "text/plain": [
       "  0%|          | 0/10 [00:00<?, ?it/s]"
      ]
     },
     "metadata": {},
     "output_type": "display_data"
    },
    {
     "name": "stdout",
     "output_type": "stream",
     "text": [
      "IBM-Q  : (-15.552644623793826-22.129591788425174j)\n",
      "elapsed time 210.8 [s]\n",
      "\n"
     ]
    }
   ],
   "source": [
    "results = {'XBM':[],'Naive':[],'QWC':[],'GC':[]}\n",
    "\n",
    "for trial in range(nb_trial):\n",
    "    \n",
    "    if is_psi_1:\n",
    "        psi_0, psi_1, mat_A = get_psi_A(nb_qubits, band_width)\n",
    "    else:\n",
    "        psi_0, _, mat_A = get_psi_A(nb_qubits, band_width)\n",
    "        psi_1 = None\n",
    "    \n",
    "    print('==================================================================')\n",
    "    print('                             XBM, trial=',trial)\n",
    "    print('==================================================================')\n",
    "    start = time.time()\n",
    "    meas_xbm = get_all_meas_circs_bits_coefs(psi_0, psi_1, mat_A)\n",
    "    nb_circs = len(meas_xbm)\n",
    "    end = time.time()\n",
    "\n",
    "    print('# measurements =', nb_circs)\n",
    "    print('elapsed time', np.round(end-start,3), '[s]\\n')\n",
    "\n",
    "    res = experiments(psi_0, psi_1, meas_xbm, qasm=qasm, ibmq=ibmq)\n",
    "    res.update({'term_grouping':end-start})\n",
    "    res.update({'nb_circs':len(meas_xbm)})\n",
    "    results['XBM'] += [res]\n",
    "\n",
    "    print('==================================================================')\n",
    "    print('                             Naive Pauli, trial=',trial)\n",
    "    print('==================================================================')\n",
    "    start = time.time()\n",
    "    meas_pauli = get_all_meas_circs_bits_coefs_pauli(psi_0, psi_1, mat_A, reduce=False)\n",
    "    nb_circs = len(meas_pauli)\n",
    "    end = time.time()\n",
    "\n",
    "    print('# measurements =', nb_circs)\n",
    "    print('elapsed time', np.round(end-start,3), '[s]\\n')\n",
    "\n",
    "    res = experiments(psi_0, psi_1, meas_pauli, qasm=qasm, ibmq=ibmq)\n",
    "    res.update({'term_grouping':end-start})\n",
    "    res.update({'nb_circs':len(meas_pauli)})\n",
    "    results['Naive'] += [res]\n",
    "\n",
    "    print('==================================================================')\n",
    "    print('                             QWC, trial=',trial)\n",
    "    print('==================================================================')\n",
    "    start = time.time()\n",
    "    meas_qwc   = get_all_meas_circs_bits_coefs_qwc(psi_0, psi_1, mat_A)\n",
    "    nb_circs = len(meas_qwc)\n",
    "    end = time.time()\n",
    "\n",
    "    print('# measurements =', nb_circs)\n",
    "    print('elapsed time', np.round(end-start,3), '[s]\\n')\n",
    "\n",
    "    res = experiments(psi_0, psi_1, meas_qwc, qasm=qasm, ibmq=ibmq)\n",
    "    res.update({'term_grouping':end-start})\n",
    "    res.update({'nb_circs':len(meas_qwc)})\n",
    "    results['QWC'] += [res]\n",
    "\n",
    "    print('==================================================================')\n",
    "    print('                             GC, trial=',trial)\n",
    "    print('==================================================================')\n",
    "    start = time.time()\n",
    "    meas_gc    = get_all_meas_circs_bits_coefs_gc(psi_0, psi_1, mat_A, FullCommutativity, verbose=True)\n",
    "    nb_circs = len(meas_gc)\n",
    "    end = time.time()\n",
    "\n",
    "    print('# measurements =', nb_circs)\n",
    "    print('elapsed time', np.round(end-start,3), '[s]\\n')\n",
    "\n",
    "    res = experiments(psi_0, psi_1, meas_gc, qasm=qasm, ibmq=ibmq)\n",
    "    res.update({'term_grouping':end-start})\n",
    "    res.update({'nb_circs':len(meas_gc)})\n",
    "    results['GC'] += [res]"
   ]
  },
  {
   "cell_type": "code",
   "execution_count": 12,
   "id": "chief-jerusalem",
   "metadata": {},
   "outputs": [
    {
     "name": "stdout",
     "output_type": "stream",
     "text": [
      "start  : 2021-09-20 00:23:22.933984\n",
      "end    : 2021-09-25 03:52:23.557817\n",
      "elapsed: 5 days, 3:29:00.623833\n"
     ]
    }
   ],
   "source": [
    "end_time = datetime.datetime.today()\n",
    "\n",
    "print('start  :', start_time)\n",
    "print('end    :', end_time)\n",
    "print('elapsed:', end_time-start_time)"
   ]
  },
  {
   "cell_type": "code",
   "execution_count": 13,
   "id": "secondary-surgeon",
   "metadata": {},
   "outputs": [],
   "source": [
    "with open(fname+'.pkl', 'wb') as f:\n",
    "    pickle.dump(results, f)\n",
    "#with open(fname'.pkl', 'rb') as f:\n",
    "#    results = pickle.load(f)"
   ]
  }
 ],
 "metadata": {
  "kernelspec": {
   "display_name": "Python 3",
   "language": "python",
   "name": "python3"
  },
  "language_info": {
   "codemirror_mode": {
    "name": "ipython",
    "version": 3
   },
   "file_extension": ".py",
   "mimetype": "text/x-python",
   "name": "python",
   "nbconvert_exporter": "python",
   "pygments_lexer": "ipython3",
   "version": "3.6.9"
  }
 },
 "nbformat": 4,
 "nbformat_minor": 5
}
