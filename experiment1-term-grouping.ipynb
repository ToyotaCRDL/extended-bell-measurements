{
 "cells": [
  {
   "cell_type": "code",
   "execution_count": 1,
   "metadata": {},
   "outputs": [
    {
     "data": {
      "text/html": [
       "<h3>Version Information</h3><table><tr><th>Qiskit Software</th><th>Version</th></tr><tr><td>Qiskit</td><td>0.25.0</td></tr><tr><td>Terra</td><td>0.17.0</td></tr><tr><td>Aer</td><td>0.8.0</td></tr><tr><td>Ignis</td><td>0.6.0</td></tr><tr><td>Aqua</td><td>0.9.0</td></tr><tr><td>IBM Q Provider</td><td>0.12.2</td></tr><tr><th>System information</th></tr><tr><td>Python</td><td>3.6.9 (default, Oct  8 2020, 12:12:24) \n",
       "[GCC 8.4.0]</td></tr><tr><td>OS</td><td>Linux</td></tr><tr><td>CPUs</td><td>10</td></tr><tr><td>Memory (Gb)</td><td>31.088565826416016</td></tr><tr><td colspan='2'>Tue Oct 12 12:14:51 2021 UTC</td></tr></table>"
      ],
      "text/plain": [
       "<IPython.core.display.HTML object>"
      ]
     },
     "metadata": {},
     "output_type": "display_data"
    }
   ],
   "source": [
    "import warnings\n",
    "def warn(*args, **kwargs):\n",
    "    pass\n",
    "warnings.warn = warn\n",
    "\n",
    "import qiskit.tools.jupyter\n",
    "%qiskit_version_table\n",
    "#%qiskit_copyright"
   ]
  },
  {
   "cell_type": "code",
   "execution_count": 2,
   "metadata": {},
   "outputs": [],
   "source": [
    "import numpy as np\n",
    "from qiskit import QuantumCircuit\n",
    "from xbm import get_all_meas_circs_bits_coefs\n",
    "from genc import get_all_meas_circs_bits_coefs_gc\n",
    "from term_grouping import QWCCommutativity, FullCommutativity, genMeasureCircuit\n",
    "from qwc import get_all_meas_circs_bits_coefs_qwc\n",
    "from pauli import get_all_meas_circs_bits_coefs_pauli\n",
    "import time\n",
    "import random\n",
    "import pickle\n",
    "import matplotlib.pyplot as plt\n",
    "from tqdm.autonotebook import tqdm\n",
    "from qwc import mat2operator\n",
    "from utils import mat2H\n",
    "from openfermion.measurements import group_into_tensor_product_basis_sets"
   ]
  },
  {
   "cell_type": "code",
   "execution_count": 3,
   "metadata": {},
   "outputs": [],
   "source": [
    "plt.rcParams['font.family'] = 'DejaVu Serif'\n",
    "plt.rcParams['mathtext.fontset'] = 'stix'\n",
    "plt.rcParams['font.size'] = 18\n",
    "plt.rcParams['xtick.labelsize'] = 12\n",
    "plt.rcParams['ytick.labelsize'] = 12\n",
    "\n",
    "colors = ['#FF99A0', '#C8C8CB', '#87E7B0', '#66CCFF']"
   ]
  },
  {
   "cell_type": "code",
   "execution_count": 4,
   "metadata": {},
   "outputs": [],
   "source": [
    "def get_psi_A(nb_qubits, band_width, seed):\n",
    "    np.random.seed(seed)\n",
    "    psi_0 = QuantumCircuit(nb_qubits)\n",
    "    psi_1 = QuantumCircuit(nb_qubits)\n",
    "\n",
    "    for i in range(nb_qubits):\n",
    "        psi_0.rx(np.random.random(),i)\n",
    "        psi_0.ry(np.random.random(),i)\n",
    "        psi_0.rz(np.random.random(),i)\n",
    "        psi_1.rx(np.random.random(),i)\n",
    "        psi_1.ry(np.random.random(),i)\n",
    "        psi_1.rz(np.random.random(),i)\n",
    "\n",
    "    rand_sign = np.array(random.choices([1,-1],k=(2**nb_qubits)**2)).reshape((2**nb_qubits,2**nb_qubits))\n",
    "    mat_A = np.random.random(size=(2**nb_qubits,2**nb_qubits)).astype(np.complex128) * rand_sign\n",
    "    rand_sign = np.array(random.choices([1,-1],k=(2**nb_qubits)**2)).reshape((2**nb_qubits,2**nb_qubits))\n",
    "    mat_A += 1.j * np.random.random(size=(2**nb_qubits,2**nb_qubits)) * rand_sign\n",
    "    mat_A *= 100.\n",
    "    \n",
    "    if band_width is not None:\n",
    "        for i in range(2**nb_qubits):\n",
    "            for j in range(2**nb_qubits):\n",
    "                if np.abs(i-j)>band_width:\n",
    "                    mat_A[i,j] = 0.\n",
    "    \n",
    "    return psi_0, psi_1, mat_A"
   ]
  },
  {
   "cell_type": "code",
   "execution_count": 5,
   "metadata": {},
   "outputs": [],
   "source": [
    "def experiments(method, nb_qubits, band_width, is_psi_1, nb_trial, part='both', verbose=False):\n",
    "\n",
    "    nb_circs_list = []\n",
    "    elapsed_time_list = []\n",
    "    \n",
    "    for trial in tqdm(range(nb_trial)):\n",
    "\n",
    "        if is_psi_1:\n",
    "            psi_0, psi_1, mat_A = get_psi_A(nb_qubits, band_width, trial)\n",
    "            if method=='QWC' or method=='QWC(BronKerbosch)' or method=='GC(BronKerbosch)':\n",
    "                mat_A = np.kron(np.array([[0,2],[0,0]]),mat_A)\n",
    "        else:\n",
    "            psi_0, _, mat_A = get_psi_A(nb_qubits, band_width, trial)\n",
    "            psi_1 = None\n",
    "\n",
    "\n",
    "        if method=='QWC':\n",
    "            H = mat2H(mat_A)\n",
    "            operator = mat2operator(H=H)\n",
    "        elif method=='QWC(BronKerbosch)' or method=='GC(BronKerbosch)':\n",
    "            H = mat2H(mat_A)\n",
    "        \n",
    "        start = time.time()\n",
    "\n",
    "        if method=='XBM':\n",
    "            meas = get_all_meas_circs_bits_coefs(psi_0, psi_1, mat_A, part, return_circ=False)\n",
    "        elif method=='Naive':\n",
    "            meas = get_all_meas_circs_bits_coefs_pauli(psi_0, psi_1, mat_A, reduce=False)\n",
    "        elif method=='QWC':\n",
    "            meas = group_into_tensor_product_basis_sets(operator)\n",
    "        elif method=='QWC(BronKerbosch)':\n",
    "            if is_psi_1:\n",
    "                meas, _ = genMeasureCircuit(H, nb_qubits+1, QWCCommutativity)\n",
    "            else:\n",
    "                meas, _ = genMeasureCircuit(H, nb_qubits, QWCCommutativity)\n",
    "        elif method=='GC(BronKerbosch)':\n",
    "            if is_psi_1:\n",
    "                meas, _ = genMeasureCircuit(H, nb_qubits+1, FullCommutativity)\n",
    "            else:\n",
    "                meas, _ = genMeasureCircuit(H, nb_qubits, FullCommutativity)\n",
    "\n",
    "        end = time.time()\n",
    "        elapsed_time = end - start\n",
    "        nb_circs = len(meas)\n",
    "        \n",
    "        if verbose:\n",
    "            print('# measurements =', nb_circs)\n",
    "            print('elapsed time', np.round(elapsed_time,3), '[s]\\n')\n",
    "        \n",
    "        nb_circs_list += [nb_circs]\n",
    "        elapsed_time_list += [elapsed_time]\n",
    "        \n",
    "    return nb_circs_list, elapsed_time_list"
   ]
  },
  {
   "cell_type": "markdown",
   "metadata": {},
   "source": [
    "## $\\big|\\psi_0\\big>=\\big|\\psi_1\\big>$, $n=1,2,\\cdots$, $k=3$"
   ]
  },
  {
   "cell_type": "code",
   "execution_count": 6,
   "metadata": {},
   "outputs": [],
   "source": [
    "def take_mean(value, nb_trial):\n",
    "    return np.array(value).reshape((len(value)//nb_trial, nb_trial)).mean(-1)"
   ]
  },
  {
   "cell_type": "code",
   "execution_count": 7,
   "metadata": {
    "scrolled": true
   },
   "outputs": [
    {
     "name": "stdout",
     "output_type": "stream",
     "text": [
      "===========================================\n",
      "                   XBM\n",
      "===========================================\n"
     ]
    },
    {
     "data": {
      "application/vnd.jupyter.widget-view+json": {
       "model_id": "583ca79e63b04af28e8c32d84602cf00",
       "version_major": 2,
       "version_minor": 0
      },
      "text/plain": [
       "  0%|          | 0/10 [00:00<?, ?it/s]"
      ]
     },
     "metadata": {},
     "output_type": "display_data"
    },
    {
     "data": {
      "application/vnd.jupyter.widget-view+json": {
       "model_id": "793f67fdd6024dfda3e5e40f395a420c",
       "version_major": 2,
       "version_minor": 0
      },
      "text/plain": [
       "  0%|          | 0/10 [00:00<?, ?it/s]"
      ]
     },
     "metadata": {},
     "output_type": "display_data"
    },
    {
     "data": {
      "application/vnd.jupyter.widget-view+json": {
       "model_id": "20916e5c868f4400ad68bff875ee4c28",
       "version_major": 2,
       "version_minor": 0
      },
      "text/plain": [
       "  0%|          | 0/10 [00:00<?, ?it/s]"
      ]
     },
     "metadata": {},
     "output_type": "display_data"
    },
    {
     "data": {
      "application/vnd.jupyter.widget-view+json": {
       "model_id": "63f469c3730b4e6bbac95853b77e31c1",
       "version_major": 2,
       "version_minor": 0
      },
      "text/plain": [
       "  0%|          | 0/10 [00:00<?, ?it/s]"
      ]
     },
     "metadata": {},
     "output_type": "display_data"
    },
    {
     "data": {
      "application/vnd.jupyter.widget-view+json": {
       "model_id": "e88dd3258427427d97843658df57b440",
       "version_major": 2,
       "version_minor": 0
      },
      "text/plain": [
       "  0%|          | 0/10 [00:00<?, ?it/s]"
      ]
     },
     "metadata": {},
     "output_type": "display_data"
    },
    {
     "data": {
      "application/vnd.jupyter.widget-view+json": {
       "model_id": "99b793e2361f412386d9d59a152655a9",
       "version_major": 2,
       "version_minor": 0
      },
      "text/plain": [
       "  0%|          | 0/10 [00:00<?, ?it/s]"
      ]
     },
     "metadata": {},
     "output_type": "display_data"
    },
    {
     "data": {
      "application/vnd.jupyter.widget-view+json": {
       "model_id": "5c6273f4c2d34c89ad62bc71b0f230a1",
       "version_major": 2,
       "version_minor": 0
      },
      "text/plain": [
       "  0%|          | 0/10 [00:00<?, ?it/s]"
      ]
     },
     "metadata": {},
     "output_type": "display_data"
    },
    {
     "data": {
      "application/vnd.jupyter.widget-view+json": {
       "model_id": "e0557b9339b349b3ab8d33187e168383",
       "version_major": 2,
       "version_minor": 0
      },
      "text/plain": [
       "  0%|          | 0/10 [00:00<?, ?it/s]"
      ]
     },
     "metadata": {},
     "output_type": "display_data"
    },
    {
     "data": {
      "application/vnd.jupyter.widget-view+json": {
       "model_id": "2a5b8dd4321544609a0e0fc21bb78233",
       "version_major": 2,
       "version_minor": 0
      },
      "text/plain": [
       "  0%|          | 0/10 [00:00<?, ?it/s]"
      ]
     },
     "metadata": {},
     "output_type": "display_data"
    },
    {
     "data": {
      "application/vnd.jupyter.widget-view+json": {
       "model_id": "991ed5dfed974f6f984c906bb64cfa59",
       "version_major": 2,
       "version_minor": 0
      },
      "text/plain": [
       "  0%|          | 0/10 [00:00<?, ?it/s]"
      ]
     },
     "metadata": {},
     "output_type": "display_data"
    },
    {
     "data": {
      "application/vnd.jupyter.widget-view+json": {
       "model_id": "59fe7ec93ae34e5f93c6805bcfc90dd2",
       "version_major": 2,
       "version_minor": 0
      },
      "text/plain": [
       "  0%|          | 0/10 [00:00<?, ?it/s]"
      ]
     },
     "metadata": {},
     "output_type": "display_data"
    },
    {
     "data": {
      "application/vnd.jupyter.widget-view+json": {
       "model_id": "20e90e06100e4a82a98cacbf558fd5a7",
       "version_major": 2,
       "version_minor": 0
      },
      "text/plain": [
       "  0%|          | 0/10 [00:00<?, ?it/s]"
      ]
     },
     "metadata": {},
     "output_type": "display_data"
    },
    {
     "data": {
      "application/vnd.jupyter.widget-view+json": {
       "model_id": "bb92361107064c6aae4c6cd80d84edad",
       "version_major": 2,
       "version_minor": 0
      },
      "text/plain": [
       "  0%|          | 0/10 [00:00<?, ?it/s]"
      ]
     },
     "metadata": {},
     "output_type": "display_data"
    },
    {
     "data": {
      "application/vnd.jupyter.widget-view+json": {
       "model_id": "23b1bd9aa5794ccd856d1f360cd6bcbe",
       "version_major": 2,
       "version_minor": 0
      },
      "text/plain": [
       "  0%|          | 0/10 [00:00<?, ?it/s]"
      ]
     },
     "metadata": {},
     "output_type": "display_data"
    },
    {
     "name": "stdout",
     "output_type": "stream",
     "text": [
      "===========================================\n",
      "                   XBM(half)\n",
      "===========================================\n"
     ]
    },
    {
     "data": {
      "application/vnd.jupyter.widget-view+json": {
       "model_id": "6035c9b1475f483292aca9dd0b613866",
       "version_major": 2,
       "version_minor": 0
      },
      "text/plain": [
       "  0%|          | 0/10 [00:00<?, ?it/s]"
      ]
     },
     "metadata": {},
     "output_type": "display_data"
    },
    {
     "data": {
      "application/vnd.jupyter.widget-view+json": {
       "model_id": "b076bc74f4be4857a758a653ece6de92",
       "version_major": 2,
       "version_minor": 0
      },
      "text/plain": [
       "  0%|          | 0/10 [00:00<?, ?it/s]"
      ]
     },
     "metadata": {},
     "output_type": "display_data"
    },
    {
     "data": {
      "application/vnd.jupyter.widget-view+json": {
       "model_id": "a7d48ef052b0422da169f8a870b2f0b4",
       "version_major": 2,
       "version_minor": 0
      },
      "text/plain": [
       "  0%|          | 0/10 [00:00<?, ?it/s]"
      ]
     },
     "metadata": {},
     "output_type": "display_data"
    },
    {
     "data": {
      "application/vnd.jupyter.widget-view+json": {
       "model_id": "657254029ed3493e825b42a7dbd8fc49",
       "version_major": 2,
       "version_minor": 0
      },
      "text/plain": [
       "  0%|          | 0/10 [00:00<?, ?it/s]"
      ]
     },
     "metadata": {},
     "output_type": "display_data"
    },
    {
     "data": {
      "application/vnd.jupyter.widget-view+json": {
       "model_id": "77091dada158416eb9cd87ce15303331",
       "version_major": 2,
       "version_minor": 0
      },
      "text/plain": [
       "  0%|          | 0/10 [00:00<?, ?it/s]"
      ]
     },
     "metadata": {},
     "output_type": "display_data"
    },
    {
     "data": {
      "application/vnd.jupyter.widget-view+json": {
       "model_id": "42eee90e38b144dbbfa87cb4f4d1eb03",
       "version_major": 2,
       "version_minor": 0
      },
      "text/plain": [
       "  0%|          | 0/10 [00:00<?, ?it/s]"
      ]
     },
     "metadata": {},
     "output_type": "display_data"
    },
    {
     "data": {
      "application/vnd.jupyter.widget-view+json": {
       "model_id": "c387f0987ace44e68f9927c3351fecd8",
       "version_major": 2,
       "version_minor": 0
      },
      "text/plain": [
       "  0%|          | 0/10 [00:00<?, ?it/s]"
      ]
     },
     "metadata": {},
     "output_type": "display_data"
    },
    {
     "data": {
      "application/vnd.jupyter.widget-view+json": {
       "model_id": "60246f332d434d649b4ee5f46241e5c1",
       "version_major": 2,
       "version_minor": 0
      },
      "text/plain": [
       "  0%|          | 0/10 [00:00<?, ?it/s]"
      ]
     },
     "metadata": {},
     "output_type": "display_data"
    },
    {
     "data": {
      "application/vnd.jupyter.widget-view+json": {
       "model_id": "8fa1fe11ee314147bcc8afbc72d63209",
       "version_major": 2,
       "version_minor": 0
      },
      "text/plain": [
       "  0%|          | 0/10 [00:00<?, ?it/s]"
      ]
     },
     "metadata": {},
     "output_type": "display_data"
    },
    {
     "data": {
      "application/vnd.jupyter.widget-view+json": {
       "model_id": "ea0f92c0339a4b159c14c5877ea05a8d",
       "version_major": 2,
       "version_minor": 0
      },
      "text/plain": [
       "  0%|          | 0/10 [00:00<?, ?it/s]"
      ]
     },
     "metadata": {},
     "output_type": "display_data"
    },
    {
     "data": {
      "application/vnd.jupyter.widget-view+json": {
       "model_id": "29abfb0ae7ac4d78876069dc95f7b824",
       "version_major": 2,
       "version_minor": 0
      },
      "text/plain": [
       "  0%|          | 0/10 [00:00<?, ?it/s]"
      ]
     },
     "metadata": {},
     "output_type": "display_data"
    },
    {
     "data": {
      "application/vnd.jupyter.widget-view+json": {
       "model_id": "7d9bc3adc8534c518e775a183e88b93b",
       "version_major": 2,
       "version_minor": 0
      },
      "text/plain": [
       "  0%|          | 0/10 [00:00<?, ?it/s]"
      ]
     },
     "metadata": {},
     "output_type": "display_data"
    },
    {
     "data": {
      "application/vnd.jupyter.widget-view+json": {
       "model_id": "15780077ce024750ac525345e8c928e1",
       "version_major": 2,
       "version_minor": 0
      },
      "text/plain": [
       "  0%|          | 0/10 [00:00<?, ?it/s]"
      ]
     },
     "metadata": {},
     "output_type": "display_data"
    },
    {
     "data": {
      "application/vnd.jupyter.widget-view+json": {
       "model_id": "b5ce566498e247a0b510ade71b568737",
       "version_major": 2,
       "version_minor": 0
      },
      "text/plain": [
       "  0%|          | 0/10 [00:00<?, ?it/s]"
      ]
     },
     "metadata": {},
     "output_type": "display_data"
    },
    {
     "name": "stdout",
     "output_type": "stream",
     "text": [
      "===========================================\n",
      "                   Naive\n",
      "===========================================\n"
     ]
    },
    {
     "data": {
      "application/vnd.jupyter.widget-view+json": {
       "model_id": "c2155181886e460394b7435d0cc776e2",
       "version_major": 2,
       "version_minor": 0
      },
      "text/plain": [
       "  0%|          | 0/10 [00:00<?, ?it/s]"
      ]
     },
     "metadata": {},
     "output_type": "display_data"
    },
    {
     "data": {
      "application/vnd.jupyter.widget-view+json": {
       "model_id": "bc6630235cfa476880db24f2528315de",
       "version_major": 2,
       "version_minor": 0
      },
      "text/plain": [
       "  0%|          | 0/10 [00:00<?, ?it/s]"
      ]
     },
     "metadata": {},
     "output_type": "display_data"
    },
    {
     "data": {
      "application/vnd.jupyter.widget-view+json": {
       "model_id": "f7af6107e1af4b46b24b368a4f253b83",
       "version_major": 2,
       "version_minor": 0
      },
      "text/plain": [
       "  0%|          | 0/10 [00:00<?, ?it/s]"
      ]
     },
     "metadata": {},
     "output_type": "display_data"
    },
    {
     "data": {
      "application/vnd.jupyter.widget-view+json": {
       "model_id": "22462ad284a84190a3c5dee6fb603289",
       "version_major": 2,
       "version_minor": 0
      },
      "text/plain": [
       "  0%|          | 0/10 [00:00<?, ?it/s]"
      ]
     },
     "metadata": {},
     "output_type": "display_data"
    },
    {
     "data": {
      "application/vnd.jupyter.widget-view+json": {
       "model_id": "a3029469b2e84a1d93151398a0325cba",
       "version_major": 2,
       "version_minor": 0
      },
      "text/plain": [
       "  0%|          | 0/10 [00:00<?, ?it/s]"
      ]
     },
     "metadata": {},
     "output_type": "display_data"
    },
    {
     "data": {
      "application/vnd.jupyter.widget-view+json": {
       "model_id": "50524917693c46ac8ff1d8e4d71f8eaf",
       "version_major": 2,
       "version_minor": 0
      },
      "text/plain": [
       "  0%|          | 0/10 [00:00<?, ?it/s]"
      ]
     },
     "metadata": {},
     "output_type": "display_data"
    },
    {
     "data": {
      "application/vnd.jupyter.widget-view+json": {
       "model_id": "8218b847c1d144c58e00a49169d148a8",
       "version_major": 2,
       "version_minor": 0
      },
      "text/plain": [
       "  0%|          | 0/10 [00:00<?, ?it/s]"
      ]
     },
     "metadata": {},
     "output_type": "display_data"
    },
    {
     "data": {
      "application/vnd.jupyter.widget-view+json": {
       "model_id": "9f14a7978e574aeb92ce049fd87b0d1a",
       "version_major": 2,
       "version_minor": 0
      },
      "text/plain": [
       "  0%|          | 0/10 [00:00<?, ?it/s]"
      ]
     },
     "metadata": {},
     "output_type": "display_data"
    },
    {
     "name": "stdout",
     "output_type": "stream",
     "text": [
      "===========================================\n",
      "                   QWC\n",
      "===========================================\n"
     ]
    },
    {
     "data": {
      "application/vnd.jupyter.widget-view+json": {
       "model_id": "c03007c6ff5040b48964461db058a217",
       "version_major": 2,
       "version_minor": 0
      },
      "text/plain": [
       "  0%|          | 0/10 [00:00<?, ?it/s]"
      ]
     },
     "metadata": {},
     "output_type": "display_data"
    },
    {
     "data": {
      "application/vnd.jupyter.widget-view+json": {
       "model_id": "2ad8116b5b884f51b69a2c9abac30b3f",
       "version_major": 2,
       "version_minor": 0
      },
      "text/plain": [
       "  0%|          | 0/10 [00:00<?, ?it/s]"
      ]
     },
     "metadata": {},
     "output_type": "display_data"
    },
    {
     "data": {
      "application/vnd.jupyter.widget-view+json": {
       "model_id": "262cb5e1e27a445f97a6b612f1a903da",
       "version_major": 2,
       "version_minor": 0
      },
      "text/plain": [
       "  0%|          | 0/10 [00:00<?, ?it/s]"
      ]
     },
     "metadata": {},
     "output_type": "display_data"
    },
    {
     "data": {
      "application/vnd.jupyter.widget-view+json": {
       "model_id": "3950b7a552064e4a89b7a2cdb6107b8a",
       "version_major": 2,
       "version_minor": 0
      },
      "text/plain": [
       "  0%|          | 0/10 [00:00<?, ?it/s]"
      ]
     },
     "metadata": {},
     "output_type": "display_data"
    },
    {
     "data": {
      "application/vnd.jupyter.widget-view+json": {
       "model_id": "b028e4be8e704b63b254d2e870c0537e",
       "version_major": 2,
       "version_minor": 0
      },
      "text/plain": [
       "  0%|          | 0/10 [00:00<?, ?it/s]"
      ]
     },
     "metadata": {},
     "output_type": "display_data"
    },
    {
     "data": {
      "application/vnd.jupyter.widget-view+json": {
       "model_id": "f2f94d146c1343ef951f118387c54b7a",
       "version_major": 2,
       "version_minor": 0
      },
      "text/plain": [
       "  0%|          | 0/10 [00:00<?, ?it/s]"
      ]
     },
     "metadata": {},
     "output_type": "display_data"
    },
    {
     "data": {
      "application/vnd.jupyter.widget-view+json": {
       "model_id": "d65272dbe6de44a5b719fd9ef432c37d",
       "version_major": 2,
       "version_minor": 0
      },
      "text/plain": [
       "  0%|          | 0/10 [00:00<?, ?it/s]"
      ]
     },
     "metadata": {},
     "output_type": "display_data"
    },
    {
     "data": {
      "application/vnd.jupyter.widget-view+json": {
       "model_id": "7f37170f0f244d37ae4986c6467dee2d",
       "version_major": 2,
       "version_minor": 0
      },
      "text/plain": [
       "  0%|          | 0/10 [00:00<?, ?it/s]"
      ]
     },
     "metadata": {},
     "output_type": "display_data"
    },
    {
     "data": {
      "application/vnd.jupyter.widget-view+json": {
       "model_id": "016072c02c1c47e4a0c7c4303d5daece",
       "version_major": 2,
       "version_minor": 0
      },
      "text/plain": [
       "  0%|          | 0/10 [00:00<?, ?it/s]"
      ]
     },
     "metadata": {},
     "output_type": "display_data"
    },
    {
     "data": {
      "application/vnd.jupyter.widget-view+json": {
       "model_id": "645b8cdc580641f986be9d7a83dc567f",
       "version_major": 2,
       "version_minor": 0
      },
      "text/plain": [
       "  0%|          | 0/10 [00:00<?, ?it/s]"
      ]
     },
     "metadata": {},
     "output_type": "display_data"
    },
    {
     "name": "stdout",
     "output_type": "stream",
     "text": [
      "===========================================\n",
      "                   QWC(BronKerbosch)\n",
      "===========================================\n"
     ]
    },
    {
     "data": {
      "application/vnd.jupyter.widget-view+json": {
       "model_id": "7b52bf21f6c44d2e91740dfcb563ea50",
       "version_major": 2,
       "version_minor": 0
      },
      "text/plain": [
       "  0%|          | 0/10 [00:00<?, ?it/s]"
      ]
     },
     "metadata": {},
     "output_type": "display_data"
    },
    {
     "name": "stdout",
     "output_type": "stream",
     "text": [
      "MEASURECIRCUIT: Generated graph for the Hamiltonian with 3 nodes.\n",
      "MEASURECIRCUIT: BronKerbosch found 3 unique circuits\n",
      "MEASURECIRCUIT: Elapsed time: 0.000113s\n",
      "MEASURECIRCUIT: Generated graph for the Hamiltonian with 3 nodes.\n",
      "MEASURECIRCUIT: BronKerbosch found 3 unique circuits\n",
      "MEASURECIRCUIT: Elapsed time: 0.000180s\n",
      "MEASURECIRCUIT: Generated graph for the Hamiltonian with 3 nodes.\n",
      "MEASURECIRCUIT: BronKerbosch found 3 unique circuits\n",
      "MEASURECIRCUIT: Elapsed time: 0.000090s\n",
      "MEASURECIRCUIT: Generated graph for the Hamiltonian with 3 nodes.\n",
      "MEASURECIRCUIT: BronKerbosch found 3 unique circuits\n",
      "MEASURECIRCUIT: Elapsed time: 0.000123s\n",
      "MEASURECIRCUIT: Generated graph for the Hamiltonian with 3 nodes.\n",
      "MEASURECIRCUIT: BronKerbosch found 3 unique circuits\n",
      "MEASURECIRCUIT: Elapsed time: 0.000088s\n",
      "MEASURECIRCUIT: Generated graph for the Hamiltonian with 3 nodes.\n",
      "MEASURECIRCUIT: BronKerbosch found 3 unique circuits\n",
      "MEASURECIRCUIT: Elapsed time: 0.000089s\n",
      "MEASURECIRCUIT: Generated graph for the Hamiltonian with 3 nodes.\n",
      "MEASURECIRCUIT: BronKerbosch found 3 unique circuits\n",
      "MEASURECIRCUIT: Elapsed time: 0.000087s\n",
      "MEASURECIRCUIT: Generated graph for the Hamiltonian with 3 nodes.\n",
      "MEASURECIRCUIT: BronKerbosch found 3 unique circuits\n",
      "MEASURECIRCUIT: Elapsed time: 0.000090s\n",
      "MEASURECIRCUIT: Generated graph for the Hamiltonian with 3 nodes.\n",
      "MEASURECIRCUIT: BronKerbosch found 3 unique circuits\n",
      "MEASURECIRCUIT: Elapsed time: 0.000089s\n",
      "MEASURECIRCUIT: Generated graph for the Hamiltonian with 3 nodes.\n",
      "MEASURECIRCUIT: BronKerbosch found 3 unique circuits\n",
      "MEASURECIRCUIT: Elapsed time: 0.000139s\n"
     ]
    },
    {
     "data": {
      "application/vnd.jupyter.widget-view+json": {
       "model_id": "451313ed281649c885fe02ddd99ae6f2",
       "version_major": 2,
       "version_minor": 0
      },
      "text/plain": [
       "  0%|          | 0/10 [00:00<?, ?it/s]"
      ]
     },
     "metadata": {},
     "output_type": "display_data"
    },
    {
     "name": "stdout",
     "output_type": "stream",
     "text": [
      "MEASURECIRCUIT: Generated graph for the Hamiltonian with 15 nodes.\n",
      "MEASURECIRCUIT: BronKerbosch found 9 unique circuits\n",
      "MEASURECIRCUIT: Elapsed time: 0.001055s\n",
      "MEASURECIRCUIT: Generated graph for the Hamiltonian with 15 nodes.\n",
      "MEASURECIRCUIT: BronKerbosch found 9 unique circuits\n",
      "MEASURECIRCUIT: Elapsed time: 0.001061s\n",
      "MEASURECIRCUIT: Generated graph for the Hamiltonian with 15 nodes.\n",
      "MEASURECIRCUIT: BronKerbosch found 9 unique circuits\n",
      "MEASURECIRCUIT: Elapsed time: 0.001038s\n",
      "MEASURECIRCUIT: Generated graph for the Hamiltonian with 15 nodes.\n",
      "MEASURECIRCUIT: BronKerbosch found 9 unique circuits\n",
      "MEASURECIRCUIT: Elapsed time: 0.000899s\n",
      "MEASURECIRCUIT: Generated graph for the Hamiltonian with 15 nodes.\n",
      "MEASURECIRCUIT: BronKerbosch found 9 unique circuits\n",
      "MEASURECIRCUIT: Elapsed time: 0.000940s\n",
      "MEASURECIRCUIT: Generated graph for the Hamiltonian with 15 nodes.\n",
      "MEASURECIRCUIT: BronKerbosch found 9 unique circuits\n",
      "MEASURECIRCUIT: Elapsed time: 0.004009s\n",
      "MEASURECIRCUIT: Generated graph for the Hamiltonian with 15 nodes.\n",
      "MEASURECIRCUIT: BronKerbosch found 9 unique circuits\n",
      "MEASURECIRCUIT: Elapsed time: 0.001314s\n",
      "MEASURECIRCUIT: Generated graph for the Hamiltonian with 15 nodes.\n",
      "MEASURECIRCUIT: BronKerbosch found 9 unique circuits\n",
      "MEASURECIRCUIT: Elapsed time: 0.000898s\n",
      "MEASURECIRCUIT: Generated graph for the Hamiltonian with 15 nodes.\n",
      "MEASURECIRCUIT: BronKerbosch found 9 unique circuits\n",
      "MEASURECIRCUIT: Elapsed time: 0.000902s\n",
      "MEASURECIRCUIT: Generated graph for the Hamiltonian with 15 nodes.\n",
      "MEASURECIRCUIT: BronKerbosch found 9 unique circuits\n",
      "MEASURECIRCUIT: Elapsed time: 0.001460s\n"
     ]
    },
    {
     "data": {
      "application/vnd.jupyter.widget-view+json": {
       "model_id": "c65dc9291ee2416d893c52e4d54f59bd",
       "version_major": 2,
       "version_minor": 0
      },
      "text/plain": [
       "  0%|          | 0/10 [00:00<?, ?it/s]"
      ]
     },
     "metadata": {},
     "output_type": "display_data"
    },
    {
     "name": "stdout",
     "output_type": "stream",
     "text": [
      "MEASURECIRCUIT: Generated graph for the Hamiltonian with 55 nodes.\n",
      "MEASURECIRCUIT: BronKerbosch found 25 unique circuits\n",
      "MEASURECIRCUIT: Elapsed time: 0.011538s\n",
      "MEASURECIRCUIT: Generated graph for the Hamiltonian with 55 nodes.\n",
      "MEASURECIRCUIT: BronKerbosch found 25 unique circuits\n",
      "MEASURECIRCUIT: Elapsed time: 0.011443s\n",
      "MEASURECIRCUIT: Generated graph for the Hamiltonian with 55 nodes.\n",
      "MEASURECIRCUIT: BronKerbosch found 25 unique circuits\n",
      "MEASURECIRCUIT: Elapsed time: 0.011568s\n",
      "MEASURECIRCUIT: Generated graph for the Hamiltonian with 55 nodes.\n",
      "MEASURECIRCUIT: BronKerbosch found 25 unique circuits\n",
      "MEASURECIRCUIT: Elapsed time: 0.011478s\n",
      "MEASURECIRCUIT: Generated graph for the Hamiltonian with 55 nodes.\n",
      "MEASURECIRCUIT: BronKerbosch found 25 unique circuits\n",
      "MEASURECIRCUIT: Elapsed time: 0.011565s\n",
      "MEASURECIRCUIT: Generated graph for the Hamiltonian with 55 nodes.\n",
      "MEASURECIRCUIT: BronKerbosch found 25 unique circuits\n",
      "MEASURECIRCUIT: Elapsed time: 0.011687s\n",
      "MEASURECIRCUIT: Generated graph for the Hamiltonian with 55 nodes.\n",
      "MEASURECIRCUIT: BronKerbosch found 25 unique circuits\n",
      "MEASURECIRCUIT: Elapsed time: 0.011461s\n",
      "MEASURECIRCUIT: Generated graph for the Hamiltonian with 55 nodes.\n",
      "MEASURECIRCUIT: BronKerbosch found 25 unique circuits\n",
      "MEASURECIRCUIT: Elapsed time: 0.011660s\n",
      "MEASURECIRCUIT: Generated graph for the Hamiltonian with 55 nodes.\n",
      "MEASURECIRCUIT: BronKerbosch found 25 unique circuits\n",
      "MEASURECIRCUIT: Elapsed time: 0.011575s\n",
      "MEASURECIRCUIT: Generated graph for the Hamiltonian with 55 nodes.\n",
      "MEASURECIRCUIT: BronKerbosch found 25 unique circuits\n",
      "MEASURECIRCUIT: Elapsed time: 0.011509s\n"
     ]
    },
    {
     "data": {
      "application/vnd.jupyter.widget-view+json": {
       "model_id": "4eb8f52ed3e1484d98e6e951a3f960cb",
       "version_major": 2,
       "version_minor": 0
      },
      "text/plain": [
       "  0%|          | 0/10 [00:00<?, ?it/s]"
      ]
     },
     "metadata": {},
     "output_type": "display_data"
    },
    {
     "name": "stdout",
     "output_type": "stream",
     "text": [
      "MEASURECIRCUIT: Generated graph for the Hamiltonian with 159 nodes.\n",
      "MEASURECIRCUIT: BronKerbosch found 57 unique circuits\n",
      "MEASURECIRCUIT: Elapsed time: 0.111880s\n",
      "MEASURECIRCUIT: Generated graph for the Hamiltonian with 159 nodes.\n",
      "MEASURECIRCUIT: BronKerbosch found 57 unique circuits\n",
      "MEASURECIRCUIT: Elapsed time: 0.112221s\n",
      "MEASURECIRCUIT: Generated graph for the Hamiltonian with 159 nodes.\n",
      "MEASURECIRCUIT: BronKerbosch found 57 unique circuits\n",
      "MEASURECIRCUIT: Elapsed time: 0.113308s\n",
      "MEASURECIRCUIT: Generated graph for the Hamiltonian with 159 nodes.\n",
      "MEASURECIRCUIT: BronKerbosch found 57 unique circuits\n",
      "MEASURECIRCUIT: Elapsed time: 0.111560s\n",
      "MEASURECIRCUIT: Generated graph for the Hamiltonian with 159 nodes.\n",
      "MEASURECIRCUIT: BronKerbosch found 57 unique circuits\n",
      "MEASURECIRCUIT: Elapsed time: 0.111154s\n",
      "MEASURECIRCUIT: Generated graph for the Hamiltonian with 159 nodes.\n",
      "MEASURECIRCUIT: BronKerbosch found 57 unique circuits\n",
      "MEASURECIRCUIT: Elapsed time: 0.111817s\n",
      "MEASURECIRCUIT: Generated graph for the Hamiltonian with 159 nodes.\n",
      "MEASURECIRCUIT: BronKerbosch found 57 unique circuits\n",
      "MEASURECIRCUIT: Elapsed time: 0.112940s\n",
      "MEASURECIRCUIT: Generated graph for the Hamiltonian with 159 nodes.\n",
      "MEASURECIRCUIT: BronKerbosch found 57 unique circuits\n",
      "MEASURECIRCUIT: Elapsed time: 0.111925s\n",
      "MEASURECIRCUIT: Generated graph for the Hamiltonian with 159 nodes.\n",
      "MEASURECIRCUIT: BronKerbosch found 57 unique circuits\n",
      "MEASURECIRCUIT: Elapsed time: 0.112458s\n",
      "MEASURECIRCUIT: Generated graph for the Hamiltonian with 159 nodes.\n",
      "MEASURECIRCUIT: BronKerbosch found 57 unique circuits\n",
      "MEASURECIRCUIT: Elapsed time: 0.111884s\n"
     ]
    },
    {
     "data": {
      "application/vnd.jupyter.widget-view+json": {
       "model_id": "a146604b65584d49a6439be631c267d8",
       "version_major": 2,
       "version_minor": 0
      },
      "text/plain": [
       "  0%|          | 0/10 [00:00<?, ?it/s]"
      ]
     },
     "metadata": {},
     "output_type": "display_data"
    },
    {
     "name": "stdout",
     "output_type": "stream",
     "text": [
      "MEASURECIRCUIT: Generated graph for the Hamiltonian with 415 nodes.\n",
      "MEASURECIRCUIT: BronKerbosch found 121 unique circuits\n",
      "MEASURECIRCUIT: Elapsed time: 0.884779s\n",
      "MEASURECIRCUIT: Generated graph for the Hamiltonian with 415 nodes.\n",
      "MEASURECIRCUIT: BronKerbosch found 121 unique circuits\n",
      "MEASURECIRCUIT: Elapsed time: 0.904378s\n",
      "MEASURECIRCUIT: Generated graph for the Hamiltonian with 415 nodes.\n",
      "MEASURECIRCUIT: BronKerbosch found 121 unique circuits\n",
      "MEASURECIRCUIT: Elapsed time: 0.889503s\n",
      "MEASURECIRCUIT: Generated graph for the Hamiltonian with 415 nodes.\n",
      "MEASURECIRCUIT: BronKerbosch found 121 unique circuits\n",
      "MEASURECIRCUIT: Elapsed time: 0.896881s\n",
      "MEASURECIRCUIT: Generated graph for the Hamiltonian with 415 nodes.\n",
      "MEASURECIRCUIT: BronKerbosch found 121 unique circuits\n",
      "MEASURECIRCUIT: Elapsed time: 0.888662s\n",
      "MEASURECIRCUIT: Generated graph for the Hamiltonian with 415 nodes.\n",
      "MEASURECIRCUIT: BronKerbosch found 121 unique circuits\n",
      "MEASURECIRCUIT: Elapsed time: 0.897887s\n",
      "MEASURECIRCUIT: Generated graph for the Hamiltonian with 415 nodes.\n",
      "MEASURECIRCUIT: BronKerbosch found 121 unique circuits\n",
      "MEASURECIRCUIT: Elapsed time: 0.888474s\n",
      "MEASURECIRCUIT: Generated graph for the Hamiltonian with 415 nodes.\n",
      "MEASURECIRCUIT: BronKerbosch found 121 unique circuits\n",
      "MEASURECIRCUIT: Elapsed time: 0.898897s\n",
      "MEASURECIRCUIT: Generated graph for the Hamiltonian with 415 nodes.\n",
      "MEASURECIRCUIT: BronKerbosch found 121 unique circuits\n",
      "MEASURECIRCUIT: Elapsed time: 0.888527s\n",
      "MEASURECIRCUIT: Generated graph for the Hamiltonian with 415 nodes.\n",
      "MEASURECIRCUIT: BronKerbosch found 121 unique circuits\n",
      "MEASURECIRCUIT: Elapsed time: 0.894615s\n"
     ]
    },
    {
     "data": {
      "application/vnd.jupyter.widget-view+json": {
       "model_id": "061ef3bf30634f82b7759783c184fa79",
       "version_major": 2,
       "version_minor": 0
      },
      "text/plain": [
       "  0%|          | 0/10 [00:00<?, ?it/s]"
      ]
     },
     "metadata": {},
     "output_type": "display_data"
    },
    {
     "name": "stdout",
     "output_type": "stream",
     "text": [
      "MEASURECIRCUIT: Generated graph for the Hamiltonian with 1023 nodes.\n",
      "MEASURECIRCUIT: BronKerbosch found 249 unique circuits\n",
      "MEASURECIRCUIT: Elapsed time: 9.451411s\n",
      "MEASURECIRCUIT: Generated graph for the Hamiltonian with 1023 nodes.\n",
      "MEASURECIRCUIT: BronKerbosch found 249 unique circuits\n",
      "MEASURECIRCUIT: Elapsed time: 9.482148s\n",
      "MEASURECIRCUIT: Generated graph for the Hamiltonian with 1023 nodes.\n",
      "MEASURECIRCUIT: BronKerbosch found 249 unique circuits\n",
      "MEASURECIRCUIT: Elapsed time: 9.481130s\n",
      "MEASURECIRCUIT: Generated graph for the Hamiltonian with 1023 nodes.\n",
      "MEASURECIRCUIT: BronKerbosch found 249 unique circuits\n",
      "MEASURECIRCUIT: Elapsed time: 9.608887s\n",
      "MEASURECIRCUIT: Generated graph for the Hamiltonian with 1023 nodes.\n",
      "MEASURECIRCUIT: BronKerbosch found 249 unique circuits\n",
      "MEASURECIRCUIT: Elapsed time: 9.517374s\n",
      "MEASURECIRCUIT: Generated graph for the Hamiltonian with 1023 nodes.\n",
      "MEASURECIRCUIT: BronKerbosch found 249 unique circuits\n",
      "MEASURECIRCUIT: Elapsed time: 9.591681s\n",
      "MEASURECIRCUIT: Generated graph for the Hamiltonian with 1023 nodes.\n",
      "MEASURECIRCUIT: BronKerbosch found 249 unique circuits\n",
      "MEASURECIRCUIT: Elapsed time: 9.542808s\n",
      "MEASURECIRCUIT: Generated graph for the Hamiltonian with 1023 nodes.\n",
      "MEASURECIRCUIT: BronKerbosch found 249 unique circuits\n",
      "MEASURECIRCUIT: Elapsed time: 9.489246s\n",
      "MEASURECIRCUIT: Generated graph for the Hamiltonian with 1023 nodes.\n",
      "MEASURECIRCUIT: BronKerbosch found 249 unique circuits\n",
      "MEASURECIRCUIT: Elapsed time: 9.550529s\n",
      "MEASURECIRCUIT: Generated graph for the Hamiltonian with 1023 nodes.\n",
      "MEASURECIRCUIT: BronKerbosch found 249 unique circuits\n",
      "MEASURECIRCUIT: Elapsed time: 9.511063s\n"
     ]
    },
    {
     "data": {
      "application/vnd.jupyter.widget-view+json": {
       "model_id": "909ba64da6a84931a4c6ac87e0b4baff",
       "version_major": 2,
       "version_minor": 0
      },
      "text/plain": [
       "  0%|          | 0/10 [00:00<?, ?it/s]"
      ]
     },
     "metadata": {},
     "output_type": "display_data"
    },
    {
     "name": "stdout",
     "output_type": "stream",
     "text": [
      "MEASURECIRCUIT: Generated graph for the Hamiltonian with 2431 nodes.\n",
      "MEASURECIRCUIT: BronKerbosch found 505 unique circuits\n",
      "MEASURECIRCUIT: Elapsed time: 63.310416s\n",
      "MEASURECIRCUIT: Generated graph for the Hamiltonian with 2431 nodes.\n",
      "MEASURECIRCUIT: BronKerbosch found 505 unique circuits\n",
      "MEASURECIRCUIT: Elapsed time: 63.855173s\n",
      "MEASURECIRCUIT: Generated graph for the Hamiltonian with 2431 nodes.\n",
      "MEASURECIRCUIT: BronKerbosch found 505 unique circuits\n",
      "MEASURECIRCUIT: Elapsed time: 63.741912s\n",
      "MEASURECIRCUIT: Generated graph for the Hamiltonian with 2431 nodes.\n",
      "MEASURECIRCUIT: BronKerbosch found 505 unique circuits\n",
      "MEASURECIRCUIT: Elapsed time: 63.710339s\n",
      "MEASURECIRCUIT: Generated graph for the Hamiltonian with 2431 nodes.\n",
      "MEASURECIRCUIT: BronKerbosch found 505 unique circuits\n",
      "MEASURECIRCUIT: Elapsed time: 63.687889s\n",
      "MEASURECIRCUIT: Generated graph for the Hamiltonian with 2431 nodes.\n",
      "MEASURECIRCUIT: BronKerbosch found 505 unique circuits\n",
      "MEASURECIRCUIT: Elapsed time: 63.841940s\n",
      "MEASURECIRCUIT: Generated graph for the Hamiltonian with 2431 nodes.\n",
      "MEASURECIRCUIT: BronKerbosch found 505 unique circuits\n",
      "MEASURECIRCUIT: Elapsed time: 64.305271s\n",
      "MEASURECIRCUIT: Generated graph for the Hamiltonian with 2431 nodes.\n",
      "MEASURECIRCUIT: BronKerbosch found 505 unique circuits\n",
      "MEASURECIRCUIT: Elapsed time: 63.828353s\n",
      "MEASURECIRCUIT: Generated graph for the Hamiltonian with 2431 nodes.\n",
      "MEASURECIRCUIT: BronKerbosch found 505 unique circuits\n",
      "MEASURECIRCUIT: Elapsed time: 64.625788s\n",
      "MEASURECIRCUIT: Generated graph for the Hamiltonian with 2431 nodes.\n",
      "MEASURECIRCUIT: BronKerbosch found 505 unique circuits\n",
      "MEASURECIRCUIT: Elapsed time: 63.955541s\n"
     ]
    },
    {
     "data": {
      "application/vnd.jupyter.widget-view+json": {
       "model_id": "0527b7db9dd142f39c77e58fd323e580",
       "version_major": 2,
       "version_minor": 0
      },
      "text/plain": [
       "  0%|          | 0/10 [00:00<?, ?it/s]"
      ]
     },
     "metadata": {},
     "output_type": "display_data"
    },
    {
     "name": "stdout",
     "output_type": "stream",
     "text": [
      "MEASURECIRCUIT: Generated graph for the Hamiltonian with 5631 nodes.\n",
      "MEASURECIRCUIT: BronKerbosch found 1017 unique circuits\n",
      "MEASURECIRCUIT: Elapsed time: 3055.285665s\n",
      "MEASURECIRCUIT: Generated graph for the Hamiltonian with 5631 nodes.\n",
      "MEASURECIRCUIT: BronKerbosch found 1017 unique circuits\n",
      "MEASURECIRCUIT: Elapsed time: 3103.574069s\n",
      "MEASURECIRCUIT: Generated graph for the Hamiltonian with 5631 nodes.\n",
      "MEASURECIRCUIT: BronKerbosch found 1017 unique circuits\n",
      "MEASURECIRCUIT: Elapsed time: 3116.341913s\n",
      "MEASURECIRCUIT: Generated graph for the Hamiltonian with 5631 nodes.\n",
      "MEASURECIRCUIT: BronKerbosch found 1017 unique circuits\n",
      "MEASURECIRCUIT: Elapsed time: 3131.543141s\n",
      "MEASURECIRCUIT: Generated graph for the Hamiltonian with 5631 nodes.\n",
      "MEASURECIRCUIT: BronKerbosch found 1017 unique circuits\n",
      "MEASURECIRCUIT: Elapsed time: 3132.256913s\n",
      "MEASURECIRCUIT: Generated graph for the Hamiltonian with 5631 nodes.\n",
      "MEASURECIRCUIT: BronKerbosch found 1017 unique circuits\n",
      "MEASURECIRCUIT: Elapsed time: 3144.896696s\n",
      "MEASURECIRCUIT: Generated graph for the Hamiltonian with 5631 nodes.\n",
      "MEASURECIRCUIT: BronKerbosch found 1017 unique circuits\n",
      "MEASURECIRCUIT: Elapsed time: 3141.015813s\n",
      "MEASURECIRCUIT: Generated graph for the Hamiltonian with 5631 nodes.\n",
      "MEASURECIRCUIT: BronKerbosch found 1017 unique circuits\n",
      "MEASURECIRCUIT: Elapsed time: 3138.416043s\n",
      "MEASURECIRCUIT: Generated graph for the Hamiltonian with 5631 nodes.\n",
      "MEASURECIRCUIT: BronKerbosch found 1017 unique circuits\n",
      "MEASURECIRCUIT: Elapsed time: 3138.159221s\n",
      "MEASURECIRCUIT: Generated graph for the Hamiltonian with 5631 nodes.\n",
      "MEASURECIRCUIT: BronKerbosch found 1017 unique circuits\n",
      "MEASURECIRCUIT: Elapsed time: 3142.371445s\n",
      "===========================================\n",
      "                   GC\n",
      "===========================================\n"
     ]
    },
    {
     "data": {
      "application/vnd.jupyter.widget-view+json": {
       "model_id": "a75b9de76e4d40248df5104f0779e722",
       "version_major": 2,
       "version_minor": 0
      },
      "text/plain": [
       "  0%|          | 0/10 [00:00<?, ?it/s]"
      ]
     },
     "metadata": {},
     "output_type": "display_data"
    },
    {
     "name": "stdout",
     "output_type": "stream",
     "text": [
      "MEASURECIRCUIT: Generated graph for the Hamiltonian with 3 nodes.\n",
      "MEASURECIRCUIT: BronKerbosch found 3 unique circuits\n",
      "MEASURECIRCUIT: Elapsed time: 0.000114s\n",
      "MEASURECIRCUIT: Generated graph for the Hamiltonian with 3 nodes.\n",
      "MEASURECIRCUIT: BronKerbosch found 3 unique circuits\n",
      "MEASURECIRCUIT: Elapsed time: 0.000096s\n",
      "MEASURECIRCUIT: Generated graph for the Hamiltonian with 3 nodes.\n",
      "MEASURECIRCUIT: BronKerbosch found 3 unique circuits\n",
      "MEASURECIRCUIT: Elapsed time: 0.000147s\n",
      "MEASURECIRCUIT: Generated graph for the Hamiltonian with 3 nodes.\n",
      "MEASURECIRCUIT: BronKerbosch found 3 unique circuits\n",
      "MEASURECIRCUIT: Elapsed time: 0.000094s\n",
      "MEASURECIRCUIT: Generated graph for the Hamiltonian with 3 nodes.\n",
      "MEASURECIRCUIT: BronKerbosch found 3 unique circuits\n",
      "MEASURECIRCUIT: Elapsed time: 0.000129s\n",
      "MEASURECIRCUIT: Generated graph for the Hamiltonian with 3 nodes.\n",
      "MEASURECIRCUIT: BronKerbosch found 3 unique circuits\n",
      "MEASURECIRCUIT: Elapsed time: 0.000095s\n",
      "MEASURECIRCUIT: Generated graph for the Hamiltonian with 3 nodes.\n",
      "MEASURECIRCUIT: BronKerbosch found 3 unique circuits\n",
      "MEASURECIRCUIT: Elapsed time: 0.000096s\n",
      "MEASURECIRCUIT: Generated graph for the Hamiltonian with 3 nodes.\n",
      "MEASURECIRCUIT: BronKerbosch found 3 unique circuits\n",
      "MEASURECIRCUIT: Elapsed time: 0.000094s\n",
      "MEASURECIRCUIT: Generated graph for the Hamiltonian with 3 nodes.\n",
      "MEASURECIRCUIT: BronKerbosch found 3 unique circuits\n",
      "MEASURECIRCUIT: Elapsed time: 0.000096s\n",
      "MEASURECIRCUIT: Generated graph for the Hamiltonian with 3 nodes.\n",
      "MEASURECIRCUIT: BronKerbosch found 3 unique circuits\n",
      "MEASURECIRCUIT: Elapsed time: 0.000094s\n"
     ]
    },
    {
     "data": {
      "application/vnd.jupyter.widget-view+json": {
       "model_id": "34a4637adf29443fab8b9615f3559b46",
       "version_major": 2,
       "version_minor": 0
      },
      "text/plain": [
       "  0%|          | 0/10 [00:00<?, ?it/s]"
      ]
     },
     "metadata": {},
     "output_type": "display_data"
    },
    {
     "name": "stdout",
     "output_type": "stream",
     "text": [
      "MEASURECIRCUIT: Generated graph for the Hamiltonian with 15 nodes.\n",
      "MEASURECIRCUIT: BronKerbosch found 5 unique circuits\n",
      "MEASURECIRCUIT: Elapsed time: 0.002770s\n",
      "MEASURECIRCUIT: Generated graph for the Hamiltonian with 15 nodes.\n",
      "MEASURECIRCUIT: BronKerbosch found 5 unique circuits\n",
      "MEASURECIRCUIT: Elapsed time: 0.002618s\n",
      "MEASURECIRCUIT: Generated graph for the Hamiltonian with 15 nodes.\n",
      "MEASURECIRCUIT: BronKerbosch found 5 unique circuits\n",
      "MEASURECIRCUIT: Elapsed time: 0.001770s\n",
      "MEASURECIRCUIT: Generated graph for the Hamiltonian with 15 nodes.\n",
      "MEASURECIRCUIT: BronKerbosch found 5 unique circuits\n",
      "MEASURECIRCUIT: Elapsed time: 0.001803s\n",
      "MEASURECIRCUIT: Generated graph for the Hamiltonian with 15 nodes.\n",
      "MEASURECIRCUIT: BronKerbosch found 5 unique circuits\n",
      "MEASURECIRCUIT: Elapsed time: 0.001265s\n",
      "MEASURECIRCUIT: Generated graph for the Hamiltonian with 15 nodes.\n",
      "MEASURECIRCUIT: BronKerbosch found 5 unique circuits\n",
      "MEASURECIRCUIT: Elapsed time: 0.001239s\n",
      "MEASURECIRCUIT: Generated graph for the Hamiltonian with 15 nodes.\n",
      "MEASURECIRCUIT: BronKerbosch found 5 unique circuits\n",
      "MEASURECIRCUIT: Elapsed time: 0.001189s\n",
      "MEASURECIRCUIT: Generated graph for the Hamiltonian with 15 nodes.\n",
      "MEASURECIRCUIT: BronKerbosch found 5 unique circuits\n",
      "MEASURECIRCUIT: Elapsed time: 0.001188s\n",
      "MEASURECIRCUIT: Generated graph for the Hamiltonian with 15 nodes.\n",
      "MEASURECIRCUIT: BronKerbosch found 5 unique circuits\n",
      "MEASURECIRCUIT: Elapsed time: 0.001225s\n",
      "MEASURECIRCUIT: Generated graph for the Hamiltonian with 15 nodes.\n",
      "MEASURECIRCUIT: BronKerbosch found 5 unique circuits\n",
      "MEASURECIRCUIT: Elapsed time: 0.001185s\n"
     ]
    },
    {
     "data": {
      "application/vnd.jupyter.widget-view+json": {
       "model_id": "8d7f743ef50c409aa86eeff5df8a0589",
       "version_major": 2,
       "version_minor": 0
      },
      "text/plain": [
       "  0%|          | 0/10 [00:00<?, ?it/s]"
      ]
     },
     "metadata": {},
     "output_type": "display_data"
    },
    {
     "name": "stdout",
     "output_type": "stream",
     "text": [
      "MEASURECIRCUIT: Generated graph for the Hamiltonian with 55 nodes.\n",
      "MEASURECIRCUIT: BronKerbosch found 9 unique circuits\n",
      "MEASURECIRCUIT: Elapsed time: 0.020288s\n",
      "MEASURECIRCUIT: Generated graph for the Hamiltonian with 55 nodes.\n",
      "MEASURECIRCUIT: BronKerbosch found 9 unique circuits\n",
      "MEASURECIRCUIT: Elapsed time: 0.020424s\n",
      "MEASURECIRCUIT: Generated graph for the Hamiltonian with 55 nodes.\n",
      "MEASURECIRCUIT: BronKerbosch found 9 unique circuits\n",
      "MEASURECIRCUIT: Elapsed time: 0.020588s\n",
      "MEASURECIRCUIT: Generated graph for the Hamiltonian with 55 nodes.\n",
      "MEASURECIRCUIT: BronKerbosch found 9 unique circuits\n",
      "MEASURECIRCUIT: Elapsed time: 0.020459s\n",
      "MEASURECIRCUIT: Generated graph for the Hamiltonian with 55 nodes.\n",
      "MEASURECIRCUIT: BronKerbosch found 9 unique circuits\n",
      "MEASURECIRCUIT: Elapsed time: 0.020378s\n",
      "MEASURECIRCUIT: Generated graph for the Hamiltonian with 55 nodes.\n",
      "MEASURECIRCUIT: BronKerbosch found 9 unique circuits\n",
      "MEASURECIRCUIT: Elapsed time: 0.020485s\n",
      "MEASURECIRCUIT: Generated graph for the Hamiltonian with 55 nodes.\n",
      "MEASURECIRCUIT: BronKerbosch found 9 unique circuits\n",
      "MEASURECIRCUIT: Elapsed time: 0.020501s\n",
      "MEASURECIRCUIT: Generated graph for the Hamiltonian with 55 nodes.\n",
      "MEASURECIRCUIT: BronKerbosch found 9 unique circuits\n",
      "MEASURECIRCUIT: Elapsed time: 0.020118s\n",
      "MEASURECIRCUIT: Generated graph for the Hamiltonian with 55 nodes.\n",
      "MEASURECIRCUIT: BronKerbosch found 9 unique circuits\n",
      "MEASURECIRCUIT: Elapsed time: 0.020185s\n",
      "MEASURECIRCUIT: Generated graph for the Hamiltonian with 55 nodes.\n",
      "MEASURECIRCUIT: BronKerbosch found 9 unique circuits\n",
      "MEASURECIRCUIT: Elapsed time: 0.020248s\n"
     ]
    },
    {
     "data": {
      "application/vnd.jupyter.widget-view+json": {
       "model_id": "dac9e6d1bf544add9386f83e6171e938",
       "version_major": 2,
       "version_minor": 0
      },
      "text/plain": [
       "  0%|          | 0/10 [00:00<?, ?it/s]"
      ]
     },
     "metadata": {},
     "output_type": "display_data"
    },
    {
     "name": "stdout",
     "output_type": "stream",
     "text": [
      "MEASURECIRCUIT: Generated graph for the Hamiltonian with 159 nodes.\n",
      "MEASURECIRCUIT: BronKerbosch found 15 unique circuits\n",
      "MEASURECIRCUIT: Elapsed time: 0.497539s\n",
      "MEASURECIRCUIT: Generated graph for the Hamiltonian with 159 nodes.\n",
      "MEASURECIRCUIT: BronKerbosch found 15 unique circuits\n",
      "MEASURECIRCUIT: Elapsed time: 0.494658s\n",
      "MEASURECIRCUIT: Generated graph for the Hamiltonian with 159 nodes.\n",
      "MEASURECIRCUIT: BronKerbosch found 15 unique circuits\n",
      "MEASURECIRCUIT: Elapsed time: 0.499604s\n",
      "MEASURECIRCUIT: Generated graph for the Hamiltonian with 159 nodes.\n",
      "MEASURECIRCUIT: BronKerbosch found 15 unique circuits\n",
      "MEASURECIRCUIT: Elapsed time: 0.493229s\n",
      "MEASURECIRCUIT: Generated graph for the Hamiltonian with 159 nodes.\n",
      "MEASURECIRCUIT: BronKerbosch found 15 unique circuits\n",
      "MEASURECIRCUIT: Elapsed time: 0.494684s\n",
      "MEASURECIRCUIT: Generated graph for the Hamiltonian with 159 nodes.\n",
      "MEASURECIRCUIT: BronKerbosch found 15 unique circuits\n",
      "MEASURECIRCUIT: Elapsed time: 0.493855s\n",
      "MEASURECIRCUIT: Generated graph for the Hamiltonian with 159 nodes.\n",
      "MEASURECIRCUIT: BronKerbosch found 15 unique circuits\n",
      "MEASURECIRCUIT: Elapsed time: 0.496967s\n",
      "MEASURECIRCUIT: Generated graph for the Hamiltonian with 159 nodes.\n",
      "MEASURECIRCUIT: BronKerbosch found 15 unique circuits\n",
      "MEASURECIRCUIT: Elapsed time: 0.498171s\n",
      "MEASURECIRCUIT: Generated graph for the Hamiltonian with 159 nodes.\n",
      "MEASURECIRCUIT: BronKerbosch found 15 unique circuits\n",
      "MEASURECIRCUIT: Elapsed time: 0.495257s\n",
      "MEASURECIRCUIT: Generated graph for the Hamiltonian with 159 nodes.\n",
      "MEASURECIRCUIT: BronKerbosch found 15 unique circuits\n",
      "MEASURECIRCUIT: Elapsed time: 0.498358s\n"
     ]
    },
    {
     "data": {
      "application/vnd.jupyter.widget-view+json": {
       "model_id": "8efa068d47c44a14aa9feaced9c20d79",
       "version_major": 2,
       "version_minor": 0
      },
      "text/plain": [
       "  0%|          | 0/10 [00:00<?, ?it/s]"
      ]
     },
     "metadata": {},
     "output_type": "display_data"
    },
    {
     "name": "stdout",
     "output_type": "stream",
     "text": [
      "MEASURECIRCUIT: Generated graph for the Hamiltonian with 415 nodes.\n",
      "MEASURECIRCUIT: BronKerbosch found 19 unique circuits\n",
      "MEASURECIRCUIT: Elapsed time: 87.988717s\n",
      "MEASURECIRCUIT: Generated graph for the Hamiltonian with 415 nodes.\n",
      "MEASURECIRCUIT: BronKerbosch found 19 unique circuits\n",
      "MEASURECIRCUIT: Elapsed time: 88.782661s\n",
      "MEASURECIRCUIT: Generated graph for the Hamiltonian with 415 nodes.\n",
      "MEASURECIRCUIT: BronKerbosch found 19 unique circuits\n",
      "MEASURECIRCUIT: Elapsed time: 88.878003s\n",
      "MEASURECIRCUIT: Generated graph for the Hamiltonian with 415 nodes.\n",
      "MEASURECIRCUIT: BronKerbosch found 19 unique circuits\n",
      "MEASURECIRCUIT: Elapsed time: 89.314264s\n",
      "MEASURECIRCUIT: Generated graph for the Hamiltonian with 415 nodes.\n",
      "MEASURECIRCUIT: BronKerbosch found 19 unique circuits\n",
      "MEASURECIRCUIT: Elapsed time: 88.970696s\n",
      "MEASURECIRCUIT: Generated graph for the Hamiltonian with 415 nodes.\n",
      "MEASURECIRCUIT: BronKerbosch found 19 unique circuits\n",
      "MEASURECIRCUIT: Elapsed time: 89.108674s\n",
      "MEASURECIRCUIT: Generated graph for the Hamiltonian with 415 nodes.\n",
      "MEASURECIRCUIT: BronKerbosch found 19 unique circuits\n",
      "MEASURECIRCUIT: Elapsed time: 89.279922s\n",
      "MEASURECIRCUIT: Generated graph for the Hamiltonian with 415 nodes.\n",
      "MEASURECIRCUIT: BronKerbosch found 19 unique circuits\n",
      "MEASURECIRCUIT: Elapsed time: 88.884719s\n",
      "MEASURECIRCUIT: Generated graph for the Hamiltonian with 415 nodes.\n",
      "MEASURECIRCUIT: BronKerbosch found 19 unique circuits\n",
      "MEASURECIRCUIT: Elapsed time: 89.111935s\n",
      "MEASURECIRCUIT: Generated graph for the Hamiltonian with 415 nodes.\n",
      "MEASURECIRCUIT: BronKerbosch found 19 unique circuits\n",
      "MEASURECIRCUIT: Elapsed time: 89.206714s\n"
     ]
    },
    {
     "data": {
      "application/vnd.jupyter.widget-view+json": {
       "model_id": "7e3fb78e4ea245e69f262a3a39855dfa",
       "version_major": 2,
       "version_minor": 0
      },
      "text/plain": [
       "  0%|          | 0/10 [00:00<?, ?it/s]"
      ]
     },
     "metadata": {},
     "output_type": "display_data"
    },
    {
     "name": "stdout",
     "output_type": "stream",
     "text": [
      "MEASURECIRCUIT: Generated graph for the Hamiltonian with 1023 nodes.\n",
      "MEASURECIRCUIT: BronKerbosch found 27 unique circuits\n",
      "MEASURECIRCUIT: Elapsed time: 59000.394942s\n",
      "MEASURECIRCUIT: Generated graph for the Hamiltonian with 1023 nodes.\n",
      "MEASURECIRCUIT: BronKerbosch found 27 unique circuits\n",
      "MEASURECIRCUIT: Elapsed time: 59260.817880s\n",
      "MEASURECIRCUIT: Generated graph for the Hamiltonian with 1023 nodes.\n",
      "MEASURECIRCUIT: BronKerbosch found 27 unique circuits\n",
      "MEASURECIRCUIT: Elapsed time: 59516.937965s\n",
      "MEASURECIRCUIT: Generated graph for the Hamiltonian with 1023 nodes.\n",
      "MEASURECIRCUIT: BronKerbosch found 27 unique circuits\n",
      "MEASURECIRCUIT: Elapsed time: 59603.323267s\n",
      "MEASURECIRCUIT: Generated graph for the Hamiltonian with 1023 nodes.\n",
      "MEASURECIRCUIT: BronKerbosch found 27 unique circuits\n",
      "MEASURECIRCUIT: Elapsed time: 59839.697493s\n",
      "MEASURECIRCUIT: Generated graph for the Hamiltonian with 1023 nodes.\n",
      "MEASURECIRCUIT: BronKerbosch found 27 unique circuits\n",
      "MEASURECIRCUIT: Elapsed time: 59637.013877s\n",
      "MEASURECIRCUIT: Generated graph for the Hamiltonian with 1023 nodes.\n",
      "MEASURECIRCUIT: BronKerbosch found 27 unique circuits\n",
      "MEASURECIRCUIT: Elapsed time: 59807.963646s\n",
      "MEASURECIRCUIT: Generated graph for the Hamiltonian with 1023 nodes.\n",
      "MEASURECIRCUIT: BronKerbosch found 27 unique circuits\n",
      "MEASURECIRCUIT: Elapsed time: 59663.098130s\n",
      "MEASURECIRCUIT: Generated graph for the Hamiltonian with 1023 nodes.\n",
      "MEASURECIRCUIT: BronKerbosch found 27 unique circuits\n",
      "MEASURECIRCUIT: Elapsed time: 59598.022247s\n",
      "MEASURECIRCUIT: Generated graph for the Hamiltonian with 1023 nodes.\n",
      "MEASURECIRCUIT: BronKerbosch found 27 unique circuits\n",
      "MEASURECIRCUIT: Elapsed time: 59657.697610s\n"
     ]
    }
   ],
   "source": [
    "nb_trial = 10\n",
    "\n",
    "print('===========================================')\n",
    "print('                   XBM')\n",
    "print('===========================================')\n",
    "nb_circs_list_xbm = []\n",
    "elapsed_time_list_xbm = []\n",
    "for nb_qubits in range(1,15):\n",
    "    foo, bar = experiments('XBM', nb_qubits, 3, False, nb_trial, part='both')\n",
    "    nb_circs_list_xbm += foo\n",
    "    elapsed_time_list_xbm += bar\n",
    "\n",
    "print('===========================================')\n",
    "print('                   XBM(half)')\n",
    "print('===========================================')\n",
    "nb_circs_list_xbm_half = []\n",
    "elapsed_time_list_xbm_half = []\n",
    "for nb_qubits in range(1,15):\n",
    "    foo, bar = experiments('XBM', nb_qubits, 3, False, nb_trial, part='real')\n",
    "    nb_circs_list_xbm_half += foo\n",
    "    elapsed_time_list_xbm_half += bar\n",
    "    \n",
    "print('===========================================')\n",
    "print('                   Naive')\n",
    "print('===========================================')\n",
    "nb_circs_list_naive = []\n",
    "elapsed_time_list_naive = []\n",
    "for nb_qubits in range(1,9):\n",
    "    foo, bar = experiments('Naive', nb_qubits, 3, False, nb_trial)\n",
    "    nb_circs_list_naive += foo\n",
    "    elapsed_time_list_naive += bar\n",
    "    \n",
    "print('===========================================')\n",
    "print('                   QWC')\n",
    "print('===========================================')\n",
    "nb_circs_list_qwc = []\n",
    "elapsed_time_list_qwc = []\n",
    "for nb_qubits in range(1,11):\n",
    "    foo, bar = experiments('QWC', nb_qubits, 3, False, nb_trial)\n",
    "    nb_circs_list_qwc += foo\n",
    "    elapsed_time_list_qwc += bar\n",
    "    \n",
    "print('===========================================')\n",
    "print('                   QWC(BronKerbosch)')\n",
    "print('===========================================')\n",
    "nb_circs_list_qwc_bk = []\n",
    "elapsed_time_list_qwc_bk = []\n",
    "for nb_qubits in range(1,9):\n",
    "    foo, bar = experiments('QWC(BronKerbosch)', nb_qubits, 3, False, nb_trial)\n",
    "    nb_circs_list_qwc_bk += foo\n",
    "    elapsed_time_list_qwc_bk += bar\n",
    "    \n",
    "print('===========================================')\n",
    "print('                   GC')\n",
    "print('===========================================')\n",
    "nb_circs_list_gc_bk = []\n",
    "elapsed_time_list_gc_bk = []\n",
    "for nb_qubits in range(1,7):\n",
    "    foo, bar = experiments('GC(BronKerbosch)', nb_qubits, 3, False, nb_trial)\n",
    "    nb_circs_list_gc_bk += foo\n",
    "    elapsed_time_list_gc_bk += bar"
   ]
  },
  {
   "cell_type": "code",
   "execution_count": 8,
   "metadata": {},
   "outputs": [],
   "source": [
    "results = {\n",
    "    'XBM'              :{'nb_circs':nb_circs_list_xbm,     'time':elapsed_time_list_xbm     },\n",
    "    'XBM(half)'        :{'nb_circs':nb_circs_list_xbm_half,'time':elapsed_time_list_xbm_half},\n",
    "    'Naive'            :{'nb_circs':nb_circs_list_naive,   'time':elapsed_time_list_naive   },\n",
    "    'QWC'              :{'nb_circs':nb_circs_list_qwc,     'time':elapsed_time_list_qwc     },\n",
    "    'QWC(BronKerbosch)':{'nb_circs':nb_circs_list_qwc_bk,  'time':elapsed_time_list_qwc_bk  },\n",
    "    'GC(BronKerbosch)' :{'nb_circs':nb_circs_list_gc_bk,   'time':elapsed_time_list_gc_bk   },\n",
    "}\n",
    "\n",
    "with open('term_grouping_psi0psi0_keq3.pkl', 'wb') as f:\n",
    "    pickle.dump(results, f, pickle.HIGHEST_PROTOCOL)"
   ]
  },
  {
   "cell_type": "code",
   "execution_count": 9,
   "metadata": {},
   "outputs": [],
   "source": [
    "with open('term_grouping_psi0psi0_keq3.pkl', 'rb') as f:\n",
    "    results = pickle.load(f)\n",
    "    \n",
    "nb_circs_list_xbm      = take_mean(results['XBM']['nb_circs'], nb_trial)\n",
    "nb_circs_list_xbm_half = take_mean(results['XBM(half)']['nb_circs'], nb_trial)\n",
    "nb_circs_list_naive    = take_mean(results['Naive']['nb_circs'], nb_trial)\n",
    "nb_circs_list_qwc      = take_mean(results['QWC']['nb_circs'], nb_trial)\n",
    "nb_circs_list_gc_bk    = take_mean(results['GC(BronKerbosch)']['nb_circs'], nb_trial)\n",
    "\n",
    "elapsed_time_list_xbm      = take_mean(results['XBM']['time'], nb_trial)\n",
    "elapsed_time_list_xbm_half = take_mean(results['XBM(half)']['time'], nb_trial)\n",
    "elapsed_time_list_naive    = take_mean(results['Naive']['time'], nb_trial)\n",
    "elapsed_time_list_qwc      = take_mean(results['QWC']['time'], nb_trial)\n",
    "elapsed_time_list_gc_bk    = take_mean(results['GC(BronKerbosch)']['time'], nb_trial)"
   ]
  },
  {
   "cell_type": "code",
   "execution_count": 10,
   "metadata": {},
   "outputs": [
    {
     "name": "stderr",
     "output_type": "stream",
     "text": [
      "The PostScript backend does not support transparency; partially transparent artists will be rendered opaque.\n",
      "The PostScript backend does not support transparency; partially transparent artists will be rendered opaque.\n"
     ]
    },
    {
     "data": {
      "image/png": "[encoded data removed]",
      "text/plain": [
       "<Figure size 432x288 with 1 Axes>"
      ]
     },
     "metadata": {
      "needs_background": "light"
     },
     "output_type": "display_data"
    }
   ],
   "source": [
    "plt.plot(np.arange(1,len(nb_circs_list_xbm     )+1), nb_circs_list_xbm            , label='XBM'              , c=plt.get_cmap(\"Reds\"  )(0.5), marker='o')\n",
    "plt.plot(np.arange(1,len(nb_circs_list_xbm_half)+1), nb_circs_list_xbm_half       , label='XBM(half)'        , c=plt.get_cmap(\"Reds\"  )(0.5), marker='o', linestyle='dashed')\n",
    "plt.plot(np.arange(1,len(nb_circs_list_naive   )+1), nb_circs_list_naive          , label='Naive'            , c=plt.get_cmap(\"gray\"  )(0.5), marker='o')\n",
    "plt.plot(np.arange(1,len(nb_circs_list_qwc     )+1), nb_circs_list_qwc            , label='QWC'              , c=plt.get_cmap(\"Greens\")(0.5), marker='o')\n",
    "#plt.plot(np.arange(1,len(nb_circs_list_qwc_bk  )+1), nb_circs_list_qwc_bk         , label='QWC(BronKerbosch)', c=plt.get_cmap(\"Greens\")(0.8), marker='o')\n",
    "plt.plot(np.arange(1,len(nb_circs_list_gc_bk   )+1), nb_circs_list_gc_bk          , label='GC(BronKerbosch)' , c=plt.get_cmap(\"Blues\" )(0.5), marker='o')\n",
    "plt.xlabel('n')\n",
    "plt.ylabel('Number of unique circuits')\n",
    "plt.yscale('log')\n",
    "plt.legend(bbox_to_anchor=(1.05, 1), loc='upper left', borderaxespad=0)\n",
    "plt.savefig('psiApsi-nbcircs-band3.pdf')\n",
    "plt.savefig('psiApsi-nbcircs-band3.eps')"
   ]
  },
  {
   "cell_type": "code",
   "execution_count": 11,
   "metadata": {},
   "outputs": [
    {
     "name": "stderr",
     "output_type": "stream",
     "text": [
      "The PostScript backend does not support transparency; partially transparent artists will be rendered opaque.\n",
      "The PostScript backend does not support transparency; partially transparent artists will be rendered opaque.\n"
     ]
    },
    {
     "data": {
      "image/png": "[encoded data removed]",
      "text/plain": [
       "<Figure size 432x288 with 1 Axes>"
      ]
     },
     "metadata": {
      "needs_background": "light"
     },
     "output_type": "display_data"
    }
   ],
   "source": [
    "plt.plot(np.arange(1,len(elapsed_time_list_xbm     )+1), elapsed_time_list_xbm          , label='XBM'              , c=plt.get_cmap(\"Reds\"  )(0.5), marker='o')\n",
    "plt.plot(np.arange(1,len(elapsed_time_list_xbm_half)+1), elapsed_time_list_xbm_half     , label='XBM(half)'        , c=plt.get_cmap(\"Reds\"  )(0.5), marker='o', linestyle='dashed')\n",
    "plt.plot(np.arange(1,len(elapsed_time_list_qwc     )+1), elapsed_time_list_qwc          , label='QWC'              , c=plt.get_cmap(\"Greens\")(0.5), marker='o')\n",
    "#plt.plot(np.arange(1,len(elapsed_time_list_qwc_bk  )+1), elapsed_time_list_qwc_bk       , label='QWC(BronKerbosch)', c=plt.get_cmap(\"Greens\")(0.8), marker='o')\n",
    "plt.plot(np.arange(1,len(elapsed_time_list_gc_bk   )+1), elapsed_time_list_gc_bk        , label='GC(BronKerbosch)' , c=plt.get_cmap(\"Blues\" )(0.5), marker='o')\n",
    "plt.xlabel('n')\n",
    "plt.ylabel('Time for term grouping [s]')\n",
    "plt.yscale('log')\n",
    "plt.ylim(None,1000)\n",
    "plt.legend(bbox_to_anchor=(1.05, 1), loc='upper left', borderaxespad=0)\n",
    "plt.savefig('psiApsi-time-band3.pdf')\n",
    "plt.savefig('psiApsi-time-band3.eps')"
   ]
  },
  {
   "cell_type": "markdown",
   "metadata": {},
   "source": [
    "## $\\big|\\psi_0\\big>=\\big|\\psi_1\\big>$, $n=4$, $k=0,1,\\cdots,2^n-1$"
   ]
  },
  {
   "cell_type": "code",
   "execution_count": 12,
   "metadata": {
    "scrolled": true
   },
   "outputs": [
    {
     "name": "stdout",
     "output_type": "stream",
     "text": [
      "===========================================\n",
      "                   XBM\n",
      "===========================================\n"
     ]
    },
    {
     "data": {
      "application/vnd.jupyter.widget-view+json": {
       "model_id": "ef53b94799de45c2bbc6a86038bed96d",
       "version_major": 2,
       "version_minor": 0
      },
      "text/plain": [
       "  0%|          | 0/10 [00:00<?, ?it/s]"
      ]
     },
     "metadata": {},
     "output_type": "display_data"
    },
    {
     "data": {
      "application/vnd.jupyter.widget-view+json": {
       "model_id": "65e4942ec9fe459fac61c6f886e42f6b",
       "version_major": 2,
       "version_minor": 0
      },
      "text/plain": [
       "  0%|          | 0/10 [00:00<?, ?it/s]"
      ]
     },
     "metadata": {},
     "output_type": "display_data"
    },
    {
     "data": {
      "application/vnd.jupyter.widget-view+json": {
       "model_id": "dc181a43370041fdaa52805e86a5d607",
       "version_major": 2,
       "version_minor": 0
      },
      "text/plain": [
       "  0%|          | 0/10 [00:00<?, ?it/s]"
      ]
     },
     "metadata": {},
     "output_type": "display_data"
    },
    {
     "data": {
      "application/vnd.jupyter.widget-view+json": {
       "model_id": "8bc156a454304c27b6337c4a6d9ea957",
       "version_major": 2,
       "version_minor": 0
      },
      "text/plain": [
       "  0%|          | 0/10 [00:00<?, ?it/s]"
      ]
     },
     "metadata": {},
     "output_type": "display_data"
    },
    {
     "data": {
      "application/vnd.jupyter.widget-view+json": {
       "model_id": "7e1c218e6a0e4805b0a6fcbf82dc0ba6",
       "version_major": 2,
       "version_minor": 0
      },
      "text/plain": [
       "  0%|          | 0/10 [00:00<?, ?it/s]"
      ]
     },
     "metadata": {},
     "output_type": "display_data"
    },
    {
     "data": {
      "application/vnd.jupyter.widget-view+json": {
       "model_id": "9135da46396548048e62e845af75c1bf",
       "version_major": 2,
       "version_minor": 0
      },
      "text/plain": [
       "  0%|          | 0/10 [00:00<?, ?it/s]"
      ]
     },
     "metadata": {},
     "output_type": "display_data"
    },
    {
     "data": {
      "application/vnd.jupyter.widget-view+json": {
       "model_id": "ace46078badf4b28b99138ce190da9a4",
       "version_major": 2,
       "version_minor": 0
      },
      "text/plain": [
       "  0%|          | 0/10 [00:00<?, ?it/s]"
      ]
     },
     "metadata": {},
     "output_type": "display_data"
    },
    {
     "data": {
      "application/vnd.jupyter.widget-view+json": {
       "model_id": "4db47a1203874626a9d270d763bfc240",
       "version_major": 2,
       "version_minor": 0
      },
      "text/plain": [
       "  0%|          | 0/10 [00:00<?, ?it/s]"
      ]
     },
     "metadata": {},
     "output_type": "display_data"
    },
    {
     "data": {
      "application/vnd.jupyter.widget-view+json": {
       "model_id": "bbcc0d4563e24f00903ec4974a28a144",
       "version_major": 2,
       "version_minor": 0
      },
      "text/plain": [
       "  0%|          | 0/10 [00:00<?, ?it/s]"
      ]
     },
     "metadata": {},
     "output_type": "display_data"
    },
    {
     "data": {
      "application/vnd.jupyter.widget-view+json": {
       "model_id": "d7b4da1dc5df4d0f8a53b979bbaff93d",
       "version_major": 2,
       "version_minor": 0
      },
      "text/plain": [
       "  0%|          | 0/10 [00:00<?, ?it/s]"
      ]
     },
     "metadata": {},
     "output_type": "display_data"
    },
    {
     "data": {
      "application/vnd.jupyter.widget-view+json": {
       "model_id": "09d1f8549b374352b853df34ca844eeb",
       "version_major": 2,
       "version_minor": 0
      },
      "text/plain": [
       "  0%|          | 0/10 [00:00<?, ?it/s]"
      ]
     },
     "metadata": {},
     "output_type": "display_data"
    },
    {
     "data": {
      "application/vnd.jupyter.widget-view+json": {
       "model_id": "056109b98e0344ad8ee50e0b10d00c40",
       "version_major": 2,
       "version_minor": 0
      },
      "text/plain": [
       "  0%|          | 0/10 [00:00<?, ?it/s]"
      ]
     },
     "metadata": {},
     "output_type": "display_data"
    },
    {
     "data": {
      "application/vnd.jupyter.widget-view+json": {
       "model_id": "e1a134950aa84663942a2cd26dda14ba",
       "version_major": 2,
       "version_minor": 0
      },
      "text/plain": [
       "  0%|          | 0/10 [00:00<?, ?it/s]"
      ]
     },
     "metadata": {},
     "output_type": "display_data"
    },
    {
     "data": {
      "application/vnd.jupyter.widget-view+json": {
       "model_id": "4879353845784df58a548b49b6402d76",
       "version_major": 2,
       "version_minor": 0
      },
      "text/plain": [
       "  0%|          | 0/10 [00:00<?, ?it/s]"
      ]
     },
     "metadata": {},
     "output_type": "display_data"
    },
    {
     "data": {
      "application/vnd.jupyter.widget-view+json": {
       "model_id": "034681bf74dc497496007abb053a5d6f",
       "version_major": 2,
       "version_minor": 0
      },
      "text/plain": [
       "  0%|          | 0/10 [00:00<?, ?it/s]"
      ]
     },
     "metadata": {},
     "output_type": "display_data"
    },
    {
     "data": {
      "application/vnd.jupyter.widget-view+json": {
       "model_id": "72779959c0264c699234a5b4d650a0b0",
       "version_major": 2,
       "version_minor": 0
      },
      "text/plain": [
       "  0%|          | 0/10 [00:00<?, ?it/s]"
      ]
     },
     "metadata": {},
     "output_type": "display_data"
    },
    {
     "data": {
      "application/vnd.jupyter.widget-view+json": {
       "model_id": "b2924707e5104f5c9c766136466c1b44",
       "version_major": 2,
       "version_minor": 0
      },
      "text/plain": [
       "  0%|          | 0/10 [00:00<?, ?it/s]"
      ]
     },
     "metadata": {},
     "output_type": "display_data"
    },
    {
     "data": {
      "application/vnd.jupyter.widget-view+json": {
       "model_id": "38eea93a75a640598fcafec9848b1683",
       "version_major": 2,
       "version_minor": 0
      },
      "text/plain": [
       "  0%|          | 0/10 [00:00<?, ?it/s]"
      ]
     },
     "metadata": {},
     "output_type": "display_data"
    },
    {
     "data": {
      "application/vnd.jupyter.widget-view+json": {
       "model_id": "47baa850ccc24df5a447806b35e6b042",
       "version_major": 2,
       "version_minor": 0
      },
      "text/plain": [
       "  0%|          | 0/10 [00:00<?, ?it/s]"
      ]
     },
     "metadata": {},
     "output_type": "display_data"
    },
    {
     "data": {
      "application/vnd.jupyter.widget-view+json": {
       "model_id": "12f6a627b047449eba5af508ee4a9cee",
       "version_major": 2,
       "version_minor": 0
      },
      "text/plain": [
       "  0%|          | 0/10 [00:00<?, ?it/s]"
      ]
     },
     "metadata": {},
     "output_type": "display_data"
    },
    {
     "data": {
      "application/vnd.jupyter.widget-view+json": {
       "model_id": "369900c1445a4340a60bd2a09951c567",
       "version_major": 2,
       "version_minor": 0
      },
      "text/plain": [
       "  0%|          | 0/10 [00:00<?, ?it/s]"
      ]
     },
     "metadata": {},
     "output_type": "display_data"
    },
    {
     "data": {
      "application/vnd.jupyter.widget-view+json": {
       "model_id": "37444ccda9ae4708a8c5813fa9dc04aa",
       "version_major": 2,
       "version_minor": 0
      },
      "text/plain": [
       "  0%|          | 0/10 [00:00<?, ?it/s]"
      ]
     },
     "metadata": {},
     "output_type": "display_data"
    },
    {
     "data": {
      "application/vnd.jupyter.widget-view+json": {
       "model_id": "89c69279be9147449fbe7adec14a0a73",
       "version_major": 2,
       "version_minor": 0
      },
      "text/plain": [
       "  0%|          | 0/10 [00:00<?, ?it/s]"
      ]
     },
     "metadata": {},
     "output_type": "display_data"
    },
    {
     "data": {
      "application/vnd.jupyter.widget-view+json": {
       "model_id": "d3188c1b6ef6453290119ca4e87e1b79",
       "version_major": 2,
       "version_minor": 0
      },
      "text/plain": [
       "  0%|          | 0/10 [00:00<?, ?it/s]"
      ]
     },
     "metadata": {},
     "output_type": "display_data"
    },
    {
     "data": {
      "application/vnd.jupyter.widget-view+json": {
       "model_id": "78047c3b16cc4125b012f7b4e22d1c17",
       "version_major": 2,
       "version_minor": 0
      },
      "text/plain": [
       "  0%|          | 0/10 [00:00<?, ?it/s]"
      ]
     },
     "metadata": {},
     "output_type": "display_data"
    },
    {
     "data": {
      "application/vnd.jupyter.widget-view+json": {
       "model_id": "e5d4b915027e4850a171937d093898fa",
       "version_major": 2,
       "version_minor": 0
      },
      "text/plain": [
       "  0%|          | 0/10 [00:00<?, ?it/s]"
      ]
     },
     "metadata": {},
     "output_type": "display_data"
    },
    {
     "data": {
      "application/vnd.jupyter.widget-view+json": {
       "model_id": "84cda64a8dd0494bbd4c6369ac0047c0",
       "version_major": 2,
       "version_minor": 0
      },
      "text/plain": [
       "  0%|          | 0/10 [00:00<?, ?it/s]"
      ]
     },
     "metadata": {},
     "output_type": "display_data"
    },
    {
     "data": {
      "application/vnd.jupyter.widget-view+json": {
       "model_id": "319f1569ddf3422399d47dda09ceb034",
       "version_major": 2,
       "version_minor": 0
      },
      "text/plain": [
       "  0%|          | 0/10 [00:00<?, ?it/s]"
      ]
     },
     "metadata": {},
     "output_type": "display_data"
    },
    {
     "data": {
      "application/vnd.jupyter.widget-view+json": {
       "model_id": "5dbd4dbc27c543aca7ce17f7f2fa72f7",
       "version_major": 2,
       "version_minor": 0
      },
      "text/plain": [
       "  0%|          | 0/10 [00:00<?, ?it/s]"
      ]
     },
     "metadata": {},
     "output_type": "display_data"
    },
    {
     "data": {
      "application/vnd.jupyter.widget-view+json": {
       "model_id": "26f1f4b029d6492783ca0ace7fecce4f",
       "version_major": 2,
       "version_minor": 0
      },
      "text/plain": [
       "  0%|          | 0/10 [00:00<?, ?it/s]"
      ]
     },
     "metadata": {},
     "output_type": "display_data"
    },
    {
     "data": {
      "application/vnd.jupyter.widget-view+json": {
       "model_id": "ff7a5bb2a261411b8f4930b99241fe36",
       "version_major": 2,
       "version_minor": 0
      },
      "text/plain": [
       "  0%|          | 0/10 [00:00<?, ?it/s]"
      ]
     },
     "metadata": {},
     "output_type": "display_data"
    },
    {
     "data": {
      "application/vnd.jupyter.widget-view+json": {
       "model_id": "d290c0da068346a9833a538c831c0a0e",
       "version_major": 2,
       "version_minor": 0
      },
      "text/plain": [
       "  0%|          | 0/10 [00:00<?, ?it/s]"
      ]
     },
     "metadata": {},
     "output_type": "display_data"
    },
    {
     "name": "stdout",
     "output_type": "stream",
     "text": [
      "===========================================\n",
      "                   XBM(half)\n",
      "===========================================\n"
     ]
    },
    {
     "data": {
      "application/vnd.jupyter.widget-view+json": {
       "model_id": "5b4eec5aa052489fa02dc661d9c1966e",
       "version_major": 2,
       "version_minor": 0
      },
      "text/plain": [
       "  0%|          | 0/10 [00:00<?, ?it/s]"
      ]
     },
     "metadata": {},
     "output_type": "display_data"
    },
    {
     "data": {
      "application/vnd.jupyter.widget-view+json": {
       "model_id": "b5f93f4b5db54817b8c88168294dbf47",
       "version_major": 2,
       "version_minor": 0
      },
      "text/plain": [
       "  0%|          | 0/10 [00:00<?, ?it/s]"
      ]
     },
     "metadata": {},
     "output_type": "display_data"
    },
    {
     "data": {
      "application/vnd.jupyter.widget-view+json": {
       "model_id": "bef450a58e394de6b6189d7fa82b8ac0",
       "version_major": 2,
       "version_minor": 0
      },
      "text/plain": [
       "  0%|          | 0/10 [00:00<?, ?it/s]"
      ]
     },
     "metadata": {},
     "output_type": "display_data"
    },
    {
     "data": {
      "application/vnd.jupyter.widget-view+json": {
       "model_id": "b69a42b757bf4471be53cb12284b8d89",
       "version_major": 2,
       "version_minor": 0
      },
      "text/plain": [
       "  0%|          | 0/10 [00:00<?, ?it/s]"
      ]
     },
     "metadata": {},
     "output_type": "display_data"
    },
    {
     "data": {
      "application/vnd.jupyter.widget-view+json": {
       "model_id": "d45ed4579aaa48ffbf44c717db291ec7",
       "version_major": 2,
       "version_minor": 0
      },
      "text/plain": [
       "  0%|          | 0/10 [00:00<?, ?it/s]"
      ]
     },
     "metadata": {},
     "output_type": "display_data"
    },
    {
     "data": {
      "application/vnd.jupyter.widget-view+json": {
       "model_id": "6df79dbbfe444bc28ad6ddab26a45b93",
       "version_major": 2,
       "version_minor": 0
      },
      "text/plain": [
       "  0%|          | 0/10 [00:00<?, ?it/s]"
      ]
     },
     "metadata": {},
     "output_type": "display_data"
    },
    {
     "data": {
      "application/vnd.jupyter.widget-view+json": {
       "model_id": "73dead21f4a241148b7e6b326913bf50",
       "version_major": 2,
       "version_minor": 0
      },
      "text/plain": [
       "  0%|          | 0/10 [00:00<?, ?it/s]"
      ]
     },
     "metadata": {},
     "output_type": "display_data"
    },
    {
     "data": {
      "application/vnd.jupyter.widget-view+json": {
       "model_id": "f42446aa719b426fac024e6032b1a644",
       "version_major": 2,
       "version_minor": 0
      },
      "text/plain": [
       "  0%|          | 0/10 [00:00<?, ?it/s]"
      ]
     },
     "metadata": {},
     "output_type": "display_data"
    },
    {
     "data": {
      "application/vnd.jupyter.widget-view+json": {
       "model_id": "ae93bdac67be4e9ab310a494488ef404",
       "version_major": 2,
       "version_minor": 0
      },
      "text/plain": [
       "  0%|          | 0/10 [00:00<?, ?it/s]"
      ]
     },
     "metadata": {},
     "output_type": "display_data"
    },
    {
     "data": {
      "application/vnd.jupyter.widget-view+json": {
       "model_id": "df168b7a05a841cab441c809bb0490c0",
       "version_major": 2,
       "version_minor": 0
      },
      "text/plain": [
       "  0%|          | 0/10 [00:00<?, ?it/s]"
      ]
     },
     "metadata": {},
     "output_type": "display_data"
    },
    {
     "data": {
      "application/vnd.jupyter.widget-view+json": {
       "model_id": "bba9a70498ee4ef490567358ed7c7d8c",
       "version_major": 2,
       "version_minor": 0
      },
      "text/plain": [
       "  0%|          | 0/10 [00:00<?, ?it/s]"
      ]
     },
     "metadata": {},
     "output_type": "display_data"
    },
    {
     "data": {
      "application/vnd.jupyter.widget-view+json": {
       "model_id": "179c07bc78fe438da0d5a13c07ef6059",
       "version_major": 2,
       "version_minor": 0
      },
      "text/plain": [
       "  0%|          | 0/10 [00:00<?, ?it/s]"
      ]
     },
     "metadata": {},
     "output_type": "display_data"
    },
    {
     "data": {
      "application/vnd.jupyter.widget-view+json": {
       "model_id": "6100159550f24d20870b4b6d4e7cab67",
       "version_major": 2,
       "version_minor": 0
      },
      "text/plain": [
       "  0%|          | 0/10 [00:00<?, ?it/s]"
      ]
     },
     "metadata": {},
     "output_type": "display_data"
    },
    {
     "data": {
      "application/vnd.jupyter.widget-view+json": {
       "model_id": "005418dae51f480c90faa2beaa878584",
       "version_major": 2,
       "version_minor": 0
      },
      "text/plain": [
       "  0%|          | 0/10 [00:00<?, ?it/s]"
      ]
     },
     "metadata": {},
     "output_type": "display_data"
    },
    {
     "data": {
      "application/vnd.jupyter.widget-view+json": {
       "model_id": "93f72557f8cb4421965fba59c1b326e3",
       "version_major": 2,
       "version_minor": 0
      },
      "text/plain": [
       "  0%|          | 0/10 [00:00<?, ?it/s]"
      ]
     },
     "metadata": {},
     "output_type": "display_data"
    },
    {
     "data": {
      "application/vnd.jupyter.widget-view+json": {
       "model_id": "be20e96f24904e228981e7ce535a58e4",
       "version_major": 2,
       "version_minor": 0
      },
      "text/plain": [
       "  0%|          | 0/10 [00:00<?, ?it/s]"
      ]
     },
     "metadata": {},
     "output_type": "display_data"
    },
    {
     "data": {
      "application/vnd.jupyter.widget-view+json": {
       "model_id": "38e22db1afe14e46ba8ad9be06f31a7c",
       "version_major": 2,
       "version_minor": 0
      },
      "text/plain": [
       "  0%|          | 0/10 [00:00<?, ?it/s]"
      ]
     },
     "metadata": {},
     "output_type": "display_data"
    },
    {
     "data": {
      "application/vnd.jupyter.widget-view+json": {
       "model_id": "585a71bce7ef4919a67e8baa6d633bc2",
       "version_major": 2,
       "version_minor": 0
      },
      "text/plain": [
       "  0%|          | 0/10 [00:00<?, ?it/s]"
      ]
     },
     "metadata": {},
     "output_type": "display_data"
    },
    {
     "data": {
      "application/vnd.jupyter.widget-view+json": {
       "model_id": "1d14ec1dd2fc4172a4f87e0da02935a5",
       "version_major": 2,
       "version_minor": 0
      },
      "text/plain": [
       "  0%|          | 0/10 [00:00<?, ?it/s]"
      ]
     },
     "metadata": {},
     "output_type": "display_data"
    },
    {
     "data": {
      "application/vnd.jupyter.widget-view+json": {
       "model_id": "c0004591bf6d46f69acf38b2064a1feb",
       "version_major": 2,
       "version_minor": 0
      },
      "text/plain": [
       "  0%|          | 0/10 [00:00<?, ?it/s]"
      ]
     },
     "metadata": {},
     "output_type": "display_data"
    },
    {
     "data": {
      "application/vnd.jupyter.widget-view+json": {
       "model_id": "c488ea098e9b450db713ce8c35bc6df5",
       "version_major": 2,
       "version_minor": 0
      },
      "text/plain": [
       "  0%|          | 0/10 [00:00<?, ?it/s]"
      ]
     },
     "metadata": {},
     "output_type": "display_data"
    },
    {
     "data": {
      "application/vnd.jupyter.widget-view+json": {
       "model_id": "7482c5ba60c74aff8e88ea294b73a3ee",
       "version_major": 2,
       "version_minor": 0
      },
      "text/plain": [
       "  0%|          | 0/10 [00:00<?, ?it/s]"
      ]
     },
     "metadata": {},
     "output_type": "display_data"
    },
    {
     "data": {
      "application/vnd.jupyter.widget-view+json": {
       "model_id": "6920dc92717c48bf8ce4ee5558bc4aff",
       "version_major": 2,
       "version_minor": 0
      },
      "text/plain": [
       "  0%|          | 0/10 [00:00<?, ?it/s]"
      ]
     },
     "metadata": {},
     "output_type": "display_data"
    },
    {
     "data": {
      "application/vnd.jupyter.widget-view+json": {
       "model_id": "f7a8924afdf042cfbf0eb7b83003c6f5",
       "version_major": 2,
       "version_minor": 0
      },
      "text/plain": [
       "  0%|          | 0/10 [00:00<?, ?it/s]"
      ]
     },
     "metadata": {},
     "output_type": "display_data"
    },
    {
     "data": {
      "application/vnd.jupyter.widget-view+json": {
       "model_id": "c71594fe1128472a9ef37b1d16e6402b",
       "version_major": 2,
       "version_minor": 0
      },
      "text/plain": [
       "  0%|          | 0/10 [00:00<?, ?it/s]"
      ]
     },
     "metadata": {},
     "output_type": "display_data"
    },
    {
     "data": {
      "application/vnd.jupyter.widget-view+json": {
       "model_id": "45a1a151844d429c886310d27d43514e",
       "version_major": 2,
       "version_minor": 0
      },
      "text/plain": [
       "  0%|          | 0/10 [00:00<?, ?it/s]"
      ]
     },
     "metadata": {},
     "output_type": "display_data"
    },
    {
     "data": {
      "application/vnd.jupyter.widget-view+json": {
       "model_id": "0d678e979aca426da7a99b7b30bf367b",
       "version_major": 2,
       "version_minor": 0
      },
      "text/plain": [
       "  0%|          | 0/10 [00:00<?, ?it/s]"
      ]
     },
     "metadata": {},
     "output_type": "display_data"
    },
    {
     "data": {
      "application/vnd.jupyter.widget-view+json": {
       "model_id": "aa7c84776cb64bf99371bf62357709d2",
       "version_major": 2,
       "version_minor": 0
      },
      "text/plain": [
       "  0%|          | 0/10 [00:00<?, ?it/s]"
      ]
     },
     "metadata": {},
     "output_type": "display_data"
    },
    {
     "data": {
      "application/vnd.jupyter.widget-view+json": {
       "model_id": "a1d0324d14284995a5d93a62b440f208",
       "version_major": 2,
       "version_minor": 0
      },
      "text/plain": [
       "  0%|          | 0/10 [00:00<?, ?it/s]"
      ]
     },
     "metadata": {},
     "output_type": "display_data"
    },
    {
     "data": {
      "application/vnd.jupyter.widget-view+json": {
       "model_id": "26273db0208c4a1c995c176eaeb0dd85",
       "version_major": 2,
       "version_minor": 0
      },
      "text/plain": [
       "  0%|          | 0/10 [00:00<?, ?it/s]"
      ]
     },
     "metadata": {},
     "output_type": "display_data"
    },
    {
     "data": {
      "application/vnd.jupyter.widget-view+json": {
       "model_id": "1abbb14544b04861b60862cad5195e60",
       "version_major": 2,
       "version_minor": 0
      },
      "text/plain": [
       "  0%|          | 0/10 [00:00<?, ?it/s]"
      ]
     },
     "metadata": {},
     "output_type": "display_data"
    },
    {
     "data": {
      "application/vnd.jupyter.widget-view+json": {
       "model_id": "98bfba8b0fda4b05896b8896415f9f37",
       "version_major": 2,
       "version_minor": 0
      },
      "text/plain": [
       "  0%|          | 0/10 [00:00<?, ?it/s]"
      ]
     },
     "metadata": {},
     "output_type": "display_data"
    },
    {
     "name": "stdout",
     "output_type": "stream",
     "text": [
      "===========================================\n",
      "                   Naive\n",
      "===========================================\n"
     ]
    },
    {
     "data": {
      "application/vnd.jupyter.widget-view+json": {
       "model_id": "52e59964cc404707847908abda7306a0",
       "version_major": 2,
       "version_minor": 0
      },
      "text/plain": [
       "  0%|          | 0/10 [00:00<?, ?it/s]"
      ]
     },
     "metadata": {},
     "output_type": "display_data"
    },
    {
     "data": {
      "application/vnd.jupyter.widget-view+json": {
       "model_id": "2195ebe70bdd4aa481c0a5a1efe70985",
       "version_major": 2,
       "version_minor": 0
      },
      "text/plain": [
       "  0%|          | 0/10 [00:00<?, ?it/s]"
      ]
     },
     "metadata": {},
     "output_type": "display_data"
    },
    {
     "data": {
      "application/vnd.jupyter.widget-view+json": {
       "model_id": "4914f3f5a6b647389dacee9dd930cea3",
       "version_major": 2,
       "version_minor": 0
      },
      "text/plain": [
       "  0%|          | 0/10 [00:00<?, ?it/s]"
      ]
     },
     "metadata": {},
     "output_type": "display_data"
    },
    {
     "data": {
      "application/vnd.jupyter.widget-view+json": {
       "model_id": "bd421943f62047b1b8aae4ca652df390",
       "version_major": 2,
       "version_minor": 0
      },
      "text/plain": [
       "  0%|          | 0/10 [00:00<?, ?it/s]"
      ]
     },
     "metadata": {},
     "output_type": "display_data"
    },
    {
     "data": {
      "application/vnd.jupyter.widget-view+json": {
       "model_id": "ef29d0a4e4994ec99b2bbdb21e0bb416",
       "version_major": 2,
       "version_minor": 0
      },
      "text/plain": [
       "  0%|          | 0/10 [00:00<?, ?it/s]"
      ]
     },
     "metadata": {},
     "output_type": "display_data"
    },
    {
     "data": {
      "application/vnd.jupyter.widget-view+json": {
       "model_id": "0b86d34443944d7ab85cc2b4948ced8d",
       "version_major": 2,
       "version_minor": 0
      },
      "text/plain": [
       "  0%|          | 0/10 [00:00<?, ?it/s]"
      ]
     },
     "metadata": {},
     "output_type": "display_data"
    },
    {
     "data": {
      "application/vnd.jupyter.widget-view+json": {
       "model_id": "45130ca84565414ba5008514ffd7c540",
       "version_major": 2,
       "version_minor": 0
      },
      "text/plain": [
       "  0%|          | 0/10 [00:00<?, ?it/s]"
      ]
     },
     "metadata": {},
     "output_type": "display_data"
    },
    {
     "data": {
      "application/vnd.jupyter.widget-view+json": {
       "model_id": "1a432e18a19340a48949c45695415b02",
       "version_major": 2,
       "version_minor": 0
      },
      "text/plain": [
       "  0%|          | 0/10 [00:00<?, ?it/s]"
      ]
     },
     "metadata": {},
     "output_type": "display_data"
    },
    {
     "data": {
      "application/vnd.jupyter.widget-view+json": {
       "model_id": "7c9b7161444b49ca8f929d2f6e4a08fc",
       "version_major": 2,
       "version_minor": 0
      },
      "text/plain": [
       "  0%|          | 0/10 [00:00<?, ?it/s]"
      ]
     },
     "metadata": {},
     "output_type": "display_data"
    },
    {
     "data": {
      "application/vnd.jupyter.widget-view+json": {
       "model_id": "5d33ae11b1cc47f3a500f75b876a7b28",
       "version_major": 2,
       "version_minor": 0
      },
      "text/plain": [
       "  0%|          | 0/10 [00:00<?, ?it/s]"
      ]
     },
     "metadata": {},
     "output_type": "display_data"
    },
    {
     "data": {
      "application/vnd.jupyter.widget-view+json": {
       "model_id": "029aa27416fd4f7dae9ed923712459ac",
       "version_major": 2,
       "version_minor": 0
      },
      "text/plain": [
       "  0%|          | 0/10 [00:00<?, ?it/s]"
      ]
     },
     "metadata": {},
     "output_type": "display_data"
    },
    {
     "data": {
      "application/vnd.jupyter.widget-view+json": {
       "model_id": "2aee2ce20a2044349bfb68031b59bc12",
       "version_major": 2,
       "version_minor": 0
      },
      "text/plain": [
       "  0%|          | 0/10 [00:00<?, ?it/s]"
      ]
     },
     "metadata": {},
     "output_type": "display_data"
    },
    {
     "data": {
      "application/vnd.jupyter.widget-view+json": {
       "model_id": "9a511034a4db4f2d8d0598f2a061d53e",
       "version_major": 2,
       "version_minor": 0
      },
      "text/plain": [
       "  0%|          | 0/10 [00:00<?, ?it/s]"
      ]
     },
     "metadata": {},
     "output_type": "display_data"
    },
    {
     "data": {
      "application/vnd.jupyter.widget-view+json": {
       "model_id": "cb5b16dab20f488da79df1892692aa40",
       "version_major": 2,
       "version_minor": 0
      },
      "text/plain": [
       "  0%|          | 0/10 [00:00<?, ?it/s]"
      ]
     },
     "metadata": {},
     "output_type": "display_data"
    },
    {
     "data": {
      "application/vnd.jupyter.widget-view+json": {
       "model_id": "87670316da3e46d29294fece44ba2e91",
       "version_major": 2,
       "version_minor": 0
      },
      "text/plain": [
       "  0%|          | 0/10 [00:00<?, ?it/s]"
      ]
     },
     "metadata": {},
     "output_type": "display_data"
    },
    {
     "data": {
      "application/vnd.jupyter.widget-view+json": {
       "model_id": "fd40a6e8236446e4a9640032f936b0e6",
       "version_major": 2,
       "version_minor": 0
      },
      "text/plain": [
       "  0%|          | 0/10 [00:00<?, ?it/s]"
      ]
     },
     "metadata": {},
     "output_type": "display_data"
    },
    {
     "data": {
      "application/vnd.jupyter.widget-view+json": {
       "model_id": "70129abbd046456ba9afb5152ff20b54",
       "version_major": 2,
       "version_minor": 0
      },
      "text/plain": [
       "  0%|          | 0/10 [00:00<?, ?it/s]"
      ]
     },
     "metadata": {},
     "output_type": "display_data"
    },
    {
     "data": {
      "application/vnd.jupyter.widget-view+json": {
       "model_id": "04cec45428604017b841cec0f77ee71e",
       "version_major": 2,
       "version_minor": 0
      },
      "text/plain": [
       "  0%|          | 0/10 [00:00<?, ?it/s]"
      ]
     },
     "metadata": {},
     "output_type": "display_data"
    },
    {
     "data": {
      "application/vnd.jupyter.widget-view+json": {
       "model_id": "e23f5c90ed3f4748a4554babafd6b590",
       "version_major": 2,
       "version_minor": 0
      },
      "text/plain": [
       "  0%|          | 0/10 [00:00<?, ?it/s]"
      ]
     },
     "metadata": {},
     "output_type": "display_data"
    },
    {
     "data": {
      "application/vnd.jupyter.widget-view+json": {
       "model_id": "19de1d00b9a84ec988cf3010d544fc3a",
       "version_major": 2,
       "version_minor": 0
      },
      "text/plain": [
       "  0%|          | 0/10 [00:00<?, ?it/s]"
      ]
     },
     "metadata": {},
     "output_type": "display_data"
    },
    {
     "data": {
      "application/vnd.jupyter.widget-view+json": {
       "model_id": "a4ef1468d4444314b51aa8e8e7205cb2",
       "version_major": 2,
       "version_minor": 0
      },
      "text/plain": [
       "  0%|          | 0/10 [00:00<?, ?it/s]"
      ]
     },
     "metadata": {},
     "output_type": "display_data"
    },
    {
     "data": {
      "application/vnd.jupyter.widget-view+json": {
       "model_id": "e213d074f1394065acc0be34212ed644",
       "version_major": 2,
       "version_minor": 0
      },
      "text/plain": [
       "  0%|          | 0/10 [00:00<?, ?it/s]"
      ]
     },
     "metadata": {},
     "output_type": "display_data"
    },
    {
     "data": {
      "application/vnd.jupyter.widget-view+json": {
       "model_id": "a8338a8c318a46999309d4cdd5a20c24",
       "version_major": 2,
       "version_minor": 0
      },
      "text/plain": [
       "  0%|          | 0/10 [00:00<?, ?it/s]"
      ]
     },
     "metadata": {},
     "output_type": "display_data"
    },
    {
     "data": {
      "application/vnd.jupyter.widget-view+json": {
       "model_id": "a4f8653701f545498a6dfe126465ea53",
       "version_major": 2,
       "version_minor": 0
      },
      "text/plain": [
       "  0%|          | 0/10 [00:00<?, ?it/s]"
      ]
     },
     "metadata": {},
     "output_type": "display_data"
    },
    {
     "data": {
      "application/vnd.jupyter.widget-view+json": {
       "model_id": "aef6d3d0625c4ec5b71b2272db87d2e8",
       "version_major": 2,
       "version_minor": 0
      },
      "text/plain": [
       "  0%|          | 0/10 [00:00<?, ?it/s]"
      ]
     },
     "metadata": {},
     "output_type": "display_data"
    },
    {
     "data": {
      "application/vnd.jupyter.widget-view+json": {
       "model_id": "4a782d9666de433f919eb6461ca9c650",
       "version_major": 2,
       "version_minor": 0
      },
      "text/plain": [
       "  0%|          | 0/10 [00:00<?, ?it/s]"
      ]
     },
     "metadata": {},
     "output_type": "display_data"
    },
    {
     "data": {
      "application/vnd.jupyter.widget-view+json": {
       "model_id": "78350f2b357d400e8a3266bf395934de",
       "version_major": 2,
       "version_minor": 0
      },
      "text/plain": [
       "  0%|          | 0/10 [00:00<?, ?it/s]"
      ]
     },
     "metadata": {},
     "output_type": "display_data"
    },
    {
     "data": {
      "application/vnd.jupyter.widget-view+json": {
       "model_id": "c5be44d48cf346c08253ff37ca203a08",
       "version_major": 2,
       "version_minor": 0
      },
      "text/plain": [
       "  0%|          | 0/10 [00:00<?, ?it/s]"
      ]
     },
     "metadata": {},
     "output_type": "display_data"
    },
    {
     "data": {
      "application/vnd.jupyter.widget-view+json": {
       "model_id": "80dfdc4f034e42d984227181b5b636d7",
       "version_major": 2,
       "version_minor": 0
      },
      "text/plain": [
       "  0%|          | 0/10 [00:00<?, ?it/s]"
      ]
     },
     "metadata": {},
     "output_type": "display_data"
    },
    {
     "data": {
      "application/vnd.jupyter.widget-view+json": {
       "model_id": "af5716b070a44d4dbbbc43ec878d995d",
       "version_major": 2,
       "version_minor": 0
      },
      "text/plain": [
       "  0%|          | 0/10 [00:00<?, ?it/s]"
      ]
     },
     "metadata": {},
     "output_type": "display_data"
    },
    {
     "data": {
      "application/vnd.jupyter.widget-view+json": {
       "model_id": "77843f392c5349caa785ca3b430d5c1c",
       "version_major": 2,
       "version_minor": 0
      },
      "text/plain": [
       "  0%|          | 0/10 [00:00<?, ?it/s]"
      ]
     },
     "metadata": {},
     "output_type": "display_data"
    },
    {
     "data": {
      "application/vnd.jupyter.widget-view+json": {
       "model_id": "80bde6a914fa4b9b88cefb226cb2618a",
       "version_major": 2,
       "version_minor": 0
      },
      "text/plain": [
       "  0%|          | 0/10 [00:00<?, ?it/s]"
      ]
     },
     "metadata": {},
     "output_type": "display_data"
    },
    {
     "name": "stdout",
     "output_type": "stream",
     "text": [
      "===========================================\n",
      "                   QWC\n",
      "===========================================\n"
     ]
    },
    {
     "data": {
      "application/vnd.jupyter.widget-view+json": {
       "model_id": "1c09f9812e6842a3948b5b45e68cf22b",
       "version_major": 2,
       "version_minor": 0
      },
      "text/plain": [
       "  0%|          | 0/10 [00:00<?, ?it/s]"
      ]
     },
     "metadata": {},
     "output_type": "display_data"
    },
    {
     "data": {
      "application/vnd.jupyter.widget-view+json": {
       "model_id": "15a04a4200a24b549e10a17532692f29",
       "version_major": 2,
       "version_minor": 0
      },
      "text/plain": [
       "  0%|          | 0/10 [00:00<?, ?it/s]"
      ]
     },
     "metadata": {},
     "output_type": "display_data"
    },
    {
     "data": {
      "application/vnd.jupyter.widget-view+json": {
       "model_id": "c94357f761bd4cfebcffb5f32ab607ed",
       "version_major": 2,
       "version_minor": 0
      },
      "text/plain": [
       "  0%|          | 0/10 [00:00<?, ?it/s]"
      ]
     },
     "metadata": {},
     "output_type": "display_data"
    },
    {
     "data": {
      "application/vnd.jupyter.widget-view+json": {
       "model_id": "df93d119a4d74b858164a11ea892c07a",
       "version_major": 2,
       "version_minor": 0
      },
      "text/plain": [
       "  0%|          | 0/10 [00:00<?, ?it/s]"
      ]
     },
     "metadata": {},
     "output_type": "display_data"
    },
    {
     "data": {
      "application/vnd.jupyter.widget-view+json": {
       "model_id": "e9f8a8cd42d34a04a254eb0626e9ab75",
       "version_major": 2,
       "version_minor": 0
      },
      "text/plain": [
       "  0%|          | 0/10 [00:00<?, ?it/s]"
      ]
     },
     "metadata": {},
     "output_type": "display_data"
    },
    {
     "data": {
      "application/vnd.jupyter.widget-view+json": {
       "model_id": "56930e9f55054ecd877cc1a3043e42dd",
       "version_major": 2,
       "version_minor": 0
      },
      "text/plain": [
       "  0%|          | 0/10 [00:00<?, ?it/s]"
      ]
     },
     "metadata": {},
     "output_type": "display_data"
    },
    {
     "data": {
      "application/vnd.jupyter.widget-view+json": {
       "model_id": "b12842da4d554f219cd1f2c931d6b895",
       "version_major": 2,
       "version_minor": 0
      },
      "text/plain": [
       "  0%|          | 0/10 [00:00<?, ?it/s]"
      ]
     },
     "metadata": {},
     "output_type": "display_data"
    },
    {
     "data": {
      "application/vnd.jupyter.widget-view+json": {
       "model_id": "31c5db3cc4d04058b08ddc2a203834b5",
       "version_major": 2,
       "version_minor": 0
      },
      "text/plain": [
       "  0%|          | 0/10 [00:00<?, ?it/s]"
      ]
     },
     "metadata": {},
     "output_type": "display_data"
    },
    {
     "data": {
      "application/vnd.jupyter.widget-view+json": {
       "model_id": "bda521ee588f4e2184d4b52cde5d4371",
       "version_major": 2,
       "version_minor": 0
      },
      "text/plain": [
       "  0%|          | 0/10 [00:00<?, ?it/s]"
      ]
     },
     "metadata": {},
     "output_type": "display_data"
    },
    {
     "data": {
      "application/vnd.jupyter.widget-view+json": {
       "model_id": "9fa52582462c42068e7b30961d60ab4a",
       "version_major": 2,
       "version_minor": 0
      },
      "text/plain": [
       "  0%|          | 0/10 [00:00<?, ?it/s]"
      ]
     },
     "metadata": {},
     "output_type": "display_data"
    },
    {
     "data": {
      "application/vnd.jupyter.widget-view+json": {
       "model_id": "c950280fcaf3458db9e871dcd0b198fb",
       "version_major": 2,
       "version_minor": 0
      },
      "text/plain": [
       "  0%|          | 0/10 [00:00<?, ?it/s]"
      ]
     },
     "metadata": {},
     "output_type": "display_data"
    },
    {
     "data": {
      "application/vnd.jupyter.widget-view+json": {
       "model_id": "8b40799de2234a38a70136ce49a208a8",
       "version_major": 2,
       "version_minor": 0
      },
      "text/plain": [
       "  0%|          | 0/10 [00:00<?, ?it/s]"
      ]
     },
     "metadata": {},
     "output_type": "display_data"
    },
    {
     "data": {
      "application/vnd.jupyter.widget-view+json": {
       "model_id": "5d83bec77d9f4f9cac5f0f4b710982b7",
       "version_major": 2,
       "version_minor": 0
      },
      "text/plain": [
       "  0%|          | 0/10 [00:00<?, ?it/s]"
      ]
     },
     "metadata": {},
     "output_type": "display_data"
    },
    {
     "data": {
      "application/vnd.jupyter.widget-view+json": {
       "model_id": "bf6dac2092224df0bbeb0a6f3361aab2",
       "version_major": 2,
       "version_minor": 0
      },
      "text/plain": [
       "  0%|          | 0/10 [00:00<?, ?it/s]"
      ]
     },
     "metadata": {},
     "output_type": "display_data"
    },
    {
     "data": {
      "application/vnd.jupyter.widget-view+json": {
       "model_id": "406a29d94ddd44ebbf9c8e76727562ac",
       "version_major": 2,
       "version_minor": 0
      },
      "text/plain": [
       "  0%|          | 0/10 [00:00<?, ?it/s]"
      ]
     },
     "metadata": {},
     "output_type": "display_data"
    },
    {
     "data": {
      "application/vnd.jupyter.widget-view+json": {
       "model_id": "b4ba9f8515cb473988425f111a55b9dd",
       "version_major": 2,
       "version_minor": 0
      },
      "text/plain": [
       "  0%|          | 0/10 [00:00<?, ?it/s]"
      ]
     },
     "metadata": {},
     "output_type": "display_data"
    },
    {
     "data": {
      "application/vnd.jupyter.widget-view+json": {
       "model_id": "e4c5d255bc2b4b99a9a85823464b9d9e",
       "version_major": 2,
       "version_minor": 0
      },
      "text/plain": [
       "  0%|          | 0/10 [00:00<?, ?it/s]"
      ]
     },
     "metadata": {},
     "output_type": "display_data"
    },
    {
     "data": {
      "application/vnd.jupyter.widget-view+json": {
       "model_id": "a0eddde0a41e49b8aa53da89b194790c",
       "version_major": 2,
       "version_minor": 0
      },
      "text/plain": [
       "  0%|          | 0/10 [00:00<?, ?it/s]"
      ]
     },
     "metadata": {},
     "output_type": "display_data"
    },
    {
     "data": {
      "application/vnd.jupyter.widget-view+json": {
       "model_id": "5ed48931f7014b0baae06dfbb8149b6a",
       "version_major": 2,
       "version_minor": 0
      },
      "text/plain": [
       "  0%|          | 0/10 [00:00<?, ?it/s]"
      ]
     },
     "metadata": {},
     "output_type": "display_data"
    },
    {
     "data": {
      "application/vnd.jupyter.widget-view+json": {
       "model_id": "cd3f162414b84684be6e66a0d396ecb8",
       "version_major": 2,
       "version_minor": 0
      },
      "text/plain": [
       "  0%|          | 0/10 [00:00<?, ?it/s]"
      ]
     },
     "metadata": {},
     "output_type": "display_data"
    },
    {
     "data": {
      "application/vnd.jupyter.widget-view+json": {
       "model_id": "c6a6892258124528b198896efd8ff036",
       "version_major": 2,
       "version_minor": 0
      },
      "text/plain": [
       "  0%|          | 0/10 [00:00<?, ?it/s]"
      ]
     },
     "metadata": {},
     "output_type": "display_data"
    },
    {
     "data": {
      "application/vnd.jupyter.widget-view+json": {
       "model_id": "ac4bfb0c555e4a5ba3995884afe0889f",
       "version_major": 2,
       "version_minor": 0
      },
      "text/plain": [
       "  0%|          | 0/10 [00:00<?, ?it/s]"
      ]
     },
     "metadata": {},
     "output_type": "display_data"
    },
    {
     "data": {
      "application/vnd.jupyter.widget-view+json": {
       "model_id": "59622c9c366c495393791555cc518241",
       "version_major": 2,
       "version_minor": 0
      },
      "text/plain": [
       "  0%|          | 0/10 [00:00<?, ?it/s]"
      ]
     },
     "metadata": {},
     "output_type": "display_data"
    },
    {
     "data": {
      "application/vnd.jupyter.widget-view+json": {
       "model_id": "0da3ae3bf8514b908fae10cc4cdcb062",
       "version_major": 2,
       "version_minor": 0
      },
      "text/plain": [
       "  0%|          | 0/10 [00:00<?, ?it/s]"
      ]
     },
     "metadata": {},
     "output_type": "display_data"
    },
    {
     "data": {
      "application/vnd.jupyter.widget-view+json": {
       "model_id": "9e8e8b4eb26f47dc853b30ad787e013f",
       "version_major": 2,
       "version_minor": 0
      },
      "text/plain": [
       "  0%|          | 0/10 [00:00<?, ?it/s]"
      ]
     },
     "metadata": {},
     "output_type": "display_data"
    },
    {
     "data": {
      "application/vnd.jupyter.widget-view+json": {
       "model_id": "6e91a29c7b76479e867f70b05dd6e84f",
       "version_major": 2,
       "version_minor": 0
      },
      "text/plain": [
       "  0%|          | 0/10 [00:00<?, ?it/s]"
      ]
     },
     "metadata": {},
     "output_type": "display_data"
    },
    {
     "data": {
      "application/vnd.jupyter.widget-view+json": {
       "model_id": "cfdf8ff56ace43ea984328d9def58d95",
       "version_major": 2,
       "version_minor": 0
      },
      "text/plain": [
       "  0%|          | 0/10 [00:00<?, ?it/s]"
      ]
     },
     "metadata": {},
     "output_type": "display_data"
    },
    {
     "data": {
      "application/vnd.jupyter.widget-view+json": {
       "model_id": "e0aaab595c8e47f48a74051864efb943",
       "version_major": 2,
       "version_minor": 0
      },
      "text/plain": [
       "  0%|          | 0/10 [00:00<?, ?it/s]"
      ]
     },
     "metadata": {},
     "output_type": "display_data"
    },
    {
     "data": {
      "application/vnd.jupyter.widget-view+json": {
       "model_id": "0291d64b4ee84e3ca7d68ca9e9117244",
       "version_major": 2,
       "version_minor": 0
      },
      "text/plain": [
       "  0%|          | 0/10 [00:00<?, ?it/s]"
      ]
     },
     "metadata": {},
     "output_type": "display_data"
    },
    {
     "data": {
      "application/vnd.jupyter.widget-view+json": {
       "model_id": "1c3fa371e87941f6bef26aff36d4a7ec",
       "version_major": 2,
       "version_minor": 0
      },
      "text/plain": [
       "  0%|          | 0/10 [00:00<?, ?it/s]"
      ]
     },
     "metadata": {},
     "output_type": "display_data"
    },
    {
     "data": {
      "application/vnd.jupyter.widget-view+json": {
       "model_id": "535b63fd07da45558ecd04cac8fd4c9b",
       "version_major": 2,
       "version_minor": 0
      },
      "text/plain": [
       "  0%|          | 0/10 [00:00<?, ?it/s]"
      ]
     },
     "metadata": {},
     "output_type": "display_data"
    },
    {
     "data": {
      "application/vnd.jupyter.widget-view+json": {
       "model_id": "92cb49e317fa40adb12402d2bf2d2215",
       "version_major": 2,
       "version_minor": 0
      },
      "text/plain": [
       "  0%|          | 0/10 [00:00<?, ?it/s]"
      ]
     },
     "metadata": {},
     "output_type": "display_data"
    },
    {
     "name": "stdout",
     "output_type": "stream",
     "text": [
      "===========================================\n",
      "                   QWC(BronKerbosch)\n",
      "===========================================\n"
     ]
    },
    {
     "data": {
      "application/vnd.jupyter.widget-view+json": {
       "model_id": "da6dba1f7472436ebba9fb0a234d14e0",
       "version_major": 2,
       "version_minor": 0
      },
      "text/plain": [
       "  0%|          | 0/10 [00:00<?, ?it/s]"
      ]
     },
     "metadata": {},
     "output_type": "display_data"
    },
    {
     "name": "stdout",
     "output_type": "stream",
     "text": [
      "MEASURECIRCUIT: Generated graph for the Hamiltonian with 31 nodes.\n",
      "MEASURECIRCUIT: BronKerbosch found 1 unique circuits\n",
      "MEASURECIRCUIT: Elapsed time: 0.009383s\n",
      "MEASURECIRCUIT: Generated graph for the Hamiltonian with 31 nodes.\n",
      "MEASURECIRCUIT: BronKerbosch found 1 unique circuits\n",
      "MEASURECIRCUIT: Elapsed time: 0.009336s\n",
      "MEASURECIRCUIT: Generated graph for the Hamiltonian with 31 nodes.\n",
      "MEASURECIRCUIT: BronKerbosch found 1 unique circuits\n",
      "MEASURECIRCUIT: Elapsed time: 0.009413s\n",
      "MEASURECIRCUIT: Generated graph for the Hamiltonian with 31 nodes.\n",
      "MEASURECIRCUIT: BronKerbosch found 1 unique circuits\n",
      "MEASURECIRCUIT: Elapsed time: 0.009373s\n",
      "MEASURECIRCUIT: Generated graph for the Hamiltonian with 31 nodes.\n",
      "MEASURECIRCUIT: BronKerbosch found 1 unique circuits\n",
      "MEASURECIRCUIT: Elapsed time: 0.009413s\n",
      "MEASURECIRCUIT: Generated graph for the Hamiltonian with 31 nodes.\n",
      "MEASURECIRCUIT: BronKerbosch found 1 unique circuits\n",
      "MEASURECIRCUIT: Elapsed time: 0.009291s\n",
      "MEASURECIRCUIT: Generated graph for the Hamiltonian with 31 nodes.\n",
      "MEASURECIRCUIT: BronKerbosch found 1 unique circuits\n",
      "MEASURECIRCUIT: Elapsed time: 0.009417s\n",
      "MEASURECIRCUIT: Generated graph for the Hamiltonian with 31 nodes.\n",
      "MEASURECIRCUIT: BronKerbosch found 1 unique circuits\n",
      "MEASURECIRCUIT: Elapsed time: 0.009266s\n",
      "MEASURECIRCUIT: Generated graph for the Hamiltonian with 31 nodes.\n",
      "MEASURECIRCUIT: BronKerbosch found 1 unique circuits\n",
      "MEASURECIRCUIT: Elapsed time: 0.009783s\n",
      "MEASURECIRCUIT: Generated graph for the Hamiltonian with 31 nodes.\n",
      "MEASURECIRCUIT: BronKerbosch found 1 unique circuits\n",
      "MEASURECIRCUIT: Elapsed time: 0.009564s\n"
     ]
    },
    {
     "data": {
      "application/vnd.jupyter.widget-view+json": {
       "model_id": "8600d307299e4263a80ba462924b08ad",
       "version_major": 2,
       "version_minor": 0
      },
      "text/plain": [
       "  0%|          | 0/10 [00:00<?, ?it/s]"
      ]
     },
     "metadata": {},
     "output_type": "display_data"
    },
    {
     "name": "stdout",
     "output_type": "stream",
     "text": [
      "MEASURECIRCUIT: Generated graph for the Hamiltonian with 191 nodes.\n",
      "MEASURECIRCUIT: BronKerbosch found 63 unique circuits\n",
      "MEASURECIRCUIT: Elapsed time: 0.183780s\n",
      "MEASURECIRCUIT: Generated graph for the Hamiltonian with 191 nodes.\n",
      "MEASURECIRCUIT: BronKerbosch found 63 unique circuits\n",
      "MEASURECIRCUIT: Elapsed time: 0.184723s\n",
      "MEASURECIRCUIT: Generated graph for the Hamiltonian with 191 nodes.\n",
      "MEASURECIRCUIT: BronKerbosch found 63 unique circuits\n",
      "MEASURECIRCUIT: Elapsed time: 0.183919s\n",
      "MEASURECIRCUIT: Generated graph for the Hamiltonian with 191 nodes.\n",
      "MEASURECIRCUIT: BronKerbosch found 63 unique circuits\n",
      "MEASURECIRCUIT: Elapsed time: 0.183424s\n",
      "MEASURECIRCUIT: Generated graph for the Hamiltonian with 191 nodes.\n",
      "MEASURECIRCUIT: BronKerbosch found 63 unique circuits\n",
      "MEASURECIRCUIT: Elapsed time: 0.182611s\n",
      "MEASURECIRCUIT: Generated graph for the Hamiltonian with 191 nodes.\n",
      "MEASURECIRCUIT: BronKerbosch found 63 unique circuits\n",
      "MEASURECIRCUIT: Elapsed time: 0.182540s\n",
      "MEASURECIRCUIT: Generated graph for the Hamiltonian with 191 nodes.\n",
      "MEASURECIRCUIT: BronKerbosch found 63 unique circuits\n",
      "MEASURECIRCUIT: Elapsed time: 0.182236s\n",
      "MEASURECIRCUIT: Generated graph for the Hamiltonian with 191 nodes.\n",
      "MEASURECIRCUIT: BronKerbosch found 63 unique circuits\n",
      "MEASURECIRCUIT: Elapsed time: 0.182942s\n",
      "MEASURECIRCUIT: Generated graph for the Hamiltonian with 191 nodes.\n",
      "MEASURECIRCUIT: BronKerbosch found 63 unique circuits\n",
      "MEASURECIRCUIT: Elapsed time: 0.185682s\n",
      "MEASURECIRCUIT: Generated graph for the Hamiltonian with 191 nodes.\n",
      "MEASURECIRCUIT: BronKerbosch found 63 unique circuits\n",
      "MEASURECIRCUIT: Elapsed time: 0.181689s\n"
     ]
    },
    {
     "data": {
      "application/vnd.jupyter.widget-view+json": {
       "model_id": "32a7fba6b9a5416ab00692b6d6291623",
       "version_major": 2,
       "version_minor": 0
      },
      "text/plain": [
       "  0%|          | 0/10 [00:00<?, ?it/s]"
      ]
     },
     "metadata": {},
     "output_type": "display_data"
    },
    {
     "name": "stdout",
     "output_type": "stream",
     "text": [
      "MEASURECIRCUIT: Generated graph for the Hamiltonian with 319 nodes.\n",
      "MEASURECIRCUIT: BronKerbosch found 93 unique circuits\n",
      "MEASURECIRCUIT: Elapsed time: 0.525671s\n",
      "MEASURECIRCUIT: Generated graph for the Hamiltonian with 319 nodes.\n",
      "MEASURECIRCUIT: BronKerbosch found 93 unique circuits\n",
      "MEASURECIRCUIT: Elapsed time: 0.526133s\n",
      "MEASURECIRCUIT: Generated graph for the Hamiltonian with 319 nodes.\n",
      "MEASURECIRCUIT: BronKerbosch found 93 unique circuits\n",
      "MEASURECIRCUIT: Elapsed time: 0.530495s\n",
      "MEASURECIRCUIT: Generated graph for the Hamiltonian with 319 nodes.\n",
      "MEASURECIRCUIT: BronKerbosch found 93 unique circuits\n",
      "MEASURECIRCUIT: Elapsed time: 0.522762s\n",
      "MEASURECIRCUIT: Generated graph for the Hamiltonian with 319 nodes.\n",
      "MEASURECIRCUIT: BronKerbosch found 93 unique circuits\n",
      "MEASURECIRCUIT: Elapsed time: 0.521135s\n",
      "MEASURECIRCUIT: Generated graph for the Hamiltonian with 319 nodes.\n",
      "MEASURECIRCUIT: BronKerbosch found 93 unique circuits\n",
      "MEASURECIRCUIT: Elapsed time: 0.523247s\n",
      "MEASURECIRCUIT: Generated graph for the Hamiltonian with 319 nodes.\n",
      "MEASURECIRCUIT: BronKerbosch found 93 unique circuits\n",
      "MEASURECIRCUIT: Elapsed time: 0.524237s\n",
      "MEASURECIRCUIT: Generated graph for the Hamiltonian with 319 nodes.\n",
      "MEASURECIRCUIT: BronKerbosch found 93 unique circuits\n",
      "MEASURECIRCUIT: Elapsed time: 0.521980s\n",
      "MEASURECIRCUIT: Generated graph for the Hamiltonian with 319 nodes.\n",
      "MEASURECIRCUIT: BronKerbosch found 93 unique circuits\n",
      "MEASURECIRCUIT: Elapsed time: 0.527059s\n",
      "MEASURECIRCUIT: Generated graph for the Hamiltonian with 319 nodes.\n",
      "MEASURECIRCUIT: BronKerbosch found 93 unique circuits\n",
      "MEASURECIRCUIT: Elapsed time: 0.517318s\n"
     ]
    },
    {
     "data": {
      "application/vnd.jupyter.widget-view+json": {
       "model_id": "f185a43821b84e6199dc8a2fb2515f1a",
       "version_major": 2,
       "version_minor": 0
      },
      "text/plain": [
       "  0%|          | 0/10 [00:00<?, ?it/s]"
      ]
     },
     "metadata": {},
     "output_type": "display_data"
    },
    {
     "name": "stdout",
     "output_type": "stream",
     "text": [
      "MEASURECIRCUIT: Generated graph for the Hamiltonian with 415 nodes.\n",
      "MEASURECIRCUIT: BronKerbosch found 121 unique circuits\n",
      "MEASURECIRCUIT: Elapsed time: 0.827743s\n",
      "MEASURECIRCUIT: Generated graph for the Hamiltonian with 415 nodes.\n",
      "MEASURECIRCUIT: BronKerbosch found 121 unique circuits\n",
      "MEASURECIRCUIT: Elapsed time: 0.830731s\n",
      "MEASURECIRCUIT: Generated graph for the Hamiltonian with 415 nodes.\n",
      "MEASURECIRCUIT: BronKerbosch found 121 unique circuits\n",
      "MEASURECIRCUIT: Elapsed time: 0.846207s\n",
      "MEASURECIRCUIT: Generated graph for the Hamiltonian with 415 nodes.\n",
      "MEASURECIRCUIT: BronKerbosch found 121 unique circuits\n",
      "MEASURECIRCUIT: Elapsed time: 0.831490s\n",
      "MEASURECIRCUIT: Generated graph for the Hamiltonian with 415 nodes.\n",
      "MEASURECIRCUIT: BronKerbosch found 121 unique circuits\n",
      "MEASURECIRCUIT: Elapsed time: 0.834423s\n",
      "MEASURECIRCUIT: Generated graph for the Hamiltonian with 415 nodes.\n",
      "MEASURECIRCUIT: BronKerbosch found 121 unique circuits\n",
      "MEASURECIRCUIT: Elapsed time: 0.837536s\n",
      "MEASURECIRCUIT: Generated graph for the Hamiltonian with 415 nodes.\n",
      "MEASURECIRCUIT: BronKerbosch found 121 unique circuits\n",
      "MEASURECIRCUIT: Elapsed time: 0.832846s\n",
      "MEASURECIRCUIT: Generated graph for the Hamiltonian with 415 nodes.\n",
      "MEASURECIRCUIT: BronKerbosch found 121 unique circuits\n",
      "MEASURECIRCUIT: Elapsed time: 0.832421s\n",
      "MEASURECIRCUIT: Generated graph for the Hamiltonian with 415 nodes.\n",
      "MEASURECIRCUIT: BronKerbosch found 121 unique circuits\n",
      "MEASURECIRCUIT: Elapsed time: 0.836257s\n",
      "MEASURECIRCUIT: Generated graph for the Hamiltonian with 415 nodes.\n",
      "MEASURECIRCUIT: BronKerbosch found 121 unique circuits\n",
      "MEASURECIRCUIT: Elapsed time: 0.842733s\n"
     ]
    },
    {
     "data": {
      "application/vnd.jupyter.widget-view+json": {
       "model_id": "43f6c2e5bfbe41139faedf3f326500a8",
       "version_major": 2,
       "version_minor": 0
      },
      "text/plain": [
       "  0%|          | 0/10 [00:00<?, ?it/s]"
      ]
     },
     "metadata": {},
     "output_type": "display_data"
    },
    {
     "name": "stdout",
     "output_type": "stream",
     "text": [
      "MEASURECIRCUIT: Generated graph for the Hamiltonian with 511 nodes.\n",
      "MEASURECIRCUIT: BronKerbosch found 135 unique circuits\n",
      "MEASURECIRCUIT: Elapsed time: 1.448083s\n",
      "MEASURECIRCUIT: Generated graph for the Hamiltonian with 511 nodes.\n",
      "MEASURECIRCUIT: BronKerbosch found 135 unique circuits\n",
      "MEASURECIRCUIT: Elapsed time: 1.447982s\n",
      "MEASURECIRCUIT: Generated graph for the Hamiltonian with 511 nodes.\n",
      "MEASURECIRCUIT: BronKerbosch found 135 unique circuits\n",
      "MEASURECIRCUIT: Elapsed time: 1.467603s\n",
      "MEASURECIRCUIT: Generated graph for the Hamiltonian with 511 nodes.\n",
      "MEASURECIRCUIT: BronKerbosch found 135 unique circuits\n",
      "MEASURECIRCUIT: Elapsed time: 1.460864s\n",
      "MEASURECIRCUIT: Generated graph for the Hamiltonian with 511 nodes.\n",
      "MEASURECIRCUIT: BronKerbosch found 135 unique circuits\n",
      "MEASURECIRCUIT: Elapsed time: 1.455403s\n",
      "MEASURECIRCUIT: Generated graph for the Hamiltonian with 511 nodes.\n",
      "MEASURECIRCUIT: BronKerbosch found 135 unique circuits\n",
      "MEASURECIRCUIT: Elapsed time: 1.463517s\n",
      "MEASURECIRCUIT: Generated graph for the Hamiltonian with 511 nodes.\n",
      "MEASURECIRCUIT: BronKerbosch found 135 unique circuits\n",
      "MEASURECIRCUIT: Elapsed time: 1.460912s\n",
      "MEASURECIRCUIT: Generated graph for the Hamiltonian with 511 nodes.\n",
      "MEASURECIRCUIT: BronKerbosch found 135 unique circuits\n",
      "MEASURECIRCUIT: Elapsed time: 1.453536s\n",
      "MEASURECIRCUIT: Generated graph for the Hamiltonian with 511 nodes.\n",
      "MEASURECIRCUIT: BronKerbosch found 135 unique circuits\n",
      "MEASURECIRCUIT: Elapsed time: 1.461326s\n",
      "MEASURECIRCUIT: Generated graph for the Hamiltonian with 511 nodes.\n",
      "MEASURECIRCUIT: BronKerbosch found 135 unique circuits\n",
      "MEASURECIRCUIT: Elapsed time: 1.458182s\n"
     ]
    },
    {
     "data": {
      "application/vnd.jupyter.widget-view+json": {
       "model_id": "12e5a78a87cb4c47b86828f2ddb843e0",
       "version_major": 2,
       "version_minor": 0
      },
      "text/plain": [
       "  0%|          | 0/10 [00:00<?, ?it/s]"
      ]
     },
     "metadata": {},
     "output_type": "display_data"
    },
    {
     "name": "stdout",
     "output_type": "stream",
     "text": [
      "MEASURECIRCUIT: Generated graph for the Hamiltonian with 575 nodes.\n",
      "MEASURECIRCUIT: BronKerbosch found 159 unique circuits\n",
      "MEASURECIRCUIT: Elapsed time: 1.783940s\n",
      "MEASURECIRCUIT: Generated graph for the Hamiltonian with 575 nodes.\n",
      "MEASURECIRCUIT: BronKerbosch found 159 unique circuits\n",
      "MEASURECIRCUIT: Elapsed time: 1.804204s\n",
      "MEASURECIRCUIT: Generated graph for the Hamiltonian with 575 nodes.\n",
      "MEASURECIRCUIT: BronKerbosch found 159 unique circuits\n",
      "MEASURECIRCUIT: Elapsed time: 1.806516s\n",
      "MEASURECIRCUIT: Generated graph for the Hamiltonian with 575 nodes.\n",
      "MEASURECIRCUIT: BronKerbosch found 159 unique circuits\n",
      "MEASURECIRCUIT: Elapsed time: 1.807059s\n",
      "MEASURECIRCUIT: Generated graph for the Hamiltonian with 575 nodes.\n",
      "MEASURECIRCUIT: BronKerbosch found 159 unique circuits\n",
      "MEASURECIRCUIT: Elapsed time: 1.820255s\n",
      "MEASURECIRCUIT: Generated graph for the Hamiltonian with 575 nodes.\n",
      "MEASURECIRCUIT: BronKerbosch found 159 unique circuits\n",
      "MEASURECIRCUIT: Elapsed time: 1.812215s\n",
      "MEASURECIRCUIT: Generated graph for the Hamiltonian with 575 nodes.\n",
      "MEASURECIRCUIT: BronKerbosch found 159 unique circuits\n",
      "MEASURECIRCUIT: Elapsed time: 1.791694s\n",
      "MEASURECIRCUIT: Generated graph for the Hamiltonian with 575 nodes.\n",
      "MEASURECIRCUIT: BronKerbosch found 159 unique circuits\n",
      "MEASURECIRCUIT: Elapsed time: 1.822458s\n",
      "MEASURECIRCUIT: Generated graph for the Hamiltonian with 575 nodes.\n",
      "MEASURECIRCUIT: BronKerbosch found 159 unique circuits\n",
      "MEASURECIRCUIT: Elapsed time: 1.805276s\n",
      "MEASURECIRCUIT: Generated graph for the Hamiltonian with 575 nodes.\n",
      "MEASURECIRCUIT: BronKerbosch found 159 unique circuits\n",
      "MEASURECIRCUIT: Elapsed time: 1.801974s\n"
     ]
    },
    {
     "data": {
      "application/vnd.jupyter.widget-view+json": {
       "model_id": "a9b4870242714c54bc2d12ef5c77bfb5",
       "version_major": 2,
       "version_minor": 0
      },
      "text/plain": [
       "  0%|          | 0/10 [00:00<?, ?it/s]"
      ]
     },
     "metadata": {},
     "output_type": "display_data"
    },
    {
     "name": "stdout",
     "output_type": "stream",
     "text": [
      "MEASURECIRCUIT: Generated graph for the Hamiltonian with 639 nodes.\n",
      "MEASURECIRCUIT: BronKerbosch found 171 unique circuits\n",
      "MEASURECIRCUIT: Elapsed time: 2.182464s\n",
      "MEASURECIRCUIT: Generated graph for the Hamiltonian with 639 nodes.\n",
      "MEASURECIRCUIT: BronKerbosch found 171 unique circuits\n",
      "MEASURECIRCUIT: Elapsed time: 2.205227s\n",
      "MEASURECIRCUIT: Generated graph for the Hamiltonian with 639 nodes.\n",
      "MEASURECIRCUIT: BronKerbosch found 171 unique circuits\n",
      "MEASURECIRCUIT: Elapsed time: 2.199477s\n",
      "MEASURECIRCUIT: Generated graph for the Hamiltonian with 639 nodes.\n",
      "MEASURECIRCUIT: BronKerbosch found 171 unique circuits\n",
      "MEASURECIRCUIT: Elapsed time: 2.208213s\n",
      "MEASURECIRCUIT: Generated graph for the Hamiltonian with 639 nodes.\n",
      "MEASURECIRCUIT: BronKerbosch found 171 unique circuits\n",
      "MEASURECIRCUIT: Elapsed time: 2.199289s\n",
      "MEASURECIRCUIT: Generated graph for the Hamiltonian with 639 nodes.\n",
      "MEASURECIRCUIT: BronKerbosch found 171 unique circuits\n",
      "MEASURECIRCUIT: Elapsed time: 2.197964s\n",
      "MEASURECIRCUIT: Generated graph for the Hamiltonian with 639 nodes.\n",
      "MEASURECIRCUIT: BronKerbosch found 171 unique circuits\n",
      "MEASURECIRCUIT: Elapsed time: 2.205113s\n",
      "MEASURECIRCUIT: Generated graph for the Hamiltonian with 639 nodes.\n",
      "MEASURECIRCUIT: BronKerbosch found 171 unique circuits\n",
      "MEASURECIRCUIT: Elapsed time: 2.209055s\n",
      "MEASURECIRCUIT: Generated graph for the Hamiltonian with 639 nodes.\n",
      "MEASURECIRCUIT: BronKerbosch found 171 unique circuits\n",
      "MEASURECIRCUIT: Elapsed time: 2.212852s\n",
      "MEASURECIRCUIT: Generated graph for the Hamiltonian with 639 nodes.\n",
      "MEASURECIRCUIT: BronKerbosch found 171 unique circuits\n",
      "MEASURECIRCUIT: Elapsed time: 2.203213s\n"
     ]
    },
    {
     "data": {
      "application/vnd.jupyter.widget-view+json": {
       "model_id": "f7d884758898429794e83ee4818bfa3a",
       "version_major": 2,
       "version_minor": 0
      },
      "text/plain": [
       "  0%|          | 0/10 [00:00<?, ?it/s]"
      ]
     },
     "metadata": {},
     "output_type": "display_data"
    },
    {
     "name": "stdout",
     "output_type": "stream",
     "text": [
      "MEASURECIRCUIT: Generated graph for the Hamiltonian with 703 nodes.\n",
      "MEASURECIRCUIT: BronKerbosch found 183 unique circuits\n",
      "MEASURECIRCUIT: Elapsed time: 2.732366s\n",
      "MEASURECIRCUIT: Generated graph for the Hamiltonian with 703 nodes.\n",
      "MEASURECIRCUIT: BronKerbosch found 183 unique circuits\n",
      "MEASURECIRCUIT: Elapsed time: 2.749687s\n",
      "MEASURECIRCUIT: Generated graph for the Hamiltonian with 703 nodes.\n",
      "MEASURECIRCUIT: BronKerbosch found 183 unique circuits\n",
      "MEASURECIRCUIT: Elapsed time: 2.769134s\n",
      "MEASURECIRCUIT: Generated graph for the Hamiltonian with 703 nodes.\n",
      "MEASURECIRCUIT: BronKerbosch found 183 unique circuits\n",
      "MEASURECIRCUIT: Elapsed time: 2.749084s\n",
      "MEASURECIRCUIT: Generated graph for the Hamiltonian with 703 nodes.\n",
      "MEASURECIRCUIT: BronKerbosch found 183 unique circuits\n",
      "MEASURECIRCUIT: Elapsed time: 2.773803s\n",
      "MEASURECIRCUIT: Generated graph for the Hamiltonian with 703 nodes.\n",
      "MEASURECIRCUIT: BronKerbosch found 183 unique circuits\n",
      "MEASURECIRCUIT: Elapsed time: 2.779349s\n",
      "MEASURECIRCUIT: Generated graph for the Hamiltonian with 703 nodes.\n",
      "MEASURECIRCUIT: BronKerbosch found 183 unique circuits\n",
      "MEASURECIRCUIT: Elapsed time: 2.732719s\n",
      "MEASURECIRCUIT: Generated graph for the Hamiltonian with 703 nodes.\n",
      "MEASURECIRCUIT: BronKerbosch found 183 unique circuits\n",
      "MEASURECIRCUIT: Elapsed time: 2.755236s\n",
      "MEASURECIRCUIT: Generated graph for the Hamiltonian with 703 nodes.\n",
      "MEASURECIRCUIT: BronKerbosch found 183 unique circuits\n",
      "MEASURECIRCUIT: Elapsed time: 2.745310s\n",
      "MEASURECIRCUIT: Generated graph for the Hamiltonian with 703 nodes.\n",
      "MEASURECIRCUIT: BronKerbosch found 183 unique circuits\n",
      "MEASURECIRCUIT: Elapsed time: 2.763919s\n"
     ]
    },
    {
     "data": {
      "application/vnd.jupyter.widget-view+json": {
       "model_id": "febad9c8a3f4430591eeb731755667c4",
       "version_major": 2,
       "version_minor": 0
      },
      "text/plain": [
       "  0%|          | 0/10 [00:00<?, ?it/s]"
      ]
     },
     "metadata": {},
     "output_type": "display_data"
    },
    {
     "name": "stdout",
     "output_type": "stream",
     "text": [
      "MEASURECIRCUIT: Generated graph for the Hamiltonian with 767 nodes.\n",
      "MEASURECIRCUIT: BronKerbosch found 189 unique circuits\n",
      "MEASURECIRCUIT: Elapsed time: 3.721080s\n",
      "MEASURECIRCUIT: Generated graph for the Hamiltonian with 767 nodes.\n",
      "MEASURECIRCUIT: BronKerbosch found 189 unique circuits\n",
      "MEASURECIRCUIT: Elapsed time: 3.717143s\n",
      "MEASURECIRCUIT: Generated graph for the Hamiltonian with 767 nodes.\n",
      "MEASURECIRCUIT: BronKerbosch found 189 unique circuits\n",
      "MEASURECIRCUIT: Elapsed time: 3.730974s\n",
      "MEASURECIRCUIT: Generated graph for the Hamiltonian with 767 nodes.\n",
      "MEASURECIRCUIT: BronKerbosch found 189 unique circuits\n",
      "MEASURECIRCUIT: Elapsed time: 3.748310s\n",
      "MEASURECIRCUIT: Generated graph for the Hamiltonian with 767 nodes.\n",
      "MEASURECIRCUIT: BronKerbosch found 189 unique circuits\n",
      "MEASURECIRCUIT: Elapsed time: 3.721413s\n",
      "MEASURECIRCUIT: Generated graph for the Hamiltonian with 767 nodes.\n",
      "MEASURECIRCUIT: BronKerbosch found 189 unique circuits\n",
      "MEASURECIRCUIT: Elapsed time: 3.750639s\n",
      "MEASURECIRCUIT: Generated graph for the Hamiltonian with 767 nodes.\n",
      "MEASURECIRCUIT: BronKerbosch found 189 unique circuits\n",
      "MEASURECIRCUIT: Elapsed time: 3.747544s\n",
      "MEASURECIRCUIT: Generated graph for the Hamiltonian with 767 nodes.\n",
      "MEASURECIRCUIT: BronKerbosch found 189 unique circuits\n",
      "MEASURECIRCUIT: Elapsed time: 3.729857s\n",
      "MEASURECIRCUIT: Generated graph for the Hamiltonian with 767 nodes.\n",
      "MEASURECIRCUIT: BronKerbosch found 189 unique circuits\n",
      "MEASURECIRCUIT: Elapsed time: 3.699530s\n",
      "MEASURECIRCUIT: Generated graph for the Hamiltonian with 767 nodes.\n",
      "MEASURECIRCUIT: BronKerbosch found 189 unique circuits\n",
      "MEASURECIRCUIT: Elapsed time: 3.738071s\n"
     ]
    },
    {
     "data": {
      "application/vnd.jupyter.widget-view+json": {
       "model_id": "cd23339c3e8545539fdbc05d5e6818cc",
       "version_major": 2,
       "version_minor": 0
      },
      "text/plain": [
       "  0%|          | 0/10 [00:00<?, ?it/s]"
      ]
     },
     "metadata": {},
     "output_type": "display_data"
    },
    {
     "name": "stdout",
     "output_type": "stream",
     "text": [
      "MEASURECIRCUIT: Generated graph for the Hamiltonian with 799 nodes.\n",
      "MEASURECIRCUIT: BronKerbosch found 205 unique circuits\n",
      "MEASURECIRCUIT: Elapsed time: 3.983321s\n",
      "MEASURECIRCUIT: Generated graph for the Hamiltonian with 799 nodes.\n",
      "MEASURECIRCUIT: BronKerbosch found 205 unique circuits\n",
      "MEASURECIRCUIT: Elapsed time: 4.003474s\n",
      "MEASURECIRCUIT: Generated graph for the Hamiltonian with 799 nodes.\n",
      "MEASURECIRCUIT: BronKerbosch found 205 unique circuits\n",
      "MEASURECIRCUIT: Elapsed time: 4.006783s\n",
      "MEASURECIRCUIT: Generated graph for the Hamiltonian with 799 nodes.\n",
      "MEASURECIRCUIT: BronKerbosch found 205 unique circuits\n",
      "MEASURECIRCUIT: Elapsed time: 4.011191s\n",
      "MEASURECIRCUIT: Generated graph for the Hamiltonian with 799 nodes.\n",
      "MEASURECIRCUIT: BronKerbosch found 205 unique circuits\n",
      "MEASURECIRCUIT: Elapsed time: 3.999552s\n",
      "MEASURECIRCUIT: Generated graph for the Hamiltonian with 799 nodes.\n",
      "MEASURECIRCUIT: BronKerbosch found 205 unique circuits\n",
      "MEASURECIRCUIT: Elapsed time: 4.008646s\n",
      "MEASURECIRCUIT: Generated graph for the Hamiltonian with 799 nodes.\n",
      "MEASURECIRCUIT: BronKerbosch found 205 unique circuits\n",
      "MEASURECIRCUIT: Elapsed time: 4.013506s\n",
      "MEASURECIRCUIT: Generated graph for the Hamiltonian with 799 nodes.\n",
      "MEASURECIRCUIT: BronKerbosch found 205 unique circuits\n",
      "MEASURECIRCUIT: Elapsed time: 3.989960s\n",
      "MEASURECIRCUIT: Generated graph for the Hamiltonian with 799 nodes.\n",
      "MEASURECIRCUIT: BronKerbosch found 205 unique circuits\n",
      "MEASURECIRCUIT: Elapsed time: 3.990988s\n",
      "MEASURECIRCUIT: Generated graph for the Hamiltonian with 799 nodes.\n",
      "MEASURECIRCUIT: BronKerbosch found 205 unique circuits\n",
      "MEASURECIRCUIT: Elapsed time: 3.998808s\n"
     ]
    },
    {
     "data": {
      "application/vnd.jupyter.widget-view+json": {
       "model_id": "d08d5ce91bf4417b98958d90a5fed953",
       "version_major": 2,
       "version_minor": 0
      },
      "text/plain": [
       "  0%|          | 0/10 [00:00<?, ?it/s]"
      ]
     },
     "metadata": {},
     "output_type": "display_data"
    },
    {
     "name": "stdout",
     "output_type": "stream",
     "text": [
      "MEASURECIRCUIT: Generated graph for the Hamiltonian with 831 nodes.\n",
      "MEASURECIRCUIT: BronKerbosch found 213 unique circuits\n",
      "MEASURECIRCUIT: Elapsed time: 4.252936s\n",
      "MEASURECIRCUIT: Generated graph for the Hamiltonian with 831 nodes.\n",
      "MEASURECIRCUIT: BronKerbosch found 213 unique circuits\n",
      "MEASURECIRCUIT: Elapsed time: 4.224629s\n",
      "MEASURECIRCUIT: Generated graph for the Hamiltonian with 831 nodes.\n",
      "MEASURECIRCUIT: BronKerbosch found 213 unique circuits\n",
      "MEASURECIRCUIT: Elapsed time: 4.254723s\n",
      "MEASURECIRCUIT: Generated graph for the Hamiltonian with 831 nodes.\n",
      "MEASURECIRCUIT: BronKerbosch found 213 unique circuits\n",
      "MEASURECIRCUIT: Elapsed time: 4.261130s\n",
      "MEASURECIRCUIT: Generated graph for the Hamiltonian with 831 nodes.\n",
      "MEASURECIRCUIT: BronKerbosch found 213 unique circuits\n",
      "MEASURECIRCUIT: Elapsed time: 4.258859s\n",
      "MEASURECIRCUIT: Generated graph for the Hamiltonian with 831 nodes.\n",
      "MEASURECIRCUIT: BronKerbosch found 213 unique circuits\n",
      "MEASURECIRCUIT: Elapsed time: 4.230457s\n",
      "MEASURECIRCUIT: Generated graph for the Hamiltonian with 831 nodes.\n",
      "MEASURECIRCUIT: BronKerbosch found 213 unique circuits\n",
      "MEASURECIRCUIT: Elapsed time: 4.220738s\n",
      "MEASURECIRCUIT: Generated graph for the Hamiltonian with 831 nodes.\n",
      "MEASURECIRCUIT: BronKerbosch found 213 unique circuits\n",
      "MEASURECIRCUIT: Elapsed time: 4.235752s\n",
      "MEASURECIRCUIT: Generated graph for the Hamiltonian with 831 nodes.\n",
      "MEASURECIRCUIT: BronKerbosch found 213 unique circuits\n",
      "MEASURECIRCUIT: Elapsed time: 4.227166s\n",
      "MEASURECIRCUIT: Generated graph for the Hamiltonian with 831 nodes.\n",
      "MEASURECIRCUIT: BronKerbosch found 213 unique circuits\n",
      "MEASURECIRCUIT: Elapsed time: 4.224862s\n"
     ]
    },
    {
     "data": {
      "application/vnd.jupyter.widget-view+json": {
       "model_id": "8346b42e0c134eb9af33090b85832474",
       "version_major": 2,
       "version_minor": 0
      },
      "text/plain": [
       "  0%|          | 0/10 [00:00<?, ?it/s]"
      ]
     },
     "metadata": {},
     "output_type": "display_data"
    },
    {
     "name": "stdout",
     "output_type": "stream",
     "text": [
      "MEASURECIRCUIT: Generated graph for the Hamiltonian with 863 nodes.\n",
      "MEASURECIRCUIT: BronKerbosch found 221 unique circuits\n",
      "MEASURECIRCUIT: Elapsed time: 4.587296s\n",
      "MEASURECIRCUIT: Generated graph for the Hamiltonian with 863 nodes.\n",
      "MEASURECIRCUIT: BronKerbosch found 221 unique circuits\n",
      "MEASURECIRCUIT: Elapsed time: 4.581055s\n",
      "MEASURECIRCUIT: Generated graph for the Hamiltonian with 863 nodes.\n",
      "MEASURECIRCUIT: BronKerbosch found 221 unique circuits\n",
      "MEASURECIRCUIT: Elapsed time: 4.610780s\n",
      "MEASURECIRCUIT: Generated graph for the Hamiltonian with 863 nodes.\n",
      "MEASURECIRCUIT: BronKerbosch found 221 unique circuits\n",
      "MEASURECIRCUIT: Elapsed time: 4.603381s\n",
      "MEASURECIRCUIT: Generated graph for the Hamiltonian with 863 nodes.\n",
      "MEASURECIRCUIT: BronKerbosch found 221 unique circuits\n",
      "MEASURECIRCUIT: Elapsed time: 4.562691s\n",
      "MEASURECIRCUIT: Generated graph for the Hamiltonian with 863 nodes.\n",
      "MEASURECIRCUIT: BronKerbosch found 221 unique circuits\n",
      "MEASURECIRCUIT: Elapsed time: 4.566478s\n",
      "MEASURECIRCUIT: Generated graph for the Hamiltonian with 863 nodes.\n",
      "MEASURECIRCUIT: BronKerbosch found 221 unique circuits\n",
      "MEASURECIRCUIT: Elapsed time: 4.565338s\n",
      "MEASURECIRCUIT: Generated graph for the Hamiltonian with 863 nodes.\n",
      "MEASURECIRCUIT: BronKerbosch found 221 unique circuits\n",
      "MEASURECIRCUIT: Elapsed time: 4.567761s\n",
      "MEASURECIRCUIT: Generated graph for the Hamiltonian with 863 nodes.\n",
      "MEASURECIRCUIT: BronKerbosch found 221 unique circuits\n",
      "MEASURECIRCUIT: Elapsed time: 4.572255s\n",
      "MEASURECIRCUIT: Generated graph for the Hamiltonian with 863 nodes.\n",
      "MEASURECIRCUIT: BronKerbosch found 221 unique circuits\n",
      "MEASURECIRCUIT: Elapsed time: 4.602674s\n"
     ]
    },
    {
     "data": {
      "application/vnd.jupyter.widget-view+json": {
       "model_id": "c79de36774f64d729721dc1050738447",
       "version_major": 2,
       "version_minor": 0
      },
      "text/plain": [
       "  0%|          | 0/10 [00:00<?, ?it/s]"
      ]
     },
     "metadata": {},
     "output_type": "display_data"
    },
    {
     "name": "stdout",
     "output_type": "stream",
     "text": [
      "MEASURECIRCUIT: Generated graph for the Hamiltonian with 895 nodes.\n",
      "MEASURECIRCUIT: BronKerbosch found 225 unique circuits\n",
      "MEASURECIRCUIT: Elapsed time: 4.859606s\n",
      "MEASURECIRCUIT: Generated graph for the Hamiltonian with 895 nodes.\n",
      "MEASURECIRCUIT: BronKerbosch found 225 unique circuits\n",
      "MEASURECIRCUIT: Elapsed time: 4.894549s\n",
      "MEASURECIRCUIT: Generated graph for the Hamiltonian with 895 nodes.\n",
      "MEASURECIRCUIT: BronKerbosch found 225 unique circuits\n",
      "MEASURECIRCUIT: Elapsed time: 4.869468s\n",
      "MEASURECIRCUIT: Generated graph for the Hamiltonian with 895 nodes.\n",
      "MEASURECIRCUIT: BronKerbosch found 225 unique circuits\n",
      "MEASURECIRCUIT: Elapsed time: 4.863593s\n",
      "MEASURECIRCUIT: Generated graph for the Hamiltonian with 895 nodes.\n",
      "MEASURECIRCUIT: BronKerbosch found 225 unique circuits\n",
      "MEASURECIRCUIT: Elapsed time: 4.912904s\n",
      "MEASURECIRCUIT: Generated graph for the Hamiltonian with 895 nodes.\n",
      "MEASURECIRCUIT: BronKerbosch found 225 unique circuits\n",
      "MEASURECIRCUIT: Elapsed time: 4.907059s\n",
      "MEASURECIRCUIT: Generated graph for the Hamiltonian with 895 nodes.\n",
      "MEASURECIRCUIT: BronKerbosch found 225 unique circuits\n",
      "MEASURECIRCUIT: Elapsed time: 4.883900s\n",
      "MEASURECIRCUIT: Generated graph for the Hamiltonian with 895 nodes.\n",
      "MEASURECIRCUIT: BronKerbosch found 225 unique circuits\n",
      "MEASURECIRCUIT: Elapsed time: 4.894893s\n",
      "MEASURECIRCUIT: Generated graph for the Hamiltonian with 895 nodes.\n",
      "MEASURECIRCUIT: BronKerbosch found 225 unique circuits\n",
      "MEASURECIRCUIT: Elapsed time: 4.869427s\n",
      "MEASURECIRCUIT: Generated graph for the Hamiltonian with 895 nodes.\n",
      "MEASURECIRCUIT: BronKerbosch found 225 unique circuits\n",
      "MEASURECIRCUIT: Elapsed time: 4.862407s\n"
     ]
    },
    {
     "data": {
      "application/vnd.jupyter.widget-view+json": {
       "model_id": "594da06185fc462a9550896c87349567",
       "version_major": 2,
       "version_minor": 0
      },
      "text/plain": [
       "  0%|          | 0/10 [00:00<?, ?it/s]"
      ]
     },
     "metadata": {},
     "output_type": "display_data"
    },
    {
     "name": "stdout",
     "output_type": "stream",
     "text": [
      "MEASURECIRCUIT: Generated graph for the Hamiltonian with 927 nodes.\n",
      "MEASURECIRCUIT: BronKerbosch found 233 unique circuits\n",
      "MEASURECIRCUIT: Elapsed time: 5.267186s\n",
      "MEASURECIRCUIT: Generated graph for the Hamiltonian with 927 nodes.\n",
      "MEASURECIRCUIT: BronKerbosch found 233 unique circuits\n",
      "MEASURECIRCUIT: Elapsed time: 5.300093s\n",
      "MEASURECIRCUIT: Generated graph for the Hamiltonian with 927 nodes.\n",
      "MEASURECIRCUIT: BronKerbosch found 233 unique circuits\n",
      "MEASURECIRCUIT: Elapsed time: 5.264514s\n",
      "MEASURECIRCUIT: Generated graph for the Hamiltonian with 927 nodes.\n",
      "MEASURECIRCUIT: BronKerbosch found 233 unique circuits\n",
      "MEASURECIRCUIT: Elapsed time: 5.284477s\n",
      "MEASURECIRCUIT: Generated graph for the Hamiltonian with 927 nodes.\n",
      "MEASURECIRCUIT: BronKerbosch found 233 unique circuits\n",
      "MEASURECIRCUIT: Elapsed time: 5.346797s\n",
      "MEASURECIRCUIT: Generated graph for the Hamiltonian with 927 nodes.\n",
      "MEASURECIRCUIT: BronKerbosch found 233 unique circuits\n",
      "MEASURECIRCUIT: Elapsed time: 5.286422s\n",
      "MEASURECIRCUIT: Generated graph for the Hamiltonian with 927 nodes.\n",
      "MEASURECIRCUIT: BronKerbosch found 233 unique circuits\n",
      "MEASURECIRCUIT: Elapsed time: 5.276633s\n",
      "MEASURECIRCUIT: Generated graph for the Hamiltonian with 927 nodes.\n",
      "MEASURECIRCUIT: BronKerbosch found 233 unique circuits\n",
      "MEASURECIRCUIT: Elapsed time: 5.294710s\n",
      "MEASURECIRCUIT: Generated graph for the Hamiltonian with 927 nodes.\n",
      "MEASURECIRCUIT: BronKerbosch found 233 unique circuits\n",
      "MEASURECIRCUIT: Elapsed time: 5.281443s\n",
      "MEASURECIRCUIT: Generated graph for the Hamiltonian with 927 nodes.\n",
      "MEASURECIRCUIT: BronKerbosch found 233 unique circuits\n",
      "MEASURECIRCUIT: Elapsed time: 5.274226s\n"
     ]
    },
    {
     "data": {
      "application/vnd.jupyter.widget-view+json": {
       "model_id": "000813856ab545bf9cd8f0a8c4a45a39",
       "version_major": 2,
       "version_minor": 0
      },
      "text/plain": [
       "  0%|          | 0/10 [00:00<?, ?it/s]"
      ]
     },
     "metadata": {},
     "output_type": "display_data"
    },
    {
     "name": "stdout",
     "output_type": "stream",
     "text": [
      "MEASURECIRCUIT: Generated graph for the Hamiltonian with 959 nodes.\n",
      "MEASURECIRCUIT: BronKerbosch found 237 unique circuits\n",
      "MEASURECIRCUIT: Elapsed time: 5.609301s\n",
      "MEASURECIRCUIT: Generated graph for the Hamiltonian with 959 nodes.\n",
      "MEASURECIRCUIT: BronKerbosch found 237 unique circuits\n",
      "MEASURECIRCUIT: Elapsed time: 5.592276s\n",
      "MEASURECIRCUIT: Generated graph for the Hamiltonian with 959 nodes.\n",
      "MEASURECIRCUIT: BronKerbosch found 237 unique circuits\n",
      "MEASURECIRCUIT: Elapsed time: 5.579890s\n",
      "MEASURECIRCUIT: Generated graph for the Hamiltonian with 959 nodes.\n",
      "MEASURECIRCUIT: BronKerbosch found 237 unique circuits\n",
      "MEASURECIRCUIT: Elapsed time: 5.584309s\n",
      "MEASURECIRCUIT: Generated graph for the Hamiltonian with 959 nodes.\n",
      "MEASURECIRCUIT: BronKerbosch found 237 unique circuits\n",
      "MEASURECIRCUIT: Elapsed time: 5.586454s\n",
      "MEASURECIRCUIT: Generated graph for the Hamiltonian with 959 nodes.\n",
      "MEASURECIRCUIT: BronKerbosch found 237 unique circuits\n",
      "MEASURECIRCUIT: Elapsed time: 5.610337s\n",
      "MEASURECIRCUIT: Generated graph for the Hamiltonian with 959 nodes.\n",
      "MEASURECIRCUIT: BronKerbosch found 237 unique circuits\n",
      "MEASURECIRCUIT: Elapsed time: 5.594503s\n",
      "MEASURECIRCUIT: Generated graph for the Hamiltonian with 959 nodes.\n",
      "MEASURECIRCUIT: BronKerbosch found 237 unique circuits\n",
      "MEASURECIRCUIT: Elapsed time: 5.620519s\n",
      "MEASURECIRCUIT: Generated graph for the Hamiltonian with 959 nodes.\n",
      "MEASURECIRCUIT: BronKerbosch found 237 unique circuits\n",
      "MEASURECIRCUIT: Elapsed time: 5.609059s\n",
      "MEASURECIRCUIT: Generated graph for the Hamiltonian with 959 nodes.\n",
      "MEASURECIRCUIT: BronKerbosch found 237 unique circuits\n",
      "MEASURECIRCUIT: Elapsed time: 5.599999s\n"
     ]
    },
    {
     "data": {
      "application/vnd.jupyter.widget-view+json": {
       "model_id": "f37b7adc44be4039b81d9110928a0e48",
       "version_major": 2,
       "version_minor": 0
      },
      "text/plain": [
       "  0%|          | 0/10 [00:00<?, ?it/s]"
      ]
     },
     "metadata": {},
     "output_type": "display_data"
    },
    {
     "name": "stdout",
     "output_type": "stream",
     "text": [
      "MEASURECIRCUIT: Generated graph for the Hamiltonian with 991 nodes.\n",
      "MEASURECIRCUIT: BronKerbosch found 241 unique circuits\n",
      "MEASURECIRCUIT: Elapsed time: 6.209341s\n",
      "MEASURECIRCUIT: Generated graph for the Hamiltonian with 991 nodes.\n",
      "MEASURECIRCUIT: BronKerbosch found 241 unique circuits\n",
      "MEASURECIRCUIT: Elapsed time: 6.234271s\n",
      "MEASURECIRCUIT: Generated graph for the Hamiltonian with 991 nodes.\n",
      "MEASURECIRCUIT: BronKerbosch found 241 unique circuits\n",
      "MEASURECIRCUIT: Elapsed time: 6.242760s\n",
      "MEASURECIRCUIT: Generated graph for the Hamiltonian with 991 nodes.\n",
      "MEASURECIRCUIT: BronKerbosch found 241 unique circuits\n",
      "MEASURECIRCUIT: Elapsed time: 6.246489s\n",
      "MEASURECIRCUIT: Generated graph for the Hamiltonian with 991 nodes.\n",
      "MEASURECIRCUIT: BronKerbosch found 241 unique circuits\n",
      "MEASURECIRCUIT: Elapsed time: 6.258471s\n",
      "MEASURECIRCUIT: Generated graph for the Hamiltonian with 991 nodes.\n",
      "MEASURECIRCUIT: BronKerbosch found 241 unique circuits\n",
      "MEASURECIRCUIT: Elapsed time: 6.217791s\n",
      "MEASURECIRCUIT: Generated graph for the Hamiltonian with 991 nodes.\n",
      "MEASURECIRCUIT: BronKerbosch found 241 unique circuits\n",
      "MEASURECIRCUIT: Elapsed time: 6.226623s\n",
      "MEASURECIRCUIT: Generated graph for the Hamiltonian with 991 nodes.\n",
      "MEASURECIRCUIT: BronKerbosch found 241 unique circuits\n",
      "MEASURECIRCUIT: Elapsed time: 6.264427s\n",
      "MEASURECIRCUIT: Generated graph for the Hamiltonian with 991 nodes.\n",
      "MEASURECIRCUIT: BronKerbosch found 241 unique circuits\n",
      "MEASURECIRCUIT: Elapsed time: 6.233146s\n",
      "MEASURECIRCUIT: Generated graph for the Hamiltonian with 991 nodes.\n",
      "MEASURECIRCUIT: BronKerbosch found 241 unique circuits\n",
      "MEASURECIRCUIT: Elapsed time: 6.280652s\n"
     ]
    },
    {
     "data": {
      "application/vnd.jupyter.widget-view+json": {
       "model_id": "cd393c7441e1455c8ae374fe83496372",
       "version_major": 2,
       "version_minor": 0
      },
      "text/plain": [
       "  0%|          | 0/10 [00:00<?, ?it/s]"
      ]
     },
     "metadata": {},
     "output_type": "display_data"
    },
    {
     "name": "stdout",
     "output_type": "stream",
     "text": [
      "MEASURECIRCUIT: Generated graph for the Hamiltonian with 1023 nodes.\n",
      "MEASURECIRCUIT: BronKerbosch found 243 unique circuits\n",
      "MEASURECIRCUIT: Elapsed time: 6.706810s\n",
      "MEASURECIRCUIT: Generated graph for the Hamiltonian with 1023 nodes.\n",
      "MEASURECIRCUIT: BronKerbosch found 243 unique circuits\n",
      "MEASURECIRCUIT: Elapsed time: 6.775957s\n",
      "MEASURECIRCUIT: Generated graph for the Hamiltonian with 1023 nodes.\n",
      "MEASURECIRCUIT: BronKerbosch found 243 unique circuits\n",
      "MEASURECIRCUIT: Elapsed time: 6.790247s\n",
      "MEASURECIRCUIT: Generated graph for the Hamiltonian with 1023 nodes.\n",
      "MEASURECIRCUIT: BronKerbosch found 243 unique circuits\n",
      "MEASURECIRCUIT: Elapsed time: 6.786407s\n",
      "MEASURECIRCUIT: Generated graph for the Hamiltonian with 1023 nodes.\n",
      "MEASURECIRCUIT: BronKerbosch found 243 unique circuits\n",
      "MEASURECIRCUIT: Elapsed time: 6.804252s\n",
      "MEASURECIRCUIT: Generated graph for the Hamiltonian with 1023 nodes.\n",
      "MEASURECIRCUIT: BronKerbosch found 243 unique circuits\n",
      "MEASURECIRCUIT: Elapsed time: 6.779522s\n",
      "MEASURECIRCUIT: Generated graph for the Hamiltonian with 1023 nodes.\n",
      "MEASURECIRCUIT: BronKerbosch found 243 unique circuits\n",
      "MEASURECIRCUIT: Elapsed time: 6.734936s\n",
      "MEASURECIRCUIT: Generated graph for the Hamiltonian with 1023 nodes.\n",
      "MEASURECIRCUIT: BronKerbosch found 243 unique circuits\n",
      "MEASURECIRCUIT: Elapsed time: 6.825161s\n",
      "MEASURECIRCUIT: Generated graph for the Hamiltonian with 1023 nodes.\n",
      "MEASURECIRCUIT: BronKerbosch found 243 unique circuits\n",
      "MEASURECIRCUIT: Elapsed time: 6.740158s\n",
      "MEASURECIRCUIT: Generated graph for the Hamiltonian with 1023 nodes.\n",
      "MEASURECIRCUIT: BronKerbosch found 243 unique circuits\n",
      "MEASURECIRCUIT: Elapsed time: 6.767943s\n"
     ]
    },
    {
     "data": {
      "application/vnd.jupyter.widget-view+json": {
       "model_id": "2b9541309d8842ceb9563ab44f4a3e94",
       "version_major": 2,
       "version_minor": 0
      },
      "text/plain": [
       "  0%|          | 0/10 [00:00<?, ?it/s]"
      ]
     },
     "metadata": {},
     "output_type": "display_data"
    },
    {
     "name": "stdout",
     "output_type": "stream",
     "text": [
      "MEASURECIRCUIT: Generated graph for the Hamiltonian with 1023 nodes.\n",
      "MEASURECIRCUIT: BronKerbosch found 243 unique circuits\n",
      "MEASURECIRCUIT: Elapsed time: 6.748126s\n",
      "MEASURECIRCUIT: Generated graph for the Hamiltonian with 1023 nodes.\n",
      "MEASURECIRCUIT: BronKerbosch found 243 unique circuits\n",
      "MEASURECIRCUIT: Elapsed time: 6.728549s\n",
      "MEASURECIRCUIT: Generated graph for the Hamiltonian with 1023 nodes.\n",
      "MEASURECIRCUIT: BronKerbosch found 243 unique circuits\n",
      "MEASURECIRCUIT: Elapsed time: 6.781189s\n",
      "MEASURECIRCUIT: Generated graph for the Hamiltonian with 1023 nodes.\n",
      "MEASURECIRCUIT: BronKerbosch found 243 unique circuits\n",
      "MEASURECIRCUIT: Elapsed time: 6.719748s\n",
      "MEASURECIRCUIT: Generated graph for the Hamiltonian with 1023 nodes.\n",
      "MEASURECIRCUIT: BronKerbosch found 243 unique circuits\n",
      "MEASURECIRCUIT: Elapsed time: 6.804902s\n",
      "MEASURECIRCUIT: Generated graph for the Hamiltonian with 1023 nodes.\n",
      "MEASURECIRCUIT: BronKerbosch found 243 unique circuits\n",
      "MEASURECIRCUIT: Elapsed time: 6.757150s\n",
      "MEASURECIRCUIT: Generated graph for the Hamiltonian with 1023 nodes.\n",
      "MEASURECIRCUIT: BronKerbosch found 243 unique circuits\n",
      "MEASURECIRCUIT: Elapsed time: 6.730475s\n",
      "MEASURECIRCUIT: Generated graph for the Hamiltonian with 1023 nodes.\n",
      "MEASURECIRCUIT: BronKerbosch found 243 unique circuits\n",
      "MEASURECIRCUIT: Elapsed time: 6.753628s\n",
      "MEASURECIRCUIT: Generated graph for the Hamiltonian with 1023 nodes.\n",
      "MEASURECIRCUIT: BronKerbosch found 243 unique circuits\n",
      "MEASURECIRCUIT: Elapsed time: 6.742805s\n",
      "MEASURECIRCUIT: Generated graph for the Hamiltonian with 1023 nodes.\n",
      "MEASURECIRCUIT: BronKerbosch found 243 unique circuits\n",
      "MEASURECIRCUIT: Elapsed time: 6.754500s\n"
     ]
    },
    {
     "data": {
      "application/vnd.jupyter.widget-view+json": {
       "model_id": "8d2c025698cc41c3b7948fbb4906ebfb",
       "version_major": 2,
       "version_minor": 0
      },
      "text/plain": [
       "  0%|          | 0/10 [00:00<?, ?it/s]"
      ]
     },
     "metadata": {},
     "output_type": "display_data"
    },
    {
     "name": "stdout",
     "output_type": "stream",
     "text": [
      "MEASURECIRCUIT: Generated graph for the Hamiltonian with 1023 nodes.\n",
      "MEASURECIRCUIT: BronKerbosch found 243 unique circuits\n",
      "MEASURECIRCUIT: Elapsed time: 6.718117s\n",
      "MEASURECIRCUIT: Generated graph for the Hamiltonian with 1023 nodes.\n",
      "MEASURECIRCUIT: BronKerbosch found 243 unique circuits\n",
      "MEASURECIRCUIT: Elapsed time: 6.786095s\n",
      "MEASURECIRCUIT: Generated graph for the Hamiltonian with 1023 nodes.\n",
      "MEASURECIRCUIT: BronKerbosch found 243 unique circuits\n",
      "MEASURECIRCUIT: Elapsed time: 6.726302s\n",
      "MEASURECIRCUIT: Generated graph for the Hamiltonian with 1023 nodes.\n",
      "MEASURECIRCUIT: BronKerbosch found 243 unique circuits\n",
      "MEASURECIRCUIT: Elapsed time: 6.742554s\n",
      "MEASURECIRCUIT: Generated graph for the Hamiltonian with 1023 nodes.\n",
      "MEASURECIRCUIT: BronKerbosch found 243 unique circuits\n",
      "MEASURECIRCUIT: Elapsed time: 6.771203s\n",
      "MEASURECIRCUIT: Generated graph for the Hamiltonian with 1023 nodes.\n",
      "MEASURECIRCUIT: BronKerbosch found 243 unique circuits\n",
      "MEASURECIRCUIT: Elapsed time: 6.690696s\n",
      "MEASURECIRCUIT: Generated graph for the Hamiltonian with 1023 nodes.\n",
      "MEASURECIRCUIT: BronKerbosch found 243 unique circuits\n",
      "MEASURECIRCUIT: Elapsed time: 6.732969s\n",
      "MEASURECIRCUIT: Generated graph for the Hamiltonian with 1023 nodes.\n",
      "MEASURECIRCUIT: BronKerbosch found 243 unique circuits\n",
      "MEASURECIRCUIT: Elapsed time: 6.741418s\n",
      "MEASURECIRCUIT: Generated graph for the Hamiltonian with 1023 nodes.\n",
      "MEASURECIRCUIT: BronKerbosch found 243 unique circuits\n",
      "MEASURECIRCUIT: Elapsed time: 6.729421s\n",
      "MEASURECIRCUIT: Generated graph for the Hamiltonian with 1023 nodes.\n",
      "MEASURECIRCUIT: BronKerbosch found 243 unique circuits\n",
      "MEASURECIRCUIT: Elapsed time: 6.772465s\n"
     ]
    },
    {
     "data": {
      "application/vnd.jupyter.widget-view+json": {
       "model_id": "423980cb57f843e5b1f88dd86facba03",
       "version_major": 2,
       "version_minor": 0
      },
      "text/plain": [
       "  0%|          | 0/10 [00:00<?, ?it/s]"
      ]
     },
     "metadata": {},
     "output_type": "display_data"
    },
    {
     "name": "stdout",
     "output_type": "stream",
     "text": [
      "MEASURECIRCUIT: Generated graph for the Hamiltonian with 1023 nodes.\n",
      "MEASURECIRCUIT: BronKerbosch found 243 unique circuits\n",
      "MEASURECIRCUIT: Elapsed time: 6.696489s\n",
      "MEASURECIRCUIT: Generated graph for the Hamiltonian with 1023 nodes.\n",
      "MEASURECIRCUIT: BronKerbosch found 243 unique circuits\n",
      "MEASURECIRCUIT: Elapsed time: 6.754548s\n",
      "MEASURECIRCUIT: Generated graph for the Hamiltonian with 1023 nodes.\n",
      "MEASURECIRCUIT: BronKerbosch found 243 unique circuits\n",
      "MEASURECIRCUIT: Elapsed time: 6.809282s\n",
      "MEASURECIRCUIT: Generated graph for the Hamiltonian with 1023 nodes.\n",
      "MEASURECIRCUIT: BronKerbosch found 243 unique circuits\n",
      "MEASURECIRCUIT: Elapsed time: 6.797166s\n",
      "MEASURECIRCUIT: Generated graph for the Hamiltonian with 1023 nodes.\n",
      "MEASURECIRCUIT: BronKerbosch found 243 unique circuits\n",
      "MEASURECIRCUIT: Elapsed time: 6.760864s\n",
      "MEASURECIRCUIT: Generated graph for the Hamiltonian with 1023 nodes.\n",
      "MEASURECIRCUIT: BronKerbosch found 243 unique circuits\n",
      "MEASURECIRCUIT: Elapsed time: 6.809485s\n",
      "MEASURECIRCUIT: Generated graph for the Hamiltonian with 1023 nodes.\n",
      "MEASURECIRCUIT: BronKerbosch found 243 unique circuits\n",
      "MEASURECIRCUIT: Elapsed time: 6.772861s\n",
      "MEASURECIRCUIT: Generated graph for the Hamiltonian with 1023 nodes.\n",
      "MEASURECIRCUIT: BronKerbosch found 243 unique circuits\n",
      "MEASURECIRCUIT: Elapsed time: 6.731332s\n",
      "MEASURECIRCUIT: Generated graph for the Hamiltonian with 1023 nodes.\n",
      "MEASURECIRCUIT: BronKerbosch found 243 unique circuits\n",
      "MEASURECIRCUIT: Elapsed time: 6.804886s\n",
      "MEASURECIRCUIT: Generated graph for the Hamiltonian with 1023 nodes.\n",
      "MEASURECIRCUIT: BronKerbosch found 243 unique circuits\n",
      "MEASURECIRCUIT: Elapsed time: 6.758734s\n"
     ]
    },
    {
     "data": {
      "application/vnd.jupyter.widget-view+json": {
       "model_id": "5269942b11424aee9a5479b1756fc166",
       "version_major": 2,
       "version_minor": 0
      },
      "text/plain": [
       "  0%|          | 0/10 [00:00<?, ?it/s]"
      ]
     },
     "metadata": {},
     "output_type": "display_data"
    },
    {
     "name": "stdout",
     "output_type": "stream",
     "text": [
      "MEASURECIRCUIT: Generated graph for the Hamiltonian with 1023 nodes.\n",
      "MEASURECIRCUIT: BronKerbosch found 243 unique circuits\n",
      "MEASURECIRCUIT: Elapsed time: 6.728959s\n",
      "MEASURECIRCUIT: Generated graph for the Hamiltonian with 1023 nodes.\n",
      "MEASURECIRCUIT: BronKerbosch found 243 unique circuits\n",
      "MEASURECIRCUIT: Elapsed time: 6.766863s\n",
      "MEASURECIRCUIT: Generated graph for the Hamiltonian with 1023 nodes.\n",
      "MEASURECIRCUIT: BronKerbosch found 243 unique circuits\n",
      "MEASURECIRCUIT: Elapsed time: 6.790856s\n",
      "MEASURECIRCUIT: Generated graph for the Hamiltonian with 1023 nodes.\n",
      "MEASURECIRCUIT: BronKerbosch found 243 unique circuits\n",
      "MEASURECIRCUIT: Elapsed time: 6.750106s\n",
      "MEASURECIRCUIT: Generated graph for the Hamiltonian with 1023 nodes.\n",
      "MEASURECIRCUIT: BronKerbosch found 243 unique circuits\n",
      "MEASURECIRCUIT: Elapsed time: 6.785142s\n",
      "MEASURECIRCUIT: Generated graph for the Hamiltonian with 1023 nodes.\n",
      "MEASURECIRCUIT: BronKerbosch found 243 unique circuits\n",
      "MEASURECIRCUIT: Elapsed time: 6.799613s\n",
      "MEASURECIRCUIT: Generated graph for the Hamiltonian with 1023 nodes.\n",
      "MEASURECIRCUIT: BronKerbosch found 243 unique circuits\n",
      "MEASURECIRCUIT: Elapsed time: 6.739525s\n",
      "MEASURECIRCUIT: Generated graph for the Hamiltonian with 1023 nodes.\n",
      "MEASURECIRCUIT: BronKerbosch found 243 unique circuits\n",
      "MEASURECIRCUIT: Elapsed time: 6.720926s\n",
      "MEASURECIRCUIT: Generated graph for the Hamiltonian with 1023 nodes.\n",
      "MEASURECIRCUIT: BronKerbosch found 243 unique circuits\n",
      "MEASURECIRCUIT: Elapsed time: 6.737061s\n",
      "MEASURECIRCUIT: Generated graph for the Hamiltonian with 1023 nodes.\n",
      "MEASURECIRCUIT: BronKerbosch found 243 unique circuits\n",
      "MEASURECIRCUIT: Elapsed time: 6.758178s\n"
     ]
    },
    {
     "data": {
      "application/vnd.jupyter.widget-view+json": {
       "model_id": "62528696da6c42acbe988812c34ada77",
       "version_major": 2,
       "version_minor": 0
      },
      "text/plain": [
       "  0%|          | 0/10 [00:00<?, ?it/s]"
      ]
     },
     "metadata": {},
     "output_type": "display_data"
    },
    {
     "name": "stdout",
     "output_type": "stream",
     "text": [
      "MEASURECIRCUIT: Generated graph for the Hamiltonian with 1023 nodes.\n",
      "MEASURECIRCUIT: BronKerbosch found 243 unique circuits\n",
      "MEASURECIRCUIT: Elapsed time: 6.755004s\n",
      "MEASURECIRCUIT: Generated graph for the Hamiltonian with 1023 nodes.\n",
      "MEASURECIRCUIT: BronKerbosch found 243 unique circuits\n",
      "MEASURECIRCUIT: Elapsed time: 6.731892s\n",
      "MEASURECIRCUIT: Generated graph for the Hamiltonian with 1023 nodes.\n",
      "MEASURECIRCUIT: BronKerbosch found 243 unique circuits\n",
      "MEASURECIRCUIT: Elapsed time: 6.755222s\n",
      "MEASURECIRCUIT: Generated graph for the Hamiltonian with 1023 nodes.\n",
      "MEASURECIRCUIT: BronKerbosch found 243 unique circuits\n",
      "MEASURECIRCUIT: Elapsed time: 6.758563s\n",
      "MEASURECIRCUIT: Generated graph for the Hamiltonian with 1023 nodes.\n",
      "MEASURECIRCUIT: BronKerbosch found 243 unique circuits\n",
      "MEASURECIRCUIT: Elapsed time: 6.733265s\n",
      "MEASURECIRCUIT: Generated graph for the Hamiltonian with 1023 nodes.\n",
      "MEASURECIRCUIT: BronKerbosch found 243 unique circuits\n",
      "MEASURECIRCUIT: Elapsed time: 6.802170s\n",
      "MEASURECIRCUIT: Generated graph for the Hamiltonian with 1023 nodes.\n",
      "MEASURECIRCUIT: BronKerbosch found 243 unique circuits\n",
      "MEASURECIRCUIT: Elapsed time: 6.798550s\n",
      "MEASURECIRCUIT: Generated graph for the Hamiltonian with 1023 nodes.\n",
      "MEASURECIRCUIT: BronKerbosch found 243 unique circuits\n",
      "MEASURECIRCUIT: Elapsed time: 6.773687s\n",
      "MEASURECIRCUIT: Generated graph for the Hamiltonian with 1023 nodes.\n",
      "MEASURECIRCUIT: BronKerbosch found 243 unique circuits\n",
      "MEASURECIRCUIT: Elapsed time: 6.761297s\n",
      "MEASURECIRCUIT: Generated graph for the Hamiltonian with 1023 nodes.\n",
      "MEASURECIRCUIT: BronKerbosch found 243 unique circuits\n",
      "MEASURECIRCUIT: Elapsed time: 6.781628s\n"
     ]
    },
    {
     "data": {
      "application/vnd.jupyter.widget-view+json": {
       "model_id": "b007205e62fa4d5780350d65f2b02388",
       "version_major": 2,
       "version_minor": 0
      },
      "text/plain": [
       "  0%|          | 0/10 [00:00<?, ?it/s]"
      ]
     },
     "metadata": {},
     "output_type": "display_data"
    },
    {
     "name": "stdout",
     "output_type": "stream",
     "text": [
      "MEASURECIRCUIT: Generated graph for the Hamiltonian with 1023 nodes.\n",
      "MEASURECIRCUIT: BronKerbosch found 243 unique circuits\n",
      "MEASURECIRCUIT: Elapsed time: 6.729322s\n",
      "MEASURECIRCUIT: Generated graph for the Hamiltonian with 1023 nodes.\n",
      "MEASURECIRCUIT: BronKerbosch found 243 unique circuits\n",
      "MEASURECIRCUIT: Elapsed time: 6.774488s\n",
      "MEASURECIRCUIT: Generated graph for the Hamiltonian with 1023 nodes.\n",
      "MEASURECIRCUIT: BronKerbosch found 243 unique circuits\n",
      "MEASURECIRCUIT: Elapsed time: 6.769121s\n",
      "MEASURECIRCUIT: Generated graph for the Hamiltonian with 1023 nodes.\n",
      "MEASURECIRCUIT: BronKerbosch found 243 unique circuits\n",
      "MEASURECIRCUIT: Elapsed time: 6.743588s\n",
      "MEASURECIRCUIT: Generated graph for the Hamiltonian with 1023 nodes.\n",
      "MEASURECIRCUIT: BronKerbosch found 243 unique circuits\n",
      "MEASURECIRCUIT: Elapsed time: 6.784260s\n",
      "MEASURECIRCUIT: Generated graph for the Hamiltonian with 1023 nodes.\n",
      "MEASURECIRCUIT: BronKerbosch found 243 unique circuits\n",
      "MEASURECIRCUIT: Elapsed time: 6.760731s\n",
      "MEASURECIRCUIT: Generated graph for the Hamiltonian with 1023 nodes.\n",
      "MEASURECIRCUIT: BronKerbosch found 243 unique circuits\n",
      "MEASURECIRCUIT: Elapsed time: 6.759602s\n",
      "MEASURECIRCUIT: Generated graph for the Hamiltonian with 1023 nodes.\n",
      "MEASURECIRCUIT: BronKerbosch found 243 unique circuits\n",
      "MEASURECIRCUIT: Elapsed time: 6.756000s\n",
      "MEASURECIRCUIT: Generated graph for the Hamiltonian with 1023 nodes.\n",
      "MEASURECIRCUIT: BronKerbosch found 243 unique circuits\n",
      "MEASURECIRCUIT: Elapsed time: 6.789181s\n",
      "MEASURECIRCUIT: Generated graph for the Hamiltonian with 1023 nodes.\n",
      "MEASURECIRCUIT: BronKerbosch found 243 unique circuits\n",
      "MEASURECIRCUIT: Elapsed time: 6.778773s\n"
     ]
    },
    {
     "data": {
      "application/vnd.jupyter.widget-view+json": {
       "model_id": "127b322ed0bd424c9218d6ea43903faa",
       "version_major": 2,
       "version_minor": 0
      },
      "text/plain": [
       "  0%|          | 0/10 [00:00<?, ?it/s]"
      ]
     },
     "metadata": {},
     "output_type": "display_data"
    },
    {
     "name": "stdout",
     "output_type": "stream",
     "text": [
      "MEASURECIRCUIT: Generated graph for the Hamiltonian with 1023 nodes.\n",
      "MEASURECIRCUIT: BronKerbosch found 243 unique circuits\n",
      "MEASURECIRCUIT: Elapsed time: 6.736395s\n",
      "MEASURECIRCUIT: Generated graph for the Hamiltonian with 1023 nodes.\n",
      "MEASURECIRCUIT: BronKerbosch found 243 unique circuits\n",
      "MEASURECIRCUIT: Elapsed time: 6.795437s\n",
      "MEASURECIRCUIT: Generated graph for the Hamiltonian with 1023 nodes.\n",
      "MEASURECIRCUIT: BronKerbosch found 243 unique circuits\n",
      "MEASURECIRCUIT: Elapsed time: 6.760032s\n",
      "MEASURECIRCUIT: Generated graph for the Hamiltonian with 1023 nodes.\n",
      "MEASURECIRCUIT: BronKerbosch found 243 unique circuits\n",
      "MEASURECIRCUIT: Elapsed time: 6.754258s\n",
      "MEASURECIRCUIT: Generated graph for the Hamiltonian with 1023 nodes.\n",
      "MEASURECIRCUIT: BronKerbosch found 243 unique circuits\n",
      "MEASURECIRCUIT: Elapsed time: 6.728001s\n",
      "MEASURECIRCUIT: Generated graph for the Hamiltonian with 1023 nodes.\n",
      "MEASURECIRCUIT: BronKerbosch found 243 unique circuits\n",
      "MEASURECIRCUIT: Elapsed time: 6.718376s\n",
      "MEASURECIRCUIT: Generated graph for the Hamiltonian with 1023 nodes.\n",
      "MEASURECIRCUIT: BronKerbosch found 243 unique circuits\n",
      "MEASURECIRCUIT: Elapsed time: 6.742470s\n",
      "MEASURECIRCUIT: Generated graph for the Hamiltonian with 1023 nodes.\n",
      "MEASURECIRCUIT: BronKerbosch found 243 unique circuits\n",
      "MEASURECIRCUIT: Elapsed time: 6.752803s\n",
      "MEASURECIRCUIT: Generated graph for the Hamiltonian with 1023 nodes.\n",
      "MEASURECIRCUIT: BronKerbosch found 243 unique circuits\n",
      "MEASURECIRCUIT: Elapsed time: 6.799788s\n",
      "MEASURECIRCUIT: Generated graph for the Hamiltonian with 1023 nodes.\n",
      "MEASURECIRCUIT: BronKerbosch found 243 unique circuits\n",
      "MEASURECIRCUIT: Elapsed time: 6.739629s\n"
     ]
    },
    {
     "data": {
      "application/vnd.jupyter.widget-view+json": {
       "model_id": "1f2badd936f646c89b20f8e6d366297f",
       "version_major": 2,
       "version_minor": 0
      },
      "text/plain": [
       "  0%|          | 0/10 [00:00<?, ?it/s]"
      ]
     },
     "metadata": {},
     "output_type": "display_data"
    },
    {
     "name": "stdout",
     "output_type": "stream",
     "text": [
      "MEASURECIRCUIT: Generated graph for the Hamiltonian with 1023 nodes.\n",
      "MEASURECIRCUIT: BronKerbosch found 243 unique circuits\n",
      "MEASURECIRCUIT: Elapsed time: 6.694085s\n",
      "MEASURECIRCUIT: Generated graph for the Hamiltonian with 1023 nodes.\n",
      "MEASURECIRCUIT: BronKerbosch found 243 unique circuits\n",
      "MEASURECIRCUIT: Elapsed time: 6.733855s\n",
      "MEASURECIRCUIT: Generated graph for the Hamiltonian with 1023 nodes.\n",
      "MEASURECIRCUIT: BronKerbosch found 243 unique circuits\n",
      "MEASURECIRCUIT: Elapsed time: 6.781759s\n",
      "MEASURECIRCUIT: Generated graph for the Hamiltonian with 1023 nodes.\n",
      "MEASURECIRCUIT: BronKerbosch found 243 unique circuits\n",
      "MEASURECIRCUIT: Elapsed time: 6.725764s\n",
      "MEASURECIRCUIT: Generated graph for the Hamiltonian with 1023 nodes.\n",
      "MEASURECIRCUIT: BronKerbosch found 243 unique circuits\n",
      "MEASURECIRCUIT: Elapsed time: 6.761386s\n",
      "MEASURECIRCUIT: Generated graph for the Hamiltonian with 1023 nodes.\n",
      "MEASURECIRCUIT: BronKerbosch found 243 unique circuits\n",
      "MEASURECIRCUIT: Elapsed time: 6.744251s\n",
      "MEASURECIRCUIT: Generated graph for the Hamiltonian with 1023 nodes.\n",
      "MEASURECIRCUIT: BronKerbosch found 243 unique circuits\n",
      "MEASURECIRCUIT: Elapsed time: 6.752350s\n",
      "MEASURECIRCUIT: Generated graph for the Hamiltonian with 1023 nodes.\n",
      "MEASURECIRCUIT: BronKerbosch found 243 unique circuits\n",
      "MEASURECIRCUIT: Elapsed time: 6.743145s\n",
      "MEASURECIRCUIT: Generated graph for the Hamiltonian with 1023 nodes.\n",
      "MEASURECIRCUIT: BronKerbosch found 243 unique circuits\n",
      "MEASURECIRCUIT: Elapsed time: 6.758916s\n",
      "MEASURECIRCUIT: Generated graph for the Hamiltonian with 1023 nodes.\n",
      "MEASURECIRCUIT: BronKerbosch found 243 unique circuits\n",
      "MEASURECIRCUIT: Elapsed time: 6.764105s\n"
     ]
    },
    {
     "data": {
      "application/vnd.jupyter.widget-view+json": {
       "model_id": "58ea5645e2494e22bc69709c6c0c2c88",
       "version_major": 2,
       "version_minor": 0
      },
      "text/plain": [
       "  0%|          | 0/10 [00:00<?, ?it/s]"
      ]
     },
     "metadata": {},
     "output_type": "display_data"
    },
    {
     "name": "stdout",
     "output_type": "stream",
     "text": [
      "MEASURECIRCUIT: Generated graph for the Hamiltonian with 1023 nodes.\n",
      "MEASURECIRCUIT: BronKerbosch found 243 unique circuits\n",
      "MEASURECIRCUIT: Elapsed time: 6.777052s\n",
      "MEASURECIRCUIT: Generated graph for the Hamiltonian with 1023 nodes.\n",
      "MEASURECIRCUIT: BronKerbosch found 243 unique circuits\n",
      "MEASURECIRCUIT: Elapsed time: 6.724187s\n",
      "MEASURECIRCUIT: Generated graph for the Hamiltonian with 1023 nodes.\n",
      "MEASURECIRCUIT: BronKerbosch found 243 unique circuits\n",
      "MEASURECIRCUIT: Elapsed time: 6.720373s\n",
      "MEASURECIRCUIT: Generated graph for the Hamiltonian with 1023 nodes.\n",
      "MEASURECIRCUIT: BronKerbosch found 243 unique circuits\n",
      "MEASURECIRCUIT: Elapsed time: 6.730862s\n",
      "MEASURECIRCUIT: Generated graph for the Hamiltonian with 1023 nodes.\n",
      "MEASURECIRCUIT: BronKerbosch found 243 unique circuits\n",
      "MEASURECIRCUIT: Elapsed time: 6.710504s\n",
      "MEASURECIRCUIT: Generated graph for the Hamiltonian with 1023 nodes.\n",
      "MEASURECIRCUIT: BronKerbosch found 243 unique circuits\n",
      "MEASURECIRCUIT: Elapsed time: 6.751084s\n",
      "MEASURECIRCUIT: Generated graph for the Hamiltonian with 1023 nodes.\n",
      "MEASURECIRCUIT: BronKerbosch found 243 unique circuits\n",
      "MEASURECIRCUIT: Elapsed time: 6.730520s\n",
      "MEASURECIRCUIT: Generated graph for the Hamiltonian with 1023 nodes.\n",
      "MEASURECIRCUIT: BronKerbosch found 243 unique circuits\n",
      "MEASURECIRCUIT: Elapsed time: 6.738688s\n",
      "MEASURECIRCUIT: Generated graph for the Hamiltonian with 1023 nodes.\n",
      "MEASURECIRCUIT: BronKerbosch found 243 unique circuits\n",
      "MEASURECIRCUIT: Elapsed time: 6.748025s\n",
      "MEASURECIRCUIT: Generated graph for the Hamiltonian with 1023 nodes.\n",
      "MEASURECIRCUIT: BronKerbosch found 243 unique circuits\n",
      "MEASURECIRCUIT: Elapsed time: 6.773201s\n"
     ]
    },
    {
     "data": {
      "application/vnd.jupyter.widget-view+json": {
       "model_id": "b95bd2b25e46432ebc52660de910bc17",
       "version_major": 2,
       "version_minor": 0
      },
      "text/plain": [
       "  0%|          | 0/10 [00:00<?, ?it/s]"
      ]
     },
     "metadata": {},
     "output_type": "display_data"
    },
    {
     "name": "stdout",
     "output_type": "stream",
     "text": [
      "MEASURECIRCUIT: Generated graph for the Hamiltonian with 1023 nodes.\n",
      "MEASURECIRCUIT: BronKerbosch found 243 unique circuits\n",
      "MEASURECIRCUIT: Elapsed time: 6.759491s\n",
      "MEASURECIRCUIT: Generated graph for the Hamiltonian with 1023 nodes.\n",
      "MEASURECIRCUIT: BronKerbosch found 243 unique circuits\n",
      "MEASURECIRCUIT: Elapsed time: 6.756733s\n",
      "MEASURECIRCUIT: Generated graph for the Hamiltonian with 1023 nodes.\n",
      "MEASURECIRCUIT: BronKerbosch found 243 unique circuits\n",
      "MEASURECIRCUIT: Elapsed time: 6.766224s\n",
      "MEASURECIRCUIT: Generated graph for the Hamiltonian with 1023 nodes.\n",
      "MEASURECIRCUIT: BronKerbosch found 243 unique circuits\n",
      "MEASURECIRCUIT: Elapsed time: 6.733209s\n",
      "MEASURECIRCUIT: Generated graph for the Hamiltonian with 1023 nodes.\n",
      "MEASURECIRCUIT: BronKerbosch found 243 unique circuits\n",
      "MEASURECIRCUIT: Elapsed time: 6.772453s\n",
      "MEASURECIRCUIT: Generated graph for the Hamiltonian with 1023 nodes.\n",
      "MEASURECIRCUIT: BronKerbosch found 243 unique circuits\n",
      "MEASURECIRCUIT: Elapsed time: 6.691368s\n",
      "MEASURECIRCUIT: Generated graph for the Hamiltonian with 1023 nodes.\n",
      "MEASURECIRCUIT: BronKerbosch found 243 unique circuits\n",
      "MEASURECIRCUIT: Elapsed time: 6.764953s\n",
      "MEASURECIRCUIT: Generated graph for the Hamiltonian with 1023 nodes.\n",
      "MEASURECIRCUIT: BronKerbosch found 243 unique circuits\n",
      "MEASURECIRCUIT: Elapsed time: 6.812665s\n",
      "MEASURECIRCUIT: Generated graph for the Hamiltonian with 1023 nodes.\n",
      "MEASURECIRCUIT: BronKerbosch found 243 unique circuits\n",
      "MEASURECIRCUIT: Elapsed time: 6.753839s\n",
      "MEASURECIRCUIT: Generated graph for the Hamiltonian with 1023 nodes.\n",
      "MEASURECIRCUIT: BronKerbosch found 243 unique circuits\n",
      "MEASURECIRCUIT: Elapsed time: 6.810238s\n"
     ]
    },
    {
     "data": {
      "application/vnd.jupyter.widget-view+json": {
       "model_id": "2aff0f37bbbf43ba900088a7d2d4e425",
       "version_major": 2,
       "version_minor": 0
      },
      "text/plain": [
       "  0%|          | 0/10 [00:00<?, ?it/s]"
      ]
     },
     "metadata": {},
     "output_type": "display_data"
    },
    {
     "name": "stdout",
     "output_type": "stream",
     "text": [
      "MEASURECIRCUIT: Generated graph for the Hamiltonian with 1023 nodes.\n",
      "MEASURECIRCUIT: BronKerbosch found 243 unique circuits\n",
      "MEASURECIRCUIT: Elapsed time: 6.733660s\n",
      "MEASURECIRCUIT: Generated graph for the Hamiltonian with 1023 nodes.\n",
      "MEASURECIRCUIT: BronKerbosch found 243 unique circuits\n",
      "MEASURECIRCUIT: Elapsed time: 6.701080s\n",
      "MEASURECIRCUIT: Generated graph for the Hamiltonian with 1023 nodes.\n",
      "MEASURECIRCUIT: BronKerbosch found 243 unique circuits\n",
      "MEASURECIRCUIT: Elapsed time: 6.721253s\n",
      "MEASURECIRCUIT: Generated graph for the Hamiltonian with 1023 nodes.\n",
      "MEASURECIRCUIT: BronKerbosch found 243 unique circuits\n",
      "MEASURECIRCUIT: Elapsed time: 6.727821s\n",
      "MEASURECIRCUIT: Generated graph for the Hamiltonian with 1023 nodes.\n",
      "MEASURECIRCUIT: BronKerbosch found 243 unique circuits\n",
      "MEASURECIRCUIT: Elapsed time: 6.714261s\n",
      "MEASURECIRCUIT: Generated graph for the Hamiltonian with 1023 nodes.\n",
      "MEASURECIRCUIT: BronKerbosch found 243 unique circuits\n",
      "MEASURECIRCUIT: Elapsed time: 6.795710s\n",
      "MEASURECIRCUIT: Generated graph for the Hamiltonian with 1023 nodes.\n",
      "MEASURECIRCUIT: BronKerbosch found 243 unique circuits\n",
      "MEASURECIRCUIT: Elapsed time: 6.754233s\n",
      "MEASURECIRCUIT: Generated graph for the Hamiltonian with 1023 nodes.\n",
      "MEASURECIRCUIT: BronKerbosch found 243 unique circuits\n",
      "MEASURECIRCUIT: Elapsed time: 6.789246s\n",
      "MEASURECIRCUIT: Generated graph for the Hamiltonian with 1023 nodes.\n",
      "MEASURECIRCUIT: BronKerbosch found 243 unique circuits\n",
      "MEASURECIRCUIT: Elapsed time: 6.784135s\n",
      "MEASURECIRCUIT: Generated graph for the Hamiltonian with 1023 nodes.\n",
      "MEASURECIRCUIT: BronKerbosch found 243 unique circuits\n",
      "MEASURECIRCUIT: Elapsed time: 6.746301s\n"
     ]
    },
    {
     "data": {
      "application/vnd.jupyter.widget-view+json": {
       "model_id": "fa62f4fd009b486cba09846a68920b2c",
       "version_major": 2,
       "version_minor": 0
      },
      "text/plain": [
       "  0%|          | 0/10 [00:00<?, ?it/s]"
      ]
     },
     "metadata": {},
     "output_type": "display_data"
    },
    {
     "name": "stdout",
     "output_type": "stream",
     "text": [
      "MEASURECIRCUIT: Generated graph for the Hamiltonian with 1023 nodes.\n",
      "MEASURECIRCUIT: BronKerbosch found 243 unique circuits\n",
      "MEASURECIRCUIT: Elapsed time: 6.727464s\n",
      "MEASURECIRCUIT: Generated graph for the Hamiltonian with 1023 nodes.\n",
      "MEASURECIRCUIT: BronKerbosch found 243 unique circuits\n",
      "MEASURECIRCUIT: Elapsed time: 6.766493s\n",
      "MEASURECIRCUIT: Generated graph for the Hamiltonian with 1023 nodes.\n",
      "MEASURECIRCUIT: BronKerbosch found 243 unique circuits\n",
      "MEASURECIRCUIT: Elapsed time: 6.737581s\n",
      "MEASURECIRCUIT: Generated graph for the Hamiltonian with 1023 nodes.\n",
      "MEASURECIRCUIT: BronKerbosch found 243 unique circuits\n",
      "MEASURECIRCUIT: Elapsed time: 6.750002s\n",
      "MEASURECIRCUIT: Generated graph for the Hamiltonian with 1023 nodes.\n",
      "MEASURECIRCUIT: BronKerbosch found 243 unique circuits\n",
      "MEASURECIRCUIT: Elapsed time: 6.764097s\n",
      "MEASURECIRCUIT: Generated graph for the Hamiltonian with 1023 nodes.\n",
      "MEASURECIRCUIT: BronKerbosch found 243 unique circuits\n",
      "MEASURECIRCUIT: Elapsed time: 6.757752s\n",
      "MEASURECIRCUIT: Generated graph for the Hamiltonian with 1023 nodes.\n",
      "MEASURECIRCUIT: BronKerbosch found 243 unique circuits\n",
      "MEASURECIRCUIT: Elapsed time: 6.768290s\n",
      "MEASURECIRCUIT: Generated graph for the Hamiltonian with 1023 nodes.\n",
      "MEASURECIRCUIT: BronKerbosch found 243 unique circuits\n",
      "MEASURECIRCUIT: Elapsed time: 6.728965s\n",
      "MEASURECIRCUIT: Generated graph for the Hamiltonian with 1023 nodes.\n",
      "MEASURECIRCUIT: BronKerbosch found 243 unique circuits\n",
      "MEASURECIRCUIT: Elapsed time: 6.701450s\n",
      "MEASURECIRCUIT: Generated graph for the Hamiltonian with 1023 nodes.\n",
      "MEASURECIRCUIT: BronKerbosch found 243 unique circuits\n",
      "MEASURECIRCUIT: Elapsed time: 6.730500s\n"
     ]
    },
    {
     "data": {
      "application/vnd.jupyter.widget-view+json": {
       "model_id": "2a74c17a12bd43e5bc59a44d53546365",
       "version_major": 2,
       "version_minor": 0
      },
      "text/plain": [
       "  0%|          | 0/10 [00:00<?, ?it/s]"
      ]
     },
     "metadata": {},
     "output_type": "display_data"
    },
    {
     "name": "stdout",
     "output_type": "stream",
     "text": [
      "MEASURECIRCUIT: Generated graph for the Hamiltonian with 1023 nodes.\n",
      "MEASURECIRCUIT: BronKerbosch found 243 unique circuits\n",
      "MEASURECIRCUIT: Elapsed time: 6.744374s\n",
      "MEASURECIRCUIT: Generated graph for the Hamiltonian with 1023 nodes.\n",
      "MEASURECIRCUIT: BronKerbosch found 243 unique circuits\n",
      "MEASURECIRCUIT: Elapsed time: 6.794887s\n",
      "MEASURECIRCUIT: Generated graph for the Hamiltonian with 1023 nodes.\n",
      "MEASURECIRCUIT: BronKerbosch found 243 unique circuits\n",
      "MEASURECIRCUIT: Elapsed time: 6.739839s\n",
      "MEASURECIRCUIT: Generated graph for the Hamiltonian with 1023 nodes.\n",
      "MEASURECIRCUIT: BronKerbosch found 243 unique circuits\n",
      "MEASURECIRCUIT: Elapsed time: 6.723673s\n",
      "MEASURECIRCUIT: Generated graph for the Hamiltonian with 1023 nodes.\n",
      "MEASURECIRCUIT: BronKerbosch found 243 unique circuits\n",
      "MEASURECIRCUIT: Elapsed time: 6.772458s\n",
      "MEASURECIRCUIT: Generated graph for the Hamiltonian with 1023 nodes.\n",
      "MEASURECIRCUIT: BronKerbosch found 243 unique circuits\n",
      "MEASURECIRCUIT: Elapsed time: 6.711914s\n",
      "MEASURECIRCUIT: Generated graph for the Hamiltonian with 1023 nodes.\n",
      "MEASURECIRCUIT: BronKerbosch found 243 unique circuits\n",
      "MEASURECIRCUIT: Elapsed time: 6.769502s\n",
      "MEASURECIRCUIT: Generated graph for the Hamiltonian with 1023 nodes.\n",
      "MEASURECIRCUIT: BronKerbosch found 243 unique circuits\n",
      "MEASURECIRCUIT: Elapsed time: 6.750790s\n",
      "MEASURECIRCUIT: Generated graph for the Hamiltonian with 1023 nodes.\n",
      "MEASURECIRCUIT: BronKerbosch found 243 unique circuits\n",
      "MEASURECIRCUIT: Elapsed time: 6.780028s\n",
      "MEASURECIRCUIT: Generated graph for the Hamiltonian with 1023 nodes.\n",
      "MEASURECIRCUIT: BronKerbosch found 243 unique circuits\n",
      "MEASURECIRCUIT: Elapsed time: 6.720074s\n"
     ]
    },
    {
     "data": {
      "application/vnd.jupyter.widget-view+json": {
       "model_id": "b12bfbcda3f54d53b4c651c1c02f7a5d",
       "version_major": 2,
       "version_minor": 0
      },
      "text/plain": [
       "  0%|          | 0/10 [00:00<?, ?it/s]"
      ]
     },
     "metadata": {},
     "output_type": "display_data"
    },
    {
     "name": "stdout",
     "output_type": "stream",
     "text": [
      "MEASURECIRCUIT: Generated graph for the Hamiltonian with 1023 nodes.\n",
      "MEASURECIRCUIT: BronKerbosch found 243 unique circuits\n",
      "MEASURECIRCUIT: Elapsed time: 6.828144s\n",
      "MEASURECIRCUIT: Generated graph for the Hamiltonian with 1023 nodes.\n",
      "MEASURECIRCUIT: BronKerbosch found 243 unique circuits\n",
      "MEASURECIRCUIT: Elapsed time: 6.769586s\n",
      "MEASURECIRCUIT: Generated graph for the Hamiltonian with 1023 nodes.\n",
      "MEASURECIRCUIT: BronKerbosch found 243 unique circuits\n",
      "MEASURECIRCUIT: Elapsed time: 6.788262s\n",
      "MEASURECIRCUIT: Generated graph for the Hamiltonian with 1023 nodes.\n",
      "MEASURECIRCUIT: BronKerbosch found 243 unique circuits\n",
      "MEASURECIRCUIT: Elapsed time: 6.742087s\n",
      "MEASURECIRCUIT: Generated graph for the Hamiltonian with 1023 nodes.\n",
      "MEASURECIRCUIT: BronKerbosch found 243 unique circuits\n",
      "MEASURECIRCUIT: Elapsed time: 6.734185s\n",
      "MEASURECIRCUIT: Generated graph for the Hamiltonian with 1023 nodes.\n",
      "MEASURECIRCUIT: BronKerbosch found 243 unique circuits\n",
      "MEASURECIRCUIT: Elapsed time: 6.719420s\n",
      "MEASURECIRCUIT: Generated graph for the Hamiltonian with 1023 nodes.\n",
      "MEASURECIRCUIT: BronKerbosch found 243 unique circuits\n",
      "MEASURECIRCUIT: Elapsed time: 6.796770s\n",
      "MEASURECIRCUIT: Generated graph for the Hamiltonian with 1023 nodes.\n",
      "MEASURECIRCUIT: BronKerbosch found 243 unique circuits\n",
      "MEASURECIRCUIT: Elapsed time: 6.762102s\n",
      "MEASURECIRCUIT: Generated graph for the Hamiltonian with 1023 nodes.\n",
      "MEASURECIRCUIT: BronKerbosch found 243 unique circuits\n",
      "MEASURECIRCUIT: Elapsed time: 6.719427s\n",
      "MEASURECIRCUIT: Generated graph for the Hamiltonian with 1023 nodes.\n",
      "MEASURECIRCUIT: BronKerbosch found 243 unique circuits\n",
      "MEASURECIRCUIT: Elapsed time: 6.717057s\n"
     ]
    },
    {
     "data": {
      "application/vnd.jupyter.widget-view+json": {
       "model_id": "d54c50211773475791e90068323840c8",
       "version_major": 2,
       "version_minor": 0
      },
      "text/plain": [
       "  0%|          | 0/10 [00:00<?, ?it/s]"
      ]
     },
     "metadata": {},
     "output_type": "display_data"
    },
    {
     "name": "stdout",
     "output_type": "stream",
     "text": [
      "MEASURECIRCUIT: Generated graph for the Hamiltonian with 1023 nodes.\n",
      "MEASURECIRCUIT: BronKerbosch found 243 unique circuits\n",
      "MEASURECIRCUIT: Elapsed time: 6.751843s\n",
      "MEASURECIRCUIT: Generated graph for the Hamiltonian with 1023 nodes.\n",
      "MEASURECIRCUIT: BronKerbosch found 243 unique circuits\n",
      "MEASURECIRCUIT: Elapsed time: 6.770735s\n",
      "MEASURECIRCUIT: Generated graph for the Hamiltonian with 1023 nodes.\n",
      "MEASURECIRCUIT: BronKerbosch found 243 unique circuits\n",
      "MEASURECIRCUIT: Elapsed time: 6.782341s\n",
      "MEASURECIRCUIT: Generated graph for the Hamiltonian with 1023 nodes.\n",
      "MEASURECIRCUIT: BronKerbosch found 243 unique circuits\n",
      "MEASURECIRCUIT: Elapsed time: 6.829807s\n",
      "MEASURECIRCUIT: Generated graph for the Hamiltonian with 1023 nodes.\n",
      "MEASURECIRCUIT: BronKerbosch found 243 unique circuits\n",
      "MEASURECIRCUIT: Elapsed time: 6.757035s\n",
      "MEASURECIRCUIT: Generated graph for the Hamiltonian with 1023 nodes.\n",
      "MEASURECIRCUIT: BronKerbosch found 243 unique circuits\n",
      "MEASURECIRCUIT: Elapsed time: 6.733407s\n",
      "MEASURECIRCUIT: Generated graph for the Hamiltonian with 1023 nodes.\n",
      "MEASURECIRCUIT: BronKerbosch found 243 unique circuits\n",
      "MEASURECIRCUIT: Elapsed time: 6.754408s\n",
      "MEASURECIRCUIT: Generated graph for the Hamiltonian with 1023 nodes.\n",
      "MEASURECIRCUIT: BronKerbosch found 243 unique circuits\n",
      "MEASURECIRCUIT: Elapsed time: 6.785959s\n",
      "MEASURECIRCUIT: Generated graph for the Hamiltonian with 1023 nodes.\n",
      "MEASURECIRCUIT: BronKerbosch found 243 unique circuits\n",
      "MEASURECIRCUIT: Elapsed time: 6.802336s\n",
      "MEASURECIRCUIT: Generated graph for the Hamiltonian with 1023 nodes.\n",
      "MEASURECIRCUIT: BronKerbosch found 243 unique circuits\n",
      "MEASURECIRCUIT: Elapsed time: 6.767321s\n",
      "===========================================\n",
      "                   GC(BronKerbosch)\n",
      "===========================================\n"
     ]
    },
    {
     "data": {
      "application/vnd.jupyter.widget-view+json": {
       "model_id": "fa8854ded7c04026bdeffa4c6c945b78",
       "version_major": 2,
       "version_minor": 0
      },
      "text/plain": [
       "  0%|          | 0/10 [00:00<?, ?it/s]"
      ]
     },
     "metadata": {},
     "output_type": "display_data"
    },
    {
     "name": "stdout",
     "output_type": "stream",
     "text": [
      "MEASURECIRCUIT: Generated graph for the Hamiltonian with 31 nodes.\n",
      "MEASURECIRCUIT: BronKerbosch found 1 unique circuits\n",
      "MEASURECIRCUIT: Elapsed time: 0.009477s\n",
      "MEASURECIRCUIT: Generated graph for the Hamiltonian with 31 nodes.\n",
      "MEASURECIRCUIT: BronKerbosch found 1 unique circuits\n",
      "MEASURECIRCUIT: Elapsed time: 0.009424s\n",
      "MEASURECIRCUIT: Generated graph for the Hamiltonian with 31 nodes.\n",
      "MEASURECIRCUIT: BronKerbosch found 1 unique circuits\n",
      "MEASURECIRCUIT: Elapsed time: 0.009435s\n",
      "MEASURECIRCUIT: Generated graph for the Hamiltonian with 31 nodes.\n",
      "MEASURECIRCUIT: BronKerbosch found 1 unique circuits\n",
      "MEASURECIRCUIT: Elapsed time: 0.009489s\n",
      "MEASURECIRCUIT: Generated graph for the Hamiltonian with 31 nodes.\n",
      "MEASURECIRCUIT: BronKerbosch found 1 unique circuits\n",
      "MEASURECIRCUIT: Elapsed time: 0.009479s\n",
      "MEASURECIRCUIT: Generated graph for the Hamiltonian with 31 nodes.\n",
      "MEASURECIRCUIT: BronKerbosch found 1 unique circuits\n",
      "MEASURECIRCUIT: Elapsed time: 0.009387s\n",
      "MEASURECIRCUIT: Generated graph for the Hamiltonian with 31 nodes.\n",
      "MEASURECIRCUIT: BronKerbosch found 1 unique circuits\n",
      "MEASURECIRCUIT: Elapsed time: 0.009522s\n",
      "MEASURECIRCUIT: Generated graph for the Hamiltonian with 31 nodes.\n",
      "MEASURECIRCUIT: BronKerbosch found 1 unique circuits\n",
      "MEASURECIRCUIT: Elapsed time: 0.009643s\n",
      "MEASURECIRCUIT: Generated graph for the Hamiltonian with 31 nodes.\n",
      "MEASURECIRCUIT: BronKerbosch found 1 unique circuits\n",
      "MEASURECIRCUIT: Elapsed time: 0.009470s\n",
      "MEASURECIRCUIT: Generated graph for the Hamiltonian with 31 nodes.\n",
      "MEASURECIRCUIT: BronKerbosch found 1 unique circuits\n",
      "MEASURECIRCUIT: Elapsed time: 0.009914s\n"
     ]
    },
    {
     "data": {
      "application/vnd.jupyter.widget-view+json": {
       "model_id": "50ee3bb62d1e4b35b90e30747ee08b1c",
       "version_major": 2,
       "version_minor": 0
      },
      "text/plain": [
       "  0%|          | 0/10 [00:00<?, ?it/s]"
      ]
     },
     "metadata": {},
     "output_type": "display_data"
    },
    {
     "name": "stdout",
     "output_type": "stream",
     "text": [
      "MEASURECIRCUIT: Generated graph for the Hamiltonian with 191 nodes.\n",
      "MEASURECIRCUIT: BronKerbosch found 11 unique circuits\n",
      "MEASURECIRCUIT: Elapsed time: 2.208211s\n",
      "MEASURECIRCUIT: Generated graph for the Hamiltonian with 191 nodes.\n",
      "MEASURECIRCUIT: BronKerbosch found 11 unique circuits\n",
      "MEASURECIRCUIT: Elapsed time: 2.220170s\n",
      "MEASURECIRCUIT: Generated graph for the Hamiltonian with 191 nodes.\n",
      "MEASURECIRCUIT: BronKerbosch found 11 unique circuits\n",
      "MEASURECIRCUIT: Elapsed time: 2.219535s\n",
      "MEASURECIRCUIT: Generated graph for the Hamiltonian with 191 nodes.\n",
      "MEASURECIRCUIT: BronKerbosch found 11 unique circuits\n",
      "MEASURECIRCUIT: Elapsed time: 2.219017s\n",
      "MEASURECIRCUIT: Generated graph for the Hamiltonian with 191 nodes.\n",
      "MEASURECIRCUIT: BronKerbosch found 11 unique circuits\n",
      "MEASURECIRCUIT: Elapsed time: 2.225140s\n",
      "MEASURECIRCUIT: Generated graph for the Hamiltonian with 191 nodes.\n",
      "MEASURECIRCUIT: BronKerbosch found 11 unique circuits\n",
      "MEASURECIRCUIT: Elapsed time: 2.213376s\n",
      "MEASURECIRCUIT: Generated graph for the Hamiltonian with 191 nodes.\n",
      "MEASURECIRCUIT: BronKerbosch found 11 unique circuits\n",
      "MEASURECIRCUIT: Elapsed time: 2.246961s\n",
      "MEASURECIRCUIT: Generated graph for the Hamiltonian with 191 nodes.\n",
      "MEASURECIRCUIT: BronKerbosch found 11 unique circuits\n",
      "MEASURECIRCUIT: Elapsed time: 2.224609s\n",
      "MEASURECIRCUIT: Generated graph for the Hamiltonian with 191 nodes.\n",
      "MEASURECIRCUIT: BronKerbosch found 11 unique circuits\n",
      "MEASURECIRCUIT: Elapsed time: 2.224963s\n",
      "MEASURECIRCUIT: Generated graph for the Hamiltonian with 191 nodes.\n",
      "MEASURECIRCUIT: BronKerbosch found 11 unique circuits\n",
      "MEASURECIRCUIT: Elapsed time: 2.218378s\n"
     ]
    },
    {
     "data": {
      "application/vnd.jupyter.widget-view+json": {
       "model_id": "8f77f54ec9524e69a6db98b38fe362fd",
       "version_major": 2,
       "version_minor": 0
      },
      "text/plain": [
       "  0%|          | 0/10 [00:00<?, ?it/s]"
      ]
     },
     "metadata": {},
     "output_type": "display_data"
    },
    {
     "name": "stdout",
     "output_type": "stream",
     "text": [
      "MEASURECIRCUIT: Generated graph for the Hamiltonian with 319 nodes.\n",
      "MEASURECIRCUIT: BronKerbosch found 18 unique circuits\n",
      "MEASURECIRCUIT: Elapsed time: 24.536241s\n",
      "MEASURECIRCUIT: Generated graph for the Hamiltonian with 319 nodes.\n",
      "MEASURECIRCUIT: BronKerbosch found 18 unique circuits\n",
      "MEASURECIRCUIT: Elapsed time: 24.574852s\n",
      "MEASURECIRCUIT: Generated graph for the Hamiltonian with 319 nodes.\n",
      "MEASURECIRCUIT: BronKerbosch found 18 unique circuits\n",
      "MEASURECIRCUIT: Elapsed time: 24.646091s\n",
      "MEASURECIRCUIT: Generated graph for the Hamiltonian with 319 nodes.\n",
      "MEASURECIRCUIT: BronKerbosch found 18 unique circuits\n",
      "MEASURECIRCUIT: Elapsed time: 24.641281s\n",
      "MEASURECIRCUIT: Generated graph for the Hamiltonian with 319 nodes.\n",
      "MEASURECIRCUIT: BronKerbosch found 18 unique circuits\n",
      "MEASURECIRCUIT: Elapsed time: 24.710016s\n",
      "MEASURECIRCUIT: Generated graph for the Hamiltonian with 319 nodes.\n",
      "MEASURECIRCUIT: BronKerbosch found 18 unique circuits\n",
      "MEASURECIRCUIT: Elapsed time: 24.591904s\n",
      "MEASURECIRCUIT: Generated graph for the Hamiltonian with 319 nodes.\n",
      "MEASURECIRCUIT: BronKerbosch found 18 unique circuits\n",
      "MEASURECIRCUIT: Elapsed time: 24.575043s\n",
      "MEASURECIRCUIT: Generated graph for the Hamiltonian with 319 nodes.\n",
      "MEASURECIRCUIT: BronKerbosch found 18 unique circuits\n",
      "MEASURECIRCUIT: Elapsed time: 24.621294s\n",
      "MEASURECIRCUIT: Generated graph for the Hamiltonian with 319 nodes.\n",
      "MEASURECIRCUIT: BronKerbosch found 18 unique circuits\n",
      "MEASURECIRCUIT: Elapsed time: 24.630623s\n",
      "MEASURECIRCUIT: Generated graph for the Hamiltonian with 319 nodes.\n",
      "MEASURECIRCUIT: BronKerbosch found 18 unique circuits\n",
      "MEASURECIRCUIT: Elapsed time: 24.609820s\n"
     ]
    },
    {
     "data": {
      "application/vnd.jupyter.widget-view+json": {
       "model_id": "84984968ccf743eda13c0f935f1161e4",
       "version_major": 2,
       "version_minor": 0
      },
      "text/plain": [
       "  0%|          | 0/10 [00:00<?, ?it/s]"
      ]
     },
     "metadata": {},
     "output_type": "display_data"
    },
    {
     "name": "stdout",
     "output_type": "stream",
     "text": [
      "MEASURECIRCUIT: Generated graph for the Hamiltonian with 415 nodes.\n",
      "MEASURECIRCUIT: BronKerbosch found 19 unique circuits\n",
      "MEASURECIRCUIT: Elapsed time: 81.831977s\n",
      "MEASURECIRCUIT: Generated graph for the Hamiltonian with 415 nodes.\n",
      "MEASURECIRCUIT: BronKerbosch found 19 unique circuits\n",
      "MEASURECIRCUIT: Elapsed time: 82.152271s\n",
      "MEASURECIRCUIT: Generated graph for the Hamiltonian with 415 nodes.\n",
      "MEASURECIRCUIT: BronKerbosch found 19 unique circuits\n",
      "MEASURECIRCUIT: Elapsed time: 82.347732s\n",
      "MEASURECIRCUIT: Generated graph for the Hamiltonian with 415 nodes.\n",
      "MEASURECIRCUIT: BronKerbosch found 19 unique circuits\n",
      "MEASURECIRCUIT: Elapsed time: 82.236671s\n",
      "MEASURECIRCUIT: Generated graph for the Hamiltonian with 415 nodes.\n",
      "MEASURECIRCUIT: BronKerbosch found 19 unique circuits\n",
      "MEASURECIRCUIT: Elapsed time: 82.253538s\n",
      "MEASURECIRCUIT: Generated graph for the Hamiltonian with 415 nodes.\n",
      "MEASURECIRCUIT: BronKerbosch found 19 unique circuits\n",
      "MEASURECIRCUIT: Elapsed time: 82.382042s\n",
      "MEASURECIRCUIT: Generated graph for the Hamiltonian with 415 nodes.\n",
      "MEASURECIRCUIT: BronKerbosch found 19 unique circuits\n",
      "MEASURECIRCUIT: Elapsed time: 82.331985s\n",
      "MEASURECIRCUIT: Generated graph for the Hamiltonian with 415 nodes.\n",
      "MEASURECIRCUIT: BronKerbosch found 19 unique circuits\n",
      "MEASURECIRCUIT: Elapsed time: 82.382803s\n",
      "MEASURECIRCUIT: Generated graph for the Hamiltonian with 415 nodes.\n",
      "MEASURECIRCUIT: BronKerbosch found 19 unique circuits\n",
      "MEASURECIRCUIT: Elapsed time: 82.452422s\n",
      "MEASURECIRCUIT: Generated graph for the Hamiltonian with 415 nodes.\n",
      "MEASURECIRCUIT: BronKerbosch found 19 unique circuits\n",
      "MEASURECIRCUIT: Elapsed time: 82.367385s\n"
     ]
    },
    {
     "data": {
      "application/vnd.jupyter.widget-view+json": {
       "model_id": "750ee19f357b42a2979ee2c0edf6522a",
       "version_major": 2,
       "version_minor": 0
      },
      "text/plain": [
       "  0%|          | 0/10 [00:00<?, ?it/s]"
      ]
     },
     "metadata": {},
     "output_type": "display_data"
    },
    {
     "name": "stdout",
     "output_type": "stream",
     "text": [
      "MEASURECIRCUIT: Generated graph for the Hamiltonian with 511 nodes.\n",
      "MEASURECIRCUIT: BronKerbosch found 27 unique circuits\n",
      "MEASURECIRCUIT: Elapsed time: 213.057570s\n",
      "MEASURECIRCUIT: Generated graph for the Hamiltonian with 511 nodes.\n",
      "MEASURECIRCUIT: BronKerbosch found 27 unique circuits\n",
      "MEASURECIRCUIT: Elapsed time: 214.546793s\n",
      "MEASURECIRCUIT: Generated graph for the Hamiltonian with 511 nodes.\n",
      "MEASURECIRCUIT: BronKerbosch found 27 unique circuits\n",
      "MEASURECIRCUIT: Elapsed time: 214.383448s\n",
      "MEASURECIRCUIT: Generated graph for the Hamiltonian with 511 nodes.\n",
      "MEASURECIRCUIT: BronKerbosch found 27 unique circuits\n",
      "MEASURECIRCUIT: Elapsed time: 214.068452s\n",
      "MEASURECIRCUIT: Generated graph for the Hamiltonian with 511 nodes.\n",
      "MEASURECIRCUIT: BronKerbosch found 27 unique circuits\n",
      "MEASURECIRCUIT: Elapsed time: 214.536108s\n",
      "MEASURECIRCUIT: Generated graph for the Hamiltonian with 511 nodes.\n",
      "MEASURECIRCUIT: BronKerbosch found 27 unique circuits\n",
      "MEASURECIRCUIT: Elapsed time: 215.680028s\n",
      "MEASURECIRCUIT: Generated graph for the Hamiltonian with 511 nodes.\n",
      "MEASURECIRCUIT: BronKerbosch found 27 unique circuits\n",
      "MEASURECIRCUIT: Elapsed time: 214.691792s\n",
      "MEASURECIRCUIT: Generated graph for the Hamiltonian with 511 nodes.\n",
      "MEASURECIRCUIT: BronKerbosch found 27 unique circuits\n",
      "MEASURECIRCUIT: Elapsed time: 214.308679s\n",
      "MEASURECIRCUIT: Generated graph for the Hamiltonian with 511 nodes.\n",
      "MEASURECIRCUIT: BronKerbosch found 27 unique circuits\n",
      "MEASURECIRCUIT: Elapsed time: 214.252843s\n",
      "MEASURECIRCUIT: Generated graph for the Hamiltonian with 511 nodes.\n",
      "MEASURECIRCUIT: BronKerbosch found 27 unique circuits\n",
      "MEASURECIRCUIT: Elapsed time: 214.141968s\n"
     ]
    },
    {
     "data": {
      "application/vnd.jupyter.widget-view+json": {
       "model_id": "7ab2059562804fa4980976c803f7cfbb",
       "version_major": 2,
       "version_minor": 0
      },
      "text/plain": [
       "  0%|          | 0/10 [00:00<?, ?it/s]"
      ]
     },
     "metadata": {},
     "output_type": "display_data"
    },
    {
     "name": "stdout",
     "output_type": "stream",
     "text": [
      "MEASURECIRCUIT: Generated graph for the Hamiltonian with 575 nodes.\n",
      "MEASURECIRCUIT: BronKerbosch found 33 unique circuits\n",
      "MEASURECIRCUIT: Elapsed time: 386.926690s\n",
      "MEASURECIRCUIT: Generated graph for the Hamiltonian with 575 nodes.\n",
      "MEASURECIRCUIT: BronKerbosch found 33 unique circuits\n",
      "MEASURECIRCUIT: Elapsed time: 386.428485s\n",
      "MEASURECIRCUIT: Generated graph for the Hamiltonian with 575 nodes.\n",
      "MEASURECIRCUIT: BronKerbosch found 33 unique circuits\n",
      "MEASURECIRCUIT: Elapsed time: 387.354997s\n",
      "MEASURECIRCUIT: Generated graph for the Hamiltonian with 575 nodes.\n",
      "MEASURECIRCUIT: BronKerbosch found 33 unique circuits\n",
      "MEASURECIRCUIT: Elapsed time: 386.739479s\n",
      "MEASURECIRCUIT: Generated graph for the Hamiltonian with 575 nodes.\n",
      "MEASURECIRCUIT: BronKerbosch found 33 unique circuits\n",
      "MEASURECIRCUIT: Elapsed time: 387.732980s\n",
      "MEASURECIRCUIT: Generated graph for the Hamiltonian with 575 nodes.\n",
      "MEASURECIRCUIT: BronKerbosch found 33 unique circuits\n",
      "MEASURECIRCUIT: Elapsed time: 387.326350s\n",
      "MEASURECIRCUIT: Generated graph for the Hamiltonian with 575 nodes.\n",
      "MEASURECIRCUIT: BronKerbosch found 33 unique circuits\n",
      "MEASURECIRCUIT: Elapsed time: 388.398840s\n",
      "MEASURECIRCUIT: Generated graph for the Hamiltonian with 575 nodes.\n",
      "MEASURECIRCUIT: BronKerbosch found 33 unique circuits\n",
      "MEASURECIRCUIT: Elapsed time: 388.672749s\n",
      "MEASURECIRCUIT: Generated graph for the Hamiltonian with 575 nodes.\n",
      "MEASURECIRCUIT: BronKerbosch found 33 unique circuits\n",
      "MEASURECIRCUIT: Elapsed time: 387.997911s\n",
      "MEASURECIRCUIT: Generated graph for the Hamiltonian with 575 nodes.\n",
      "MEASURECIRCUIT: BronKerbosch found 33 unique circuits\n",
      "MEASURECIRCUIT: Elapsed time: 387.043128s\n"
     ]
    },
    {
     "data": {
      "application/vnd.jupyter.widget-view+json": {
       "model_id": "5ff33b5493214822a2e76e69644c4756",
       "version_major": 2,
       "version_minor": 0
      },
      "text/plain": [
       "  0%|          | 0/10 [00:00<?, ?it/s]"
      ]
     },
     "metadata": {},
     "output_type": "display_data"
    },
    {
     "name": "stdout",
     "output_type": "stream",
     "text": [
      "MEASURECIRCUIT: Generated graph for the Hamiltonian with 639 nodes.\n",
      "MEASURECIRCUIT: BronKerbosch found 34 unique circuits\n",
      "MEASURECIRCUIT: Elapsed time: 612.545747s\n",
      "MEASURECIRCUIT: Generated graph for the Hamiltonian with 639 nodes.\n",
      "MEASURECIRCUIT: BronKerbosch found 34 unique circuits\n",
      "MEASURECIRCUIT: Elapsed time: 612.124559s\n",
      "MEASURECIRCUIT: Generated graph for the Hamiltonian with 639 nodes.\n",
      "MEASURECIRCUIT: BronKerbosch found 34 unique circuits\n",
      "MEASURECIRCUIT: Elapsed time: 612.943178s\n",
      "MEASURECIRCUIT: Generated graph for the Hamiltonian with 639 nodes.\n",
      "MEASURECIRCUIT: BronKerbosch found 34 unique circuits\n",
      "MEASURECIRCUIT: Elapsed time: 613.864344s\n",
      "MEASURECIRCUIT: Generated graph for the Hamiltonian with 639 nodes.\n",
      "MEASURECIRCUIT: BronKerbosch found 34 unique circuits\n",
      "MEASURECIRCUIT: Elapsed time: 612.886155s\n",
      "MEASURECIRCUIT: Generated graph for the Hamiltonian with 639 nodes.\n",
      "MEASURECIRCUIT: BronKerbosch found 34 unique circuits\n",
      "MEASURECIRCUIT: Elapsed time: 612.892682s\n",
      "MEASURECIRCUIT: Generated graph for the Hamiltonian with 639 nodes.\n",
      "MEASURECIRCUIT: BronKerbosch found 34 unique circuits\n",
      "MEASURECIRCUIT: Elapsed time: 613.308671s\n",
      "MEASURECIRCUIT: Generated graph for the Hamiltonian with 639 nodes.\n",
      "MEASURECIRCUIT: BronKerbosch found 34 unique circuits\n",
      "MEASURECIRCUIT: Elapsed time: 613.871158s\n",
      "MEASURECIRCUIT: Generated graph for the Hamiltonian with 639 nodes.\n",
      "MEASURECIRCUIT: BronKerbosch found 34 unique circuits\n",
      "MEASURECIRCUIT: Elapsed time: 614.156309s\n",
      "MEASURECIRCUIT: Generated graph for the Hamiltonian with 639 nodes.\n",
      "MEASURECIRCUIT: BronKerbosch found 34 unique circuits\n",
      "MEASURECIRCUIT: Elapsed time: 614.403272s\n"
     ]
    },
    {
     "data": {
      "application/vnd.jupyter.widget-view+json": {
       "model_id": "86455b9650a54ebcb26728492ddc97ce",
       "version_major": 2,
       "version_minor": 0
      },
      "text/plain": [
       "  0%|          | 0/10 [00:00<?, ?it/s]"
      ]
     },
     "metadata": {},
     "output_type": "display_data"
    },
    {
     "name": "stdout",
     "output_type": "stream",
     "text": [
      "MEASURECIRCUIT: Generated graph for the Hamiltonian with 703 nodes.\n",
      "MEASURECIRCUIT: BronKerbosch found 36 unique circuits\n",
      "MEASURECIRCUIT: Elapsed time: 966.920621s\n",
      "MEASURECIRCUIT: Generated graph for the Hamiltonian with 703 nodes.\n",
      "MEASURECIRCUIT: BronKerbosch found 36 unique circuits\n",
      "MEASURECIRCUIT: Elapsed time: 969.235572s\n",
      "MEASURECIRCUIT: Generated graph for the Hamiltonian with 703 nodes.\n",
      "MEASURECIRCUIT: BronKerbosch found 36 unique circuits\n",
      "MEASURECIRCUIT: Elapsed time: 970.625822s\n",
      "MEASURECIRCUIT: Generated graph for the Hamiltonian with 703 nodes.\n",
      "MEASURECIRCUIT: BronKerbosch found 36 unique circuits\n",
      "MEASURECIRCUIT: Elapsed time: 969.808873s\n",
      "MEASURECIRCUIT: Generated graph for the Hamiltonian with 703 nodes.\n",
      "MEASURECIRCUIT: BronKerbosch found 36 unique circuits\n",
      "MEASURECIRCUIT: Elapsed time: 970.980016s\n",
      "MEASURECIRCUIT: Generated graph for the Hamiltonian with 703 nodes.\n",
      "MEASURECIRCUIT: BronKerbosch found 36 unique circuits\n",
      "MEASURECIRCUIT: Elapsed time: 970.312341s\n",
      "MEASURECIRCUIT: Generated graph for the Hamiltonian with 703 nodes.\n",
      "MEASURECIRCUIT: BronKerbosch found 36 unique circuits\n",
      "MEASURECIRCUIT: Elapsed time: 971.391147s\n",
      "MEASURECIRCUIT: Generated graph for the Hamiltonian with 703 nodes.\n",
      "MEASURECIRCUIT: BronKerbosch found 36 unique circuits\n",
      "MEASURECIRCUIT: Elapsed time: 969.800496s\n",
      "MEASURECIRCUIT: Generated graph for the Hamiltonian with 703 nodes.\n",
      "MEASURECIRCUIT: BronKerbosch found 36 unique circuits\n",
      "MEASURECIRCUIT: Elapsed time: 968.949257s\n",
      "MEASURECIRCUIT: Generated graph for the Hamiltonian with 703 nodes.\n",
      "MEASURECIRCUIT: BronKerbosch found 36 unique circuits\n",
      "MEASURECIRCUIT: Elapsed time: 972.513976s\n"
     ]
    },
    {
     "data": {
      "application/vnd.jupyter.widget-view+json": {
       "model_id": "f1c7c3b801a940178138ddb72651d54a",
       "version_major": 2,
       "version_minor": 0
      },
      "text/plain": [
       "  0%|          | 0/10 [00:00<?, ?it/s]"
      ]
     },
     "metadata": {},
     "output_type": "display_data"
    },
    {
     "name": "stdout",
     "output_type": "stream",
     "text": [
      "MEASURECIRCUIT: Generated graph for the Hamiltonian with 767 nodes.\n",
      "MEASURECIRCUIT: BronKerbosch found 38 unique circuits\n",
      "MEASURECIRCUIT: Elapsed time: 1357.985744s\n",
      "MEASURECIRCUIT: Generated graph for the Hamiltonian with 767 nodes.\n",
      "MEASURECIRCUIT: BronKerbosch found 38 unique circuits\n",
      "MEASURECIRCUIT: Elapsed time: 1327.775517s\n",
      "MEASURECIRCUIT: Generated graph for the Hamiltonian with 767 nodes.\n",
      "MEASURECIRCUIT: BronKerbosch found 38 unique circuits\n",
      "MEASURECIRCUIT: Elapsed time: 1327.734440s\n",
      "MEASURECIRCUIT: Generated graph for the Hamiltonian with 767 nodes.\n",
      "MEASURECIRCUIT: BronKerbosch found 38 unique circuits\n",
      "MEASURECIRCUIT: Elapsed time: 1327.872778s\n",
      "MEASURECIRCUIT: Generated graph for the Hamiltonian with 767 nodes.\n",
      "MEASURECIRCUIT: BronKerbosch found 38 unique circuits\n",
      "MEASURECIRCUIT: Elapsed time: 1328.432413s\n",
      "MEASURECIRCUIT: Generated graph for the Hamiltonian with 767 nodes.\n",
      "MEASURECIRCUIT: BronKerbosch found 38 unique circuits\n",
      "MEASURECIRCUIT: Elapsed time: 1330.977843s\n",
      "MEASURECIRCUIT: Generated graph for the Hamiltonian with 767 nodes.\n",
      "MEASURECIRCUIT: BronKerbosch found 38 unique circuits\n",
      "MEASURECIRCUIT: Elapsed time: 1329.227717s\n",
      "MEASURECIRCUIT: Generated graph for the Hamiltonian with 767 nodes.\n",
      "MEASURECIRCUIT: BronKerbosch found 38 unique circuits\n",
      "MEASURECIRCUIT: Elapsed time: 1328.592438s\n",
      "MEASURECIRCUIT: Generated graph for the Hamiltonian with 767 nodes.\n",
      "MEASURECIRCUIT: BronKerbosch found 38 unique circuits\n",
      "MEASURECIRCUIT: Elapsed time: 1325.961848s\n",
      "MEASURECIRCUIT: Generated graph for the Hamiltonian with 767 nodes.\n",
      "MEASURECIRCUIT: BronKerbosch found 38 unique circuits\n",
      "MEASURECIRCUIT: Elapsed time: 1332.665075s\n"
     ]
    },
    {
     "data": {
      "application/vnd.jupyter.widget-view+json": {
       "model_id": "42dcd1f4042d401181cc4978ae19ce06",
       "version_major": 2,
       "version_minor": 0
      },
      "text/plain": [
       "  0%|          | 0/10 [00:00<?, ?it/s]"
      ]
     },
     "metadata": {},
     "output_type": "display_data"
    },
    {
     "name": "stdout",
     "output_type": "stream",
     "text": [
      "MEASURECIRCUIT: Generated graph for the Hamiltonian with 799 nodes.\n",
      "MEASURECIRCUIT: BronKerbosch found 45 unique circuits\n",
      "MEASURECIRCUIT: Elapsed time: 1582.082406s\n",
      "MEASURECIRCUIT: Generated graph for the Hamiltonian with 799 nodes.\n",
      "MEASURECIRCUIT: BronKerbosch found 45 unique circuits\n",
      "MEASURECIRCUIT: Elapsed time: 1584.637895s\n",
      "MEASURECIRCUIT: Generated graph for the Hamiltonian with 799 nodes.\n",
      "MEASURECIRCUIT: BronKerbosch found 45 unique circuits\n",
      "MEASURECIRCUIT: Elapsed time: 1593.722864s\n",
      "MEASURECIRCUIT: Generated graph for the Hamiltonian with 799 nodes.\n",
      "MEASURECIRCUIT: BronKerbosch found 45 unique circuits\n",
      "MEASURECIRCUIT: Elapsed time: 1585.832444s\n",
      "MEASURECIRCUIT: Generated graph for the Hamiltonian with 799 nodes.\n",
      "MEASURECIRCUIT: BronKerbosch found 45 unique circuits\n",
      "MEASURECIRCUIT: Elapsed time: 1615.645309s\n",
      "MEASURECIRCUIT: Generated graph for the Hamiltonian with 799 nodes.\n",
      "MEASURECIRCUIT: BronKerbosch found 45 unique circuits\n",
      "MEASURECIRCUIT: Elapsed time: 1596.112900s\n",
      "MEASURECIRCUIT: Generated graph for the Hamiltonian with 799 nodes.\n",
      "MEASURECIRCUIT: BronKerbosch found 45 unique circuits\n",
      "MEASURECIRCUIT: Elapsed time: 1586.374241s\n",
      "MEASURECIRCUIT: Generated graph for the Hamiltonian with 799 nodes.\n",
      "MEASURECIRCUIT: BronKerbosch found 45 unique circuits\n",
      "MEASURECIRCUIT: Elapsed time: 1584.246578s\n",
      "MEASURECIRCUIT: Generated graph for the Hamiltonian with 799 nodes.\n",
      "MEASURECIRCUIT: BronKerbosch found 45 unique circuits\n",
      "MEASURECIRCUIT: Elapsed time: 1587.028391s\n",
      "MEASURECIRCUIT: Generated graph for the Hamiltonian with 799 nodes.\n",
      "MEASURECIRCUIT: BronKerbosch found 45 unique circuits\n",
      "MEASURECIRCUIT: Elapsed time: 1583.731076s\n"
     ]
    },
    {
     "data": {
      "application/vnd.jupyter.widget-view+json": {
       "model_id": "d4a46fecf2e3406cabd1c40a9757fcde",
       "version_major": 2,
       "version_minor": 0
      },
      "text/plain": [
       "  0%|          | 0/10 [00:00<?, ?it/s]"
      ]
     },
     "metadata": {},
     "output_type": "display_data"
    },
    {
     "name": "stdout",
     "output_type": "stream",
     "text": [
      "MEASURECIRCUIT: Generated graph for the Hamiltonian with 831 nodes.\n",
      "MEASURECIRCUIT: BronKerbosch found 45 unique circuits\n",
      "MEASURECIRCUIT: Elapsed time: 1785.255199s\n",
      "MEASURECIRCUIT: Generated graph for the Hamiltonian with 831 nodes.\n",
      "MEASURECIRCUIT: BronKerbosch found 45 unique circuits\n",
      "MEASURECIRCUIT: Elapsed time: 1789.761399s\n",
      "MEASURECIRCUIT: Generated graph for the Hamiltonian with 831 nodes.\n",
      "MEASURECIRCUIT: BronKerbosch found 45 unique circuits\n",
      "MEASURECIRCUIT: Elapsed time: 1791.175195s\n",
      "MEASURECIRCUIT: Generated graph for the Hamiltonian with 831 nodes.\n",
      "MEASURECIRCUIT: BronKerbosch found 45 unique circuits\n",
      "MEASURECIRCUIT: Elapsed time: 1818.218460s\n",
      "MEASURECIRCUIT: Generated graph for the Hamiltonian with 831 nodes.\n",
      "MEASURECIRCUIT: BronKerbosch found 45 unique circuits\n",
      "MEASURECIRCUIT: Elapsed time: 1803.451546s\n",
      "MEASURECIRCUIT: Generated graph for the Hamiltonian with 831 nodes.\n",
      "MEASURECIRCUIT: BronKerbosch found 45 unique circuits\n",
      "MEASURECIRCUIT: Elapsed time: 1792.266915s\n",
      "MEASURECIRCUIT: Generated graph for the Hamiltonian with 831 nodes.\n",
      "MEASURECIRCUIT: BronKerbosch found 45 unique circuits\n",
      "MEASURECIRCUIT: Elapsed time: 1794.555863s\n",
      "MEASURECIRCUIT: Generated graph for the Hamiltonian with 831 nodes.\n",
      "MEASURECIRCUIT: BronKerbosch found 45 unique circuits\n",
      "MEASURECIRCUIT: Elapsed time: 1792.598990s\n",
      "MEASURECIRCUIT: Generated graph for the Hamiltonian with 831 nodes.\n",
      "MEASURECIRCUIT: BronKerbosch found 45 unique circuits\n",
      "MEASURECIRCUIT: Elapsed time: 1805.289529s\n",
      "MEASURECIRCUIT: Generated graph for the Hamiltonian with 831 nodes.\n",
      "MEASURECIRCUIT: BronKerbosch found 45 unique circuits\n",
      "MEASURECIRCUIT: Elapsed time: 1793.680296s\n"
     ]
    },
    {
     "data": {
      "application/vnd.jupyter.widget-view+json": {
       "model_id": "2c85ea5a24eb463f8ad63b752677ac47",
       "version_major": 2,
       "version_minor": 0
      },
      "text/plain": [
       "  0%|          | 0/10 [00:00<?, ?it/s]"
      ]
     },
     "metadata": {},
     "output_type": "display_data"
    },
    {
     "name": "stdout",
     "output_type": "stream",
     "text": [
      "MEASURECIRCUIT: Generated graph for the Hamiltonian with 863 nodes.\n",
      "MEASURECIRCUIT: BronKerbosch found 47 unique circuits\n",
      "MEASURECIRCUIT: Elapsed time: 2103.601544s\n",
      "MEASURECIRCUIT: Generated graph for the Hamiltonian with 863 nodes.\n",
      "MEASURECIRCUIT: BronKerbosch found 47 unique circuits\n",
      "MEASURECIRCUIT: Elapsed time: 2106.447301s\n",
      "MEASURECIRCUIT: Generated graph for the Hamiltonian with 863 nodes.\n",
      "MEASURECIRCUIT: BronKerbosch found 47 unique circuits\n",
      "MEASURECIRCUIT: Elapsed time: 2110.562693s\n",
      "MEASURECIRCUIT: Generated graph for the Hamiltonian with 863 nodes.\n",
      "MEASURECIRCUIT: BronKerbosch found 47 unique circuits\n",
      "MEASURECIRCUIT: Elapsed time: 2114.425531s\n",
      "MEASURECIRCUIT: Generated graph for the Hamiltonian with 863 nodes.\n",
      "MEASURECIRCUIT: BronKerbosch found 47 unique circuits\n",
      "MEASURECIRCUIT: Elapsed time: 2116.802763s\n",
      "MEASURECIRCUIT: Generated graph for the Hamiltonian with 863 nodes.\n",
      "MEASURECIRCUIT: BronKerbosch found 47 unique circuits\n",
      "MEASURECIRCUIT: Elapsed time: 2112.717566s\n",
      "MEASURECIRCUIT: Generated graph for the Hamiltonian with 863 nodes.\n",
      "MEASURECIRCUIT: BronKerbosch found 47 unique circuits\n",
      "MEASURECIRCUIT: Elapsed time: 2114.734039s\n",
      "MEASURECIRCUIT: Generated graph for the Hamiltonian with 863 nodes.\n",
      "MEASURECIRCUIT: BronKerbosch found 47 unique circuits\n",
      "MEASURECIRCUIT: Elapsed time: 2115.242073s\n",
      "MEASURECIRCUIT: Generated graph for the Hamiltonian with 863 nodes.\n",
      "MEASURECIRCUIT: BronKerbosch found 47 unique circuits\n",
      "MEASURECIRCUIT: Elapsed time: 2113.806231s\n",
      "MEASURECIRCUIT: Generated graph for the Hamiltonian with 863 nodes.\n",
      "MEASURECIRCUIT: BronKerbosch found 47 unique circuits\n",
      "MEASURECIRCUIT: Elapsed time: 2111.571985s\n"
     ]
    },
    {
     "data": {
      "application/vnd.jupyter.widget-view+json": {
       "model_id": "358b08345a714ad993e87fc20e93f0b5",
       "version_major": 2,
       "version_minor": 0
      },
      "text/plain": [
       "  0%|          | 0/10 [00:00<?, ?it/s]"
      ]
     },
     "metadata": {},
     "output_type": "display_data"
    },
    {
     "name": "stdout",
     "output_type": "stream",
     "text": [
      "MEASURECIRCUIT: Generated graph for the Hamiltonian with 895 nodes.\n",
      "MEASURECIRCUIT: BronKerbosch found 46 unique circuits\n",
      "MEASURECIRCUIT: Elapsed time: 2342.575323s\n",
      "MEASURECIRCUIT: Generated graph for the Hamiltonian with 895 nodes.\n",
      "MEASURECIRCUIT: BronKerbosch found 46 unique circuits\n",
      "MEASURECIRCUIT: Elapsed time: 2346.233792s\n",
      "MEASURECIRCUIT: Generated graph for the Hamiltonian with 895 nodes.\n",
      "MEASURECIRCUIT: BronKerbosch found 46 unique circuits\n",
      "MEASURECIRCUIT: Elapsed time: 2360.350114s\n",
      "MEASURECIRCUIT: Generated graph for the Hamiltonian with 895 nodes.\n",
      "MEASURECIRCUIT: BronKerbosch found 46 unique circuits\n",
      "MEASURECIRCUIT: Elapsed time: 2374.598941s\n",
      "MEASURECIRCUIT: Generated graph for the Hamiltonian with 895 nodes.\n",
      "MEASURECIRCUIT: BronKerbosch found 46 unique circuits\n",
      "MEASURECIRCUIT: Elapsed time: 2357.500687s\n",
      "MEASURECIRCUIT: Generated graph for the Hamiltonian with 895 nodes.\n",
      "MEASURECIRCUIT: BronKerbosch found 46 unique circuits\n",
      "MEASURECIRCUIT: Elapsed time: 2350.874362s\n",
      "MEASURECIRCUIT: Generated graph for the Hamiltonian with 895 nodes.\n",
      "MEASURECIRCUIT: BronKerbosch found 46 unique circuits\n",
      "MEASURECIRCUIT: Elapsed time: 2367.168163s\n",
      "MEASURECIRCUIT: Generated graph for the Hamiltonian with 895 nodes.\n",
      "MEASURECIRCUIT: BronKerbosch found 46 unique circuits\n",
      "MEASURECIRCUIT: Elapsed time: 2350.874324s\n",
      "MEASURECIRCUIT: Generated graph for the Hamiltonian with 895 nodes.\n",
      "MEASURECIRCUIT: BronKerbosch found 46 unique circuits\n",
      "MEASURECIRCUIT: Elapsed time: 2351.348171s\n",
      "MEASURECIRCUIT: Generated graph for the Hamiltonian with 895 nodes.\n",
      "MEASURECIRCUIT: BronKerbosch found 46 unique circuits\n",
      "MEASURECIRCUIT: Elapsed time: 2351.154935s\n"
     ]
    },
    {
     "data": {
      "application/vnd.jupyter.widget-view+json": {
       "model_id": "8e01b72f85fe45f3b3143b349e35fff9",
       "version_major": 2,
       "version_minor": 0
      },
      "text/plain": [
       "  0%|          | 0/10 [00:00<?, ?it/s]"
      ]
     },
     "metadata": {},
     "output_type": "display_data"
    },
    {
     "name": "stdout",
     "output_type": "stream",
     "text": [
      "MEASURECIRCUIT: Generated graph for the Hamiltonian with 927 nodes.\n",
      "MEASURECIRCUIT: BronKerbosch found 47 unique circuits\n",
      "MEASURECIRCUIT: Elapsed time: 2680.515110s\n",
      "MEASURECIRCUIT: Generated graph for the Hamiltonian with 927 nodes.\n",
      "MEASURECIRCUIT: BronKerbosch found 47 unique circuits\n",
      "MEASURECIRCUIT: Elapsed time: 2704.225837s\n",
      "MEASURECIRCUIT: Generated graph for the Hamiltonian with 927 nodes.\n",
      "MEASURECIRCUIT: BronKerbosch found 47 unique circuits\n",
      "MEASURECIRCUIT: Elapsed time: 2704.598875s\n",
      "MEASURECIRCUIT: Generated graph for the Hamiltonian with 927 nodes.\n",
      "MEASURECIRCUIT: BronKerbosch found 47 unique circuits\n",
      "MEASURECIRCUIT: Elapsed time: 2707.572155s\n",
      "MEASURECIRCUIT: Generated graph for the Hamiltonian with 927 nodes.\n",
      "MEASURECIRCUIT: BronKerbosch found 47 unique circuits\n",
      "MEASURECIRCUIT: Elapsed time: 2719.146836s\n",
      "MEASURECIRCUIT: Generated graph for the Hamiltonian with 927 nodes.\n",
      "MEASURECIRCUIT: BronKerbosch found 47 unique circuits\n",
      "MEASURECIRCUIT: Elapsed time: 2701.035708s\n",
      "MEASURECIRCUIT: Generated graph for the Hamiltonian with 927 nodes.\n",
      "MEASURECIRCUIT: BronKerbosch found 47 unique circuits\n",
      "MEASURECIRCUIT: Elapsed time: 2699.511391s\n",
      "MEASURECIRCUIT: Generated graph for the Hamiltonian with 927 nodes.\n",
      "MEASURECIRCUIT: BronKerbosch found 47 unique circuits\n",
      "MEASURECIRCUIT: Elapsed time: 2699.640818s\n",
      "MEASURECIRCUIT: Generated graph for the Hamiltonian with 927 nodes.\n",
      "MEASURECIRCUIT: BronKerbosch found 47 unique circuits\n",
      "MEASURECIRCUIT: Elapsed time: 2702.279621s\n",
      "MEASURECIRCUIT: Generated graph for the Hamiltonian with 927 nodes.\n",
      "MEASURECIRCUIT: BronKerbosch found 47 unique circuits\n",
      "MEASURECIRCUIT: Elapsed time: 2705.429424s\n"
     ]
    },
    {
     "data": {
      "application/vnd.jupyter.widget-view+json": {
       "model_id": "50d3d88768cf4038942c8967f7c77a53",
       "version_major": 2,
       "version_minor": 0
      },
      "text/plain": [
       "  0%|          | 0/10 [00:00<?, ?it/s]"
      ]
     },
     "metadata": {},
     "output_type": "display_data"
    },
    {
     "name": "stdout",
     "output_type": "stream",
     "text": [
      "MEASURECIRCUIT: Generated graph for the Hamiltonian with 959 nodes.\n",
      "MEASURECIRCUIT: BronKerbosch found 49 unique circuits\n",
      "MEASURECIRCUIT: Elapsed time: 3085.435642s\n",
      "MEASURECIRCUIT: Generated graph for the Hamiltonian with 959 nodes.\n",
      "MEASURECIRCUIT: BronKerbosch found 49 unique circuits\n",
      "MEASURECIRCUIT: Elapsed time: 3105.863483s\n",
      "MEASURECIRCUIT: Generated graph for the Hamiltonian with 959 nodes.\n",
      "MEASURECIRCUIT: BronKerbosch found 49 unique circuits\n",
      "MEASURECIRCUIT: Elapsed time: 3113.931072s\n",
      "MEASURECIRCUIT: Generated graph for the Hamiltonian with 959 nodes.\n",
      "MEASURECIRCUIT: BronKerbosch found 49 unique circuits\n",
      "MEASURECIRCUIT: Elapsed time: 3112.117891s\n",
      "MEASURECIRCUIT: Generated graph for the Hamiltonian with 959 nodes.\n",
      "MEASURECIRCUIT: BronKerbosch found 49 unique circuits\n",
      "MEASURECIRCUIT: Elapsed time: 3110.767845s\n",
      "MEASURECIRCUIT: Generated graph for the Hamiltonian with 959 nodes.\n",
      "MEASURECIRCUIT: BronKerbosch found 49 unique circuits\n",
      "MEASURECIRCUIT: Elapsed time: 3114.272518s\n",
      "MEASURECIRCUIT: Generated graph for the Hamiltonian with 959 nodes.\n",
      "MEASURECIRCUIT: BronKerbosch found 49 unique circuits\n",
      "MEASURECIRCUIT: Elapsed time: 3112.260306s\n",
      "MEASURECIRCUIT: Generated graph for the Hamiltonian with 959 nodes.\n",
      "MEASURECIRCUIT: BronKerbosch found 49 unique circuits\n",
      "MEASURECIRCUIT: Elapsed time: 3114.484148s\n",
      "MEASURECIRCUIT: Generated graph for the Hamiltonian with 959 nodes.\n",
      "MEASURECIRCUIT: BronKerbosch found 49 unique circuits\n",
      "MEASURECIRCUIT: Elapsed time: 3113.555207s\n",
      "MEASURECIRCUIT: Generated graph for the Hamiltonian with 959 nodes.\n",
      "MEASURECIRCUIT: BronKerbosch found 49 unique circuits\n",
      "MEASURECIRCUIT: Elapsed time: 3121.169111s\n"
     ]
    },
    {
     "data": {
      "application/vnd.jupyter.widget-view+json": {
       "model_id": "d54b80c97409405db6a92c9ace4ee1c4",
       "version_major": 2,
       "version_minor": 0
      },
      "text/plain": [
       "  0%|          | 0/10 [00:00<?, ?it/s]"
      ]
     },
     "metadata": {},
     "output_type": "display_data"
    },
    {
     "name": "stdout",
     "output_type": "stream",
     "text": [
      "MEASURECIRCUIT: Generated graph for the Hamiltonian with 991 nodes.\n",
      "MEASURECIRCUIT: BronKerbosch found 49 unique circuits\n",
      "MEASURECIRCUIT: Elapsed time: 3505.402869s\n",
      "MEASURECIRCUIT: Generated graph for the Hamiltonian with 991 nodes.\n",
      "MEASURECIRCUIT: BronKerbosch found 49 unique circuits\n",
      "MEASURECIRCUIT: Elapsed time: 3542.112309s\n",
      "MEASURECIRCUIT: Generated graph for the Hamiltonian with 991 nodes.\n",
      "MEASURECIRCUIT: BronKerbosch found 49 unique circuits\n",
      "MEASURECIRCUIT: Elapsed time: 3537.769135s\n",
      "MEASURECIRCUIT: Generated graph for the Hamiltonian with 991 nodes.\n",
      "MEASURECIRCUIT: BronKerbosch found 49 unique circuits\n",
      "MEASURECIRCUIT: Elapsed time: 3537.486943s\n",
      "MEASURECIRCUIT: Generated graph for the Hamiltonian with 991 nodes.\n",
      "MEASURECIRCUIT: BronKerbosch found 49 unique circuits\n",
      "MEASURECIRCUIT: Elapsed time: 3538.385694s\n",
      "MEASURECIRCUIT: Generated graph for the Hamiltonian with 991 nodes.\n",
      "MEASURECIRCUIT: BronKerbosch found 49 unique circuits\n",
      "MEASURECIRCUIT: Elapsed time: 3536.742937s\n",
      "MEASURECIRCUIT: Generated graph for the Hamiltonian with 991 nodes.\n",
      "MEASURECIRCUIT: BronKerbosch found 49 unique circuits\n",
      "MEASURECIRCUIT: Elapsed time: 3540.606632s\n",
      "MEASURECIRCUIT: Generated graph for the Hamiltonian with 991 nodes.\n",
      "MEASURECIRCUIT: BronKerbosch found 49 unique circuits\n",
      "MEASURECIRCUIT: Elapsed time: 3541.782373s\n",
      "MEASURECIRCUIT: Generated graph for the Hamiltonian with 991 nodes.\n",
      "MEASURECIRCUIT: BronKerbosch found 49 unique circuits\n",
      "MEASURECIRCUIT: Elapsed time: 3538.744360s\n",
      "MEASURECIRCUIT: Generated graph for the Hamiltonian with 991 nodes.\n",
      "MEASURECIRCUIT: BronKerbosch found 49 unique circuits\n",
      "MEASURECIRCUIT: Elapsed time: 3547.931123s\n"
     ]
    },
    {
     "data": {
      "application/vnd.jupyter.widget-view+json": {
       "model_id": "d15b4e7aa9c94199814f934788e1e49c",
       "version_major": 2,
       "version_minor": 0
      },
      "text/plain": [
       "  0%|          | 0/10 [00:00<?, ?it/s]"
      ]
     },
     "metadata": {},
     "output_type": "display_data"
    },
    {
     "name": "stdout",
     "output_type": "stream",
     "text": [
      "MEASURECIRCUIT: Generated graph for the Hamiltonian with 1023 nodes.\n",
      "MEASURECIRCUIT: BronKerbosch found 50 unique circuits\n",
      "MEASURECIRCUIT: Elapsed time: 3668.238333s\n",
      "MEASURECIRCUIT: Generated graph for the Hamiltonian with 1023 nodes.\n",
      "MEASURECIRCUIT: BronKerbosch found 50 unique circuits\n",
      "MEASURECIRCUIT: Elapsed time: 3687.134115s\n",
      "MEASURECIRCUIT: Generated graph for the Hamiltonian with 1023 nodes.\n",
      "MEASURECIRCUIT: BronKerbosch found 50 unique circuits\n",
      "MEASURECIRCUIT: Elapsed time: 3729.343012s\n",
      "MEASURECIRCUIT: Generated graph for the Hamiltonian with 1023 nodes.\n",
      "MEASURECIRCUIT: BronKerbosch found 50 unique circuits\n",
      "MEASURECIRCUIT: Elapsed time: 3696.263405s\n",
      "MEASURECIRCUIT: Generated graph for the Hamiltonian with 1023 nodes.\n",
      "MEASURECIRCUIT: BronKerbosch found 50 unique circuits\n",
      "MEASURECIRCUIT: Elapsed time: 3709.897976s\n",
      "MEASURECIRCUIT: Generated graph for the Hamiltonian with 1023 nodes.\n",
      "MEASURECIRCUIT: BronKerbosch found 50 unique circuits\n",
      "MEASURECIRCUIT: Elapsed time: 3701.977645s\n",
      "MEASURECIRCUIT: Generated graph for the Hamiltonian with 1023 nodes.\n",
      "MEASURECIRCUIT: BronKerbosch found 50 unique circuits\n",
      "MEASURECIRCUIT: Elapsed time: 3694.697458s\n",
      "MEASURECIRCUIT: Generated graph for the Hamiltonian with 1023 nodes.\n",
      "MEASURECIRCUIT: BronKerbosch found 50 unique circuits\n",
      "MEASURECIRCUIT: Elapsed time: 3695.259559s\n",
      "MEASURECIRCUIT: Generated graph for the Hamiltonian with 1023 nodes.\n",
      "MEASURECIRCUIT: BronKerbosch found 50 unique circuits\n",
      "MEASURECIRCUIT: Elapsed time: 3705.411940s\n",
      "MEASURECIRCUIT: Generated graph for the Hamiltonian with 1023 nodes.\n",
      "MEASURECIRCUIT: BronKerbosch found 50 unique circuits\n",
      "MEASURECIRCUIT: Elapsed time: 3696.478245s\n"
     ]
    },
    {
     "data": {
      "application/vnd.jupyter.widget-view+json": {
       "model_id": "880267ce1e3a4b2da88dec64fc688cdd",
       "version_major": 2,
       "version_minor": 0
      },
      "text/plain": [
       "  0%|          | 0/10 [00:00<?, ?it/s]"
      ]
     },
     "metadata": {},
     "output_type": "display_data"
    },
    {
     "name": "stdout",
     "output_type": "stream",
     "text": [
      "MEASURECIRCUIT: Generated graph for the Hamiltonian with 1023 nodes.\n",
      "MEASURECIRCUIT: BronKerbosch found 50 unique circuits\n",
      "MEASURECIRCUIT: Elapsed time: 3651.070406s\n",
      "MEASURECIRCUIT: Generated graph for the Hamiltonian with 1023 nodes.\n",
      "MEASURECIRCUIT: BronKerbosch found 50 unique circuits\n",
      "MEASURECIRCUIT: Elapsed time: 3683.231619s\n",
      "MEASURECIRCUIT: Generated graph for the Hamiltonian with 1023 nodes.\n",
      "MEASURECIRCUIT: BronKerbosch found 50 unique circuits\n",
      "MEASURECIRCUIT: Elapsed time: 3695.007247s\n",
      "MEASURECIRCUIT: Generated graph for the Hamiltonian with 1023 nodes.\n",
      "MEASURECIRCUIT: BronKerbosch found 50 unique circuits\n",
      "MEASURECIRCUIT: Elapsed time: 3697.819037s\n",
      "MEASURECIRCUIT: Generated graph for the Hamiltonian with 1023 nodes.\n",
      "MEASURECIRCUIT: BronKerbosch found 50 unique circuits\n",
      "MEASURECIRCUIT: Elapsed time: 3695.018794s\n",
      "MEASURECIRCUIT: Generated graph for the Hamiltonian with 1023 nodes.\n",
      "MEASURECIRCUIT: BronKerbosch found 50 unique circuits\n",
      "MEASURECIRCUIT: Elapsed time: 3693.261370s\n",
      "MEASURECIRCUIT: Generated graph for the Hamiltonian with 1023 nodes.\n",
      "MEASURECIRCUIT: BronKerbosch found 50 unique circuits\n",
      "MEASURECIRCUIT: Elapsed time: 3724.420054s\n",
      "MEASURECIRCUIT: Generated graph for the Hamiltonian with 1023 nodes.\n",
      "MEASURECIRCUIT: BronKerbosch found 50 unique circuits\n",
      "MEASURECIRCUIT: Elapsed time: 3710.499022s\n",
      "MEASURECIRCUIT: Generated graph for the Hamiltonian with 1023 nodes.\n",
      "MEASURECIRCUIT: BronKerbosch found 50 unique circuits\n",
      "MEASURECIRCUIT: Elapsed time: 3784.991410s\n",
      "MEASURECIRCUIT: Generated graph for the Hamiltonian with 1023 nodes.\n",
      "MEASURECIRCUIT: BronKerbosch found 50 unique circuits\n",
      "MEASURECIRCUIT: Elapsed time: 3705.524595s\n"
     ]
    },
    {
     "data": {
      "application/vnd.jupyter.widget-view+json": {
       "model_id": "7f6af1273e22424881d82cbdab2672c6",
       "version_major": 2,
       "version_minor": 0
      },
      "text/plain": [
       "  0%|          | 0/10 [00:00<?, ?it/s]"
      ]
     },
     "metadata": {},
     "output_type": "display_data"
    },
    {
     "name": "stdout",
     "output_type": "stream",
     "text": [
      "MEASURECIRCUIT: Generated graph for the Hamiltonian with 1023 nodes.\n",
      "MEASURECIRCUIT: BronKerbosch found 50 unique circuits\n",
      "MEASURECIRCUIT: Elapsed time: 3661.753616s\n",
      "MEASURECIRCUIT: Generated graph for the Hamiltonian with 1023 nodes.\n",
      "MEASURECIRCUIT: BronKerbosch found 50 unique circuits\n",
      "MEASURECIRCUIT: Elapsed time: 3693.489425s\n",
      "MEASURECIRCUIT: Generated graph for the Hamiltonian with 1023 nodes.\n",
      "MEASURECIRCUIT: BronKerbosch found 50 unique circuits\n",
      "MEASURECIRCUIT: Elapsed time: 3709.725507s\n",
      "MEASURECIRCUIT: Generated graph for the Hamiltonian with 1023 nodes.\n",
      "MEASURECIRCUIT: BronKerbosch found 50 unique circuits\n",
      "MEASURECIRCUIT: Elapsed time: 3711.987636s\n",
      "MEASURECIRCUIT: Generated graph for the Hamiltonian with 1023 nodes.\n",
      "MEASURECIRCUIT: BronKerbosch found 50 unique circuits\n",
      "MEASURECIRCUIT: Elapsed time: 3721.718986s\n",
      "MEASURECIRCUIT: Generated graph for the Hamiltonian with 1023 nodes.\n",
      "MEASURECIRCUIT: BronKerbosch found 50 unique circuits\n",
      "MEASURECIRCUIT: Elapsed time: 3710.184648s\n",
      "MEASURECIRCUIT: Generated graph for the Hamiltonian with 1023 nodes.\n",
      "MEASURECIRCUIT: BronKerbosch found 50 unique circuits\n",
      "MEASURECIRCUIT: Elapsed time: 3702.477101s\n",
      "MEASURECIRCUIT: Generated graph for the Hamiltonian with 1023 nodes.\n",
      "MEASURECIRCUIT: BronKerbosch found 50 unique circuits\n",
      "MEASURECIRCUIT: Elapsed time: 3716.647957s\n",
      "MEASURECIRCUIT: Generated graph for the Hamiltonian with 1023 nodes.\n",
      "MEASURECIRCUIT: BronKerbosch found 50 unique circuits\n",
      "MEASURECIRCUIT: Elapsed time: 3716.329189s\n",
      "MEASURECIRCUIT: Generated graph for the Hamiltonian with 1023 nodes.\n",
      "MEASURECIRCUIT: BronKerbosch found 50 unique circuits\n",
      "MEASURECIRCUIT: Elapsed time: 3740.400893s\n"
     ]
    },
    {
     "data": {
      "application/vnd.jupyter.widget-view+json": {
       "model_id": "ad94d72fa3e044deab97fde61c7107aa",
       "version_major": 2,
       "version_minor": 0
      },
      "text/plain": [
       "  0%|          | 0/10 [00:00<?, ?it/s]"
      ]
     },
     "metadata": {},
     "output_type": "display_data"
    },
    {
     "name": "stdout",
     "output_type": "stream",
     "text": [
      "MEASURECIRCUIT: Generated graph for the Hamiltonian with 1023 nodes.\n",
      "MEASURECIRCUIT: BronKerbosch found 50 unique circuits\n",
      "MEASURECIRCUIT: Elapsed time: 3662.878220s\n",
      "MEASURECIRCUIT: Generated graph for the Hamiltonian with 1023 nodes.\n",
      "MEASURECIRCUIT: BronKerbosch found 50 unique circuits\n",
      "MEASURECIRCUIT: Elapsed time: 3689.130556s\n",
      "MEASURECIRCUIT: Generated graph for the Hamiltonian with 1023 nodes.\n",
      "MEASURECIRCUIT: BronKerbosch found 50 unique circuits\n",
      "MEASURECIRCUIT: Elapsed time: 3692.613230s\n",
      "MEASURECIRCUIT: Generated graph for the Hamiltonian with 1023 nodes.\n",
      "MEASURECIRCUIT: BronKerbosch found 50 unique circuits\n",
      "MEASURECIRCUIT: Elapsed time: 3697.556638s\n",
      "MEASURECIRCUIT: Generated graph for the Hamiltonian with 1023 nodes.\n",
      "MEASURECIRCUIT: BronKerbosch found 50 unique circuits\n",
      "MEASURECIRCUIT: Elapsed time: 3693.645464s\n",
      "MEASURECIRCUIT: Generated graph for the Hamiltonian with 1023 nodes.\n",
      "MEASURECIRCUIT: BronKerbosch found 50 unique circuits\n",
      "MEASURECIRCUIT: Elapsed time: 3707.572396s\n",
      "MEASURECIRCUIT: Generated graph for the Hamiltonian with 1023 nodes.\n",
      "MEASURECIRCUIT: BronKerbosch found 50 unique circuits\n",
      "MEASURECIRCUIT: Elapsed time: 3697.971646s\n",
      "MEASURECIRCUIT: Generated graph for the Hamiltonian with 1023 nodes.\n",
      "MEASURECIRCUIT: BronKerbosch found 50 unique circuits\n",
      "MEASURECIRCUIT: Elapsed time: 3707.933224s\n",
      "MEASURECIRCUIT: Generated graph for the Hamiltonian with 1023 nodes.\n",
      "MEASURECIRCUIT: BronKerbosch found 50 unique circuits\n",
      "MEASURECIRCUIT: Elapsed time: 3701.176935s\n",
      "MEASURECIRCUIT: Generated graph for the Hamiltonian with 1023 nodes.\n",
      "MEASURECIRCUIT: BronKerbosch found 50 unique circuits\n",
      "MEASURECIRCUIT: Elapsed time: 3712.126282s\n"
     ]
    },
    {
     "data": {
      "application/vnd.jupyter.widget-view+json": {
       "model_id": "d7e7eb36484c49d09c152ff85303c2b2",
       "version_major": 2,
       "version_minor": 0
      },
      "text/plain": [
       "  0%|          | 0/10 [00:00<?, ?it/s]"
      ]
     },
     "metadata": {},
     "output_type": "display_data"
    },
    {
     "name": "stdout",
     "output_type": "stream",
     "text": [
      "MEASURECIRCUIT: Generated graph for the Hamiltonian with 1023 nodes.\n",
      "MEASURECIRCUIT: BronKerbosch found 50 unique circuits\n",
      "MEASURECIRCUIT: Elapsed time: 3672.547421s\n",
      "MEASURECIRCUIT: Generated graph for the Hamiltonian with 1023 nodes.\n",
      "MEASURECIRCUIT: BronKerbosch found 50 unique circuits\n",
      "MEASURECIRCUIT: Elapsed time: 3694.201075s\n",
      "MEASURECIRCUIT: Generated graph for the Hamiltonian with 1023 nodes.\n",
      "MEASURECIRCUIT: BronKerbosch found 50 unique circuits\n",
      "MEASURECIRCUIT: Elapsed time: 3700.797871s\n",
      "MEASURECIRCUIT: Generated graph for the Hamiltonian with 1023 nodes.\n",
      "MEASURECIRCUIT: BronKerbosch found 50 unique circuits\n",
      "MEASURECIRCUIT: Elapsed time: 3708.019129s\n",
      "MEASURECIRCUIT: Generated graph for the Hamiltonian with 1023 nodes.\n",
      "MEASURECIRCUIT: BronKerbosch found 50 unique circuits\n",
      "MEASURECIRCUIT: Elapsed time: 3749.540921s\n",
      "MEASURECIRCUIT: Generated graph for the Hamiltonian with 1023 nodes.\n",
      "MEASURECIRCUIT: BronKerbosch found 50 unique circuits\n",
      "MEASURECIRCUIT: Elapsed time: 3703.149840s\n",
      "MEASURECIRCUIT: Generated graph for the Hamiltonian with 1023 nodes.\n",
      "MEASURECIRCUIT: BronKerbosch found 50 unique circuits\n",
      "MEASURECIRCUIT: Elapsed time: 3730.555697s\n",
      "MEASURECIRCUIT: Generated graph for the Hamiltonian with 1023 nodes.\n",
      "MEASURECIRCUIT: BronKerbosch found 50 unique circuits\n",
      "MEASURECIRCUIT: Elapsed time: 3705.320183s\n",
      "MEASURECIRCUIT: Generated graph for the Hamiltonian with 1023 nodes.\n",
      "MEASURECIRCUIT: BronKerbosch found 50 unique circuits\n",
      "MEASURECIRCUIT: Elapsed time: 3708.039377s\n",
      "MEASURECIRCUIT: Generated graph for the Hamiltonian with 1023 nodes.\n",
      "MEASURECIRCUIT: BronKerbosch found 50 unique circuits\n",
      "MEASURECIRCUIT: Elapsed time: 3709.185356s\n"
     ]
    },
    {
     "data": {
      "application/vnd.jupyter.widget-view+json": {
       "model_id": "fedc7f584e3848f19f49dea12730e327",
       "version_major": 2,
       "version_minor": 0
      },
      "text/plain": [
       "  0%|          | 0/10 [00:00<?, ?it/s]"
      ]
     },
     "metadata": {},
     "output_type": "display_data"
    },
    {
     "name": "stdout",
     "output_type": "stream",
     "text": [
      "MEASURECIRCUIT: Generated graph for the Hamiltonian with 1023 nodes.\n",
      "MEASURECIRCUIT: BronKerbosch found 50 unique circuits\n",
      "MEASURECIRCUIT: Elapsed time: 3662.754286s\n",
      "MEASURECIRCUIT: Generated graph for the Hamiltonian with 1023 nodes.\n",
      "MEASURECIRCUIT: BronKerbosch found 50 unique circuits\n",
      "MEASURECIRCUIT: Elapsed time: 3694.206527s\n",
      "MEASURECIRCUIT: Generated graph for the Hamiltonian with 1023 nodes.\n",
      "MEASURECIRCUIT: BronKerbosch found 50 unique circuits\n",
      "MEASURECIRCUIT: Elapsed time: 3699.884143s\n",
      "MEASURECIRCUIT: Generated graph for the Hamiltonian with 1023 nodes.\n",
      "MEASURECIRCUIT: BronKerbosch found 50 unique circuits\n",
      "MEASURECIRCUIT: Elapsed time: 3712.690676s\n",
      "MEASURECIRCUIT: Generated graph for the Hamiltonian with 1023 nodes.\n",
      "MEASURECIRCUIT: BronKerbosch found 50 unique circuits\n",
      "MEASURECIRCUIT: Elapsed time: 3705.590635s\n",
      "MEASURECIRCUIT: Generated graph for the Hamiltonian with 1023 nodes.\n",
      "MEASURECIRCUIT: BronKerbosch found 50 unique circuits\n",
      "MEASURECIRCUIT: Elapsed time: 3703.544850s\n",
      "MEASURECIRCUIT: Generated graph for the Hamiltonian with 1023 nodes.\n",
      "MEASURECIRCUIT: BronKerbosch found 50 unique circuits\n",
      "MEASURECIRCUIT: Elapsed time: 3713.693131s\n",
      "MEASURECIRCUIT: Generated graph for the Hamiltonian with 1023 nodes.\n",
      "MEASURECIRCUIT: BronKerbosch found 50 unique circuits\n",
      "MEASURECIRCUIT: Elapsed time: 3708.500344s\n",
      "MEASURECIRCUIT: Generated graph for the Hamiltonian with 1023 nodes.\n",
      "MEASURECIRCUIT: BronKerbosch found 50 unique circuits\n",
      "MEASURECIRCUIT: Elapsed time: 3711.027753s\n",
      "MEASURECIRCUIT: Generated graph for the Hamiltonian with 1023 nodes.\n",
      "MEASURECIRCUIT: BronKerbosch found 50 unique circuits\n",
      "MEASURECIRCUIT: Elapsed time: 3701.928910s\n"
     ]
    },
    {
     "data": {
      "application/vnd.jupyter.widget-view+json": {
       "model_id": "04afabb3c2e147089840bb28991569c1",
       "version_major": 2,
       "version_minor": 0
      },
      "text/plain": [
       "  0%|          | 0/10 [00:00<?, ?it/s]"
      ]
     },
     "metadata": {},
     "output_type": "display_data"
    },
    {
     "name": "stdout",
     "output_type": "stream",
     "text": [
      "MEASURECIRCUIT: Generated graph for the Hamiltonian with 1023 nodes.\n",
      "MEASURECIRCUIT: BronKerbosch found 50 unique circuits\n",
      "MEASURECIRCUIT: Elapsed time: 3677.085885s\n",
      "MEASURECIRCUIT: Generated graph for the Hamiltonian with 1023 nodes.\n",
      "MEASURECIRCUIT: BronKerbosch found 50 unique circuits\n",
      "MEASURECIRCUIT: Elapsed time: 3697.469217s\n",
      "MEASURECIRCUIT: Generated graph for the Hamiltonian with 1023 nodes.\n",
      "MEASURECIRCUIT: BronKerbosch found 50 unique circuits\n",
      "MEASURECIRCUIT: Elapsed time: 3704.568242s\n",
      "MEASURECIRCUIT: Generated graph for the Hamiltonian with 1023 nodes.\n",
      "MEASURECIRCUIT: BronKerbosch found 50 unique circuits\n",
      "MEASURECIRCUIT: Elapsed time: 3706.358787s\n",
      "MEASURECIRCUIT: Generated graph for the Hamiltonian with 1023 nodes.\n",
      "MEASURECIRCUIT: BronKerbosch found 50 unique circuits\n",
      "MEASURECIRCUIT: Elapsed time: 3720.890190s\n",
      "MEASURECIRCUIT: Generated graph for the Hamiltonian with 1023 nodes.\n",
      "MEASURECIRCUIT: BronKerbosch found 50 unique circuits\n",
      "MEASURECIRCUIT: Elapsed time: 3702.406670s\n",
      "MEASURECIRCUIT: Generated graph for the Hamiltonian with 1023 nodes.\n",
      "MEASURECIRCUIT: BronKerbosch found 50 unique circuits\n",
      "MEASURECIRCUIT: Elapsed time: 3702.735950s\n",
      "MEASURECIRCUIT: Generated graph for the Hamiltonian with 1023 nodes.\n",
      "MEASURECIRCUIT: BronKerbosch found 50 unique circuits\n",
      "MEASURECIRCUIT: Elapsed time: 3703.066323s\n",
      "MEASURECIRCUIT: Generated graph for the Hamiltonian with 1023 nodes.\n",
      "MEASURECIRCUIT: BronKerbosch found 50 unique circuits\n",
      "MEASURECIRCUIT: Elapsed time: 3727.112231s\n",
      "MEASURECIRCUIT: Generated graph for the Hamiltonian with 1023 nodes.\n",
      "MEASURECIRCUIT: BronKerbosch found 50 unique circuits\n",
      "MEASURECIRCUIT: Elapsed time: 3729.403750s\n"
     ]
    },
    {
     "data": {
      "application/vnd.jupyter.widget-view+json": {
       "model_id": "afc95c8069e54275beb4d688e1405f76",
       "version_major": 2,
       "version_minor": 0
      },
      "text/plain": [
       "  0%|          | 0/10 [00:00<?, ?it/s]"
      ]
     },
     "metadata": {},
     "output_type": "display_data"
    },
    {
     "name": "stdout",
     "output_type": "stream",
     "text": [
      "MEASURECIRCUIT: Generated graph for the Hamiltonian with 1023 nodes.\n",
      "MEASURECIRCUIT: BronKerbosch found 50 unique circuits\n",
      "MEASURECIRCUIT: Elapsed time: 3668.013144s\n",
      "MEASURECIRCUIT: Generated graph for the Hamiltonian with 1023 nodes.\n",
      "MEASURECIRCUIT: BronKerbosch found 50 unique circuits\n",
      "MEASURECIRCUIT: Elapsed time: 3816.786933s\n",
      "MEASURECIRCUIT: Generated graph for the Hamiltonian with 1023 nodes.\n",
      "MEASURECIRCUIT: BronKerbosch found 50 unique circuits\n",
      "MEASURECIRCUIT: Elapsed time: 3715.735768s\n",
      "MEASURECIRCUIT: Generated graph for the Hamiltonian with 1023 nodes.\n",
      "MEASURECIRCUIT: BronKerbosch found 50 unique circuits\n",
      "MEASURECIRCUIT: Elapsed time: 3709.276623s\n",
      "MEASURECIRCUIT: Generated graph for the Hamiltonian with 1023 nodes.\n",
      "MEASURECIRCUIT: BronKerbosch found 50 unique circuits\n",
      "MEASURECIRCUIT: Elapsed time: 3698.393031s\n",
      "MEASURECIRCUIT: Generated graph for the Hamiltonian with 1023 nodes.\n",
      "MEASURECIRCUIT: BronKerbosch found 50 unique circuits\n",
      "MEASURECIRCUIT: Elapsed time: 3694.999784s\n",
      "MEASURECIRCUIT: Generated graph for the Hamiltonian with 1023 nodes.\n",
      "MEASURECIRCUIT: BronKerbosch found 50 unique circuits\n",
      "MEASURECIRCUIT: Elapsed time: 3699.893034s\n",
      "MEASURECIRCUIT: Generated graph for the Hamiltonian with 1023 nodes.\n",
      "MEASURECIRCUIT: BronKerbosch found 50 unique circuits\n",
      "MEASURECIRCUIT: Elapsed time: 3705.567398s\n",
      "MEASURECIRCUIT: Generated graph for the Hamiltonian with 1023 nodes.\n",
      "MEASURECIRCUIT: BronKerbosch found 50 unique circuits\n",
      "MEASURECIRCUIT: Elapsed time: 3699.366943s\n",
      "MEASURECIRCUIT: Generated graph for the Hamiltonian with 1023 nodes.\n",
      "MEASURECIRCUIT: BronKerbosch found 50 unique circuits\n",
      "MEASURECIRCUIT: Elapsed time: 3697.484940s\n"
     ]
    },
    {
     "data": {
      "application/vnd.jupyter.widget-view+json": {
       "model_id": "10fbd2543eec458d8856df80b40e8bc7",
       "version_major": 2,
       "version_minor": 0
      },
      "text/plain": [
       "  0%|          | 0/10 [00:00<?, ?it/s]"
      ]
     },
     "metadata": {},
     "output_type": "display_data"
    },
    {
     "name": "stdout",
     "output_type": "stream",
     "text": [
      "MEASURECIRCUIT: Generated graph for the Hamiltonian with 1023 nodes.\n",
      "MEASURECIRCUIT: BronKerbosch found 50 unique circuits\n",
      "MEASURECIRCUIT: Elapsed time: 3655.168494s\n",
      "MEASURECIRCUIT: Generated graph for the Hamiltonian with 1023 nodes.\n",
      "MEASURECIRCUIT: BronKerbosch found 50 unique circuits\n",
      "MEASURECIRCUIT: Elapsed time: 3701.253546s\n",
      "MEASURECIRCUIT: Generated graph for the Hamiltonian with 1023 nodes.\n",
      "MEASURECIRCUIT: BronKerbosch found 50 unique circuits\n",
      "MEASURECIRCUIT: Elapsed time: 3696.560476s\n",
      "MEASURECIRCUIT: Generated graph for the Hamiltonian with 1023 nodes.\n",
      "MEASURECIRCUIT: BronKerbosch found 50 unique circuits\n",
      "MEASURECIRCUIT: Elapsed time: 3731.586186s\n",
      "MEASURECIRCUIT: Generated graph for the Hamiltonian with 1023 nodes.\n",
      "MEASURECIRCUIT: BronKerbosch found 50 unique circuits\n",
      "MEASURECIRCUIT: Elapsed time: 3700.051721s\n",
      "MEASURECIRCUIT: Generated graph for the Hamiltonian with 1023 nodes.\n",
      "MEASURECIRCUIT: BronKerbosch found 50 unique circuits\n",
      "MEASURECIRCUIT: Elapsed time: 3698.171095s\n",
      "MEASURECIRCUIT: Generated graph for the Hamiltonian with 1023 nodes.\n",
      "MEASURECIRCUIT: BronKerbosch found 50 unique circuits\n",
      "MEASURECIRCUIT: Elapsed time: 3698.613709s\n",
      "MEASURECIRCUIT: Generated graph for the Hamiltonian with 1023 nodes.\n",
      "MEASURECIRCUIT: BronKerbosch found 50 unique circuits\n",
      "MEASURECIRCUIT: Elapsed time: 3699.680223s\n",
      "MEASURECIRCUIT: Generated graph for the Hamiltonian with 1023 nodes.\n",
      "MEASURECIRCUIT: BronKerbosch found 50 unique circuits\n",
      "MEASURECIRCUIT: Elapsed time: 3708.249852s\n",
      "MEASURECIRCUIT: Generated graph for the Hamiltonian with 1023 nodes.\n",
      "MEASURECIRCUIT: BronKerbosch found 50 unique circuits\n",
      "MEASURECIRCUIT: Elapsed time: 3695.599795s\n"
     ]
    },
    {
     "data": {
      "application/vnd.jupyter.widget-view+json": {
       "model_id": "6ec6d38bd9e148d79c5f06047a841a4d",
       "version_major": 2,
       "version_minor": 0
      },
      "text/plain": [
       "  0%|          | 0/10 [00:00<?, ?it/s]"
      ]
     },
     "metadata": {},
     "output_type": "display_data"
    },
    {
     "name": "stdout",
     "output_type": "stream",
     "text": [
      "MEASURECIRCUIT: Generated graph for the Hamiltonian with 1023 nodes.\n",
      "MEASURECIRCUIT: BronKerbosch found 50 unique circuits\n",
      "MEASURECIRCUIT: Elapsed time: 3670.659992s\n",
      "MEASURECIRCUIT: Generated graph for the Hamiltonian with 1023 nodes.\n",
      "MEASURECIRCUIT: BronKerbosch found 50 unique circuits\n",
      "MEASURECIRCUIT: Elapsed time: 3688.264946s\n",
      "MEASURECIRCUIT: Generated graph for the Hamiltonian with 1023 nodes.\n",
      "MEASURECIRCUIT: BronKerbosch found 50 unique circuits\n",
      "MEASURECIRCUIT: Elapsed time: 3698.154120s\n",
      "MEASURECIRCUIT: Generated graph for the Hamiltonian with 1023 nodes.\n",
      "MEASURECIRCUIT: BronKerbosch found 50 unique circuits\n",
      "MEASURECIRCUIT: Elapsed time: 3701.083431s\n",
      "MEASURECIRCUIT: Generated graph for the Hamiltonian with 1023 nodes.\n",
      "MEASURECIRCUIT: BronKerbosch found 50 unique circuits\n",
      "MEASURECIRCUIT: Elapsed time: 3702.886590s\n",
      "MEASURECIRCUIT: Generated graph for the Hamiltonian with 1023 nodes.\n",
      "MEASURECIRCUIT: BronKerbosch found 50 unique circuits\n",
      "MEASURECIRCUIT: Elapsed time: 3694.193629s\n",
      "MEASURECIRCUIT: Generated graph for the Hamiltonian with 1023 nodes.\n",
      "MEASURECIRCUIT: BronKerbosch found 50 unique circuits\n",
      "MEASURECIRCUIT: Elapsed time: 3697.445235s\n",
      "MEASURECIRCUIT: Generated graph for the Hamiltonian with 1023 nodes.\n",
      "MEASURECIRCUIT: BronKerbosch found 50 unique circuits\n",
      "MEASURECIRCUIT: Elapsed time: 3719.637753s\n",
      "MEASURECIRCUIT: Generated graph for the Hamiltonian with 1023 nodes.\n",
      "MEASURECIRCUIT: BronKerbosch found 50 unique circuits\n",
      "MEASURECIRCUIT: Elapsed time: 3701.675453s\n",
      "MEASURECIRCUIT: Generated graph for the Hamiltonian with 1023 nodes.\n",
      "MEASURECIRCUIT: BronKerbosch found 50 unique circuits\n",
      "MEASURECIRCUIT: Elapsed time: 3698.939008s\n"
     ]
    },
    {
     "data": {
      "application/vnd.jupyter.widget-view+json": {
       "model_id": "4ab40fa8263447c1a21ace24365bffb4",
       "version_major": 2,
       "version_minor": 0
      },
      "text/plain": [
       "  0%|          | 0/10 [00:00<?, ?it/s]"
      ]
     },
     "metadata": {},
     "output_type": "display_data"
    },
    {
     "name": "stdout",
     "output_type": "stream",
     "text": [
      "MEASURECIRCUIT: Generated graph for the Hamiltonian with 1023 nodes.\n",
      "MEASURECIRCUIT: BronKerbosch found 50 unique circuits\n",
      "MEASURECIRCUIT: Elapsed time: 3656.258589s\n",
      "MEASURECIRCUIT: Generated graph for the Hamiltonian with 1023 nodes.\n",
      "MEASURECIRCUIT: BronKerbosch found 50 unique circuits\n",
      "MEASURECIRCUIT: Elapsed time: 3680.796130s\n",
      "MEASURECIRCUIT: Generated graph for the Hamiltonian with 1023 nodes.\n",
      "MEASURECIRCUIT: BronKerbosch found 50 unique circuits\n",
      "MEASURECIRCUIT: Elapsed time: 3689.431267s\n",
      "MEASURECIRCUIT: Generated graph for the Hamiltonian with 1023 nodes.\n",
      "MEASURECIRCUIT: BronKerbosch found 50 unique circuits\n",
      "MEASURECIRCUIT: Elapsed time: 3685.398704s\n",
      "MEASURECIRCUIT: Generated graph for the Hamiltonian with 1023 nodes.\n",
      "MEASURECIRCUIT: BronKerbosch found 50 unique circuits\n",
      "MEASURECIRCUIT: Elapsed time: 3691.606657s\n",
      "MEASURECIRCUIT: Generated graph for the Hamiltonian with 1023 nodes.\n",
      "MEASURECIRCUIT: BronKerbosch found 50 unique circuits\n",
      "MEASURECIRCUIT: Elapsed time: 3683.474519s\n",
      "MEASURECIRCUIT: Generated graph for the Hamiltonian with 1023 nodes.\n",
      "MEASURECIRCUIT: BronKerbosch found 50 unique circuits\n",
      "MEASURECIRCUIT: Elapsed time: 3690.215942s\n",
      "MEASURECIRCUIT: Generated graph for the Hamiltonian with 1023 nodes.\n",
      "MEASURECIRCUIT: BronKerbosch found 50 unique circuits\n",
      "MEASURECIRCUIT: Elapsed time: 3704.337586s\n",
      "MEASURECIRCUIT: Generated graph for the Hamiltonian with 1023 nodes.\n",
      "MEASURECIRCUIT: BronKerbosch found 50 unique circuits\n",
      "MEASURECIRCUIT: Elapsed time: 3693.415732s\n",
      "MEASURECIRCUIT: Generated graph for the Hamiltonian with 1023 nodes.\n",
      "MEASURECIRCUIT: BronKerbosch found 50 unique circuits\n",
      "MEASURECIRCUIT: Elapsed time: 3686.634863s\n"
     ]
    },
    {
     "data": {
      "application/vnd.jupyter.widget-view+json": {
       "model_id": "98e8a807f2694a8788072ce04be0c835",
       "version_major": 2,
       "version_minor": 0
      },
      "text/plain": [
       "  0%|          | 0/10 [00:00<?, ?it/s]"
      ]
     },
     "metadata": {},
     "output_type": "display_data"
    },
    {
     "name": "stdout",
     "output_type": "stream",
     "text": [
      "MEASURECIRCUIT: Generated graph for the Hamiltonian with 1023 nodes.\n",
      "MEASURECIRCUIT: BronKerbosch found 50 unique circuits\n",
      "MEASURECIRCUIT: Elapsed time: 3663.649383s\n",
      "MEASURECIRCUIT: Generated graph for the Hamiltonian with 1023 nodes.\n",
      "MEASURECIRCUIT: BronKerbosch found 50 unique circuits\n",
      "MEASURECIRCUIT: Elapsed time: 3725.644958s\n",
      "MEASURECIRCUIT: Generated graph for the Hamiltonian with 1023 nodes.\n",
      "MEASURECIRCUIT: BronKerbosch found 50 unique circuits\n",
      "MEASURECIRCUIT: Elapsed time: 3702.583897s\n",
      "MEASURECIRCUIT: Generated graph for the Hamiltonian with 1023 nodes.\n",
      "MEASURECIRCUIT: BronKerbosch found 50 unique circuits\n",
      "MEASURECIRCUIT: Elapsed time: 3703.524778s\n",
      "MEASURECIRCUIT: Generated graph for the Hamiltonian with 1023 nodes.\n",
      "MEASURECIRCUIT: BronKerbosch found 50 unique circuits\n",
      "MEASURECIRCUIT: Elapsed time: 3726.960773s\n",
      "MEASURECIRCUIT: Generated graph for the Hamiltonian with 1023 nodes.\n",
      "MEASURECIRCUIT: BronKerbosch found 50 unique circuits\n",
      "MEASURECIRCUIT: Elapsed time: 3697.050380s\n",
      "MEASURECIRCUIT: Generated graph for the Hamiltonian with 1023 nodes.\n",
      "MEASURECIRCUIT: BronKerbosch found 50 unique circuits\n",
      "MEASURECIRCUIT: Elapsed time: 3697.128798s\n",
      "MEASURECIRCUIT: Generated graph for the Hamiltonian with 1023 nodes.\n",
      "MEASURECIRCUIT: BronKerbosch found 50 unique circuits\n",
      "MEASURECIRCUIT: Elapsed time: 3698.916134s\n",
      "MEASURECIRCUIT: Generated graph for the Hamiltonian with 1023 nodes.\n",
      "MEASURECIRCUIT: BronKerbosch found 50 unique circuits\n",
      "MEASURECIRCUIT: Elapsed time: 3722.667198s\n",
      "MEASURECIRCUIT: Generated graph for the Hamiltonian with 1023 nodes.\n",
      "MEASURECIRCUIT: BronKerbosch found 50 unique circuits\n",
      "MEASURECIRCUIT: Elapsed time: 3698.089280s\n"
     ]
    },
    {
     "data": {
      "application/vnd.jupyter.widget-view+json": {
       "model_id": "65d2d2b0f29345e29659b33b5d3cbc45",
       "version_major": 2,
       "version_minor": 0
      },
      "text/plain": [
       "  0%|          | 0/10 [00:00<?, ?it/s]"
      ]
     },
     "metadata": {},
     "output_type": "display_data"
    },
    {
     "name": "stdout",
     "output_type": "stream",
     "text": [
      "MEASURECIRCUIT: Generated graph for the Hamiltonian with 1023 nodes.\n",
      "MEASURECIRCUIT: BronKerbosch found 50 unique circuits\n",
      "MEASURECIRCUIT: Elapsed time: 3663.105900s\n",
      "MEASURECIRCUIT: Generated graph for the Hamiltonian with 1023 nodes.\n",
      "MEASURECIRCUIT: BronKerbosch found 50 unique circuits\n",
      "MEASURECIRCUIT: Elapsed time: 3688.181363s\n",
      "MEASURECIRCUIT: Generated graph for the Hamiltonian with 1023 nodes.\n",
      "MEASURECIRCUIT: BronKerbosch found 50 unique circuits\n",
      "MEASURECIRCUIT: Elapsed time: 3696.645180s\n",
      "MEASURECIRCUIT: Generated graph for the Hamiltonian with 1023 nodes.\n",
      "MEASURECIRCUIT: BronKerbosch found 50 unique circuits\n",
      "MEASURECIRCUIT: Elapsed time: 3697.246763s\n",
      "MEASURECIRCUIT: Generated graph for the Hamiltonian with 1023 nodes.\n",
      "MEASURECIRCUIT: BronKerbosch found 50 unique circuits\n",
      "MEASURECIRCUIT: Elapsed time: 3703.522435s\n",
      "MEASURECIRCUIT: Generated graph for the Hamiltonian with 1023 nodes.\n",
      "MEASURECIRCUIT: BronKerbosch found 50 unique circuits\n",
      "MEASURECIRCUIT: Elapsed time: 3692.114487s\n",
      "MEASURECIRCUIT: Generated graph for the Hamiltonian with 1023 nodes.\n",
      "MEASURECIRCUIT: BronKerbosch found 50 unique circuits\n",
      "MEASURECIRCUIT: Elapsed time: 3696.194385s\n",
      "MEASURECIRCUIT: Generated graph for the Hamiltonian with 1023 nodes.\n",
      "MEASURECIRCUIT: BronKerbosch found 50 unique circuits\n",
      "MEASURECIRCUIT: Elapsed time: 3702.398168s\n",
      "MEASURECIRCUIT: Generated graph for the Hamiltonian with 1023 nodes.\n",
      "MEASURECIRCUIT: BronKerbosch found 50 unique circuits\n",
      "MEASURECIRCUIT: Elapsed time: 3706.197451s\n",
      "MEASURECIRCUIT: Generated graph for the Hamiltonian with 1023 nodes.\n",
      "MEASURECIRCUIT: BronKerbosch found 50 unique circuits\n",
      "MEASURECIRCUIT: Elapsed time: 3695.565608s\n"
     ]
    },
    {
     "data": {
      "application/vnd.jupyter.widget-view+json": {
       "model_id": "4dd505f539a34d178b88ee2e80643564",
       "version_major": 2,
       "version_minor": 0
      },
      "text/plain": [
       "  0%|          | 0/10 [00:00<?, ?it/s]"
      ]
     },
     "metadata": {},
     "output_type": "display_data"
    },
    {
     "name": "stdout",
     "output_type": "stream",
     "text": [
      "MEASURECIRCUIT: Generated graph for the Hamiltonian with 1023 nodes.\n",
      "MEASURECIRCUIT: BronKerbosch found 50 unique circuits\n",
      "MEASURECIRCUIT: Elapsed time: 3661.141065s\n",
      "MEASURECIRCUIT: Generated graph for the Hamiltonian with 1023 nodes.\n",
      "MEASURECIRCUIT: BronKerbosch found 50 unique circuits\n",
      "MEASURECIRCUIT: Elapsed time: 3692.863008s\n",
      "MEASURECIRCUIT: Generated graph for the Hamiltonian with 1023 nodes.\n",
      "MEASURECIRCUIT: BronKerbosch found 50 unique circuits\n",
      "MEASURECIRCUIT: Elapsed time: 3698.068877s\n",
      "MEASURECIRCUIT: Generated graph for the Hamiltonian with 1023 nodes.\n",
      "MEASURECIRCUIT: BronKerbosch found 50 unique circuits\n",
      "MEASURECIRCUIT: Elapsed time: 3706.967704s\n",
      "MEASURECIRCUIT: Generated graph for the Hamiltonian with 1023 nodes.\n",
      "MEASURECIRCUIT: BronKerbosch found 50 unique circuits\n",
      "MEASURECIRCUIT: Elapsed time: 3699.574148s\n",
      "MEASURECIRCUIT: Generated graph for the Hamiltonian with 1023 nodes.\n",
      "MEASURECIRCUIT: BronKerbosch found 50 unique circuits\n",
      "MEASURECIRCUIT: Elapsed time: 3703.303998s\n",
      "MEASURECIRCUIT: Generated graph for the Hamiltonian with 1023 nodes.\n",
      "MEASURECIRCUIT: BronKerbosch found 50 unique circuits\n",
      "MEASURECIRCUIT: Elapsed time: 3695.390330s\n",
      "MEASURECIRCUIT: Generated graph for the Hamiltonian with 1023 nodes.\n",
      "MEASURECIRCUIT: BronKerbosch found 50 unique circuits\n",
      "MEASURECIRCUIT: Elapsed time: 3699.471966s\n",
      "MEASURECIRCUIT: Generated graph for the Hamiltonian with 1023 nodes.\n",
      "MEASURECIRCUIT: BronKerbosch found 50 unique circuits\n",
      "MEASURECIRCUIT: Elapsed time: 3704.116735s\n",
      "MEASURECIRCUIT: Generated graph for the Hamiltonian with 1023 nodes.\n",
      "MEASURECIRCUIT: BronKerbosch found 50 unique circuits\n",
      "MEASURECIRCUIT: Elapsed time: 3693.247893s\n"
     ]
    },
    {
     "data": {
      "application/vnd.jupyter.widget-view+json": {
       "model_id": "f5f80bf7618541879566c98f8c9ec6d4",
       "version_major": 2,
       "version_minor": 0
      },
      "text/plain": [
       "  0%|          | 0/10 [00:00<?, ?it/s]"
      ]
     },
     "metadata": {},
     "output_type": "display_data"
    },
    {
     "name": "stdout",
     "output_type": "stream",
     "text": [
      "MEASURECIRCUIT: Generated graph for the Hamiltonian with 1023 nodes.\n",
      "MEASURECIRCUIT: BronKerbosch found 50 unique circuits\n",
      "MEASURECIRCUIT: Elapsed time: 3810.355484s\n",
      "MEASURECIRCUIT: Generated graph for the Hamiltonian with 1023 nodes.\n",
      "MEASURECIRCUIT: BronKerbosch found 50 unique circuits\n",
      "MEASURECIRCUIT: Elapsed time: 3707.591391s\n",
      "MEASURECIRCUIT: Generated graph for the Hamiltonian with 1023 nodes.\n",
      "MEASURECIRCUIT: BronKerbosch found 50 unique circuits\n",
      "MEASURECIRCUIT: Elapsed time: 3699.173790s\n",
      "MEASURECIRCUIT: Generated graph for the Hamiltonian with 1023 nodes.\n",
      "MEASURECIRCUIT: BronKerbosch found 50 unique circuits\n",
      "MEASURECIRCUIT: Elapsed time: 3699.358001s\n",
      "MEASURECIRCUIT: Generated graph for the Hamiltonian with 1023 nodes.\n",
      "MEASURECIRCUIT: BronKerbosch found 50 unique circuits\n",
      "MEASURECIRCUIT: Elapsed time: 3710.103765s\n",
      "MEASURECIRCUIT: Generated graph for the Hamiltonian with 1023 nodes.\n",
      "MEASURECIRCUIT: BronKerbosch found 50 unique circuits\n",
      "MEASURECIRCUIT: Elapsed time: 3696.415807s\n",
      "MEASURECIRCUIT: Generated graph for the Hamiltonian with 1023 nodes.\n",
      "MEASURECIRCUIT: BronKerbosch found 50 unique circuits\n",
      "MEASURECIRCUIT: Elapsed time: 3694.621655s\n",
      "MEASURECIRCUIT: Generated graph for the Hamiltonian with 1023 nodes.\n",
      "MEASURECIRCUIT: BronKerbosch found 50 unique circuits\n",
      "MEASURECIRCUIT: Elapsed time: 3700.126288s\n",
      "MEASURECIRCUIT: Generated graph for the Hamiltonian with 1023 nodes.\n",
      "MEASURECIRCUIT: BronKerbosch found 50 unique circuits\n",
      "MEASURECIRCUIT: Elapsed time: 3701.925401s\n",
      "MEASURECIRCUIT: Generated graph for the Hamiltonian with 1023 nodes.\n",
      "MEASURECIRCUIT: BronKerbosch found 50 unique circuits\n",
      "MEASURECIRCUIT: Elapsed time: 3697.120295s\n"
     ]
    },
    {
     "data": {
      "application/vnd.jupyter.widget-view+json": {
       "model_id": "f08859965c5c49ec91d10d65d502d967",
       "version_major": 2,
       "version_minor": 0
      },
      "text/plain": [
       "  0%|          | 0/10 [00:00<?, ?it/s]"
      ]
     },
     "metadata": {},
     "output_type": "display_data"
    },
    {
     "name": "stdout",
     "output_type": "stream",
     "text": [
      "MEASURECIRCUIT: Generated graph for the Hamiltonian with 1023 nodes.\n",
      "MEASURECIRCUIT: BronKerbosch found 50 unique circuits\n",
      "MEASURECIRCUIT: Elapsed time: 3650.786043s\n",
      "MEASURECIRCUIT: Generated graph for the Hamiltonian with 1023 nodes.\n",
      "MEASURECIRCUIT: BronKerbosch found 50 unique circuits\n",
      "MEASURECIRCUIT: Elapsed time: 3694.388376s\n",
      "MEASURECIRCUIT: Generated graph for the Hamiltonian with 1023 nodes.\n",
      "MEASURECIRCUIT: BronKerbosch found 50 unique circuits\n",
      "MEASURECIRCUIT: Elapsed time: 3704.025224s\n",
      "MEASURECIRCUIT: Generated graph for the Hamiltonian with 1023 nodes.\n",
      "MEASURECIRCUIT: BronKerbosch found 50 unique circuits\n",
      "MEASURECIRCUIT: Elapsed time: 3715.428694s\n",
      "MEASURECIRCUIT: Generated graph for the Hamiltonian with 1023 nodes.\n",
      "MEASURECIRCUIT: BronKerbosch found 50 unique circuits\n",
      "MEASURECIRCUIT: Elapsed time: 3706.393128s\n",
      "MEASURECIRCUIT: Generated graph for the Hamiltonian with 1023 nodes.\n",
      "MEASURECIRCUIT: BronKerbosch found 50 unique circuits\n",
      "MEASURECIRCUIT: Elapsed time: 3709.803975s\n",
      "MEASURECIRCUIT: Generated graph for the Hamiltonian with 1023 nodes.\n",
      "MEASURECIRCUIT: BronKerbosch found 50 unique circuits\n",
      "MEASURECIRCUIT: Elapsed time: 3707.764528s\n",
      "MEASURECIRCUIT: Generated graph for the Hamiltonian with 1023 nodes.\n",
      "MEASURECIRCUIT: BronKerbosch found 50 unique circuits\n",
      "MEASURECIRCUIT: Elapsed time: 3708.480893s\n",
      "MEASURECIRCUIT: Generated graph for the Hamiltonian with 1023 nodes.\n",
      "MEASURECIRCUIT: BronKerbosch found 50 unique circuits\n",
      "MEASURECIRCUIT: Elapsed time: 3718.827431s\n",
      "MEASURECIRCUIT: Generated graph for the Hamiltonian with 1023 nodes.\n",
      "MEASURECIRCUIT: BronKerbosch found 50 unique circuits\n",
      "MEASURECIRCUIT: Elapsed time: 3700.207637s\n"
     ]
    }
   ],
   "source": [
    "nb_qubits = 5\n",
    "nb_trial = 10\n",
    "    \n",
    "print('===========================================')\n",
    "print('                   XBM')\n",
    "print('===========================================')\n",
    "nb_circs_list_xbm = []\n",
    "elapsed_time_list_xbm = []\n",
    "for band_width in range(2**nb_qubits):\n",
    "    foo, bar = experiments('XBM', nb_qubits, band_width, False, nb_trial, part='both')\n",
    "    nb_circs_list_xbm += foo\n",
    "    elapsed_time_list_xbm += bar\n",
    "\n",
    "print('===========================================')\n",
    "print('                   XBM(half)')\n",
    "print('===========================================')\n",
    "nb_circs_list_xbm_half = []\n",
    "elapsed_time_list_xbm_half = []\n",
    "for band_width in range(2**nb_qubits):\n",
    "    foo, bar = experiments('XBM', nb_qubits, band_width, False, nb_trial, part='real')\n",
    "    nb_circs_list_xbm_half += foo\n",
    "    elapsed_time_list_xbm_half += bar\n",
    "    \n",
    "print('===========================================')\n",
    "print('                   Naive')\n",
    "print('===========================================')\n",
    "nb_circs_list_naive = []\n",
    "elapsed_time_list_naive = []\n",
    "for band_width in range(2**nb_qubits):\n",
    "    foo, bar = experiments('Naive', nb_qubits, band_width, False, nb_trial)\n",
    "    nb_circs_list_naive += foo\n",
    "    elapsed_time_list_naive += bar\n",
    "    \n",
    "print('===========================================')\n",
    "print('                   QWC')\n",
    "print('===========================================')\n",
    "nb_circs_list_qwc = []\n",
    "elapsed_time_list_qwc = []\n",
    "for band_width in range(2**nb_qubits):\n",
    "    foo, bar = experiments('QWC', nb_qubits, band_width, False, nb_trial)\n",
    "    nb_circs_list_qwc += foo\n",
    "    elapsed_time_list_qwc += bar\n",
    "    \n",
    "print('===========================================')\n",
    "print('                   QWC(BronKerbosch)')\n",
    "print('===========================================')\n",
    "nb_circs_list_qwc_bk = []\n",
    "elapsed_time_list_qwc_bk = []\n",
    "for band_width in range(2**nb_qubits):\n",
    "    foo, bar = experiments('QWC(BronKerbosch)', nb_qubits, band_width, False, nb_trial)\n",
    "    nb_circs_list_qwc_bk += foo\n",
    "    elapsed_time_list_qwc_bk += bar\n",
    "    \n",
    "print('===========================================')\n",
    "print('                   GC(BronKerbosch)')\n",
    "print('===========================================')\n",
    "nb_circs_list_gc_bk = []\n",
    "elapsed_time_list_gc_bk = []\n",
    "for band_width in range(2**nb_qubits):\n",
    "    foo, bar = experiments('GC(BronKerbosch)', nb_qubits, band_width, False, nb_trial)\n",
    "    nb_circs_list_gc_bk += foo\n",
    "    elapsed_time_list_gc_bk += bar"
   ]
  },
  {
   "cell_type": "code",
   "execution_count": 13,
   "metadata": {},
   "outputs": [],
   "source": [
    "results = {\n",
    "    'XBM'              :{'nb_circs':nb_circs_list_xbm,     'time':elapsed_time_list_xbm     },\n",
    "    'XBM(half)'        :{'nb_circs':nb_circs_list_xbm_half,'time':elapsed_time_list_xbm_half},\n",
    "    'Naive'            :{'nb_circs':nb_circs_list_naive,   'time':elapsed_time_list_naive   },\n",
    "    'QWC'              :{'nb_circs':nb_circs_list_qwc,     'time':elapsed_time_list_qwc     },\n",
    "    'QWC(BronKerbosch)':{'nb_circs':nb_circs_list_qwc_bk,  'time':elapsed_time_list_qwc_bk  },\n",
    "    'GC(BronKerbosch)' :{'nb_circs':nb_circs_list_gc_bk,   'time':elapsed_time_list_gc_bk   },\n",
    "}\n",
    "\n",
    "with open('term_grouping_psi0psi0_neq5.pkl', 'wb') as f:\n",
    "    pickle.dump(results, f, pickle.HIGHEST_PROTOCOL)"
   ]
  },
  {
   "cell_type": "code",
   "execution_count": 14,
   "metadata": {},
   "outputs": [],
   "source": [
    "with open('term_grouping_psi0psi0_neq5.pkl', 'rb') as f:\n",
    "    results = pickle.load(f)\n",
    "    \n",
    "nb_circs_list_xbm      = take_mean(results['XBM']['nb_circs'], nb_trial)\n",
    "nb_circs_list_xbm_half = take_mean(results['XBM(half)']['nb_circs'], nb_trial)\n",
    "nb_circs_list_naive    = take_mean(results['Naive']['nb_circs'], nb_trial)\n",
    "nb_circs_list_qwc      = take_mean(results['QWC']['nb_circs'], nb_trial)\n",
    "nb_circs_list_gc_bk    = take_mean(results['GC(BronKerbosch)']['nb_circs'], nb_trial)\n",
    "\n",
    "elapsed_time_list_xbm      = take_mean(results['XBM']['time'], nb_trial)\n",
    "elapsed_time_list_xbm_half = take_mean(results['XBM(half)']['time'], nb_trial)\n",
    "elapsed_time_list_naive    = take_mean(results['Naive']['time'], nb_trial)\n",
    "elapsed_time_list_qwc      = take_mean(results['QWC']['time'], nb_trial)\n",
    "elapsed_time_list_gc_bk    = take_mean(results['GC(BronKerbosch)']['time'], nb_trial)"
   ]
  },
  {
   "cell_type": "code",
   "execution_count": 15,
   "metadata": {},
   "outputs": [
    {
     "name": "stderr",
     "output_type": "stream",
     "text": [
      "The PostScript backend does not support transparency; partially transparent artists will be rendered opaque.\n",
      "The PostScript backend does not support transparency; partially transparent artists will be rendered opaque.\n"
     ]
    },
    {
     "data": {
      "image/png": "[encoded data removed]",
      "text/plain": [
       "<Figure size 432x288 with 1 Axes>"
      ]
     },
     "metadata": {
      "needs_background": "light"
     },
     "output_type": "display_data"
    }
   ],
   "source": [
    "plt.plot(np.arange(len(nb_circs_list_xbm     )), nb_circs_list_xbm            , label='XBM'              , c=plt.get_cmap(\"Reds\"  )(0.5))\n",
    "plt.plot(np.arange(len(nb_circs_list_xbm_half)), nb_circs_list_xbm_half       , label='XBM(half)'        , c=plt.get_cmap(\"Reds\"  )(0.5), linestyle='dashed')\n",
    "plt.plot(np.arange(len(nb_circs_list_naive   )), nb_circs_list_naive          , label='Naive'            , c=plt.get_cmap(\"gray\"  )(0.5))\n",
    "plt.plot(np.arange(len(nb_circs_list_qwc     )), nb_circs_list_qwc            , label='QWC'              , c=plt.get_cmap(\"Greens\")(0.5))\n",
    "#plt.plot(np.arange(len(nb_circs_list_qwc_bk  )), nb_circs_list_qwc_bk         , label='QWC(BronKerbosch)', c=plt.get_cmap(\"Greens\")(0.8))\n",
    "plt.plot(np.arange(len(nb_circs_list_gc_bk   )), nb_circs_list_gc_bk          , label='GC(BronKerbosch)' , c=plt.get_cmap(\"Blues\" )(0.5))\n",
    "plt.xlabel('Band width of $A$')\n",
    "plt.ylabel('Number of unique circuits')\n",
    "plt.yscale('log')\n",
    "plt.legend(bbox_to_anchor=(1.05, 1), loc='upper left', borderaxespad=0)\n",
    "plt.savefig('psiApsi-nbcircs-5qubits.pdf')\n",
    "plt.savefig('psiApsi-nbcircs-5qubits.eps')"
   ]
  },
  {
   "cell_type": "code",
   "execution_count": 16,
   "metadata": {},
   "outputs": [
    {
     "name": "stderr",
     "output_type": "stream",
     "text": [
      "The PostScript backend does not support transparency; partially transparent artists will be rendered opaque.\n",
      "The PostScript backend does not support transparency; partially transparent artists will be rendered opaque.\n"
     ]
    },
    {
     "data": {
      "image/png": "[encoded data removed]",
      "text/plain": [
       "<Figure size 432x288 with 1 Axes>"
      ]
     },
     "metadata": {
      "needs_background": "light"
     },
     "output_type": "display_data"
    }
   ],
   "source": [
    "plt.plot(np.arange(len(elapsed_time_list_xbm     )), elapsed_time_list_xbm          , label='XBM'              , c=plt.get_cmap(\"Reds\"  )(0.5))\n",
    "plt.plot(np.arange(len(elapsed_time_list_xbm_half)), elapsed_time_list_xbm_half     , label='XBM(half)'        , c=plt.get_cmap(\"Reds\"  )(0.5), linestyle='dashed')\n",
    "plt.plot(np.arange(len(elapsed_time_list_qwc     )), elapsed_time_list_qwc          , label='QWC'              , c=plt.get_cmap(\"Greens\")(0.5))\n",
    "#plt.plot(np.arange(len(elapsed_time_list_qwc_bk  )), elapsed_time_list_qwc_bk       , label='QWC(BronKerbosch)', c=plt.get_cmap(\"Greens\")(0.8))\n",
    "plt.plot(np.arange(len(elapsed_time_list_gc_bk   )), elapsed_time_list_gc_bk        , label='GC(BronKerbosch)' , c=plt.get_cmap(\"Blues\" )(0.5))\n",
    "plt.xlabel('Band width of $A$')\n",
    "plt.ylabel('Time for term grouping [s]')\n",
    "plt.yscale('log')\n",
    "plt.legend(bbox_to_anchor=(1.05, 1), loc='upper left', borderaxespad=0)\n",
    "plt.savefig('psiApsi-time-5qubits.pdf')\n",
    "plt.savefig('psiApsi-time-5qubits.eps')"
   ]
  },
  {
   "cell_type": "markdown",
   "metadata": {},
   "source": [
    "## $\\big|\\psi_0\\big>\\neq\\big|\\psi_1\\big>$, $n=1,2,\\cdots$, $k=3$"
   ]
  },
  {
   "cell_type": "code",
   "execution_count": 17,
   "metadata": {
    "scrolled": true
   },
   "outputs": [
    {
     "name": "stdout",
     "output_type": "stream",
     "text": [
      "===========================================\n",
      "                   XBM\n",
      "===========================================\n"
     ]
    },
    {
     "data": {
      "application/vnd.jupyter.widget-view+json": {
       "model_id": "8f60e699bff244e8bc799e6d429990d9",
       "version_major": 2,
       "version_minor": 0
      },
      "text/plain": [
       "  0%|          | 0/10 [00:00<?, ?it/s]"
      ]
     },
     "metadata": {},
     "output_type": "display_data"
    },
    {
     "data": {
      "application/vnd.jupyter.widget-view+json": {
       "model_id": "1d51e1e1583d4f238f396e2026267cc3",
       "version_major": 2,
       "version_minor": 0
      },
      "text/plain": [
       "  0%|          | 0/10 [00:00<?, ?it/s]"
      ]
     },
     "metadata": {},
     "output_type": "display_data"
    },
    {
     "data": {
      "application/vnd.jupyter.widget-view+json": {
       "model_id": "bd4bbe1af8454262b926746bdb323495",
       "version_major": 2,
       "version_minor": 0
      },
      "text/plain": [
       "  0%|          | 0/10 [00:00<?, ?it/s]"
      ]
     },
     "metadata": {},
     "output_type": "display_data"
    },
    {
     "data": {
      "application/vnd.jupyter.widget-view+json": {
       "model_id": "d2eb6eb5093748288b51259ff8a6cbd7",
       "version_major": 2,
       "version_minor": 0
      },
      "text/plain": [
       "  0%|          | 0/10 [00:00<?, ?it/s]"
      ]
     },
     "metadata": {},
     "output_type": "display_data"
    },
    {
     "data": {
      "application/vnd.jupyter.widget-view+json": {
       "model_id": "2f513d4267c44e6aac11b12b5f6d7191",
       "version_major": 2,
       "version_minor": 0
      },
      "text/plain": [
       "  0%|          | 0/10 [00:00<?, ?it/s]"
      ]
     },
     "metadata": {},
     "output_type": "display_data"
    },
    {
     "data": {
      "application/vnd.jupyter.widget-view+json": {
       "model_id": "cacf02c5fc70474da510bdcd049c9619",
       "version_major": 2,
       "version_minor": 0
      },
      "text/plain": [
       "  0%|          | 0/10 [00:00<?, ?it/s]"
      ]
     },
     "metadata": {},
     "output_type": "display_data"
    },
    {
     "data": {
      "application/vnd.jupyter.widget-view+json": {
       "model_id": "ae005f11badc4f56abe1b1c04b34929f",
       "version_major": 2,
       "version_minor": 0
      },
      "text/plain": [
       "  0%|          | 0/10 [00:00<?, ?it/s]"
      ]
     },
     "metadata": {},
     "output_type": "display_data"
    },
    {
     "data": {
      "application/vnd.jupyter.widget-view+json": {
       "model_id": "0f37083c4f6e4855945c9854b629e628",
       "version_major": 2,
       "version_minor": 0
      },
      "text/plain": [
       "  0%|          | 0/10 [00:00<?, ?it/s]"
      ]
     },
     "metadata": {},
     "output_type": "display_data"
    },
    {
     "data": {
      "application/vnd.jupyter.widget-view+json": {
       "model_id": "617a6352aefe40378088b9396c61a30f",
       "version_major": 2,
       "version_minor": 0
      },
      "text/plain": [
       "  0%|          | 0/10 [00:00<?, ?it/s]"
      ]
     },
     "metadata": {},
     "output_type": "display_data"
    },
    {
     "data": {
      "application/vnd.jupyter.widget-view+json": {
       "model_id": "64f7dcb022f7471180f99c94019e1674",
       "version_major": 2,
       "version_minor": 0
      },
      "text/plain": [
       "  0%|          | 0/10 [00:00<?, ?it/s]"
      ]
     },
     "metadata": {},
     "output_type": "display_data"
    },
    {
     "data": {
      "application/vnd.jupyter.widget-view+json": {
       "model_id": "212b1622968a4af29b275ab78409b74d",
       "version_major": 2,
       "version_minor": 0
      },
      "text/plain": [
       "  0%|          | 0/10 [00:00<?, ?it/s]"
      ]
     },
     "metadata": {},
     "output_type": "display_data"
    },
    {
     "data": {
      "application/vnd.jupyter.widget-view+json": {
       "model_id": "d3b158e55c6b4d31919d3aebf9d8cef7",
       "version_major": 2,
       "version_minor": 0
      },
      "text/plain": [
       "  0%|          | 0/10 [00:00<?, ?it/s]"
      ]
     },
     "metadata": {},
     "output_type": "display_data"
    },
    {
     "data": {
      "application/vnd.jupyter.widget-view+json": {
       "model_id": "446503a8493f442e8eb6659d2791edde",
       "version_major": 2,
       "version_minor": 0
      },
      "text/plain": [
       "  0%|          | 0/10 [00:00<?, ?it/s]"
      ]
     },
     "metadata": {},
     "output_type": "display_data"
    },
    {
     "name": "stdout",
     "output_type": "stream",
     "text": [
      "===========================================\n",
      "                   XBM(half)\n",
      "===========================================\n"
     ]
    },
    {
     "data": {
      "application/vnd.jupyter.widget-view+json": {
       "model_id": "86427c5ed6d84ad397d5df7fd33a1ff2",
       "version_major": 2,
       "version_minor": 0
      },
      "text/plain": [
       "  0%|          | 0/10 [00:00<?, ?it/s]"
      ]
     },
     "metadata": {},
     "output_type": "display_data"
    },
    {
     "data": {
      "application/vnd.jupyter.widget-view+json": {
       "model_id": "86801d23ad9141d4929d1747253a50ef",
       "version_major": 2,
       "version_minor": 0
      },
      "text/plain": [
       "  0%|          | 0/10 [00:00<?, ?it/s]"
      ]
     },
     "metadata": {},
     "output_type": "display_data"
    },
    {
     "data": {
      "application/vnd.jupyter.widget-view+json": {
       "model_id": "51ecd3e488a248178cfdb7fa3b8360eb",
       "version_major": 2,
       "version_minor": 0
      },
      "text/plain": [
       "  0%|          | 0/10 [00:00<?, ?it/s]"
      ]
     },
     "metadata": {},
     "output_type": "display_data"
    },
    {
     "data": {
      "application/vnd.jupyter.widget-view+json": {
       "model_id": "0911af5089344703a9a31101ea995567",
       "version_major": 2,
       "version_minor": 0
      },
      "text/plain": [
       "  0%|          | 0/10 [00:00<?, ?it/s]"
      ]
     },
     "metadata": {},
     "output_type": "display_data"
    },
    {
     "data": {
      "application/vnd.jupyter.widget-view+json": {
       "model_id": "c55c8f43676c487abcf8fdfa52a3dff5",
       "version_major": 2,
       "version_minor": 0
      },
      "text/plain": [
       "  0%|          | 0/10 [00:00<?, ?it/s]"
      ]
     },
     "metadata": {},
     "output_type": "display_data"
    },
    {
     "data": {
      "application/vnd.jupyter.widget-view+json": {
       "model_id": "cbc1af9ff7ea4cf3bbce1aeae25db947",
       "version_major": 2,
       "version_minor": 0
      },
      "text/plain": [
       "  0%|          | 0/10 [00:00<?, ?it/s]"
      ]
     },
     "metadata": {},
     "output_type": "display_data"
    },
    {
     "data": {
      "application/vnd.jupyter.widget-view+json": {
       "model_id": "359019e2a4e6458b8629e262c4ad424f",
       "version_major": 2,
       "version_minor": 0
      },
      "text/plain": [
       "  0%|          | 0/10 [00:00<?, ?it/s]"
      ]
     },
     "metadata": {},
     "output_type": "display_data"
    },
    {
     "data": {
      "application/vnd.jupyter.widget-view+json": {
       "model_id": "13b7203dd21e42d1ae99ff87905ef567",
       "version_major": 2,
       "version_minor": 0
      },
      "text/plain": [
       "  0%|          | 0/10 [00:00<?, ?it/s]"
      ]
     },
     "metadata": {},
     "output_type": "display_data"
    },
    {
     "data": {
      "application/vnd.jupyter.widget-view+json": {
       "model_id": "3a0f4c90613641c08ce149db7131411f",
       "version_major": 2,
       "version_minor": 0
      },
      "text/plain": [
       "  0%|          | 0/10 [00:00<?, ?it/s]"
      ]
     },
     "metadata": {},
     "output_type": "display_data"
    },
    {
     "data": {
      "application/vnd.jupyter.widget-view+json": {
       "model_id": "5a0abba5b9bf4b88aac5c0701528c84e",
       "version_major": 2,
       "version_minor": 0
      },
      "text/plain": [
       "  0%|          | 0/10 [00:00<?, ?it/s]"
      ]
     },
     "metadata": {},
     "output_type": "display_data"
    },
    {
     "data": {
      "application/vnd.jupyter.widget-view+json": {
       "model_id": "66cb8a6547844b098200b70c2c038b22",
       "version_major": 2,
       "version_minor": 0
      },
      "text/plain": [
       "  0%|          | 0/10 [00:00<?, ?it/s]"
      ]
     },
     "metadata": {},
     "output_type": "display_data"
    },
    {
     "data": {
      "application/vnd.jupyter.widget-view+json": {
       "model_id": "c4857cc91e4c40a0b28727ecd1c7f509",
       "version_major": 2,
       "version_minor": 0
      },
      "text/plain": [
       "  0%|          | 0/10 [00:00<?, ?it/s]"
      ]
     },
     "metadata": {},
     "output_type": "display_data"
    },
    {
     "data": {
      "application/vnd.jupyter.widget-view+json": {
       "model_id": "f65d0f8e5c564d4585dee1d79b98ac8e",
       "version_major": 2,
       "version_minor": 0
      },
      "text/plain": [
       "  0%|          | 0/10 [00:00<?, ?it/s]"
      ]
     },
     "metadata": {},
     "output_type": "display_data"
    },
    {
     "name": "stdout",
     "output_type": "stream",
     "text": [
      "===========================================\n",
      "                   Naive\n",
      "===========================================\n"
     ]
    },
    {
     "data": {
      "application/vnd.jupyter.widget-view+json": {
       "model_id": "18392a3320a44071a2075cfad4f704de",
       "version_major": 2,
       "version_minor": 0
      },
      "text/plain": [
       "  0%|          | 0/10 [00:00<?, ?it/s]"
      ]
     },
     "metadata": {},
     "output_type": "display_data"
    },
    {
     "data": {
      "application/vnd.jupyter.widget-view+json": {
       "model_id": "132dc6fa7e994fd5abb0fb253c4ac250",
       "version_major": 2,
       "version_minor": 0
      },
      "text/plain": [
       "  0%|          | 0/10 [00:00<?, ?it/s]"
      ]
     },
     "metadata": {},
     "output_type": "display_data"
    },
    {
     "data": {
      "application/vnd.jupyter.widget-view+json": {
       "model_id": "80028f154f8a4fae9831eca64a97abae",
       "version_major": 2,
       "version_minor": 0
      },
      "text/plain": [
       "  0%|          | 0/10 [00:00<?, ?it/s]"
      ]
     },
     "metadata": {},
     "output_type": "display_data"
    },
    {
     "data": {
      "application/vnd.jupyter.widget-view+json": {
       "model_id": "631a7476fc6e41f4afe21750cc49639e",
       "version_major": 2,
       "version_minor": 0
      },
      "text/plain": [
       "  0%|          | 0/10 [00:00<?, ?it/s]"
      ]
     },
     "metadata": {},
     "output_type": "display_data"
    },
    {
     "data": {
      "application/vnd.jupyter.widget-view+json": {
       "model_id": "e7047b428e354393a4f87f31dd86e470",
       "version_major": 2,
       "version_minor": 0
      },
      "text/plain": [
       "  0%|          | 0/10 [00:00<?, ?it/s]"
      ]
     },
     "metadata": {},
     "output_type": "display_data"
    },
    {
     "data": {
      "application/vnd.jupyter.widget-view+json": {
       "model_id": "f6ec5ad11cb945b299732c0f67f56ff5",
       "version_major": 2,
       "version_minor": 0
      },
      "text/plain": [
       "  0%|          | 0/10 [00:00<?, ?it/s]"
      ]
     },
     "metadata": {},
     "output_type": "display_data"
    },
    {
     "data": {
      "application/vnd.jupyter.widget-view+json": {
       "model_id": "a2ba8ff2d1e341f1a06a9159311656c1",
       "version_major": 2,
       "version_minor": 0
      },
      "text/plain": [
       "  0%|          | 0/10 [00:00<?, ?it/s]"
      ]
     },
     "metadata": {},
     "output_type": "display_data"
    },
    {
     "name": "stdout",
     "output_type": "stream",
     "text": [
      "===========================================\n",
      "                   QWC\n",
      "===========================================\n"
     ]
    },
    {
     "data": {
      "application/vnd.jupyter.widget-view+json": {
       "model_id": "91b546bebf5847839489df991372dfca",
       "version_major": 2,
       "version_minor": 0
      },
      "text/plain": [
       "  0%|          | 0/10 [00:00<?, ?it/s]"
      ]
     },
     "metadata": {},
     "output_type": "display_data"
    },
    {
     "data": {
      "application/vnd.jupyter.widget-view+json": {
       "model_id": "cd07fc4b4a0c4cac851c027b8566ba27",
       "version_major": 2,
       "version_minor": 0
      },
      "text/plain": [
       "  0%|          | 0/10 [00:00<?, ?it/s]"
      ]
     },
     "metadata": {},
     "output_type": "display_data"
    },
    {
     "data": {
      "application/vnd.jupyter.widget-view+json": {
       "model_id": "e0dd3e3481ee44c38ff180fb38aa26a0",
       "version_major": 2,
       "version_minor": 0
      },
      "text/plain": [
       "  0%|          | 0/10 [00:00<?, ?it/s]"
      ]
     },
     "metadata": {},
     "output_type": "display_data"
    },
    {
     "data": {
      "application/vnd.jupyter.widget-view+json": {
       "model_id": "460d297fd899456985e8a2889f42a7cb",
       "version_major": 2,
       "version_minor": 0
      },
      "text/plain": [
       "  0%|          | 0/10 [00:00<?, ?it/s]"
      ]
     },
     "metadata": {},
     "output_type": "display_data"
    },
    {
     "data": {
      "application/vnd.jupyter.widget-view+json": {
       "model_id": "8def3e8082524933b43569b04db41d48",
       "version_major": 2,
       "version_minor": 0
      },
      "text/plain": [
       "  0%|          | 0/10 [00:00<?, ?it/s]"
      ]
     },
     "metadata": {},
     "output_type": "display_data"
    },
    {
     "data": {
      "application/vnd.jupyter.widget-view+json": {
       "model_id": "41b4118da42a42bbbb3ee7c9fcfc0dee",
       "version_major": 2,
       "version_minor": 0
      },
      "text/plain": [
       "  0%|          | 0/10 [00:00<?, ?it/s]"
      ]
     },
     "metadata": {},
     "output_type": "display_data"
    },
    {
     "data": {
      "application/vnd.jupyter.widget-view+json": {
       "model_id": "67b7a8ea23844d49a31cc655d006227d",
       "version_major": 2,
       "version_minor": 0
      },
      "text/plain": [
       "  0%|          | 0/10 [00:00<?, ?it/s]"
      ]
     },
     "metadata": {},
     "output_type": "display_data"
    },
    {
     "data": {
      "application/vnd.jupyter.widget-view+json": {
       "model_id": "655620d845884cec95264be8a4cb3651",
       "version_major": 2,
       "version_minor": 0
      },
      "text/plain": [
       "  0%|          | 0/10 [00:00<?, ?it/s]"
      ]
     },
     "metadata": {},
     "output_type": "display_data"
    },
    {
     "data": {
      "application/vnd.jupyter.widget-view+json": {
       "model_id": "67c8eef67d8b44c9bb65e952393f3c24",
       "version_major": 2,
       "version_minor": 0
      },
      "text/plain": [
       "  0%|          | 0/10 [00:00<?, ?it/s]"
      ]
     },
     "metadata": {},
     "output_type": "display_data"
    },
    {
     "name": "stdout",
     "output_type": "stream",
     "text": [
      "===========================================\n",
      "                   QWC(BronKerbosch)\n",
      "===========================================\n"
     ]
    },
    {
     "data": {
      "application/vnd.jupyter.widget-view+json": {
       "model_id": "8353f42bbc544c8885c9818f8e34c19f",
       "version_major": 2,
       "version_minor": 0
      },
      "text/plain": [
       "  0%|          | 0/10 [00:00<?, ?it/s]"
      ]
     },
     "metadata": {},
     "output_type": "display_data"
    },
    {
     "name": "stdout",
     "output_type": "stream",
     "text": [
      "MEASURECIRCUIT: Generated graph for the Hamiltonian with 7 nodes.\n",
      "MEASURECIRCUIT: BronKerbosch found 6 unique circuits\n",
      "MEASURECIRCUIT: Elapsed time: 0.000366s\n",
      "MEASURECIRCUIT: Generated graph for the Hamiltonian with 7 nodes.\n",
      "MEASURECIRCUIT: BronKerbosch found 6 unique circuits\n",
      "MEASURECIRCUIT: Elapsed time: 0.000257s\n",
      "MEASURECIRCUIT: Generated graph for the Hamiltonian with 7 nodes.\n",
      "MEASURECIRCUIT: BronKerbosch found 6 unique circuits\n",
      "MEASURECIRCUIT: Elapsed time: 0.000251s\n",
      "MEASURECIRCUIT: Generated graph for the Hamiltonian with 7 nodes.\n",
      "MEASURECIRCUIT: BronKerbosch found 6 unique circuits\n",
      "MEASURECIRCUIT: Elapsed time: 0.000254s\n",
      "MEASURECIRCUIT: Generated graph for the Hamiltonian with 7 nodes.\n",
      "MEASURECIRCUIT: BronKerbosch found 6 unique circuits\n",
      "MEASURECIRCUIT: Elapsed time: 0.000251s\n",
      "MEASURECIRCUIT: Generated graph for the Hamiltonian with 7 nodes.\n",
      "MEASURECIRCUIT: BronKerbosch found 6 unique circuits\n",
      "MEASURECIRCUIT: Elapsed time: 0.000255s\n",
      "MEASURECIRCUIT: Generated graph for the Hamiltonian with 7 nodes.\n",
      "MEASURECIRCUIT: BronKerbosch found 6 unique circuits\n",
      "MEASURECIRCUIT: Elapsed time: 0.000252s\n",
      "MEASURECIRCUIT: Generated graph for the Hamiltonian with 7 nodes.\n",
      "MEASURECIRCUIT: BronKerbosch found 6 unique circuits\n",
      "MEASURECIRCUIT: Elapsed time: 0.000254s\n",
      "MEASURECIRCUIT: Generated graph for the Hamiltonian with 7 nodes.\n",
      "MEASURECIRCUIT: BronKerbosch found 6 unique circuits\n",
      "MEASURECIRCUIT: Elapsed time: 0.000250s\n",
      "MEASURECIRCUIT: Generated graph for the Hamiltonian with 7 nodes.\n",
      "MEASURECIRCUIT: BronKerbosch found 6 unique circuits\n",
      "MEASURECIRCUIT: Elapsed time: 0.000251s\n"
     ]
    },
    {
     "data": {
      "application/vnd.jupyter.widget-view+json": {
       "model_id": "c55753ec3cba495fb5089ecc05c952c8",
       "version_major": 2,
       "version_minor": 0
      },
      "text/plain": [
       "  0%|          | 0/10 [00:00<?, ?it/s]"
      ]
     },
     "metadata": {},
     "output_type": "display_data"
    },
    {
     "name": "stdout",
     "output_type": "stream",
     "text": [
      "MEASURECIRCUIT: Generated graph for the Hamiltonian with 31 nodes.\n",
      "MEASURECIRCUIT: BronKerbosch found 18 unique circuits\n",
      "MEASURECIRCUIT: Elapsed time: 0.003413s\n",
      "MEASURECIRCUIT: Generated graph for the Hamiltonian with 31 nodes.\n",
      "MEASURECIRCUIT: BronKerbosch found 18 unique circuits\n",
      "MEASURECIRCUIT: Elapsed time: 0.003414s\n",
      "MEASURECIRCUIT: Generated graph for the Hamiltonian with 31 nodes.\n",
      "MEASURECIRCUIT: BronKerbosch found 18 unique circuits\n",
      "MEASURECIRCUIT: Elapsed time: 0.003390s\n",
      "MEASURECIRCUIT: Generated graph for the Hamiltonian with 31 nodes.\n",
      "MEASURECIRCUIT: BronKerbosch found 18 unique circuits\n",
      "MEASURECIRCUIT: Elapsed time: 0.003466s\n",
      "MEASURECIRCUIT: Generated graph for the Hamiltonian with 31 nodes.\n",
      "MEASURECIRCUIT: BronKerbosch found 18 unique circuits\n",
      "MEASURECIRCUIT: Elapsed time: 0.003386s\n",
      "MEASURECIRCUIT: Generated graph for the Hamiltonian with 31 nodes.\n",
      "MEASURECIRCUIT: BronKerbosch found 18 unique circuits\n",
      "MEASURECIRCUIT: Elapsed time: 0.003429s\n",
      "MEASURECIRCUIT: Generated graph for the Hamiltonian with 31 nodes.\n",
      "MEASURECIRCUIT: BronKerbosch found 18 unique circuits\n",
      "MEASURECIRCUIT: Elapsed time: 0.003561s\n",
      "MEASURECIRCUIT: Generated graph for the Hamiltonian with 31 nodes.\n",
      "MEASURECIRCUIT: BronKerbosch found 18 unique circuits\n",
      "MEASURECIRCUIT: Elapsed time: 0.003431s\n",
      "MEASURECIRCUIT: Generated graph for the Hamiltonian with 31 nodes.\n",
      "MEASURECIRCUIT: BronKerbosch found 18 unique circuits\n",
      "MEASURECIRCUIT: Elapsed time: 0.003435s\n",
      "MEASURECIRCUIT: Generated graph for the Hamiltonian with 31 nodes.\n",
      "MEASURECIRCUIT: BronKerbosch found 18 unique circuits\n",
      "MEASURECIRCUIT: Elapsed time: 0.006727s\n"
     ]
    },
    {
     "data": {
      "application/vnd.jupyter.widget-view+json": {
       "model_id": "fb5fc37fd52a42ecb61c9510ca2bd3ba",
       "version_major": 2,
       "version_minor": 0
      },
      "text/plain": [
       "  0%|          | 0/10 [00:00<?, ?it/s]"
      ]
     },
     "metadata": {},
     "output_type": "display_data"
    },
    {
     "name": "stdout",
     "output_type": "stream",
     "text": [
      "MEASURECIRCUIT: Generated graph for the Hamiltonian with 111 nodes.\n",
      "MEASURECIRCUIT: BronKerbosch found 50 unique circuits\n",
      "MEASURECIRCUIT: Elapsed time: 0.043144s\n",
      "MEASURECIRCUIT: Generated graph for the Hamiltonian with 111 nodes.\n",
      "MEASURECIRCUIT: BronKerbosch found 50 unique circuits\n",
      "MEASURECIRCUIT: Elapsed time: 0.043195s\n",
      "MEASURECIRCUIT: Generated graph for the Hamiltonian with 111 nodes.\n",
      "MEASURECIRCUIT: BronKerbosch found 50 unique circuits\n",
      "MEASURECIRCUIT: Elapsed time: 0.043117s\n",
      "MEASURECIRCUIT: Generated graph for the Hamiltonian with 111 nodes.\n",
      "MEASURECIRCUIT: BronKerbosch found 50 unique circuits\n",
      "MEASURECIRCUIT: Elapsed time: 0.043747s\n",
      "MEASURECIRCUIT: Generated graph for the Hamiltonian with 111 nodes.\n",
      "MEASURECIRCUIT: BronKerbosch found 50 unique circuits\n",
      "MEASURECIRCUIT: Elapsed time: 0.043241s\n",
      "MEASURECIRCUIT: Generated graph for the Hamiltonian with 111 nodes.\n",
      "MEASURECIRCUIT: BronKerbosch found 50 unique circuits\n",
      "MEASURECIRCUIT: Elapsed time: 0.043909s\n",
      "MEASURECIRCUIT: Generated graph for the Hamiltonian with 111 nodes.\n",
      "MEASURECIRCUIT: BronKerbosch found 50 unique circuits\n",
      "MEASURECIRCUIT: Elapsed time: 0.044583s\n",
      "MEASURECIRCUIT: Generated graph for the Hamiltonian with 111 nodes.\n",
      "MEASURECIRCUIT: BronKerbosch found 50 unique circuits\n",
      "MEASURECIRCUIT: Elapsed time: 0.043576s\n",
      "MEASURECIRCUIT: Generated graph for the Hamiltonian with 111 nodes.\n",
      "MEASURECIRCUIT: BronKerbosch found 50 unique circuits\n",
      "MEASURECIRCUIT: Elapsed time: 0.043306s\n",
      "MEASURECIRCUIT: Generated graph for the Hamiltonian with 111 nodes.\n",
      "MEASURECIRCUIT: BronKerbosch found 50 unique circuits\n",
      "MEASURECIRCUIT: Elapsed time: 0.043133s\n"
     ]
    },
    {
     "data": {
      "application/vnd.jupyter.widget-view+json": {
       "model_id": "8d88fd7327074683a71a977ba467ef15",
       "version_major": 2,
       "version_minor": 0
      },
      "text/plain": [
       "  0%|          | 0/10 [00:00<?, ?it/s]"
      ]
     },
     "metadata": {},
     "output_type": "display_data"
    },
    {
     "name": "stdout",
     "output_type": "stream",
     "text": [
      "MEASURECIRCUIT: Generated graph for the Hamiltonian with 319 nodes.\n",
      "MEASURECIRCUIT: BronKerbosch found 114 unique circuits\n",
      "MEASURECIRCUIT: Elapsed time: 0.377471s\n",
      "MEASURECIRCUIT: Generated graph for the Hamiltonian with 319 nodes.\n",
      "MEASURECIRCUIT: BronKerbosch found 114 unique circuits\n",
      "MEASURECIRCUIT: Elapsed time: 0.382811s\n",
      "MEASURECIRCUIT: Generated graph for the Hamiltonian with 319 nodes.\n",
      "MEASURECIRCUIT: BronKerbosch found 114 unique circuits\n",
      "MEASURECIRCUIT: Elapsed time: 0.383869s\n",
      "MEASURECIRCUIT: Generated graph for the Hamiltonian with 319 nodes.\n",
      "MEASURECIRCUIT: BronKerbosch found 114 unique circuits\n",
      "MEASURECIRCUIT: Elapsed time: 0.385110s\n",
      "MEASURECIRCUIT: Generated graph for the Hamiltonian with 319 nodes.\n",
      "MEASURECIRCUIT: BronKerbosch found 114 unique circuits\n",
      "MEASURECIRCUIT: Elapsed time: 0.383191s\n",
      "MEASURECIRCUIT: Generated graph for the Hamiltonian with 319 nodes.\n",
      "MEASURECIRCUIT: BronKerbosch found 114 unique circuits\n",
      "MEASURECIRCUIT: Elapsed time: 0.382318s\n",
      "MEASURECIRCUIT: Generated graph for the Hamiltonian with 319 nodes.\n",
      "MEASURECIRCUIT: BronKerbosch found 114 unique circuits\n",
      "MEASURECIRCUIT: Elapsed time: 0.381026s\n",
      "MEASURECIRCUIT: Generated graph for the Hamiltonian with 319 nodes.\n",
      "MEASURECIRCUIT: BronKerbosch found 114 unique circuits\n",
      "MEASURECIRCUIT: Elapsed time: 0.383365s\n",
      "MEASURECIRCUIT: Generated graph for the Hamiltonian with 319 nodes.\n",
      "MEASURECIRCUIT: BronKerbosch found 114 unique circuits\n",
      "MEASURECIRCUIT: Elapsed time: 0.381215s\n",
      "MEASURECIRCUIT: Generated graph for the Hamiltonian with 319 nodes.\n",
      "MEASURECIRCUIT: BronKerbosch found 114 unique circuits\n",
      "MEASURECIRCUIT: Elapsed time: 0.385777s\n"
     ]
    },
    {
     "data": {
      "application/vnd.jupyter.widget-view+json": {
       "model_id": "cd7669e97da14be9b47d567e149933e9",
       "version_major": 2,
       "version_minor": 0
      },
      "text/plain": [
       "  0%|          | 0/10 [00:00<?, ?it/s]"
      ]
     },
     "metadata": {},
     "output_type": "display_data"
    },
    {
     "name": "stdout",
     "output_type": "stream",
     "text": [
      "MEASURECIRCUIT: Generated graph for the Hamiltonian with 831 nodes.\n",
      "MEASURECIRCUIT: BronKerbosch found 242 unique circuits\n",
      "MEASURECIRCUIT: Elapsed time: 2.815113s\n",
      "MEASURECIRCUIT: Generated graph for the Hamiltonian with 831 nodes.\n",
      "MEASURECIRCUIT: BronKerbosch found 242 unique circuits\n",
      "MEASURECIRCUIT: Elapsed time: 2.844048s\n",
      "MEASURECIRCUIT: Generated graph for the Hamiltonian with 831 nodes.\n",
      "MEASURECIRCUIT: BronKerbosch found 242 unique circuits\n",
      "MEASURECIRCUIT: Elapsed time: 2.817819s\n",
      "MEASURECIRCUIT: Generated graph for the Hamiltonian with 831 nodes.\n",
      "MEASURECIRCUIT: BronKerbosch found 242 unique circuits\n",
      "MEASURECIRCUIT: Elapsed time: 2.811334s\n",
      "MEASURECIRCUIT: Generated graph for the Hamiltonian with 831 nodes.\n",
      "MEASURECIRCUIT: BronKerbosch found 242 unique circuits\n",
      "MEASURECIRCUIT: Elapsed time: 2.838769s\n",
      "MEASURECIRCUIT: Generated graph for the Hamiltonian with 831 nodes.\n",
      "MEASURECIRCUIT: BronKerbosch found 242 unique circuits\n",
      "MEASURECIRCUIT: Elapsed time: 2.824542s\n",
      "MEASURECIRCUIT: Generated graph for the Hamiltonian with 831 nodes.\n",
      "MEASURECIRCUIT: BronKerbosch found 242 unique circuits\n",
      "MEASURECIRCUIT: Elapsed time: 2.830472s\n",
      "MEASURECIRCUIT: Generated graph for the Hamiltonian with 831 nodes.\n",
      "MEASURECIRCUIT: BronKerbosch found 242 unique circuits\n",
      "MEASURECIRCUIT: Elapsed time: 2.842189s\n",
      "MEASURECIRCUIT: Generated graph for the Hamiltonian with 831 nodes.\n",
      "MEASURECIRCUIT: BronKerbosch found 242 unique circuits\n",
      "MEASURECIRCUIT: Elapsed time: 2.849665s\n",
      "MEASURECIRCUIT: Generated graph for the Hamiltonian with 831 nodes.\n",
      "MEASURECIRCUIT: BronKerbosch found 242 unique circuits\n",
      "MEASURECIRCUIT: Elapsed time: 2.817510s\n"
     ]
    },
    {
     "data": {
      "application/vnd.jupyter.widget-view+json": {
       "model_id": "04381b494c2a43549b1fe046577a1e26",
       "version_major": 2,
       "version_minor": 0
      },
      "text/plain": [
       "  0%|          | 0/10 [00:00<?, ?it/s]"
      ]
     },
     "metadata": {},
     "output_type": "display_data"
    },
    {
     "name": "stdout",
     "output_type": "stream",
     "text": [
      "MEASURECIRCUIT: Generated graph for the Hamiltonian with 2047 nodes.\n",
      "MEASURECIRCUIT: BronKerbosch found 498 unique circuits\n",
      "MEASURECIRCUIT: Elapsed time: 22.907509s\n",
      "MEASURECIRCUIT: Generated graph for the Hamiltonian with 2047 nodes.\n",
      "MEASURECIRCUIT: BronKerbosch found 498 unique circuits\n",
      "MEASURECIRCUIT: Elapsed time: 23.169879s\n",
      "MEASURECIRCUIT: Generated graph for the Hamiltonian with 2047 nodes.\n",
      "MEASURECIRCUIT: BronKerbosch found 498 unique circuits\n",
      "MEASURECIRCUIT: Elapsed time: 23.154054s\n",
      "MEASURECIRCUIT: Generated graph for the Hamiltonian with 2047 nodes.\n",
      "MEASURECIRCUIT: BronKerbosch found 498 unique circuits\n",
      "MEASURECIRCUIT: Elapsed time: 23.074098s\n",
      "MEASURECIRCUIT: Generated graph for the Hamiltonian with 2047 nodes.\n",
      "MEASURECIRCUIT: BronKerbosch found 498 unique circuits\n",
      "MEASURECIRCUIT: Elapsed time: 23.025191s\n",
      "MEASURECIRCUIT: Generated graph for the Hamiltonian with 2047 nodes.\n",
      "MEASURECIRCUIT: BronKerbosch found 498 unique circuits\n",
      "MEASURECIRCUIT: Elapsed time: 23.193504s\n",
      "MEASURECIRCUIT: Generated graph for the Hamiltonian with 2047 nodes.\n",
      "MEASURECIRCUIT: BronKerbosch found 498 unique circuits\n",
      "MEASURECIRCUIT: Elapsed time: 23.208386s\n",
      "MEASURECIRCUIT: Generated graph for the Hamiltonian with 2047 nodes.\n",
      "MEASURECIRCUIT: BronKerbosch found 498 unique circuits\n",
      "MEASURECIRCUIT: Elapsed time: 23.085724s\n",
      "MEASURECIRCUIT: Generated graph for the Hamiltonian with 2047 nodes.\n",
      "MEASURECIRCUIT: BronKerbosch found 498 unique circuits\n",
      "MEASURECIRCUIT: Elapsed time: 23.078452s\n",
      "MEASURECIRCUIT: Generated graph for the Hamiltonian with 2047 nodes.\n",
      "MEASURECIRCUIT: BronKerbosch found 498 unique circuits\n",
      "MEASURECIRCUIT: Elapsed time: 23.127457s\n"
     ]
    },
    {
     "data": {
      "application/vnd.jupyter.widget-view+json": {
       "model_id": "e7365b200e0a438181703aa9479f859d",
       "version_major": 2,
       "version_minor": 0
      },
      "text/plain": [
       "  0%|          | 0/10 [00:00<?, ?it/s]"
      ]
     },
     "metadata": {},
     "output_type": "display_data"
    },
    {
     "name": "stdout",
     "output_type": "stream",
     "text": [
      "MEASURECIRCUIT: Generated graph for the Hamiltonian with 4863 nodes.\n",
      "MEASURECIRCUIT: BronKerbosch found 1010 unique circuits\n",
      "MEASURECIRCUIT: Elapsed time: 324.611841s\n",
      "MEASURECIRCUIT: Generated graph for the Hamiltonian with 4863 nodes.\n",
      "MEASURECIRCUIT: BronKerbosch found 1010 unique circuits\n",
      "MEASURECIRCUIT: Elapsed time: 326.880928s\n",
      "MEASURECIRCUIT: Generated graph for the Hamiltonian with 4863 nodes.\n",
      "MEASURECIRCUIT: BronKerbosch found 1010 unique circuits\n",
      "MEASURECIRCUIT: Elapsed time: 328.086576s\n",
      "MEASURECIRCUIT: Generated graph for the Hamiltonian with 4863 nodes.\n",
      "MEASURECIRCUIT: BronKerbosch found 1010 unique circuits\n",
      "MEASURECIRCUIT: Elapsed time: 326.873358s\n",
      "MEASURECIRCUIT: Generated graph for the Hamiltonian with 4863 nodes.\n",
      "MEASURECIRCUIT: BronKerbosch found 1010 unique circuits\n",
      "MEASURECIRCUIT: Elapsed time: 327.779985s\n",
      "MEASURECIRCUIT: Generated graph for the Hamiltonian with 4863 nodes.\n",
      "MEASURECIRCUIT: BronKerbosch found 1010 unique circuits\n",
      "MEASURECIRCUIT: Elapsed time: 328.199768s\n",
      "MEASURECIRCUIT: Generated graph for the Hamiltonian with 4863 nodes.\n",
      "MEASURECIRCUIT: BronKerbosch found 1010 unique circuits\n",
      "MEASURECIRCUIT: Elapsed time: 327.806034s\n",
      "MEASURECIRCUIT: Generated graph for the Hamiltonian with 4863 nodes.\n",
      "MEASURECIRCUIT: BronKerbosch found 1010 unique circuits\n",
      "MEASURECIRCUIT: Elapsed time: 328.873730s\n",
      "MEASURECIRCUIT: Generated graph for the Hamiltonian with 4863 nodes.\n",
      "MEASURECIRCUIT: BronKerbosch found 1010 unique circuits\n",
      "MEASURECIRCUIT: Elapsed time: 328.503681s\n",
      "MEASURECIRCUIT: Generated graph for the Hamiltonian with 4863 nodes.\n",
      "MEASURECIRCUIT: BronKerbosch found 1010 unique circuits\n",
      "MEASURECIRCUIT: Elapsed time: 328.243410s\n",
      "===========================================\n",
      "                   GC(BronKerbosch)\n",
      "===========================================\n"
     ]
    },
    {
     "data": {
      "application/vnd.jupyter.widget-view+json": {
       "model_id": "298e3c4cd9644bb2a23bd60f4a2ac90f",
       "version_major": 2,
       "version_minor": 0
      },
      "text/plain": [
       "  0%|          | 0/10 [00:00<?, ?it/s]"
      ]
     },
     "metadata": {},
     "output_type": "display_data"
    },
    {
     "name": "stdout",
     "output_type": "stream",
     "text": [
      "MEASURECIRCUIT: Generated graph for the Hamiltonian with 7 nodes.\n",
      "MEASURECIRCUIT: BronKerbosch found 4 unique circuits\n",
      "MEASURECIRCUIT: Elapsed time: 0.000439s\n",
      "MEASURECIRCUIT: Generated graph for the Hamiltonian with 7 nodes.\n",
      "MEASURECIRCUIT: BronKerbosch found 4 unique circuits\n",
      "MEASURECIRCUIT: Elapsed time: 0.000329s\n",
      "MEASURECIRCUIT: Generated graph for the Hamiltonian with 7 nodes.\n",
      "MEASURECIRCUIT: BronKerbosch found 4 unique circuits\n",
      "MEASURECIRCUIT: Elapsed time: 0.000330s\n",
      "MEASURECIRCUIT: Generated graph for the Hamiltonian with 7 nodes.\n",
      "MEASURECIRCUIT: BronKerbosch found 4 unique circuits\n",
      "MEASURECIRCUIT: Elapsed time: 0.000330s\n",
      "MEASURECIRCUIT: Generated graph for the Hamiltonian with 7 nodes.\n",
      "MEASURECIRCUIT: BronKerbosch found 4 unique circuits\n",
      "MEASURECIRCUIT: Elapsed time: 0.000328s\n",
      "MEASURECIRCUIT: Generated graph for the Hamiltonian with 7 nodes.\n",
      "MEASURECIRCUIT: BronKerbosch found 4 unique circuits\n",
      "MEASURECIRCUIT: Elapsed time: 0.000330s\n",
      "MEASURECIRCUIT: Generated graph for the Hamiltonian with 7 nodes.\n",
      "MEASURECIRCUIT: BronKerbosch found 4 unique circuits\n",
      "MEASURECIRCUIT: Elapsed time: 0.000330s\n",
      "MEASURECIRCUIT: Generated graph for the Hamiltonian with 7 nodes.\n",
      "MEASURECIRCUIT: BronKerbosch found 4 unique circuits\n",
      "MEASURECIRCUIT: Elapsed time: 0.000329s\n",
      "MEASURECIRCUIT: Generated graph for the Hamiltonian with 7 nodes.\n",
      "MEASURECIRCUIT: BronKerbosch found 4 unique circuits\n",
      "MEASURECIRCUIT: Elapsed time: 0.000329s\n",
      "MEASURECIRCUIT: Generated graph for the Hamiltonian with 7 nodes.\n",
      "MEASURECIRCUIT: BronKerbosch found 4 unique circuits\n",
      "MEASURECIRCUIT: Elapsed time: 0.000328s\n"
     ]
    },
    {
     "data": {
      "application/vnd.jupyter.widget-view+json": {
       "model_id": "45d93ddce6ca49b394ba034c3448237a",
       "version_major": 2,
       "version_minor": 0
      },
      "text/plain": [
       "  0%|          | 0/10 [00:00<?, ?it/s]"
      ]
     },
     "metadata": {},
     "output_type": "display_data"
    },
    {
     "name": "stdout",
     "output_type": "stream",
     "text": [
      "MEASURECIRCUIT: Generated graph for the Hamiltonian with 31 nodes.\n",
      "MEASURECIRCUIT: BronKerbosch found 9 unique circuits\n",
      "MEASURECIRCUIT: Elapsed time: 0.006734s\n",
      "MEASURECIRCUIT: Generated graph for the Hamiltonian with 31 nodes.\n",
      "MEASURECIRCUIT: BronKerbosch found 9 unique circuits\n",
      "MEASURECIRCUIT: Elapsed time: 0.006453s\n",
      "MEASURECIRCUIT: Generated graph for the Hamiltonian with 31 nodes.\n",
      "MEASURECIRCUIT: BronKerbosch found 9 unique circuits\n",
      "MEASURECIRCUIT: Elapsed time: 0.006472s\n",
      "MEASURECIRCUIT: Generated graph for the Hamiltonian with 31 nodes.\n",
      "MEASURECIRCUIT: BronKerbosch found 9 unique circuits\n",
      "MEASURECIRCUIT: Elapsed time: 0.006454s\n",
      "MEASURECIRCUIT: Generated graph for the Hamiltonian with 31 nodes.\n",
      "MEASURECIRCUIT: BronKerbosch found 9 unique circuits\n",
      "MEASURECIRCUIT: Elapsed time: 0.006420s\n",
      "MEASURECIRCUIT: Generated graph for the Hamiltonian with 31 nodes.\n",
      "MEASURECIRCUIT: BronKerbosch found 9 unique circuits\n",
      "MEASURECIRCUIT: Elapsed time: 0.010595s\n",
      "MEASURECIRCUIT: Generated graph for the Hamiltonian with 31 nodes.\n",
      "MEASURECIRCUIT: BronKerbosch found 9 unique circuits\n",
      "MEASURECIRCUIT: Elapsed time: 0.006422s\n",
      "MEASURECIRCUIT: Generated graph for the Hamiltonian with 31 nodes.\n",
      "MEASURECIRCUIT: BronKerbosch found 9 unique circuits\n",
      "MEASURECIRCUIT: Elapsed time: 0.006613s\n",
      "MEASURECIRCUIT: Generated graph for the Hamiltonian with 31 nodes.\n",
      "MEASURECIRCUIT: BronKerbosch found 9 unique circuits\n",
      "MEASURECIRCUIT: Elapsed time: 0.006559s\n",
      "MEASURECIRCUIT: Generated graph for the Hamiltonian with 31 nodes.\n",
      "MEASURECIRCUIT: BronKerbosch found 9 unique circuits\n",
      "MEASURECIRCUIT: Elapsed time: 0.006527s\n"
     ]
    },
    {
     "data": {
      "application/vnd.jupyter.widget-view+json": {
       "model_id": "6dfba7a4900d4c278c8cc552836920e2",
       "version_major": 2,
       "version_minor": 0
      },
      "text/plain": [
       "  0%|          | 0/10 [00:00<?, ?it/s]"
      ]
     },
     "metadata": {},
     "output_type": "display_data"
    },
    {
     "name": "stdout",
     "output_type": "stream",
     "text": [
      "MEASURECIRCUIT: Generated graph for the Hamiltonian with 111 nodes.\n",
      "MEASURECIRCUIT: BronKerbosch found 18 unique circuits\n",
      "MEASURECIRCUIT: Elapsed time: 0.148851s\n",
      "MEASURECIRCUIT: Generated graph for the Hamiltonian with 111 nodes.\n",
      "MEASURECIRCUIT: BronKerbosch found 18 unique circuits\n",
      "MEASURECIRCUIT: Elapsed time: 0.151043s\n",
      "MEASURECIRCUIT: Generated graph for the Hamiltonian with 111 nodes.\n",
      "MEASURECIRCUIT: BronKerbosch found 18 unique circuits\n",
      "MEASURECIRCUIT: Elapsed time: 0.149752s\n",
      "MEASURECIRCUIT: Generated graph for the Hamiltonian with 111 nodes.\n",
      "MEASURECIRCUIT: BronKerbosch found 18 unique circuits\n",
      "MEASURECIRCUIT: Elapsed time: 0.149189s\n",
      "MEASURECIRCUIT: Generated graph for the Hamiltonian with 111 nodes.\n",
      "MEASURECIRCUIT: BronKerbosch found 18 unique circuits\n",
      "MEASURECIRCUIT: Elapsed time: 0.148748s\n",
      "MEASURECIRCUIT: Generated graph for the Hamiltonian with 111 nodes.\n",
      "MEASURECIRCUIT: BronKerbosch found 18 unique circuits\n",
      "MEASURECIRCUIT: Elapsed time: 0.148813s\n",
      "MEASURECIRCUIT: Generated graph for the Hamiltonian with 111 nodes.\n",
      "MEASURECIRCUIT: BronKerbosch found 18 unique circuits\n",
      "MEASURECIRCUIT: Elapsed time: 0.149245s\n",
      "MEASURECIRCUIT: Generated graph for the Hamiltonian with 111 nodes.\n",
      "MEASURECIRCUIT: BronKerbosch found 18 unique circuits\n",
      "MEASURECIRCUIT: Elapsed time: 0.149261s\n",
      "MEASURECIRCUIT: Generated graph for the Hamiltonian with 111 nodes.\n",
      "MEASURECIRCUIT: BronKerbosch found 18 unique circuits\n",
      "MEASURECIRCUIT: Elapsed time: 0.152868s\n",
      "MEASURECIRCUIT: Generated graph for the Hamiltonian with 111 nodes.\n",
      "MEASURECIRCUIT: BronKerbosch found 18 unique circuits\n",
      "MEASURECIRCUIT: Elapsed time: 0.149475s\n"
     ]
    },
    {
     "data": {
      "application/vnd.jupyter.widget-view+json": {
       "model_id": "f706b6e827e44bc5a39744d50ccedcf7",
       "version_major": 2,
       "version_minor": 0
      },
      "text/plain": [
       "  0%|          | 0/10 [00:00<?, ?it/s]"
      ]
     },
     "metadata": {},
     "output_type": "display_data"
    },
    {
     "name": "stdout",
     "output_type": "stream",
     "text": [
      "MEASURECIRCUIT: Generated graph for the Hamiltonian with 319 nodes.\n",
      "MEASURECIRCUIT: BronKerbosch found 28 unique circuits\n",
      "MEASURECIRCUIT: Elapsed time: 12.356334s\n",
      "MEASURECIRCUIT: Generated graph for the Hamiltonian with 319 nodes.\n",
      "MEASURECIRCUIT: BronKerbosch found 28 unique circuits\n",
      "MEASURECIRCUIT: Elapsed time: 12.504535s\n",
      "MEASURECIRCUIT: Generated graph for the Hamiltonian with 319 nodes.\n",
      "MEASURECIRCUIT: BronKerbosch found 28 unique circuits\n",
      "MEASURECIRCUIT: Elapsed time: 12.464870s\n",
      "MEASURECIRCUIT: Generated graph for the Hamiltonian with 319 nodes.\n",
      "MEASURECIRCUIT: BronKerbosch found 28 unique circuits\n",
      "MEASURECIRCUIT: Elapsed time: 12.467671s\n",
      "MEASURECIRCUIT: Generated graph for the Hamiltonian with 319 nodes.\n",
      "MEASURECIRCUIT: BronKerbosch found 28 unique circuits\n",
      "MEASURECIRCUIT: Elapsed time: 12.425226s\n",
      "MEASURECIRCUIT: Generated graph for the Hamiltonian with 319 nodes.\n",
      "MEASURECIRCUIT: BronKerbosch found 28 unique circuits\n",
      "MEASURECIRCUIT: Elapsed time: 12.454007s\n",
      "MEASURECIRCUIT: Generated graph for the Hamiltonian with 319 nodes.\n",
      "MEASURECIRCUIT: BronKerbosch found 28 unique circuits\n",
      "MEASURECIRCUIT: Elapsed time: 12.440861s\n",
      "MEASURECIRCUIT: Generated graph for the Hamiltonian with 319 nodes.\n",
      "MEASURECIRCUIT: BronKerbosch found 28 unique circuits\n",
      "MEASURECIRCUIT: Elapsed time: 12.411724s\n",
      "MEASURECIRCUIT: Generated graph for the Hamiltonian with 319 nodes.\n",
      "MEASURECIRCUIT: BronKerbosch found 28 unique circuits\n",
      "MEASURECIRCUIT: Elapsed time: 12.438152s\n",
      "MEASURECIRCUIT: Generated graph for the Hamiltonian with 319 nodes.\n",
      "MEASURECIRCUIT: BronKerbosch found 28 unique circuits\n",
      "MEASURECIRCUIT: Elapsed time: 12.474406s\n"
     ]
    },
    {
     "data": {
      "application/vnd.jupyter.widget-view+json": {
       "model_id": "75e71e5386e244699f6ba47e8285dd1f",
       "version_major": 2,
       "version_minor": 0
      },
      "text/plain": [
       "  0%|          | 0/10 [00:00<?, ?it/s]"
      ]
     },
     "metadata": {},
     "output_type": "display_data"
    },
    {
     "name": "stdout",
     "output_type": "stream",
     "text": [
      "MEASURECIRCUIT: Generated graph for the Hamiltonian with 831 nodes.\n",
      "MEASURECIRCUIT: BronKerbosch found 35 unique circuits\n",
      "MEASURECIRCUIT: Elapsed time: 4832.268249s\n",
      "MEASURECIRCUIT: Generated graph for the Hamiltonian with 831 nodes.\n",
      "MEASURECIRCUIT: BronKerbosch found 35 unique circuits\n",
      "MEASURECIRCUIT: Elapsed time: 4865.083784s\n",
      "MEASURECIRCUIT: Generated graph for the Hamiltonian with 831 nodes.\n",
      "MEASURECIRCUIT: BronKerbosch found 35 unique circuits\n",
      "MEASURECIRCUIT: Elapsed time: 4893.980405s\n",
      "MEASURECIRCUIT: Generated graph for the Hamiltonian with 831 nodes.\n",
      "MEASURECIRCUIT: BronKerbosch found 35 unique circuits\n",
      "MEASURECIRCUIT: Elapsed time: 4874.073412s\n",
      "MEASURECIRCUIT: Generated graph for the Hamiltonian with 831 nodes.\n",
      "MEASURECIRCUIT: BronKerbosch found 35 unique circuits\n",
      "MEASURECIRCUIT: Elapsed time: 4886.648424s\n",
      "MEASURECIRCUIT: Generated graph for the Hamiltonian with 831 nodes.\n",
      "MEASURECIRCUIT: BronKerbosch found 35 unique circuits\n",
      "MEASURECIRCUIT: Elapsed time: 4879.766265s\n",
      "MEASURECIRCUIT: Generated graph for the Hamiltonian with 831 nodes.\n",
      "MEASURECIRCUIT: BronKerbosch found 35 unique circuits\n",
      "MEASURECIRCUIT: Elapsed time: 4877.852097s\n",
      "MEASURECIRCUIT: Generated graph for the Hamiltonian with 831 nodes.\n",
      "MEASURECIRCUIT: BronKerbosch found 35 unique circuits\n",
      "MEASURECIRCUIT: Elapsed time: 4879.170457s\n",
      "MEASURECIRCUIT: Generated graph for the Hamiltonian with 831 nodes.\n",
      "MEASURECIRCUIT: BronKerbosch found 35 unique circuits\n",
      "MEASURECIRCUIT: Elapsed time: 4887.201480s\n",
      "MEASURECIRCUIT: Generated graph for the Hamiltonian with 831 nodes.\n",
      "MEASURECIRCUIT: BronKerbosch found 35 unique circuits\n",
      "MEASURECIRCUIT: Elapsed time: 4885.302680s\n"
     ]
    }
   ],
   "source": [
    "nb_trial = 10\n",
    "\n",
    "print('===========================================')\n",
    "print('                   XBM')\n",
    "print('===========================================')\n",
    "nb_circs_list_xbm = []\n",
    "elapsed_time_list_xbm = []\n",
    "for nb_qubits in range(1,14):\n",
    "    foo, bar = experiments('XBM', nb_qubits, 3, True, nb_trial, part='both')\n",
    "    nb_circs_list_xbm += foo\n",
    "    elapsed_time_list_xbm += bar\n",
    "\n",
    "print('===========================================')\n",
    "print('                   XBM(half)')\n",
    "print('===========================================')\n",
    "nb_circs_list_xbm_half = []\n",
    "elapsed_time_list_xbm_half = []\n",
    "for nb_qubits in range(1,14):\n",
    "    foo, bar = experiments('XBM', nb_qubits, 3, True, nb_trial, part='real')\n",
    "    nb_circs_list_xbm_half += foo\n",
    "    elapsed_time_list_xbm_half += bar\n",
    "    \n",
    "print('===========================================')\n",
    "print('                   Naive')\n",
    "print('===========================================')\n",
    "nb_circs_list_naive = []\n",
    "elapsed_time_list_naive = []\n",
    "for nb_qubits in range(1,8):\n",
    "    foo, bar = experiments('Naive', nb_qubits, 3, True, nb_trial)\n",
    "    nb_circs_list_naive += foo\n",
    "    elapsed_time_list_naive += bar\n",
    "    \n",
    "print('===========================================')\n",
    "print('                   QWC')\n",
    "print('===========================================')\n",
    "nb_circs_list_qwc = []\n",
    "elapsed_time_list_qwc = []\n",
    "for nb_qubits in range(1,10):\n",
    "    foo, bar = experiments('QWC', nb_qubits, 3, True, nb_trial)\n",
    "    nb_circs_list_qwc += foo\n",
    "    elapsed_time_list_qwc += bar\n",
    "    \n",
    "print('===========================================')\n",
    "print('                   QWC(BronKerbosch)')\n",
    "print('===========================================')\n",
    "nb_circs_list_qwc_bk = []\n",
    "elapsed_time_list_qwc_bk = []\n",
    "for nb_qubits in range(1,8):\n",
    "    foo, bar = experiments('QWC(BronKerbosch)', nb_qubits, 3, True, nb_trial)\n",
    "    nb_circs_list_qwc_bk += foo\n",
    "    elapsed_time_list_qwc_bk += bar\n",
    "    \n",
    "print('===========================================')\n",
    "print('                   GC(BronKerbosch)')\n",
    "print('===========================================')\n",
    "nb_circs_list_gc_bk = []\n",
    "elapsed_time_list_gc_bk = []\n",
    "for nb_qubits in range(1,6):\n",
    "    foo, bar = experiments('GC(BronKerbosch)', nb_qubits, 3, True, nb_trial)\n",
    "    nb_circs_list_gc_bk += foo\n",
    "    elapsed_time_list_gc_bk += bar"
   ]
  },
  {
   "cell_type": "code",
   "execution_count": 18,
   "metadata": {},
   "outputs": [],
   "source": [
    "results = {\n",
    "    'XBM'              :{'nb_circs':nb_circs_list_xbm,     'time':elapsed_time_list_xbm},\n",
    "    'XBM(half)'        :{'nb_circs':nb_circs_list_xbm_half,'time':elapsed_time_list_xbm_half},\n",
    "    'Naive'            :{'nb_circs':nb_circs_list_naive,   'time':elapsed_time_list_naive},\n",
    "    'QWC'              :{'nb_circs':nb_circs_list_qwc,     'time':elapsed_time_list_qwc},\n",
    "    'QWC(BronKerbosch)':{'nb_circs':nb_circs_list_qwc_bk,  'time':elapsed_time_list_qwc_bk},\n",
    "    'GC(BronKerbosch)' :{'nb_circs':nb_circs_list_gc_bk,   'time':elapsed_time_list_gc_bk},\n",
    "}\n",
    "\n",
    "with open('term_grouping_psi0psi1_keq3.pkl', 'wb') as f:\n",
    "    pickle.dump(results, f, pickle.HIGHEST_PROTOCOL)"
   ]
  },
  {
   "cell_type": "code",
   "execution_count": 19,
   "metadata": {},
   "outputs": [],
   "source": [
    "with open('term_grouping_psi0psi1_keq3.pkl', 'rb') as f:\n",
    "    results = pickle.load(f)\n",
    "    \n",
    "nb_circs_list_xbm      = take_mean(results['XBM']['nb_circs'], nb_trial)\n",
    "nb_circs_list_xbm_half = take_mean(results['XBM(half)']['nb_circs'], nb_trial)\n",
    "nb_circs_list_naive    = take_mean(results['Naive']['nb_circs'], nb_trial)\n",
    "nb_circs_list_qwc      = take_mean(results['QWC']['nb_circs'], nb_trial)\n",
    "nb_circs_list_gc_bk    = take_mean(results['GC(BronKerbosch)']['nb_circs'], nb_trial)\n",
    "\n",
    "elapsed_time_list_xbm      = take_mean(results['XBM']['time'], nb_trial)\n",
    "elapsed_time_list_xbm_half = take_mean(results['XBM(half)']['time'], nb_trial)\n",
    "elapsed_time_list_naive    = take_mean(results['Naive']['time'], nb_trial)\n",
    "elapsed_time_list_qwc      = take_mean(results['QWC']['time'], nb_trial)\n",
    "elapsed_time_list_gc_bk    = take_mean(results['GC(BronKerbosch)']['time'], nb_trial)"
   ]
  },
  {
   "cell_type": "code",
   "execution_count": 20,
   "metadata": {},
   "outputs": [
    {
     "name": "stderr",
     "output_type": "stream",
     "text": [
      "The PostScript backend does not support transparency; partially transparent artists will be rendered opaque.\n",
      "The PostScript backend does not support transparency; partially transparent artists will be rendered opaque.\n"
     ]
    },
    {
     "data": {
      "image/png": "[encoded data removed]",
      "text/plain": [
       "<Figure size 432x288 with 1 Axes>"
      ]
     },
     "metadata": {
      "needs_background": "light"
     },
     "output_type": "display_data"
    }
   ],
   "source": [
    "plt.plot(np.arange(1,len(nb_circs_list_xbm     )+1), nb_circs_list_xbm            , label='XBM'              , c=plt.get_cmap(\"Reds\"  )(0.5), marker='o')\n",
    "plt.plot(np.arange(1,len(nb_circs_list_xbm_half)+1), nb_circs_list_xbm_half       , label='XBM(half)'        , c=plt.get_cmap(\"Reds\"  )(0.5), marker='o', linestyle='dashed')\n",
    "plt.plot(np.arange(1,len(nb_circs_list_naive   )+1), nb_circs_list_naive          , label='Naive'            , c=plt.get_cmap(\"gray\"  )(0.5), marker='o')\n",
    "plt.plot(np.arange(1,len(nb_circs_list_qwc     )+1), nb_circs_list_qwc            , label='QWC'              , c=plt.get_cmap(\"Greens\")(0.5), marker='o')\n",
    "#plt.plot(np.arange(1,len(nb_circs_list_qwc_bk  )+1), nb_circs_list_qwc_bk         , label='QWC(BronKerbosch)', c=plt.get_cmap(\"Greens\")(0.8), marker='o')\n",
    "plt.plot(np.arange(1,len(nb_circs_list_gc_bk   )+1), nb_circs_list_gc_bk          , label='GC(BronKerbosch)' , c=plt.get_cmap(\"Blues\" )(0.5), marker='o')\n",
    "plt.xlabel('n')\n",
    "plt.ylabel('Number of unique circuits')\n",
    "plt.yscale('log')\n",
    "plt.legend(bbox_to_anchor=(1.05, 1), loc='upper left', borderaxespad=0)\n",
    "plt.savefig('psi0Apsi1-nbcircs-band3.pdf')\n",
    "plt.savefig('psi0Apsi1-nbcircs-band3.eps')"
   ]
  },
  {
   "cell_type": "code",
   "execution_count": 21,
   "metadata": {},
   "outputs": [
    {
     "name": "stderr",
     "output_type": "stream",
     "text": [
      "The PostScript backend does not support transparency; partially transparent artists will be rendered opaque.\n",
      "The PostScript backend does not support transparency; partially transparent artists will be rendered opaque.\n"
     ]
    },
    {
     "data": {
      "image/png": "[encoded data removed]",
      "text/plain": [
       "<Figure size 432x288 with 1 Axes>"
      ]
     },
     "metadata": {
      "needs_background": "light"
     },
     "output_type": "display_data"
    }
   ],
   "source": [
    "plt.plot(np.arange(1,len(elapsed_time_list_xbm     )+1), elapsed_time_list_xbm          , label='XBM'              , c=plt.get_cmap(\"Reds\"  )(0.5), marker='o')\n",
    "plt.plot(np.arange(1,len(elapsed_time_list_xbm_half)+1), elapsed_time_list_xbm_half     , label='XBM(half)'        , c=plt.get_cmap(\"Reds\"  )(0.5), marker='o', linestyle='dashed')\n",
    "plt.plot(np.arange(1,len(elapsed_time_list_qwc     )+1), elapsed_time_list_qwc          , label='QWC'              , c=plt.get_cmap(\"Greens\")(0.5), marker='o')\n",
    "#plt.plot(np.arange(1,len(elapsed_time_list_qwc_bk  )+1), elapsed_time_list_qwc_bk       , label='QWC(BronKerbosch)', c=plt.get_cmap(\"Greens\")(0.8), marker='o')\n",
    "plt.plot(np.arange(1,len(elapsed_time_list_gc_bk   )+1), elapsed_time_list_gc_bk        , label='GC(BronKerbosch)' , c=plt.get_cmap(\"Blues\" )(0.5), marker='o')\n",
    "\n",
    "n = np.arange(1,len(elapsed_time_list_xbm     )+1)\n",
    "#plt.plot(n, 4.4**n/50000, label='4.5^n', c=plt.get_cmap(\"gray\"  )(0.5))\n",
    "#plt.plot(n, 2.2**n/2000, label='2.2^n', c=plt.get_cmap(\"gray\"  )(0.5))\n",
    "#plt.plot(n, 2**n/1000, label='2^n', c=plt.get_cmap(\"gray\"  )(0.5))\n",
    "\n",
    "plt.xlabel('n')\n",
    "plt.ylabel('Time for term grouping [s]')\n",
    "plt.yscale('log')\n",
    "plt.ylim(None,1000)\n",
    "plt.legend(bbox_to_anchor=(1.05, 1), loc='upper left', borderaxespad=0)\n",
    "plt.savefig('psi0Apsi1-time-band3.pdf')\n",
    "plt.savefig('psi0Apsi1-time-band3.eps')"
   ]
  },
  {
   "cell_type": "markdown",
   "metadata": {},
   "source": [
    "# random-$A$"
   ]
  },
  {
   "cell_type": "code",
   "execution_count": 22,
   "metadata": {
    "scrolled": true
   },
   "outputs": [
    {
     "data": {
      "application/vnd.jupyter.widget-view+json": {
       "model_id": "1a4645a368004217b2e3cf39327aa861",
       "version_major": 2,
       "version_minor": 0
      },
      "text/plain": [
       "  0%|          | 0/1024 [00:00<?, ?it/s]"
      ]
     },
     "metadata": {},
     "output_type": "display_data"
    }
   ],
   "source": [
    "nb_qubits = 5\n",
    "\n",
    "nb_circs_list = []\n",
    "for nb_nonzero in tqdm(range(1,int(4**nb_qubits)+1)):\n",
    "    foo = []\n",
    "    for trial in range(10):\n",
    "\n",
    "        psi_0, psi_1, _ = get_psi_A(nb_qubits, None, trial)\n",
    "        mat_A = np.zeros(4**nb_qubits)\n",
    "        mat_A[random.sample(set(np.arange(4**nb_qubits)),nb_nonzero)] = 1\n",
    "        mat_A = mat_A.reshape(2**nb_qubits, 2**nb_qubits)\n",
    "        meas = get_all_meas_circs_bits_coefs(psi_0, psi_1, mat_A, 'both', return_circ=False)\n",
    "        nb_circs = len(meas)\n",
    "\n",
    "        foo += [nb_circs]\n",
    "        \n",
    "    nb_circs_list += [foo]\n",
    "    \n",
    "nb_circs_list = np.array(nb_circs_list)"
   ]
  },
  {
   "cell_type": "code",
   "execution_count": 23,
   "metadata": {},
   "outputs": [],
   "source": [
    "with open('random-A.pkl', 'wb') as f:\n",
    "    pickle.dump(nb_circs_list, f, pickle.HIGHEST_PROTOCOL)"
   ]
  },
  {
   "cell_type": "code",
   "execution_count": 24,
   "metadata": {},
   "outputs": [],
   "source": [
    "from scipy.special import comb\n",
    "\n",
    "def get_exp(d,N):\n",
    "    \n",
    "    exp = 0.\n",
    "    Nk_list = []\n",
    "    \n",
    "    for k in range(1,d+1):\n",
    "        \n",
    "        foo = 0.\n",
    "        for i in range(1,k):\n",
    "            \n",
    "            if comb(N,k)!=0:\n",
    "                combination = comb(N,k) * comb(k,i) / comb(N,i)\n",
    "            else:\n",
    "                combination = 0\n",
    "                \n",
    "            foo += combination * Nk_list[i-1]\n",
    "            \n",
    "        if comb(N,k)!=0:\n",
    "            Nk = comb(N,k) * comb(k*N, d) - foo\n",
    "        else:\n",
    "            Nk = 0\n",
    "\n",
    "        Nk_list += [Nk]\n",
    "        \n",
    "        P_kdN = Nk / comb(N**2, d)\n",
    "        exp += k * P_kdN\n",
    "        \n",
    "    return exp"
   ]
  },
  {
   "cell_type": "code",
   "execution_count": 25,
   "metadata": {},
   "outputs": [
    {
     "data": {
      "application/vnd.jupyter.widget-view+json": {
       "model_id": "6443eb5aaa10496a98658ee54b1d5cc1",
       "version_major": 2,
       "version_minor": 0
      },
      "text/plain": [
       "  0%|          | 0/1024 [00:00<?, ?it/s]"
      ]
     },
     "metadata": {},
     "output_type": "display_data"
    },
    {
     "name": "stderr",
     "output_type": "stream",
     "text": [
      "/usr/local/lib/python3.6/dist-packages/ipykernel_launcher.py:27: RuntimeWarning: invalid value encountered in double_scalars\n",
      "/usr/local/lib/python3.6/dist-packages/ipykernel_launcher.py:18: RuntimeWarning: invalid value encountered in double_scalars\n"
     ]
    }
   ],
   "source": [
    "n = 5\n",
    "N = 2**n\n",
    "exp_list = []\n",
    "for d in tqdm(range(1,int(4**nb_qubits)+1)):\n",
    "    exp = get_exp(d,N)\n",
    "    exp_list += [exp]"
   ]
  },
  {
   "cell_type": "code",
   "execution_count": 26,
   "metadata": {},
   "outputs": [
    {
     "name": "stderr",
     "output_type": "stream",
     "text": [
      "The PostScript backend does not support transparency; partially transparent artists will be rendered opaque.\n",
      "The PostScript backend does not support transparency; partially transparent artists will be rendered opaque.\n"
     ]
    },
    {
     "data": {
      "image/png": "[encoded data removed]",
      "text/plain": [
       "<Figure size 432x288 with 1 Axes>"
      ]
     },
     "metadata": {
      "needs_background": "light"
     },
     "output_type": "display_data"
    }
   ],
   "source": [
    "nb_qubits = 5\n",
    "band_width = 3\n",
    "\n",
    "psi_0, psi_1, mat_A = get_psi_A(nb_qubits, band_width, trial)\n",
    "meas = get_all_meas_circs_bits_coefs(psi_0, psi_1, mat_A, 'both', return_circ=False)\n",
    "nb_circs_max_band = len(meas)\n",
    "\n",
    "foo = []\n",
    "for nonzero in range(np.prod(mat_A.shape)):\n",
    "    if nonzero*2<=nb_circs_max_band:\n",
    "        foo += [[nonzero,nonzero*2]]\n",
    "    else:\n",
    "        foo += [[nonzero,nb_circs_max_band]]\n",
    "foo = np.array(foo)\n",
    "plt.plot(foo[1:,0],foo[1:,1],label='k='+str(band_width)+'(worst case)', c=colors[2], linewidth=5)\n",
    "\n",
    "plt.errorbar(range(1,len(nb_circs_list)+1), nb_circs_list.mean(-1), yerr=nb_circs_list.std(-1), label='exp', color='#FF99A0')\n",
    "plt.plot(range(1,len(exp_list)+1), np.array(exp_list)*2, label='anal', color=colors[1], linewidth=5)\n",
    "plt.xlim(-3,100)\n",
    "plt.xlabel('Number of nonzero elements')\n",
    "plt.ylabel('Number of unique circuits')\n",
    "plt.legend(bbox_to_anchor=(1.05, 1), loc='upper left', borderaxespad=0)\n",
    "plt.savefig('band-random.pdf')\n",
    "plt.savefig('band-random.eps')"
   ]
  },
  {
   "cell_type": "code",
   "execution_count": 27,
   "metadata": {},
   "outputs": [
    {
     "data": {
      "text/plain": [
       "52.24005711826345"
      ]
     },
     "execution_count": 27,
     "metadata": {},
     "output_type": "execute_result"
    }
   ],
   "source": [
    "exp_list[51]*2"
   ]
  },
  {
   "cell_type": "code",
   "execution_count": 28,
   "metadata": {},
   "outputs": [
    {
     "data": {
      "text/plain": [
       "26"
      ]
     },
     "execution_count": 28,
     "metadata": {},
     "output_type": "execute_result"
    }
   ],
   "source": [
    "nb_circs_max_band"
   ]
  },
  {
   "cell_type": "code",
   "execution_count": null,
   "metadata": {},
   "outputs": [],
   "source": []
  }
 ],
 "metadata": {
  "kernelspec": {
   "display_name": "Python 3",
   "language": "python",
   "name": "python3"
  },
  "language_info": {
   "codemirror_mode": {
    "name": "ipython",
    "version": 3
   },
   "file_extension": ".py",
   "mimetype": "text/x-python",
   "name": "python",
   "nbconvert_exporter": "python",
   "pygments_lexer": "ipython3",
   "version": "3.6.9"
  }
 },
 "nbformat": 4,
 "nbformat_minor": 4
}
