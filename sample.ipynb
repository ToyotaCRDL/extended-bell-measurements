{
 "cells": [
  {
   "cell_type": "code",
   "execution_count": 1,
   "id": "designed-heater",
   "metadata": {},
   "outputs": [
    {
     "data": {
      "text/html": [
       "<h3>Version Information</h3><table><tr><th>Qiskit Software</th><th>Version</th></tr><tr><td>Qiskit</td><td>0.25.0</td></tr><tr><td>Terra</td><td>0.17.0</td></tr><tr><td>Aer</td><td>0.8.0</td></tr><tr><td>Ignis</td><td>0.6.0</td></tr><tr><td>Aqua</td><td>0.9.0</td></tr><tr><td>IBM Q Provider</td><td>0.12.2</td></tr><tr><th>System information</th></tr><tr><td>Python</td><td>3.6.9 (default, Oct  8 2020, 12:12:24) \n",
       "[GCC 8.4.0]</td></tr><tr><td>OS</td><td>Linux</td></tr><tr><td>CPUs</td><td>10</td></tr><tr><td>Memory (Gb)</td><td>31.088565826416016</td></tr><tr><td colspan='2'>Fri Oct 01 07:10:02 2021 UTC</td></tr></table>"
      ],
      "text/plain": [
       "<IPython.core.display.HTML object>"
      ]
     },
     "metadata": {},
     "output_type": "display_data"
    }
   ],
   "source": [
    "import warnings\n",
    "def warn(*args, **kwargs):\n",
    "    pass\n",
    "warnings.warn = warn\n",
    "\n",
    "import qiskit.tools.jupyter\n",
    "%qiskit_version_table\n",
    "#%qiskit_copyright"
   ]
  },
  {
   "cell_type": "code",
   "execution_count": 2,
   "id": "sunrise-blade",
   "metadata": {},
   "outputs": [],
   "source": [
    "from xbm import get_all_meas_circs_bits_coefs\n",
    "from utils import eval_expectation\n",
    "from qiskit import QuantumCircuit, Aer\n",
    "from qiskit.aqua import QuantumInstance\n",
    "from qiskit.circuit import ParameterVector\n",
    "import numpy as np\n",
    "\n",
    "nb_qubits = 3\n",
    "\n",
    "p_vec0 = ParameterVector('theta_0', length=2) # qiskit.circuit.parametervector.ParameterVector, parameter vectors for psi_0\n",
    "p_vec1 = ParameterVector('theta_1', length=2) # qiskit.circuit.parametervector.ParameterVector, parameter vectors for psi_1\n",
    "p_vec2 = ParameterVector('theta_2', length=2) # qiskit.circuit.parametervector.ParameterVector, parameter vectors for psi_2\n",
    "\n",
    "psi_0 = QuantumCircuit(nb_qubits) # qiskit.QuantumCircuit\n",
    "psi_1 = QuantumCircuit(nb_qubits) # qiskit.QuantumCircuit\n",
    "psi_2 = QuantumCircuit(nb_qubits) # qiskit.QuantumCircuit\n",
    "\n",
    "psi_0.h(1)\n",
    "psi_0.rx(p_vec0[0], 1)\n",
    "psi_0.rz(p_vec0[1], 2)\n",
    "\n",
    "psi_1.ry(p_vec1[0], 0)\n",
    "psi_1.rx(p_vec1[1], 2)\n",
    "\n",
    "psi_2.rx(p_vec2[0], 0)\n",
    "psi_2.rz(p_vec2[1], 1)\n",
    "psi_2.h(2)\n",
    "\n",
    "mat_A  = np.random.random(size=(2**nb_qubits,2**nb_qubits)) + 1j * np.random.random(size=(2**nb_qubits,2**nb_qubits)) # numpy.ndarray\n",
    "mat_A2 = mat_A @ np.conjugate(mat_A).T\n",
    "\n",
    "qins_state = QuantumInstance(Aer.get_backend('statevector_simulator')) # qiskit.aqua.QuantumInstance\n",
    "qins_qasm  = QuantumInstance(Aer.get_backend('qasm_simulator'))        # qiskit.aqua.QuantumInstance\n",
    "\n",
    "meas_1 = get_all_meas_circs_bits_coefs(psi_0, psi_1, mat_A ) # circuits for <psi_0|A|psi_1>\n",
    "meas_2 = get_all_meas_circs_bits_coefs(psi_2,  None, mat_A2) # circuits for <psi_2|A^2|psi_2>"
   ]
  },
  {
   "cell_type": "markdown",
   "id": "tough-concord",
   "metadata": {},
   "source": [
    "# $\\langle\\psi_0|A|\\psi_1\\rangle$"
   ]
  },
  {
   "cell_type": "code",
   "execution_count": 3,
   "id": "entitled-notice",
   "metadata": {},
   "outputs": [],
   "source": [
    "np.random.random(42)\n",
    "params_0 = np.random.random(size=2) # numpy.ndarray, parameter values for psi_0\n",
    "params_1 = np.random.random(size=2) # numpy.ndarray, parameter values for psi_1"
   ]
  },
  {
   "cell_type": "code",
   "execution_count": 4,
   "id": "automatic-desperate",
   "metadata": {},
   "outputs": [],
   "source": [
    "psi_0_gt = qins_state.execute(psi_0.assign_parameters({p_vec0: params_0})).get_statevector()\n",
    "psi_1_gt = qins_state.execute(psi_1.assign_parameters({p_vec1: params_1})).get_statevector()"
   ]
  },
  {
   "cell_type": "code",
   "execution_count": 5,
   "id": "centered-vegetarian",
   "metadata": {},
   "outputs": [
    {
     "data": {
      "text/plain": [
       "(0.3235760014648993+1.5772281402478203j)"
      ]
     },
     "execution_count": 5,
     "metadata": {},
     "output_type": "execute_result"
    }
   ],
   "source": [
    "exp_gt = np.conjugate(psi_0_gt).T @ mat_A @ psi_1_gt\n",
    "exp_gt"
   ]
  },
  {
   "cell_type": "code",
   "execution_count": 6,
   "id": "atmospheric-finding",
   "metadata": {},
   "outputs": [
    {
     "data": {
      "text/plain": [
       "((0.32357600146489934+1.577228140247821j),\n",
       " (0.32367554241333246+1.6148061638238744j))"
      ]
     },
     "execution_count": 6,
     "metadata": {},
     "output_type": "execute_result"
    }
   ],
   "source": [
    "exp_state, result_state = eval_expectation(meas_1, qins_state, params_dict={p_vec0: params_0, p_vec1: params_1})\n",
    "exp_qasm , result_qasm  = eval_expectation(meas_1, qins_qasm , params_dict={p_vec0: params_0, p_vec1: params_1})\n",
    "exp_state, exp_qasm"
   ]
  },
  {
   "cell_type": "markdown",
   "id": "functioning-hometown",
   "metadata": {},
   "source": [
    "# $\\langle\\psi_2|A^2|\\psi_2\\rangle$"
   ]
  },
  {
   "cell_type": "code",
   "execution_count": 7,
   "id": "several-termination",
   "metadata": {},
   "outputs": [],
   "source": [
    "np.random.random(42)\n",
    "params_2 = np.random.random(size=2) # numpy.ndarray, parameter values for psi_2"
   ]
  },
  {
   "cell_type": "code",
   "execution_count": 8,
   "id": "grand-operation",
   "metadata": {},
   "outputs": [],
   "source": [
    "psi_2_gt = qins_state.execute(psi_2.assign_parameters({p_vec2: params_2})).get_statevector()"
   ]
  },
  {
   "cell_type": "code",
   "execution_count": 9,
   "id": "durable-james",
   "metadata": {},
   "outputs": [
    {
     "data": {
      "text/plain": [
       "(6.959812951957787+0j)"
      ]
     },
     "execution_count": 9,
     "metadata": {},
     "output_type": "execute_result"
    }
   ],
   "source": [
    "exp_gt = np.conjugate(psi_2_gt).T @ mat_A2 @ psi_2_gt\n",
    "exp_gt"
   ]
  },
  {
   "cell_type": "code",
   "execution_count": 10,
   "id": "aquatic-traffic",
   "metadata": {},
   "outputs": [
    {
     "data": {
      "text/plain": [
       "((6.959812951957787+4.791495976028126e-17j), (6.806316907777254+0j))"
      ]
     },
     "execution_count": 10,
     "metadata": {},
     "output_type": "execute_result"
    }
   ],
   "source": [
    "exp_state, result_state = eval_expectation(meas_2, qins_state, params_dict={p_vec2: params_2})\n",
    "exp_qasm , result_qasm  = eval_expectation(meas_2, qins_qasm , params_dict={p_vec2: params_2})\n",
    "exp_state, exp_qasm"
   ]
  },
  {
   "cell_type": "markdown",
   "id": "august-queen",
   "metadata": {},
   "source": [
    "# $\\langle\\psi_0|A|\\psi_1\\rangle + \\langle\\psi_2|A^2|\\psi_2\\rangle$"
   ]
  },
  {
   "cell_type": "code",
   "execution_count": 11,
   "id": "lightweight-revolution",
   "metadata": {},
   "outputs": [],
   "source": [
    "np.random.random(42)\n",
    "params_0 = np.random.random(size=2)\n",
    "params_1 = np.random.random(size=2)\n",
    "params_2 = np.random.random(size=2)"
   ]
  },
  {
   "cell_type": "code",
   "execution_count": 12,
   "id": "present-advocate",
   "metadata": {},
   "outputs": [],
   "source": [
    "psi_0_gt = qins_state.execute(psi_0.assign_parameters({p_vec0: params_0})).get_statevector()\n",
    "psi_1_gt = qins_state.execute(psi_1.assign_parameters({p_vec1: params_1})).get_statevector()\n",
    "psi_2_gt = qins_state.execute(psi_2.assign_parameters({p_vec2: params_2})).get_statevector()"
   ]
  },
  {
   "cell_type": "code",
   "execution_count": 13,
   "id": "genuine-bumper",
   "metadata": {},
   "outputs": [
    {
     "data": {
      "text/plain": [
       "(8.397227633686022+0.7083155833835031j)"
      ]
     },
     "execution_count": 13,
     "metadata": {},
     "output_type": "execute_result"
    }
   ],
   "source": [
    "exp_gt = np.conjugate(psi_0_gt).T @ mat_A @ psi_1_gt + np.conjugate(psi_2_gt).T @ mat_A2 @ psi_2_gt\n",
    "exp_gt"
   ]
  },
  {
   "cell_type": "code",
   "execution_count": 14,
   "id": "atlantic-charm",
   "metadata": {},
   "outputs": [
    {
     "data": {
      "text/plain": [
       "((8.39722763368602+0.7083155833835018j),\n",
       " (8.331514323263601+0.7142911817063933j))"
      ]
     },
     "execution_count": 14,
     "metadata": {},
     "output_type": "execute_result"
    }
   ],
   "source": [
    "exp_state, result_state = eval_expectation(meas_1+meas_2, qins_state, params_dict={p_vec0: params_0, p_vec1: params_1, p_vec2: params_2})\n",
    "exp_qasm , result_qasm  = eval_expectation(meas_1+meas_2, qins_qasm , params_dict={p_vec0: params_0, p_vec1: params_1, p_vec2: params_2})\n",
    "exp_state, exp_qasm"
   ]
  }
 ],
 "metadata": {
  "kernelspec": {
   "display_name": "Python 3",
   "language": "python",
   "name": "python3"
  },
  "language_info": {
   "codemirror_mode": {
    "name": "ipython",
    "version": 3
   },
   "file_extension": ".py",
   "mimetype": "text/x-python",
   "name": "python",
   "nbconvert_exporter": "python",
   "pygments_lexer": "ipython3",
   "version": "3.6.9"
  }
 },
 "nbformat": 4,
 "nbformat_minor": 5
}
